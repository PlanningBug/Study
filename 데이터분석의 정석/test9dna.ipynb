{
 "cells": [
  {
   "cell_type": "code",
   "execution_count": null,
   "id": "c89fedc5-28bd-4ad6-bd1d-055179146998",
   "metadata": {},
   "outputs": [],
   "source": [
    "# 316p~342p"
   ]
  },
  {
   "cell_type": "code",
   "execution_count": null,
   "id": "294b3f60-6f11-412f-a811-4b06b7d39764",
   "metadata": {},
   "outputs": [],
   "source": [
    "# 데이터의 그룹 연산\n",
    "# 5.2.1 데이터 객체를 그룹 연산\n",
    "# GroupBy 객체 속성"
   ]
  },
  {
   "cell_type": "code",
   "execution_count": 1,
   "id": "d9e1fba4-f7b4-4c6a-9bef-d3c5bf4b953d",
   "metadata": {
    "tags": []
   },
   "outputs": [],
   "source": [
    "import pandas as pd\n",
    "import numpy as np"
   ]
  },
  {
   "cell_type": "code",
   "execution_count": 2,
   "id": "e232db8f-a161-4ce7-9f4c-985eb155ab49",
   "metadata": {
    "tags": []
   },
   "outputs": [
    {
     "data": {
      "text/html": [
       "<div>\n",
       "<style scoped>\n",
       "    .dataframe tbody tr th:only-of-type {\n",
       "        vertical-align: middle;\n",
       "    }\n",
       "\n",
       "    .dataframe tbody tr th {\n",
       "        vertical-align: top;\n",
       "    }\n",
       "\n",
       "    .dataframe thead th {\n",
       "        text-align: right;\n",
       "    }\n",
       "</style>\n",
       "<table border=\"1\" class=\"dataframe\">\n",
       "  <thead>\n",
       "    <tr style=\"text-align: right;\">\n",
       "      <th></th>\n",
       "      <th>A</th>\n",
       "      <th>B</th>\n",
       "      <th>Data1</th>\n",
       "      <th>Data2</th>\n",
       "    </tr>\n",
       "  </thead>\n",
       "  <tbody>\n",
       "    <tr>\n",
       "      <th>0</th>\n",
       "      <td>ha</td>\n",
       "      <td>one</td>\n",
       "      <td>-2.100458</td>\n",
       "      <td>-0.928520</td>\n",
       "    </tr>\n",
       "    <tr>\n",
       "      <th>1</th>\n",
       "      <td>hi</td>\n",
       "      <td>two</td>\n",
       "      <td>0.159969</td>\n",
       "      <td>1.809810</td>\n",
       "    </tr>\n",
       "    <tr>\n",
       "      <th>2</th>\n",
       "      <td>ho</td>\n",
       "      <td>one</td>\n",
       "      <td>0.885189</td>\n",
       "      <td>0.674645</td>\n",
       "    </tr>\n",
       "    <tr>\n",
       "      <th>3</th>\n",
       "      <td>ha</td>\n",
       "      <td>one</td>\n",
       "      <td>0.481096</td>\n",
       "      <td>0.242501</td>\n",
       "    </tr>\n",
       "    <tr>\n",
       "      <th>4</th>\n",
       "      <td>ho</td>\n",
       "      <td>two</td>\n",
       "      <td>-0.729543</td>\n",
       "      <td>-0.100440</td>\n",
       "    </tr>\n",
       "  </tbody>\n",
       "</table>\n",
       "</div>"
      ],
      "text/plain": [
       "    A    B     Data1     Data2\n",
       "0  ha  one -2.100458 -0.928520\n",
       "1  hi  two  0.159969  1.809810\n",
       "2  ho  one  0.885189  0.674645\n",
       "3  ha  one  0.481096  0.242501\n",
       "4  ho  two -0.729543 -0.100440"
      ]
     },
     "execution_count": 2,
     "metadata": {},
     "output_type": "execute_result"
    }
   ],
   "source": [
    "df = pd.DataFrame({'A' : ['ha', 'hi', 'ho', 'ha', 'ho'],\n",
    "                   'B' : ['one', 'two', 'one', 'one', 'two'],\n",
    "                   'Data1' : np.random.randn(5),\n",
    "                   'Data2' : np.random.randn(5)})\n",
    "df"
   ]
  },
  {
   "cell_type": "code",
   "execution_count": 3,
   "id": "e7cd4754-0f2e-4329-88fb-01e74c015e47",
   "metadata": {
    "tags": []
   },
   "outputs": [
    {
     "data": {
      "text/plain": [
       "<pandas.core.groupby.generic.DataFrameGroupBy object at 0x15c6b3850>"
      ]
     },
     "execution_count": 3,
     "metadata": {},
     "output_type": "execute_result"
    }
   ],
   "source": [
    "grouped1 = df.groupby('A')\n",
    "grouped1"
   ]
  },
  {
   "cell_type": "code",
   "execution_count": 4,
   "id": "5dc1500e-562e-4739-bf29-c3aaa87b8be8",
   "metadata": {
    "tags": []
   },
   "outputs": [
    {
     "data": {
      "text/plain": [
       "{'ha':     A    B     Data1     Data2\n",
       " 0  ha  one -2.100458 -0.928520\n",
       " 3  ha  one  0.481096  0.242501,\n",
       " 'hi':     A    B     Data1    Data2\n",
       " 1  hi  two  0.159969  1.80981,\n",
       " 'ho':     A    B     Data1     Data2\n",
       " 2  ho  one  0.885189  0.674645\n",
       " 4  ho  two -0.729543 -0.100440}"
      ]
     },
     "execution_count": 4,
     "metadata": {},
     "output_type": "execute_result"
    }
   ],
   "source": [
    "gr_dict = dict(list(grouped1))\n",
    "gr_dict"
   ]
  },
  {
   "cell_type": "code",
   "execution_count": 5,
   "id": "3c85f4f1-1ac2-4ed9-8532-cfb59b6b6bae",
   "metadata": {
    "tags": []
   },
   "outputs": [
    {
     "data": {
      "text/plain": [
       "{'ha': [0, 3], 'hi': [1], 'ho': [2, 4]}"
      ]
     },
     "execution_count": 5,
     "metadata": {},
     "output_type": "execute_result"
    }
   ],
   "source": [
    "grouped1.groups"
   ]
  },
  {
   "cell_type": "code",
   "execution_count": 6,
   "id": "91cd3e99-d68b-4041-bd78-18620d85e379",
   "metadata": {
    "tags": []
   },
   "outputs": [
    {
     "data": {
      "text/html": [
       "<div>\n",
       "<style scoped>\n",
       "    .dataframe tbody tr th:only-of-type {\n",
       "        vertical-align: middle;\n",
       "    }\n",
       "\n",
       "    .dataframe tbody tr th {\n",
       "        vertical-align: top;\n",
       "    }\n",
       "\n",
       "    .dataframe thead th {\n",
       "        text-align: right;\n",
       "    }\n",
       "</style>\n",
       "<table border=\"1\" class=\"dataframe\">\n",
       "  <thead>\n",
       "    <tr style=\"text-align: right;\">\n",
       "      <th></th>\n",
       "      <th>A</th>\n",
       "      <th>B</th>\n",
       "      <th>Data1</th>\n",
       "      <th>Data2</th>\n",
       "    </tr>\n",
       "  </thead>\n",
       "  <tbody>\n",
       "    <tr>\n",
       "      <th>2</th>\n",
       "      <td>ho</td>\n",
       "      <td>one</td>\n",
       "      <td>0.885189</td>\n",
       "      <td>0.674645</td>\n",
       "    </tr>\n",
       "    <tr>\n",
       "      <th>4</th>\n",
       "      <td>ho</td>\n",
       "      <td>two</td>\n",
       "      <td>-0.729543</td>\n",
       "      <td>-0.100440</td>\n",
       "    </tr>\n",
       "  </tbody>\n",
       "</table>\n",
       "</div>"
      ],
      "text/plain": [
       "    A    B     Data1     Data2\n",
       "2  ho  one  0.885189  0.674645\n",
       "4  ho  two -0.729543 -0.100440"
      ]
     },
     "execution_count": 6,
     "metadata": {},
     "output_type": "execute_result"
    }
   ],
   "source": [
    "gr_dict['ho']"
   ]
  },
  {
   "cell_type": "code",
   "execution_count": 7,
   "id": "f64f2d42-8e6c-4289-b1b6-c4f21208aef7",
   "metadata": {
    "tags": []
   },
   "outputs": [
    {
     "data": {
      "text/html": [
       "<div>\n",
       "<style scoped>\n",
       "    .dataframe tbody tr th:only-of-type {\n",
       "        vertical-align: middle;\n",
       "    }\n",
       "\n",
       "    .dataframe tbody tr th {\n",
       "        vertical-align: top;\n",
       "    }\n",
       "\n",
       "    .dataframe thead th {\n",
       "        text-align: right;\n",
       "    }\n",
       "</style>\n",
       "<table border=\"1\" class=\"dataframe\">\n",
       "  <thead>\n",
       "    <tr style=\"text-align: right;\">\n",
       "      <th></th>\n",
       "      <th>A</th>\n",
       "      <th>B</th>\n",
       "      <th>Data1</th>\n",
       "      <th>Data2</th>\n",
       "    </tr>\n",
       "  </thead>\n",
       "  <tbody>\n",
       "    <tr>\n",
       "      <th>2</th>\n",
       "      <td>ho</td>\n",
       "      <td>one</td>\n",
       "      <td>0.885189</td>\n",
       "      <td>0.674645</td>\n",
       "    </tr>\n",
       "    <tr>\n",
       "      <th>4</th>\n",
       "      <td>ho</td>\n",
       "      <td>two</td>\n",
       "      <td>-0.729543</td>\n",
       "      <td>-0.100440</td>\n",
       "    </tr>\n",
       "  </tbody>\n",
       "</table>\n",
       "</div>"
      ],
      "text/plain": [
       "    A    B     Data1     Data2\n",
       "2  ho  one  0.885189  0.674645\n",
       "4  ho  two -0.729543 -0.100440"
      ]
     },
     "execution_count": 7,
     "metadata": {},
     "output_type": "execute_result"
    }
   ],
   "source": [
    "grouped1.get_group('ho')"
   ]
  },
  {
   "cell_type": "code",
   "execution_count": 8,
   "id": "16ffc953-3802-4f8e-b8da-68057a6c19dc",
   "metadata": {
    "tags": []
   },
   "outputs": [
    {
     "name": "stderr",
     "output_type": "stream",
     "text": [
      "/var/folders/cx/r_wdv_3d2q7_cr1m0yrq3dph0000gn/T/ipykernel_1325/318625505.py:1: FutureWarning: The default value of numeric_only in DataFrameGroupBy.mean is deprecated. In a future version, numeric_only will default to False. Either specify numeric_only or select only columns which should be valid for the function.\n",
      "  grouped1.mean()\n"
     ]
    },
    {
     "data": {
      "text/html": [
       "<div>\n",
       "<style scoped>\n",
       "    .dataframe tbody tr th:only-of-type {\n",
       "        vertical-align: middle;\n",
       "    }\n",
       "\n",
       "    .dataframe tbody tr th {\n",
       "        vertical-align: top;\n",
       "    }\n",
       "\n",
       "    .dataframe thead th {\n",
       "        text-align: right;\n",
       "    }\n",
       "</style>\n",
       "<table border=\"1\" class=\"dataframe\">\n",
       "  <thead>\n",
       "    <tr style=\"text-align: right;\">\n",
       "      <th></th>\n",
       "      <th>Data1</th>\n",
       "      <th>Data2</th>\n",
       "    </tr>\n",
       "    <tr>\n",
       "      <th>A</th>\n",
       "      <th></th>\n",
       "      <th></th>\n",
       "    </tr>\n",
       "  </thead>\n",
       "  <tbody>\n",
       "    <tr>\n",
       "      <th>ha</th>\n",
       "      <td>-0.809681</td>\n",
       "      <td>-0.343009</td>\n",
       "    </tr>\n",
       "    <tr>\n",
       "      <th>hi</th>\n",
       "      <td>0.159969</td>\n",
       "      <td>1.809810</td>\n",
       "    </tr>\n",
       "    <tr>\n",
       "      <th>ho</th>\n",
       "      <td>0.077823</td>\n",
       "      <td>0.287103</td>\n",
       "    </tr>\n",
       "  </tbody>\n",
       "</table>\n",
       "</div>"
      ],
      "text/plain": [
       "       Data1     Data2\n",
       "A                     \n",
       "ha -0.809681 -0.343009\n",
       "hi  0.159969  1.809810\n",
       "ho  0.077823  0.287103"
      ]
     },
     "execution_count": 8,
     "metadata": {},
     "output_type": "execute_result"
    }
   ],
   "source": [
    "grouped1.mean()"
   ]
  },
  {
   "cell_type": "code",
   "execution_count": 9,
   "id": "e168d78b-d78e-424c-97bf-47e8050d1023",
   "metadata": {
    "tags": []
   },
   "outputs": [
    {
     "data": {
      "text/plain": [
       "<pandas.core.groupby.generic.SeriesGroupBy object at 0x15c824b90>"
      ]
     },
     "execution_count": 9,
     "metadata": {},
     "output_type": "execute_result"
    }
   ],
   "source": [
    "grouped2 = df['Data2'].groupby(df['A'])\n",
    "grouped2"
   ]
  },
  {
   "cell_type": "code",
   "execution_count": 10,
   "id": "444437c2-e3cc-41e0-8899-5e9ca9361ca9",
   "metadata": {
    "tags": []
   },
   "outputs": [
    {
     "data": {
      "text/plain": [
       "A\n",
       "ha   -0.343009\n",
       "hi    1.809810\n",
       "ho    0.287103\n",
       "Name: Data2, dtype: float64"
      ]
     },
     "execution_count": 10,
     "metadata": {},
     "output_type": "execute_result"
    }
   ],
   "source": [
    "grouped2.mean()"
   ]
  },
  {
   "cell_type": "code",
   "execution_count": 11,
   "id": "46955eb4-7674-4c49-bc9c-2320b7765cb1",
   "metadata": {
    "tags": []
   },
   "outputs": [
    {
     "data": {
      "text/plain": [
       "{('ha', 'one'): [0, 3], ('hi', 'two'): [1], ('ho', 'one'): [2], ('ho', 'two'): [4]}"
      ]
     },
     "execution_count": 11,
     "metadata": {},
     "output_type": "execute_result"
    }
   ],
   "source": [
    "grouped3 = df['Data1'].groupby([df['A'], df['B']])\n",
    "grouped3.groups"
   ]
  },
  {
   "cell_type": "code",
   "execution_count": 12,
   "id": "01daa597-425d-4dee-99e6-66b09a8028a0",
   "metadata": {
    "tags": []
   },
   "outputs": [
    {
     "data": {
      "text/plain": [
       "<pandas.core.groupby.generic.SeriesGroupBy object at 0x15c803410>"
      ]
     },
     "execution_count": 12,
     "metadata": {},
     "output_type": "execute_result"
    }
   ],
   "source": [
    "grouped3"
   ]
  },
  {
   "cell_type": "code",
   "execution_count": 13,
   "id": "c8ef6773-c2f6-4ec1-ad52-6fc262d82064",
   "metadata": {
    "tags": []
   },
   "outputs": [
    {
     "data": {
      "text/plain": [
       "A   B  \n",
       "ha  one   -0.809681\n",
       "hi  two    0.159969\n",
       "ho  one    0.885189\n",
       "    two   -0.729543\n",
       "Name: Data1, dtype: float64"
      ]
     },
     "execution_count": 13,
     "metadata": {},
     "output_type": "execute_result"
    }
   ],
   "source": [
    "grouped3.mean()"
   ]
  },
  {
   "cell_type": "code",
   "execution_count": 14,
   "id": "f461679f-8169-4875-8a9f-33d7973e9201",
   "metadata": {
    "tags": []
   },
   "outputs": [
    {
     "data": {
      "text/plain": [
       "oil    1hr   -0.284787\n",
       "       2hr    0.885189\n",
       "water  1hr   -2.100458\n",
       "       2hr    0.481096\n",
       "Name: Data1, dtype: float64"
      ]
     },
     "execution_count": 14,
     "metadata": {},
     "output_type": "execute_result"
    }
   ],
   "source": [
    "material = np.array(['water', 'oil', 'oil', 'water', 'oil'])\n",
    "time = ['1hr', '1hr', '2hr', '2hr', '1hr']\n",
    "df['Data1'].groupby([material, time]).mean()"
   ]
  },
  {
   "cell_type": "code",
   "execution_count": 17,
   "id": "503d0cb3-2cc9-4fed-8acc-61c0ada21223",
   "metadata": {
    "tags": []
   },
   "outputs": [],
   "source": [
    "df2 = pd.DataFrame({'A' : ['ho', 'hi', 'ha'],\n",
    "                    'B' : ['two', 'one', 'two'],\n",
    "                    'Data1' : np.random.randn(3)})"
   ]
  },
  {
   "cell_type": "code",
   "execution_count": 18,
   "id": "958b40ea-d190-4a1e-80bf-7c7b35413a5a",
   "metadata": {
    "tags": []
   },
   "outputs": [
    {
     "name": "stderr",
     "output_type": "stream",
     "text": [
      "/var/folders/cx/r_wdv_3d2q7_cr1m0yrq3dph0000gn/T/ipykernel_1325/2523192079.py:1: FutureWarning: The default value of numeric_only in DataFrameGroupBy.sum is deprecated. In a future version, numeric_only will default to False. Either specify numeric_only or select only columns which should be valid for the function.\n",
      "  df2.groupby(['A']).sum()\n"
     ]
    },
    {
     "data": {
      "text/html": [
       "<div>\n",
       "<style scoped>\n",
       "    .dataframe tbody tr th:only-of-type {\n",
       "        vertical-align: middle;\n",
       "    }\n",
       "\n",
       "    .dataframe tbody tr th {\n",
       "        vertical-align: top;\n",
       "    }\n",
       "\n",
       "    .dataframe thead th {\n",
       "        text-align: right;\n",
       "    }\n",
       "</style>\n",
       "<table border=\"1\" class=\"dataframe\">\n",
       "  <thead>\n",
       "    <tr style=\"text-align: right;\">\n",
       "      <th></th>\n",
       "      <th>Data1</th>\n",
       "    </tr>\n",
       "    <tr>\n",
       "      <th>A</th>\n",
       "      <th></th>\n",
       "    </tr>\n",
       "  </thead>\n",
       "  <tbody>\n",
       "    <tr>\n",
       "      <th>ha</th>\n",
       "      <td>0.075662</td>\n",
       "    </tr>\n",
       "    <tr>\n",
       "      <th>hi</th>\n",
       "      <td>0.316065</td>\n",
       "    </tr>\n",
       "    <tr>\n",
       "      <th>ho</th>\n",
       "      <td>-0.847815</td>\n",
       "    </tr>\n",
       "  </tbody>\n",
       "</table>\n",
       "</div>"
      ],
      "text/plain": [
       "       Data1\n",
       "A           \n",
       "ha  0.075662\n",
       "hi  0.316065\n",
       "ho -0.847815"
      ]
     },
     "execution_count": 18,
     "metadata": {},
     "output_type": "execute_result"
    }
   ],
   "source": [
    "df2.groupby(['A']).sum()"
   ]
  },
  {
   "cell_type": "code",
   "execution_count": 16,
   "id": "c9677902-f7d0-4182-86a4-a166a684ed61",
   "metadata": {
    "tags": []
   },
   "outputs": [
    {
     "name": "stderr",
     "output_type": "stream",
     "text": [
      "/var/folders/cx/r_wdv_3d2q7_cr1m0yrq3dph0000gn/T/ipykernel_1325/1182059684.py:1: FutureWarning: The default value of numeric_only in DataFrameGroupBy.sum is deprecated. In a future version, numeric_only will default to False. Either specify numeric_only or select only columns which should be valid for the function.\n",
      "  df2.groupby('A', sort=False).sum()\n"
     ]
    },
    {
     "data": {
      "text/html": [
       "<div>\n",
       "<style scoped>\n",
       "    .dataframe tbody tr th:only-of-type {\n",
       "        vertical-align: middle;\n",
       "    }\n",
       "\n",
       "    .dataframe tbody tr th {\n",
       "        vertical-align: top;\n",
       "    }\n",
       "\n",
       "    .dataframe thead th {\n",
       "        text-align: right;\n",
       "    }\n",
       "</style>\n",
       "<table border=\"1\" class=\"dataframe\">\n",
       "  <thead>\n",
       "    <tr style=\"text-align: right;\">\n",
       "      <th></th>\n",
       "      <th>Data1</th>\n",
       "    </tr>\n",
       "    <tr>\n",
       "      <th>A</th>\n",
       "      <th></th>\n",
       "    </tr>\n",
       "  </thead>\n",
       "  <tbody>\n",
       "    <tr>\n",
       "      <th>ho</th>\n",
       "      <td>-0.342263</td>\n",
       "    </tr>\n",
       "    <tr>\n",
       "      <th>hi</th>\n",
       "      <td>0.143184</td>\n",
       "    </tr>\n",
       "    <tr>\n",
       "      <th>ha</th>\n",
       "      <td>-0.634715</td>\n",
       "    </tr>\n",
       "  </tbody>\n",
       "</table>\n",
       "</div>"
      ],
      "text/plain": [
       "       Data1\n",
       "A           \n",
       "ho -0.342263\n",
       "hi  0.143184\n",
       "ha -0.634715"
      ]
     },
     "execution_count": 16,
     "metadata": {},
     "output_type": "execute_result"
    }
   ],
   "source": [
    "df2.groupby('A', sort=False).sum()"
   ]
  },
  {
   "cell_type": "code",
   "execution_count": 19,
   "id": "ea6fc1ad-1815-4e70-96bd-d73a336f3176",
   "metadata": {
    "tags": []
   },
   "outputs": [
    {
     "data": {
      "text/plain": [
       "1st  2nd\n",
       "ha   one   -0.992440\n",
       "     two    1.113123\n",
       "hi   one   -0.377884\n",
       "     one   -0.156006\n",
       "ho   two    0.922138\n",
       "     two   -1.718490\n",
       "dtype: float64"
      ]
     },
     "execution_count": 19,
     "metadata": {},
     "output_type": "execute_result"
    }
   ],
   "source": [
    "arr = [['ha', 'ha', 'hi', 'hi', 'ho', 'ho'], ['one', 'two', 'one', 'one', 'two', 'two']]\n",
    "ind = pd.MultiIndex.from_arrays(arr, names=['1st', '2nd'])\n",
    "ser = pd.Series(np.random.randn(6), index=ind)\n",
    "ser"
   ]
  },
  {
   "cell_type": "code",
   "execution_count": 22,
   "id": "7199bd73-dbd2-45ab-97f3-b8dbedd1a1fb",
   "metadata": {
    "tags": []
   },
   "outputs": [
    {
     "data": {
      "text/plain": [
       "MultiIndex([('ha', 'one'),\n",
       "            ('ha', 'two'),\n",
       "            ('hi', 'one'),\n",
       "            ('hi', 'one'),\n",
       "            ('ho', 'two'),\n",
       "            ('ho', 'two')],\n",
       "           names=['1st', '2nd'])"
      ]
     },
     "execution_count": 22,
     "metadata": {},
     "output_type": "execute_result"
    }
   ],
   "source": [
    "ser.index"
   ]
  },
  {
   "cell_type": "code",
   "execution_count": 23,
   "id": "a45eb0ee-0754-4605-bc25-554afc306902",
   "metadata": {
    "tags": []
   },
   "outputs": [
    {
     "data": {
      "text/plain": [
       "1st\n",
       "ha   -0.225992\n",
       "hi   -1.304199\n",
       "ho   -0.273986\n",
       "dtype: float64"
      ]
     },
     "execution_count": 23,
     "metadata": {},
     "output_type": "execute_result"
    }
   ],
   "source": [
    "grouped = ser.groupby(level=0)\n",
    "grouped.sum()"
   ]
  },
  {
   "cell_type": "code",
   "execution_count": 24,
   "id": "721d792b-7ccc-4f59-9bd6-e3ecdda7b9aa",
   "metadata": {
    "tags": []
   },
   "outputs": [
    {
     "data": {
      "text/plain": [
       "2nd\n",
       "one   -2.053117\n",
       "two    0.248940\n",
       "dtype: float64"
      ]
     },
     "execution_count": 24,
     "metadata": {},
     "output_type": "execute_result"
    }
   ],
   "source": [
    "ser.groupby(level='2nd').sum()"
   ]
  },
  {
   "cell_type": "code",
   "execution_count": 20,
   "id": "d6fcd0f9-8c41-43ee-97ec-c1cb983e2b4b",
   "metadata": {
    "tags": []
   },
   "outputs": [
    {
     "name": "stdout",
     "output_type": "stream",
     "text": [
      "ha\n",
      "hi\n",
      "ho\n"
     ]
    }
   ],
   "source": [
    "grouped1 = df.groupby('A')\n",
    "for name, group in grouped1 :\n",
    "    print(name)"
   ]
  },
  {
   "cell_type": "code",
   "execution_count": 21,
   "id": "1db2ae94-a1fe-4e10-a9f6-ff8752a673bc",
   "metadata": {
    "tags": []
   },
   "outputs": [
    {
     "name": "stdout",
     "output_type": "stream",
     "text": [
      "ha\n",
      "    A    B     Data1     Data2\n",
      "0  ha  one -2.100458 -0.928520\n",
      "3  ha  one  0.481096  0.242501\n",
      "hi\n",
      "    A    B     Data1    Data2\n",
      "1  hi  two  0.159969  1.80981\n",
      "ho\n",
      "    A    B     Data1     Data2\n",
      "2  ho  one  0.885189  0.674645\n",
      "4  ho  two -0.729543 -0.100440\n"
     ]
    }
   ],
   "source": [
    "for name, group in grouped1 :\n",
    "    print(name)\n",
    "    print(group)"
   ]
  },
  {
   "cell_type": "code",
   "execution_count": 22,
   "id": "393fde01-2337-4c34-b8d5-e14fcf9b0c30",
   "metadata": {
    "tags": []
   },
   "outputs": [
    {
     "name": "stdout",
     "output_type": "stream",
     "text": [
      "('ha', 'one')\n",
      "    A    B     Data1     Data2\n",
      "0  ha  one -2.100458 -0.928520\n",
      "3  ha  one  0.481096  0.242501\n",
      "('hi', 'two')\n",
      "    A    B     Data1    Data2\n",
      "1  hi  two  0.159969  1.80981\n",
      "('ho', 'one')\n",
      "    A    B     Data1     Data2\n",
      "2  ho  one  0.885189  0.674645\n",
      "('ho', 'two')\n",
      "    A    B     Data1    Data2\n",
      "4  ho  two -0.729543 -0.10044\n"
     ]
    }
   ],
   "source": [
    "for (n1, n2), group in df.groupby(['A', 'B']):\n",
    "    print((n1, n2))\n",
    "    print(group)"
   ]
  },
  {
   "cell_type": "code",
   "execution_count": null,
   "id": "e725f74e-bfb3-4171-946a-cf7de792b24e",
   "metadata": {},
   "outputs": [],
   "source": [
    "# 5.2.2 GroupBy 객체를 그룹별 연산 및 변환\n",
    "# 데이터 집계하기"
   ]
  },
  {
   "cell_type": "code",
   "execution_count": 23,
   "id": "15c293a6-0c19-4df5-85a3-58033bed316c",
   "metadata": {
    "tags": []
   },
   "outputs": [
    {
     "data": {
      "text/html": [
       "<div>\n",
       "<style scoped>\n",
       "    .dataframe tbody tr th:only-of-type {\n",
       "        vertical-align: middle;\n",
       "    }\n",
       "\n",
       "    .dataframe tbody tr th {\n",
       "        vertical-align: top;\n",
       "    }\n",
       "\n",
       "    .dataframe thead th {\n",
       "        text-align: right;\n",
       "    }\n",
       "</style>\n",
       "<table border=\"1\" class=\"dataframe\">\n",
       "  <thead>\n",
       "    <tr style=\"text-align: right;\">\n",
       "      <th></th>\n",
       "      <th>A</th>\n",
       "      <th>B</th>\n",
       "      <th>Data1</th>\n",
       "      <th>Data2</th>\n",
       "    </tr>\n",
       "  </thead>\n",
       "  <tbody>\n",
       "    <tr>\n",
       "      <th>0</th>\n",
       "      <td>ha</td>\n",
       "      <td>one</td>\n",
       "      <td>1.911990</td>\n",
       "      <td>0.143891</td>\n",
       "    </tr>\n",
       "    <tr>\n",
       "      <th>1</th>\n",
       "      <td>hi</td>\n",
       "      <td>two</td>\n",
       "      <td>-1.281865</td>\n",
       "      <td>0.805536</td>\n",
       "    </tr>\n",
       "    <tr>\n",
       "      <th>2</th>\n",
       "      <td>ho</td>\n",
       "      <td>one</td>\n",
       "      <td>0.639692</td>\n",
       "      <td>-0.070220</td>\n",
       "    </tr>\n",
       "    <tr>\n",
       "      <th>3</th>\n",
       "      <td>ha</td>\n",
       "      <td>one</td>\n",
       "      <td>-0.789769</td>\n",
       "      <td>-1.111118</td>\n",
       "    </tr>\n",
       "    <tr>\n",
       "      <th>4</th>\n",
       "      <td>ho</td>\n",
       "      <td>two</td>\n",
       "      <td>1.024956</td>\n",
       "      <td>0.926372</td>\n",
       "    </tr>\n",
       "  </tbody>\n",
       "</table>\n",
       "</div>"
      ],
      "text/plain": [
       "    A    B     Data1     Data2\n",
       "0  ha  one  1.911990  0.143891\n",
       "1  hi  two -1.281865  0.805536\n",
       "2  ho  one  0.639692 -0.070220\n",
       "3  ha  one -0.789769 -1.111118\n",
       "4  ho  two  1.024956  0.926372"
      ]
     },
     "execution_count": 23,
     "metadata": {},
     "output_type": "execute_result"
    }
   ],
   "source": [
    "df = pd.DataFrame({'A' : ['ha', 'hi', 'ho', 'ha', 'ho'],\n",
    "                   'B' : ['one', 'two', 'one', 'one', 'two'],\n",
    "                   'Data1' : np.random.randn(5),\n",
    "                   'Data2' : np.random.randn(5)})\n",
    "df"
   ]
  },
  {
   "cell_type": "code",
   "execution_count": 24,
   "id": "ac275b26-7c97-47fa-9f8d-96571552ed69",
   "metadata": {
    "tags": []
   },
   "outputs": [
    {
     "name": "stderr",
     "output_type": "stream",
     "text": [
      "/var/folders/cx/r_wdv_3d2q7_cr1m0yrq3dph0000gn/T/ipykernel_1325/3663713441.py:2: FutureWarning: The operation <function sum at 0x1039e1440> failed on a column. If any error is raised, this will raise an exception in a future version of pandas. Drop these columns to avoid this warning.\n",
      "  grouped1.agg(np.sum)\n"
     ]
    },
    {
     "data": {
      "text/html": [
       "<div>\n",
       "<style scoped>\n",
       "    .dataframe tbody tr th:only-of-type {\n",
       "        vertical-align: middle;\n",
       "    }\n",
       "\n",
       "    .dataframe tbody tr th {\n",
       "        vertical-align: top;\n",
       "    }\n",
       "\n",
       "    .dataframe thead th {\n",
       "        text-align: right;\n",
       "    }\n",
       "</style>\n",
       "<table border=\"1\" class=\"dataframe\">\n",
       "  <thead>\n",
       "    <tr style=\"text-align: right;\">\n",
       "      <th></th>\n",
       "      <th>Data1</th>\n",
       "      <th>Data2</th>\n",
       "    </tr>\n",
       "    <tr>\n",
       "      <th>A</th>\n",
       "      <th></th>\n",
       "      <th></th>\n",
       "    </tr>\n",
       "  </thead>\n",
       "  <tbody>\n",
       "    <tr>\n",
       "      <th>ha</th>\n",
       "      <td>1.122220</td>\n",
       "      <td>-0.967226</td>\n",
       "    </tr>\n",
       "    <tr>\n",
       "      <th>hi</th>\n",
       "      <td>-1.281865</td>\n",
       "      <td>0.805536</td>\n",
       "    </tr>\n",
       "    <tr>\n",
       "      <th>ho</th>\n",
       "      <td>1.664648</td>\n",
       "      <td>0.856153</td>\n",
       "    </tr>\n",
       "  </tbody>\n",
       "</table>\n",
       "</div>"
      ],
      "text/plain": [
       "       Data1     Data2\n",
       "A                     \n",
       "ha  1.122220 -0.967226\n",
       "hi -1.281865  0.805536\n",
       "ho  1.664648  0.856153"
      ]
     },
     "execution_count": 24,
     "metadata": {},
     "output_type": "execute_result"
    }
   ],
   "source": [
    "grouped1 = df.groupby('A')\n",
    "grouped1.agg(np.sum)"
   ]
  },
  {
   "cell_type": "code",
   "execution_count": 25,
   "id": "9fd7b639-4fd0-447b-8374-8a2d22a93aea",
   "metadata": {
    "tags": []
   },
   "outputs": [
    {
     "data": {
      "text/html": [
       "<div>\n",
       "<style scoped>\n",
       "    .dataframe tbody tr th:only-of-type {\n",
       "        vertical-align: middle;\n",
       "    }\n",
       "\n",
       "    .dataframe tbody tr th {\n",
       "        vertical-align: top;\n",
       "    }\n",
       "\n",
       "    .dataframe thead th {\n",
       "        text-align: right;\n",
       "    }\n",
       "</style>\n",
       "<table border=\"1\" class=\"dataframe\">\n",
       "  <thead>\n",
       "    <tr style=\"text-align: right;\">\n",
       "      <th></th>\n",
       "      <th></th>\n",
       "      <th>Data1</th>\n",
       "      <th>Data2</th>\n",
       "    </tr>\n",
       "    <tr>\n",
       "      <th>A</th>\n",
       "      <th>B</th>\n",
       "      <th></th>\n",
       "      <th></th>\n",
       "    </tr>\n",
       "  </thead>\n",
       "  <tbody>\n",
       "    <tr>\n",
       "      <th>ha</th>\n",
       "      <th>one</th>\n",
       "      <td>1.122220</td>\n",
       "      <td>-0.967226</td>\n",
       "    </tr>\n",
       "    <tr>\n",
       "      <th>hi</th>\n",
       "      <th>two</th>\n",
       "      <td>-1.281865</td>\n",
       "      <td>0.805536</td>\n",
       "    </tr>\n",
       "    <tr>\n",
       "      <th rowspan=\"2\" valign=\"top\">ho</th>\n",
       "      <th>one</th>\n",
       "      <td>0.639692</td>\n",
       "      <td>-0.070220</td>\n",
       "    </tr>\n",
       "    <tr>\n",
       "      <th>two</th>\n",
       "      <td>1.024956</td>\n",
       "      <td>0.926372</td>\n",
       "    </tr>\n",
       "  </tbody>\n",
       "</table>\n",
       "</div>"
      ],
      "text/plain": [
       "           Data1     Data2\n",
       "A  B                      \n",
       "ha one  1.122220 -0.967226\n",
       "hi two -1.281865  0.805536\n",
       "ho one  0.639692 -0.070220\n",
       "   two  1.024956  0.926372"
      ]
     },
     "execution_count": 25,
     "metadata": {},
     "output_type": "execute_result"
    }
   ],
   "source": [
    "grouped2 = df.groupby(['A', 'B'])\n",
    "grouped2.agg('sum')"
   ]
  },
  {
   "cell_type": "code",
   "execution_count": 26,
   "id": "d3cadc68-bfed-4a27-8120-ea00838825a4",
   "metadata": {
    "tags": []
   },
   "outputs": [
    {
     "data": {
      "text/html": [
       "<div>\n",
       "<style scoped>\n",
       "    .dataframe tbody tr th:only-of-type {\n",
       "        vertical-align: middle;\n",
       "    }\n",
       "\n",
       "    .dataframe tbody tr th {\n",
       "        vertical-align: top;\n",
       "    }\n",
       "\n",
       "    .dataframe thead th {\n",
       "        text-align: right;\n",
       "    }\n",
       "</style>\n",
       "<table border=\"1\" class=\"dataframe\">\n",
       "  <thead>\n",
       "    <tr style=\"text-align: right;\">\n",
       "      <th></th>\n",
       "      <th>A</th>\n",
       "      <th>B</th>\n",
       "      <th>Data1</th>\n",
       "      <th>Data2</th>\n",
       "    </tr>\n",
       "  </thead>\n",
       "  <tbody>\n",
       "    <tr>\n",
       "      <th>0</th>\n",
       "      <td>ha</td>\n",
       "      <td>one</td>\n",
       "      <td>1.122220</td>\n",
       "      <td>-0.967226</td>\n",
       "    </tr>\n",
       "    <tr>\n",
       "      <th>1</th>\n",
       "      <td>hi</td>\n",
       "      <td>two</td>\n",
       "      <td>-1.281865</td>\n",
       "      <td>0.805536</td>\n",
       "    </tr>\n",
       "    <tr>\n",
       "      <th>2</th>\n",
       "      <td>ho</td>\n",
       "      <td>one</td>\n",
       "      <td>0.639692</td>\n",
       "      <td>-0.070220</td>\n",
       "    </tr>\n",
       "    <tr>\n",
       "      <th>3</th>\n",
       "      <td>ho</td>\n",
       "      <td>two</td>\n",
       "      <td>1.024956</td>\n",
       "      <td>0.926372</td>\n",
       "    </tr>\n",
       "  </tbody>\n",
       "</table>\n",
       "</div>"
      ],
      "text/plain": [
       "    A    B     Data1     Data2\n",
       "0  ha  one  1.122220 -0.967226\n",
       "1  hi  two -1.281865  0.805536\n",
       "2  ho  one  0.639692 -0.070220\n",
       "3  ho  two  1.024956  0.926372"
      ]
     },
     "execution_count": 26,
     "metadata": {},
     "output_type": "execute_result"
    }
   ],
   "source": [
    "grouped3 = df.groupby(['A', 'B'], as_index=False)\n",
    "grouped3.aggregate(np.sum)"
   ]
  },
  {
   "cell_type": "code",
   "execution_count": 27,
   "id": "85b46b1a-4a54-4642-8e59-2f8b3c94235b",
   "metadata": {
    "tags": []
   },
   "outputs": [
    {
     "name": "stderr",
     "output_type": "stream",
     "text": [
      "/var/folders/cx/r_wdv_3d2q7_cr1m0yrq3dph0000gn/T/ipykernel_1325/3040768419.py:1: FutureWarning: The default value of numeric_only in DataFrameGroupBy.sum is deprecated. In a future version, numeric_only will default to False. Either specify numeric_only or select only columns which should be valid for the function.\n",
      "  df.groupby('A', as_index=False).sum()\n"
     ]
    },
    {
     "data": {
      "text/html": [
       "<div>\n",
       "<style scoped>\n",
       "    .dataframe tbody tr th:only-of-type {\n",
       "        vertical-align: middle;\n",
       "    }\n",
       "\n",
       "    .dataframe tbody tr th {\n",
       "        vertical-align: top;\n",
       "    }\n",
       "\n",
       "    .dataframe thead th {\n",
       "        text-align: right;\n",
       "    }\n",
       "</style>\n",
       "<table border=\"1\" class=\"dataframe\">\n",
       "  <thead>\n",
       "    <tr style=\"text-align: right;\">\n",
       "      <th></th>\n",
       "      <th>A</th>\n",
       "      <th>Data1</th>\n",
       "      <th>Data2</th>\n",
       "    </tr>\n",
       "  </thead>\n",
       "  <tbody>\n",
       "    <tr>\n",
       "      <th>0</th>\n",
       "      <td>ha</td>\n",
       "      <td>1.122220</td>\n",
       "      <td>-0.967226</td>\n",
       "    </tr>\n",
       "    <tr>\n",
       "      <th>1</th>\n",
       "      <td>hi</td>\n",
       "      <td>-1.281865</td>\n",
       "      <td>0.805536</td>\n",
       "    </tr>\n",
       "    <tr>\n",
       "      <th>2</th>\n",
       "      <td>ho</td>\n",
       "      <td>1.664648</td>\n",
       "      <td>0.856153</td>\n",
       "    </tr>\n",
       "  </tbody>\n",
       "</table>\n",
       "</div>"
      ],
      "text/plain": [
       "    A     Data1     Data2\n",
       "0  ha  1.122220 -0.967226\n",
       "1  hi -1.281865  0.805536\n",
       "2  ho  1.664648  0.856153"
      ]
     },
     "execution_count": 27,
     "metadata": {},
     "output_type": "execute_result"
    }
   ],
   "source": [
    "df.groupby('A', as_index=False).sum()"
   ]
  },
  {
   "cell_type": "code",
   "execution_count": 28,
   "id": "e9cc6866-9f78-43fd-b12f-5254b5e59044",
   "metadata": {
    "tags": []
   },
   "outputs": [
    {
     "data": {
      "text/plain": [
       "A   B  \n",
       "ha  one    2\n",
       "hi  two    1\n",
       "ho  one    1\n",
       "    two    1\n",
       "dtype: int64"
      ]
     },
     "execution_count": 28,
     "metadata": {},
     "output_type": "execute_result"
    }
   ],
   "source": [
    "grouped2.size()"
   ]
  },
  {
   "cell_type": "code",
   "execution_count": null,
   "id": "602e701a-c8ab-45c6-a9e5-c53641a68972",
   "metadata": {},
   "outputs": [],
   "source": [
    "# 한 번에 여러 함수 적용하기"
   ]
  },
  {
   "cell_type": "code",
   "execution_count": 35,
   "id": "d9305e3c-73ff-4d60-836d-8ec0fcff7884",
   "metadata": {
    "tags": []
   },
   "outputs": [
    {
     "data": {
      "text/html": [
       "<div>\n",
       "<style scoped>\n",
       "    .dataframe tbody tr th:only-of-type {\n",
       "        vertical-align: middle;\n",
       "    }\n",
       "\n",
       "    .dataframe tbody tr th {\n",
       "        vertical-align: top;\n",
       "    }\n",
       "\n",
       "    .dataframe thead th {\n",
       "        text-align: right;\n",
       "    }\n",
       "</style>\n",
       "<table border=\"1\" class=\"dataframe\">\n",
       "  <thead>\n",
       "    <tr style=\"text-align: right;\">\n",
       "      <th></th>\n",
       "      <th>sum</th>\n",
       "      <th>mean</th>\n",
       "      <th>std</th>\n",
       "    </tr>\n",
       "    <tr>\n",
       "      <th>A</th>\n",
       "      <th></th>\n",
       "      <th></th>\n",
       "      <th></th>\n",
       "    </tr>\n",
       "  </thead>\n",
       "  <tbody>\n",
       "    <tr>\n",
       "      <th>ha</th>\n",
       "      <td>-0.043250</td>\n",
       "      <td>-0.021625</td>\n",
       "      <td>0.299735</td>\n",
       "    </tr>\n",
       "    <tr>\n",
       "      <th>hi</th>\n",
       "      <td>0.078221</td>\n",
       "      <td>0.078221</td>\n",
       "      <td>NaN</td>\n",
       "    </tr>\n",
       "    <tr>\n",
       "      <th>ho</th>\n",
       "      <td>-0.364993</td>\n",
       "      <td>-0.182497</td>\n",
       "      <td>0.014350</td>\n",
       "    </tr>\n",
       "  </tbody>\n",
       "</table>\n",
       "</div>"
      ],
      "text/plain": [
       "         sum      mean       std\n",
       "A                               \n",
       "ha -0.043250 -0.021625  0.299735\n",
       "hi  0.078221  0.078221       NaN\n",
       "ho -0.364993 -0.182497  0.014350"
      ]
     },
     "execution_count": 35,
     "metadata": {},
     "output_type": "execute_result"
    }
   ],
   "source": [
    "grouped =df.groupby('A')\n",
    "grouped['Data1'].agg([np.sum, np.mean, np.std])"
   ]
  },
  {
   "cell_type": "code",
   "execution_count": 36,
   "id": "2da535b2-84d2-44b5-98f8-0cf839cb7e03",
   "metadata": {
    "tags": []
   },
   "outputs": [
    {
     "name": "stderr",
     "output_type": "stream",
     "text": [
      "/var/folders/cx/r_wdv_3d2q7_cr1m0yrq3dph0000gn/T/ipykernel_1072/1603074020.py:1: FutureWarning: ['B'] did not aggregate successfully. If any error is raised this will raise in a future version of pandas. Drop these columns/ops to avoid this warning.\n",
      "  grouped.agg([np.sum, np.mean])\n"
     ]
    },
    {
     "data": {
      "text/html": [
       "<div>\n",
       "<style scoped>\n",
       "    .dataframe tbody tr th:only-of-type {\n",
       "        vertical-align: middle;\n",
       "    }\n",
       "\n",
       "    .dataframe tbody tr th {\n",
       "        vertical-align: top;\n",
       "    }\n",
       "\n",
       "    .dataframe thead tr th {\n",
       "        text-align: left;\n",
       "    }\n",
       "\n",
       "    .dataframe thead tr:last-of-type th {\n",
       "        text-align: right;\n",
       "    }\n",
       "</style>\n",
       "<table border=\"1\" class=\"dataframe\">\n",
       "  <thead>\n",
       "    <tr>\n",
       "      <th></th>\n",
       "      <th colspan=\"2\" halign=\"left\">Data1</th>\n",
       "      <th colspan=\"2\" halign=\"left\">Data2</th>\n",
       "    </tr>\n",
       "    <tr>\n",
       "      <th></th>\n",
       "      <th>sum</th>\n",
       "      <th>mean</th>\n",
       "      <th>sum</th>\n",
       "      <th>mean</th>\n",
       "    </tr>\n",
       "    <tr>\n",
       "      <th>A</th>\n",
       "      <th></th>\n",
       "      <th></th>\n",
       "      <th></th>\n",
       "      <th></th>\n",
       "    </tr>\n",
       "  </thead>\n",
       "  <tbody>\n",
       "    <tr>\n",
       "      <th>ha</th>\n",
       "      <td>-0.043250</td>\n",
       "      <td>-0.021625</td>\n",
       "      <td>-0.583255</td>\n",
       "      <td>-0.291628</td>\n",
       "    </tr>\n",
       "    <tr>\n",
       "      <th>hi</th>\n",
       "      <td>0.078221</td>\n",
       "      <td>0.078221</td>\n",
       "      <td>1.808595</td>\n",
       "      <td>1.808595</td>\n",
       "    </tr>\n",
       "    <tr>\n",
       "      <th>ho</th>\n",
       "      <td>-0.364993</td>\n",
       "      <td>-0.182497</td>\n",
       "      <td>-0.891720</td>\n",
       "      <td>-0.445860</td>\n",
       "    </tr>\n",
       "  </tbody>\n",
       "</table>\n",
       "</div>"
      ],
      "text/plain": [
       "       Data1               Data2          \n",
       "         sum      mean       sum      mean\n",
       "A                                         \n",
       "ha -0.043250 -0.021625 -0.583255 -0.291628\n",
       "hi  0.078221  0.078221  1.808595  1.808595\n",
       "ho -0.364993 -0.182497 -0.891720 -0.445860"
      ]
     },
     "execution_count": 36,
     "metadata": {},
     "output_type": "execute_result"
    }
   ],
   "source": [
    "grouped.agg([np.sum, np.mean])"
   ]
  },
  {
   "cell_type": "code",
   "execution_count": 38,
   "id": "0dd75e48-008b-4661-9933-283782808987",
   "metadata": {
    "tags": []
   },
   "outputs": [
    {
     "data": {
      "text/html": [
       "<div>\n",
       "<style scoped>\n",
       "    .dataframe tbody tr th:only-of-type {\n",
       "        vertical-align: middle;\n",
       "    }\n",
       "\n",
       "    .dataframe tbody tr th {\n",
       "        vertical-align: top;\n",
       "    }\n",
       "\n",
       "    .dataframe thead th {\n",
       "        text-align: right;\n",
       "    }\n",
       "</style>\n",
       "<table border=\"1\" class=\"dataframe\">\n",
       "  <thead>\n",
       "    <tr style=\"text-align: right;\">\n",
       "      <th></th>\n",
       "      <th>합계</th>\n",
       "      <th>평균</th>\n",
       "    </tr>\n",
       "    <tr>\n",
       "      <th>A</th>\n",
       "      <th></th>\n",
       "      <th></th>\n",
       "    </tr>\n",
       "  </thead>\n",
       "  <tbody>\n",
       "    <tr>\n",
       "      <th>ha</th>\n",
       "      <td>-0.043250</td>\n",
       "      <td>-0.021625</td>\n",
       "    </tr>\n",
       "    <tr>\n",
       "      <th>hi</th>\n",
       "      <td>0.078221</td>\n",
       "      <td>0.078221</td>\n",
       "    </tr>\n",
       "    <tr>\n",
       "      <th>ho</th>\n",
       "      <td>-0.364993</td>\n",
       "      <td>-0.182497</td>\n",
       "    </tr>\n",
       "  </tbody>\n",
       "</table>\n",
       "</div>"
      ],
      "text/plain": [
       "          합계        평균\n",
       "A                     \n",
       "ha -0.043250 -0.021625\n",
       "hi  0.078221  0.078221\n",
       "ho -0.364993 -0.182497"
      ]
     },
     "execution_count": 38,
     "metadata": {},
     "output_type": "execute_result"
    }
   ],
   "source": [
    "grouped['Data1'].agg([np.sum, np.mean]).rename(columns={'sum': '합계', 'mean': '평균'})"
   ]
  },
  {
   "cell_type": "code",
   "execution_count": 39,
   "id": "d0c28487-e9ce-457f-9cda-49ab6fc1dd8a",
   "metadata": {
    "tags": []
   },
   "outputs": [
    {
     "name": "stderr",
     "output_type": "stream",
     "text": [
      "/var/folders/cx/r_wdv_3d2q7_cr1m0yrq3dph0000gn/T/ipykernel_1072/728707214.py:1: FutureWarning: ['B'] did not aggregate successfully. If any error is raised this will raise in a future version of pandas. Drop these columns/ops to avoid this warning.\n",
      "  grouped.agg([np.sum, np.mean]).rename(columns={'sum': '합계', 'mean': '평균'})\n"
     ]
    },
    {
     "data": {
      "text/html": [
       "<div>\n",
       "<style scoped>\n",
       "    .dataframe tbody tr th:only-of-type {\n",
       "        vertical-align: middle;\n",
       "    }\n",
       "\n",
       "    .dataframe tbody tr th {\n",
       "        vertical-align: top;\n",
       "    }\n",
       "\n",
       "    .dataframe thead tr th {\n",
       "        text-align: left;\n",
       "    }\n",
       "\n",
       "    .dataframe thead tr:last-of-type th {\n",
       "        text-align: right;\n",
       "    }\n",
       "</style>\n",
       "<table border=\"1\" class=\"dataframe\">\n",
       "  <thead>\n",
       "    <tr>\n",
       "      <th></th>\n",
       "      <th colspan=\"2\" halign=\"left\">Data1</th>\n",
       "      <th colspan=\"2\" halign=\"left\">Data2</th>\n",
       "    </tr>\n",
       "    <tr>\n",
       "      <th></th>\n",
       "      <th>합계</th>\n",
       "      <th>평균</th>\n",
       "      <th>합계</th>\n",
       "      <th>평균</th>\n",
       "    </tr>\n",
       "    <tr>\n",
       "      <th>A</th>\n",
       "      <th></th>\n",
       "      <th></th>\n",
       "      <th></th>\n",
       "      <th></th>\n",
       "    </tr>\n",
       "  </thead>\n",
       "  <tbody>\n",
       "    <tr>\n",
       "      <th>ha</th>\n",
       "      <td>-0.043250</td>\n",
       "      <td>-0.021625</td>\n",
       "      <td>-0.583255</td>\n",
       "      <td>-0.291628</td>\n",
       "    </tr>\n",
       "    <tr>\n",
       "      <th>hi</th>\n",
       "      <td>0.078221</td>\n",
       "      <td>0.078221</td>\n",
       "      <td>1.808595</td>\n",
       "      <td>1.808595</td>\n",
       "    </tr>\n",
       "    <tr>\n",
       "      <th>ho</th>\n",
       "      <td>-0.364993</td>\n",
       "      <td>-0.182497</td>\n",
       "      <td>-0.891720</td>\n",
       "      <td>-0.445860</td>\n",
       "    </tr>\n",
       "  </tbody>\n",
       "</table>\n",
       "</div>"
      ],
      "text/plain": [
       "       Data1               Data2          \n",
       "          합계        평균        합계        평균\n",
       "A                                         \n",
       "ha -0.043250 -0.021625 -0.583255 -0.291628\n",
       "hi  0.078221  0.078221  1.808595  1.808595\n",
       "ho -0.364993 -0.182497 -0.891720 -0.445860"
      ]
     },
     "execution_count": 39,
     "metadata": {},
     "output_type": "execute_result"
    }
   ],
   "source": [
    "grouped.agg([np.sum, np.mean]).rename(columns={'sum': '합계', 'mean': '평균'})"
   ]
  },
  {
   "cell_type": "code",
   "execution_count": null,
   "id": "01b3b06b-2ecd-436d-951c-e0095d7985b7",
   "metadata": {},
   "outputs": [],
   "source": [
    "# 데이터프레임 열들에 각각 다른 함수 적용하기"
   ]
  },
  {
   "cell_type": "code",
   "execution_count": 40,
   "id": "7d4d6995-57a5-4eec-8c21-10ca71249bc1",
   "metadata": {
    "tags": []
   },
   "outputs": [
    {
     "data": {
      "text/html": [
       "<div>\n",
       "<style scoped>\n",
       "    .dataframe tbody tr th:only-of-type {\n",
       "        vertical-align: middle;\n",
       "    }\n",
       "\n",
       "    .dataframe tbody tr th {\n",
       "        vertical-align: top;\n",
       "    }\n",
       "\n",
       "    .dataframe thead th {\n",
       "        text-align: right;\n",
       "    }\n",
       "</style>\n",
       "<table border=\"1\" class=\"dataframe\">\n",
       "  <thead>\n",
       "    <tr style=\"text-align: right;\">\n",
       "      <th></th>\n",
       "      <th>Data2</th>\n",
       "      <th>Data1</th>\n",
       "    </tr>\n",
       "    <tr>\n",
       "      <th>A</th>\n",
       "      <th></th>\n",
       "      <th></th>\n",
       "    </tr>\n",
       "  </thead>\n",
       "  <tbody>\n",
       "    <tr>\n",
       "      <th>ha</th>\n",
       "      <td>-0.583255</td>\n",
       "      <td>-0.043250</td>\n",
       "    </tr>\n",
       "    <tr>\n",
       "      <th>hi</th>\n",
       "      <td>1.808595</td>\n",
       "      <td>0.078221</td>\n",
       "    </tr>\n",
       "    <tr>\n",
       "      <th>ho</th>\n",
       "      <td>-0.891720</td>\n",
       "      <td>-0.364993</td>\n",
       "    </tr>\n",
       "  </tbody>\n",
       "</table>\n",
       "</div>"
      ],
      "text/plain": [
       "       Data2     Data1\n",
       "A                     \n",
       "ha -0.583255 -0.043250\n",
       "hi  1.808595  0.078221\n",
       "ho -0.891720 -0.364993"
      ]
     },
     "execution_count": 40,
     "metadata": {},
     "output_type": "execute_result"
    }
   ],
   "source": [
    "grouped.agg({'Data2': np.sum, 'Data1': lambda x: np.sum(x)})"
   ]
  },
  {
   "cell_type": "code",
   "execution_count": 41,
   "id": "59f3418d-47e3-449e-9303-261a46600c7a",
   "metadata": {
    "tags": []
   },
   "outputs": [],
   "source": [
    "from collections import OrderedDict"
   ]
  },
  {
   "cell_type": "code",
   "execution_count": 42,
   "id": "5aae5b99-2c63-4a8a-b971-2e7190b4b453",
   "metadata": {
    "tags": []
   },
   "outputs": [
    {
     "data": {
      "text/html": [
       "<div>\n",
       "<style scoped>\n",
       "    .dataframe tbody tr th:only-of-type {\n",
       "        vertical-align: middle;\n",
       "    }\n",
       "\n",
       "    .dataframe tbody tr th {\n",
       "        vertical-align: top;\n",
       "    }\n",
       "\n",
       "    .dataframe thead th {\n",
       "        text-align: right;\n",
       "    }\n",
       "</style>\n",
       "<table border=\"1\" class=\"dataframe\">\n",
       "  <thead>\n",
       "    <tr style=\"text-align: right;\">\n",
       "      <th></th>\n",
       "      <th>Data2</th>\n",
       "      <th>Data1</th>\n",
       "    </tr>\n",
       "    <tr>\n",
       "      <th>A</th>\n",
       "      <th></th>\n",
       "      <th></th>\n",
       "    </tr>\n",
       "  </thead>\n",
       "  <tbody>\n",
       "    <tr>\n",
       "      <th>ha</th>\n",
       "      <td>-0.583255</td>\n",
       "      <td>-0.021625</td>\n",
       "    </tr>\n",
       "    <tr>\n",
       "      <th>hi</th>\n",
       "      <td>1.808595</td>\n",
       "      <td>0.078221</td>\n",
       "    </tr>\n",
       "    <tr>\n",
       "      <th>ho</th>\n",
       "      <td>-0.891720</td>\n",
       "      <td>-0.182497</td>\n",
       "    </tr>\n",
       "  </tbody>\n",
       "</table>\n",
       "</div>"
      ],
      "text/plain": [
       "       Data2     Data1\n",
       "A                     \n",
       "ha -0.583255 -0.021625\n",
       "hi  1.808595  0.078221\n",
       "ho -0.891720 -0.182497"
      ]
     },
     "execution_count": 42,
     "metadata": {},
     "output_type": "execute_result"
    }
   ],
   "source": [
    "grouped.agg({'Data2': 'sum', 'Data1': np.mean})"
   ]
  },
  {
   "cell_type": "code",
   "execution_count": 43,
   "id": "10b95772-2170-415a-9e51-49168b1a582c",
   "metadata": {
    "tags": []
   },
   "outputs": [
    {
     "data": {
      "text/html": [
       "<div>\n",
       "<style scoped>\n",
       "    .dataframe tbody tr th:only-of-type {\n",
       "        vertical-align: middle;\n",
       "    }\n",
       "\n",
       "    .dataframe tbody tr th {\n",
       "        vertical-align: top;\n",
       "    }\n",
       "\n",
       "    .dataframe thead th {\n",
       "        text-align: right;\n",
       "    }\n",
       "</style>\n",
       "<table border=\"1\" class=\"dataframe\">\n",
       "  <thead>\n",
       "    <tr style=\"text-align: right;\">\n",
       "      <th></th>\n",
       "      <th>Data2</th>\n",
       "      <th>Data1</th>\n",
       "    </tr>\n",
       "    <tr>\n",
       "      <th>A</th>\n",
       "      <th></th>\n",
       "      <th></th>\n",
       "    </tr>\n",
       "  </thead>\n",
       "  <tbody>\n",
       "    <tr>\n",
       "      <th>ha</th>\n",
       "      <td>-0.583255</td>\n",
       "      <td>-0.021625</td>\n",
       "    </tr>\n",
       "    <tr>\n",
       "      <th>hi</th>\n",
       "      <td>1.808595</td>\n",
       "      <td>0.078221</td>\n",
       "    </tr>\n",
       "    <tr>\n",
       "      <th>ho</th>\n",
       "      <td>-0.891720</td>\n",
       "      <td>-0.182497</td>\n",
       "    </tr>\n",
       "  </tbody>\n",
       "</table>\n",
       "</div>"
      ],
      "text/plain": [
       "       Data2     Data1\n",
       "A                     \n",
       "ha -0.583255 -0.021625\n",
       "hi  1.808595  0.078221\n",
       "ho -0.891720 -0.182497"
      ]
     },
     "execution_count": 43,
     "metadata": {},
     "output_type": "execute_result"
    }
   ],
   "source": [
    "df_grd = grouped.agg(OrderedDict([('Data2', 'sum'), ('Data1', 'mean')]))\n",
    "df_grd"
   ]
  },
  {
   "cell_type": "code",
   "execution_count": 44,
   "id": "b77c4251-ab07-4bd1-873c-7c84357fda0d",
   "metadata": {
    "tags": []
   },
   "outputs": [
    {
     "data": {
      "text/html": [
       "<div>\n",
       "<style scoped>\n",
       "    .dataframe tbody tr th:only-of-type {\n",
       "        vertical-align: middle;\n",
       "    }\n",
       "\n",
       "    .dataframe tbody tr th {\n",
       "        vertical-align: top;\n",
       "    }\n",
       "\n",
       "    .dataframe thead th {\n",
       "        text-align: right;\n",
       "    }\n",
       "</style>\n",
       "<table border=\"1\" class=\"dataframe\">\n",
       "  <thead>\n",
       "    <tr style=\"text-align: right;\">\n",
       "      <th></th>\n",
       "      <th>Data2</th>\n",
       "      <th>Data1</th>\n",
       "    </tr>\n",
       "  </thead>\n",
       "  <tbody>\n",
       "    <tr>\n",
       "      <th>gold</th>\n",
       "      <td>-1.474976</td>\n",
       "      <td>-0.204122</td>\n",
       "    </tr>\n",
       "    <tr>\n",
       "      <th>silver</th>\n",
       "      <td>1.808595</td>\n",
       "      <td>0.078221</td>\n",
       "    </tr>\n",
       "  </tbody>\n",
       "</table>\n",
       "</div>"
      ],
      "text/plain": [
       "           Data2     Data1\n",
       "gold   -1.474976 -0.204122\n",
       "silver  1.808595  0.078221"
      ]
     },
     "execution_count": 44,
     "metadata": {},
     "output_type": "execute_result"
    }
   ],
   "source": [
    "ind = ['gold', 'silver', 'gold']\n",
    "df_grd.groupby(ind).sum()"
   ]
  },
  {
   "cell_type": "code",
   "execution_count": null,
   "id": "838221b1-29b8-4fa3-961c-861681cf2814",
   "metadata": {},
   "outputs": [],
   "source": [
    "# 자동차 판매 대리점별 영업 현황 데이터 연산과 변환"
   ]
  },
  {
   "cell_type": "code",
   "execution_count": 46,
   "id": "2ed8791e-44f4-4906-a646-d705c4cb73ee",
   "metadata": {
    "tags": []
   },
   "outputs": [
    {
     "data": {
      "text/html": [
       "<div>\n",
       "<style scoped>\n",
       "    .dataframe tbody tr th:only-of-type {\n",
       "        vertical-align: middle;\n",
       "    }\n",
       "\n",
       "    .dataframe tbody tr th {\n",
       "        vertical-align: top;\n",
       "    }\n",
       "\n",
       "    .dataframe thead th {\n",
       "        text-align: right;\n",
       "    }\n",
       "</style>\n",
       "<table border=\"1\" class=\"dataframe\">\n",
       "  <thead>\n",
       "    <tr style=\"text-align: right;\">\n",
       "      <th></th>\n",
       "      <th>Branch</th>\n",
       "      <th>Car Name</th>\n",
       "      <th>Quantity</th>\n",
       "      <th>Unit Price</th>\n",
       "      <th>Ext Price</th>\n",
       "    </tr>\n",
       "  </thead>\n",
       "  <tbody>\n",
       "    <tr>\n",
       "      <th>0</th>\n",
       "      <td>Yeonnam</td>\n",
       "      <td>Grandeur</td>\n",
       "      <td>7</td>\n",
       "      <td>35</td>\n",
       "      <td>245</td>\n",
       "    </tr>\n",
       "    <tr>\n",
       "      <th>1</th>\n",
       "      <td>Yeonnam</td>\n",
       "      <td>Sonata</td>\n",
       "      <td>11</td>\n",
       "      <td>20</td>\n",
       "      <td>220</td>\n",
       "    </tr>\n",
       "    <tr>\n",
       "      <th>2</th>\n",
       "      <td>Yeonnam</td>\n",
       "      <td>Avante</td>\n",
       "      <td>3</td>\n",
       "      <td>15</td>\n",
       "      <td>45</td>\n",
       "    </tr>\n",
       "    <tr>\n",
       "      <th>3</th>\n",
       "      <td>Sungsan</td>\n",
       "      <td>Grandeur</td>\n",
       "      <td>5</td>\n",
       "      <td>36</td>\n",
       "      <td>180</td>\n",
       "    </tr>\n",
       "    <tr>\n",
       "      <th>4</th>\n",
       "      <td>Sungsan</td>\n",
       "      <td>Sonata</td>\n",
       "      <td>19</td>\n",
       "      <td>19</td>\n",
       "      <td>361</td>\n",
       "    </tr>\n",
       "    <tr>\n",
       "      <th>5</th>\n",
       "      <td>Sungsan</td>\n",
       "      <td>Avante</td>\n",
       "      <td>9</td>\n",
       "      <td>14</td>\n",
       "      <td>126</td>\n",
       "    </tr>\n",
       "    <tr>\n",
       "      <th>6</th>\n",
       "      <td>Yeonhi</td>\n",
       "      <td>Grandeur</td>\n",
       "      <td>10</td>\n",
       "      <td>34</td>\n",
       "      <td>340</td>\n",
       "    </tr>\n",
       "    <tr>\n",
       "      <th>7</th>\n",
       "      <td>Yeonhi</td>\n",
       "      <td>Sonata</td>\n",
       "      <td>13</td>\n",
       "      <td>19</td>\n",
       "      <td>247</td>\n",
       "    </tr>\n",
       "    <tr>\n",
       "      <th>8</th>\n",
       "      <td>Yeonhi</td>\n",
       "      <td>Avante</td>\n",
       "      <td>15</td>\n",
       "      <td>13</td>\n",
       "      <td>195</td>\n",
       "    </tr>\n",
       "  </tbody>\n",
       "</table>\n",
       "</div>"
      ],
      "text/plain": [
       "    Branch  Car Name  Quantity  Unit Price  Ext Price\n",
       "0  Yeonnam  Grandeur         7          35        245\n",
       "1  Yeonnam    Sonata        11          20        220\n",
       "2  Yeonnam    Avante         3          15         45\n",
       "3  Sungsan  Grandeur         5          36        180\n",
       "4  Sungsan    Sonata        19          19        361\n",
       "5  Sungsan    Avante         9          14        126\n",
       "6   Yeonhi  Grandeur        10          34        340\n",
       "7   Yeonhi    Sonata        13          19        247\n",
       "8   Yeonhi    Avante        15          13        195"
      ]
     },
     "execution_count": 46,
     "metadata": {},
     "output_type": "execute_result"
    }
   ],
   "source": [
    "df = pd.read_excel('/Users/raekkkky/Desktop/DNA/Data_Analysis/data-collection-master/car_sales.xlsx')\n",
    "df"
   ]
  },
  {
   "cell_type": "code",
   "execution_count": 47,
   "id": "a0ef915d-7b98-43e9-8a01-73573b362f1e",
   "metadata": {
    "tags": []
   },
   "outputs": [
    {
     "data": {
      "text/plain": [
       "Branch\n",
       "Sungsan    667\n",
       "Yeonhi     782\n",
       "Yeonnam    510\n",
       "Name: Ext Price, dtype: int64"
      ]
     },
     "execution_count": 47,
     "metadata": {},
     "output_type": "execute_result"
    }
   ],
   "source": [
    "df.groupby('Branch')['Ext Price'].agg('sum')"
   ]
  },
  {
   "cell_type": "code",
   "execution_count": 48,
   "id": "225c45e0-7716-4f8f-b04a-faaf473a3128",
   "metadata": {
    "tags": []
   },
   "outputs": [
    {
     "data": {
      "text/plain": [
       "Branch\n",
       "Sungsan    667\n",
       "Yeonhi     782\n",
       "Yeonnam    510\n",
       "Name: Br_Total, dtype: int64"
      ]
     },
     "execution_count": 48,
     "metadata": {},
     "output_type": "execute_result"
    }
   ],
   "source": [
    "df.groupby('Branch')['Ext Price'].agg('sum').rename('Br_Total')"
   ]
  },
  {
   "cell_type": "code",
   "execution_count": 49,
   "id": "8a3d1abf-7b90-4d37-92b8-304390d991c4",
   "metadata": {
    "tags": []
   },
   "outputs": [
    {
     "data": {
      "text/html": [
       "<div>\n",
       "<style scoped>\n",
       "    .dataframe tbody tr th:only-of-type {\n",
       "        vertical-align: middle;\n",
       "    }\n",
       "\n",
       "    .dataframe tbody tr th {\n",
       "        vertical-align: top;\n",
       "    }\n",
       "\n",
       "    .dataframe thead th {\n",
       "        text-align: right;\n",
       "    }\n",
       "</style>\n",
       "<table border=\"1\" class=\"dataframe\">\n",
       "  <thead>\n",
       "    <tr style=\"text-align: right;\">\n",
       "      <th></th>\n",
       "      <th>Branch</th>\n",
       "      <th>Br_Total</th>\n",
       "    </tr>\n",
       "  </thead>\n",
       "  <tbody>\n",
       "    <tr>\n",
       "      <th>0</th>\n",
       "      <td>Sungsan</td>\n",
       "      <td>667</td>\n",
       "    </tr>\n",
       "    <tr>\n",
       "      <th>1</th>\n",
       "      <td>Yeonhi</td>\n",
       "      <td>782</td>\n",
       "    </tr>\n",
       "    <tr>\n",
       "      <th>2</th>\n",
       "      <td>Yeonnam</td>\n",
       "      <td>510</td>\n",
       "    </tr>\n",
       "  </tbody>\n",
       "</table>\n",
       "</div>"
      ],
      "text/plain": [
       "    Branch  Br_Total\n",
       "0  Sungsan       667\n",
       "1   Yeonhi       782\n",
       "2  Yeonnam       510"
      ]
     },
     "execution_count": 49,
     "metadata": {},
     "output_type": "execute_result"
    }
   ],
   "source": [
    "br_total = df.groupby('Branch')['Ext Price'].agg('sum').rename('Br_Total').reset_index()\n",
    "br_total"
   ]
  },
  {
   "cell_type": "code",
   "execution_count": 50,
   "id": "d229a306-97e7-4477-ba70-3c9600a38453",
   "metadata": {
    "tags": []
   },
   "outputs": [
    {
     "data": {
      "text/html": [
       "<div>\n",
       "<style scoped>\n",
       "    .dataframe tbody tr th:only-of-type {\n",
       "        vertical-align: middle;\n",
       "    }\n",
       "\n",
       "    .dataframe tbody tr th {\n",
       "        vertical-align: top;\n",
       "    }\n",
       "\n",
       "    .dataframe thead th {\n",
       "        text-align: right;\n",
       "    }\n",
       "</style>\n",
       "<table border=\"1\" class=\"dataframe\">\n",
       "  <thead>\n",
       "    <tr style=\"text-align: right;\">\n",
       "      <th></th>\n",
       "      <th>Branch</th>\n",
       "      <th>Car Name</th>\n",
       "      <th>Quantity</th>\n",
       "      <th>Unit Price</th>\n",
       "      <th>Ext Price</th>\n",
       "      <th>Br_Total</th>\n",
       "    </tr>\n",
       "  </thead>\n",
       "  <tbody>\n",
       "    <tr>\n",
       "      <th>0</th>\n",
       "      <td>Yeonnam</td>\n",
       "      <td>Grandeur</td>\n",
       "      <td>7</td>\n",
       "      <td>35</td>\n",
       "      <td>245</td>\n",
       "      <td>510</td>\n",
       "    </tr>\n",
       "    <tr>\n",
       "      <th>1</th>\n",
       "      <td>Yeonnam</td>\n",
       "      <td>Sonata</td>\n",
       "      <td>11</td>\n",
       "      <td>20</td>\n",
       "      <td>220</td>\n",
       "      <td>510</td>\n",
       "    </tr>\n",
       "    <tr>\n",
       "      <th>2</th>\n",
       "      <td>Yeonnam</td>\n",
       "      <td>Avante</td>\n",
       "      <td>3</td>\n",
       "      <td>15</td>\n",
       "      <td>45</td>\n",
       "      <td>510</td>\n",
       "    </tr>\n",
       "    <tr>\n",
       "      <th>3</th>\n",
       "      <td>Sungsan</td>\n",
       "      <td>Grandeur</td>\n",
       "      <td>5</td>\n",
       "      <td>36</td>\n",
       "      <td>180</td>\n",
       "      <td>667</td>\n",
       "    </tr>\n",
       "    <tr>\n",
       "      <th>4</th>\n",
       "      <td>Sungsan</td>\n",
       "      <td>Sonata</td>\n",
       "      <td>19</td>\n",
       "      <td>19</td>\n",
       "      <td>361</td>\n",
       "      <td>667</td>\n",
       "    </tr>\n",
       "    <tr>\n",
       "      <th>5</th>\n",
       "      <td>Sungsan</td>\n",
       "      <td>Avante</td>\n",
       "      <td>9</td>\n",
       "      <td>14</td>\n",
       "      <td>126</td>\n",
       "      <td>667</td>\n",
       "    </tr>\n",
       "    <tr>\n",
       "      <th>6</th>\n",
       "      <td>Yeonhi</td>\n",
       "      <td>Grandeur</td>\n",
       "      <td>10</td>\n",
       "      <td>34</td>\n",
       "      <td>340</td>\n",
       "      <td>782</td>\n",
       "    </tr>\n",
       "    <tr>\n",
       "      <th>7</th>\n",
       "      <td>Yeonhi</td>\n",
       "      <td>Sonata</td>\n",
       "      <td>13</td>\n",
       "      <td>19</td>\n",
       "      <td>247</td>\n",
       "      <td>782</td>\n",
       "    </tr>\n",
       "    <tr>\n",
       "      <th>8</th>\n",
       "      <td>Yeonhi</td>\n",
       "      <td>Avante</td>\n",
       "      <td>15</td>\n",
       "      <td>13</td>\n",
       "      <td>195</td>\n",
       "      <td>782</td>\n",
       "    </tr>\n",
       "  </tbody>\n",
       "</table>\n",
       "</div>"
      ],
      "text/plain": [
       "    Branch  Car Name  Quantity  Unit Price  Ext Price  Br_Total\n",
       "0  Yeonnam  Grandeur         7          35        245       510\n",
       "1  Yeonnam    Sonata        11          20        220       510\n",
       "2  Yeonnam    Avante         3          15         45       510\n",
       "3  Sungsan  Grandeur         5          36        180       667\n",
       "4  Sungsan    Sonata        19          19        361       667\n",
       "5  Sungsan    Avante         9          14        126       667\n",
       "6   Yeonhi  Grandeur        10          34        340       782\n",
       "7   Yeonhi    Sonata        13          19        247       782\n",
       "8   Yeonhi    Avante        15          13        195       782"
      ]
     },
     "execution_count": 50,
     "metadata": {},
     "output_type": "execute_result"
    }
   ],
   "source": [
    "df_m = df.merge(br_total)\n",
    "df_m"
   ]
  },
  {
   "cell_type": "code",
   "execution_count": 51,
   "id": "76705767-cf1c-41d9-b966-5e5bd69f7878",
   "metadata": {
    "tags": []
   },
   "outputs": [
    {
     "data": {
      "text/html": [
       "<div>\n",
       "<style scoped>\n",
       "    .dataframe tbody tr th:only-of-type {\n",
       "        vertical-align: middle;\n",
       "    }\n",
       "\n",
       "    .dataframe tbody tr th {\n",
       "        vertical-align: top;\n",
       "    }\n",
       "\n",
       "    .dataframe thead th {\n",
       "        text-align: right;\n",
       "    }\n",
       "</style>\n",
       "<table border=\"1\" class=\"dataframe\">\n",
       "  <thead>\n",
       "    <tr style=\"text-align: right;\">\n",
       "      <th></th>\n",
       "      <th>Branch</th>\n",
       "      <th>Car Name</th>\n",
       "      <th>Quantity</th>\n",
       "      <th>Unit Price</th>\n",
       "      <th>Ext Price</th>\n",
       "      <th>Br_Total</th>\n",
       "      <th>Br_Pct</th>\n",
       "    </tr>\n",
       "  </thead>\n",
       "  <tbody>\n",
       "    <tr>\n",
       "      <th>0</th>\n",
       "      <td>Yeonnam</td>\n",
       "      <td>Grandeur</td>\n",
       "      <td>7</td>\n",
       "      <td>35</td>\n",
       "      <td>245</td>\n",
       "      <td>510</td>\n",
       "      <td>0.480392</td>\n",
       "    </tr>\n",
       "    <tr>\n",
       "      <th>1</th>\n",
       "      <td>Yeonnam</td>\n",
       "      <td>Sonata</td>\n",
       "      <td>11</td>\n",
       "      <td>20</td>\n",
       "      <td>220</td>\n",
       "      <td>510</td>\n",
       "      <td>0.431373</td>\n",
       "    </tr>\n",
       "    <tr>\n",
       "      <th>2</th>\n",
       "      <td>Yeonnam</td>\n",
       "      <td>Avante</td>\n",
       "      <td>3</td>\n",
       "      <td>15</td>\n",
       "      <td>45</td>\n",
       "      <td>510</td>\n",
       "      <td>0.088235</td>\n",
       "    </tr>\n",
       "    <tr>\n",
       "      <th>3</th>\n",
       "      <td>Sungsan</td>\n",
       "      <td>Grandeur</td>\n",
       "      <td>5</td>\n",
       "      <td>36</td>\n",
       "      <td>180</td>\n",
       "      <td>667</td>\n",
       "      <td>0.269865</td>\n",
       "    </tr>\n",
       "    <tr>\n",
       "      <th>4</th>\n",
       "      <td>Sungsan</td>\n",
       "      <td>Sonata</td>\n",
       "      <td>19</td>\n",
       "      <td>19</td>\n",
       "      <td>361</td>\n",
       "      <td>667</td>\n",
       "      <td>0.541229</td>\n",
       "    </tr>\n",
       "    <tr>\n",
       "      <th>5</th>\n",
       "      <td>Sungsan</td>\n",
       "      <td>Avante</td>\n",
       "      <td>9</td>\n",
       "      <td>14</td>\n",
       "      <td>126</td>\n",
       "      <td>667</td>\n",
       "      <td>0.188906</td>\n",
       "    </tr>\n",
       "    <tr>\n",
       "      <th>6</th>\n",
       "      <td>Yeonhi</td>\n",
       "      <td>Grandeur</td>\n",
       "      <td>10</td>\n",
       "      <td>34</td>\n",
       "      <td>340</td>\n",
       "      <td>782</td>\n",
       "      <td>0.434783</td>\n",
       "    </tr>\n",
       "    <tr>\n",
       "      <th>7</th>\n",
       "      <td>Yeonhi</td>\n",
       "      <td>Sonata</td>\n",
       "      <td>13</td>\n",
       "      <td>19</td>\n",
       "      <td>247</td>\n",
       "      <td>782</td>\n",
       "      <td>0.315857</td>\n",
       "    </tr>\n",
       "    <tr>\n",
       "      <th>8</th>\n",
       "      <td>Yeonhi</td>\n",
       "      <td>Avante</td>\n",
       "      <td>15</td>\n",
       "      <td>13</td>\n",
       "      <td>195</td>\n",
       "      <td>782</td>\n",
       "      <td>0.249361</td>\n",
       "    </tr>\n",
       "  </tbody>\n",
       "</table>\n",
       "</div>"
      ],
      "text/plain": [
       "    Branch  Car Name  Quantity  Unit Price  Ext Price  Br_Total    Br_Pct\n",
       "0  Yeonnam  Grandeur         7          35        245       510  0.480392\n",
       "1  Yeonnam    Sonata        11          20        220       510  0.431373\n",
       "2  Yeonnam    Avante         3          15         45       510  0.088235\n",
       "3  Sungsan  Grandeur         5          36        180       667  0.269865\n",
       "4  Sungsan    Sonata        19          19        361       667  0.541229\n",
       "5  Sungsan    Avante         9          14        126       667  0.188906\n",
       "6   Yeonhi  Grandeur        10          34        340       782  0.434783\n",
       "7   Yeonhi    Sonata        13          19        247       782  0.315857\n",
       "8   Yeonhi    Avante        15          13        195       782  0.249361"
      ]
     },
     "execution_count": 51,
     "metadata": {},
     "output_type": "execute_result"
    }
   ],
   "source": [
    "df_m['Br_Pct'] = df_m['Ext Price'] / df_m['Br_Total']\n",
    "df_m"
   ]
  },
  {
   "cell_type": "code",
   "execution_count": 52,
   "id": "c9947928-c612-4f87-a7ae-d9b100212988",
   "metadata": {
    "tags": []
   },
   "outputs": [
    {
     "data": {
      "text/plain": [
       "0    510\n",
       "1    510\n",
       "2    510\n",
       "3    667\n",
       "4    667\n",
       "5    667\n",
       "6    782\n",
       "7    782\n",
       "8    782\n",
       "Name: Ext Price, dtype: int64"
      ]
     },
     "execution_count": 52,
     "metadata": {},
     "output_type": "execute_result"
    }
   ],
   "source": [
    "df.groupby('Branch')['Ext Price'].transform('sum')"
   ]
  },
  {
   "cell_type": "code",
   "execution_count": 53,
   "id": "cff30185-1fe0-4225-90d7-ebc97ef4abdd",
   "metadata": {
    "tags": []
   },
   "outputs": [
    {
     "data": {
      "text/html": [
       "<div>\n",
       "<style scoped>\n",
       "    .dataframe tbody tr th:only-of-type {\n",
       "        vertical-align: middle;\n",
       "    }\n",
       "\n",
       "    .dataframe tbody tr th {\n",
       "        vertical-align: top;\n",
       "    }\n",
       "\n",
       "    .dataframe thead th {\n",
       "        text-align: right;\n",
       "    }\n",
       "</style>\n",
       "<table border=\"1\" class=\"dataframe\">\n",
       "  <thead>\n",
       "    <tr style=\"text-align: right;\">\n",
       "      <th></th>\n",
       "      <th>Branch</th>\n",
       "      <th>Car Name</th>\n",
       "      <th>Quantity</th>\n",
       "      <th>Unit Price</th>\n",
       "      <th>Ext Price</th>\n",
       "      <th>Br_Total</th>\n",
       "      <th>Br_Pct</th>\n",
       "    </tr>\n",
       "  </thead>\n",
       "  <tbody>\n",
       "    <tr>\n",
       "      <th>0</th>\n",
       "      <td>Yeonnam</td>\n",
       "      <td>Grandeur</td>\n",
       "      <td>7</td>\n",
       "      <td>35</td>\n",
       "      <td>245</td>\n",
       "      <td>510</td>\n",
       "      <td>0.480392</td>\n",
       "    </tr>\n",
       "    <tr>\n",
       "      <th>1</th>\n",
       "      <td>Yeonnam</td>\n",
       "      <td>Sonata</td>\n",
       "      <td>11</td>\n",
       "      <td>20</td>\n",
       "      <td>220</td>\n",
       "      <td>510</td>\n",
       "      <td>0.431373</td>\n",
       "    </tr>\n",
       "    <tr>\n",
       "      <th>2</th>\n",
       "      <td>Yeonnam</td>\n",
       "      <td>Avante</td>\n",
       "      <td>3</td>\n",
       "      <td>15</td>\n",
       "      <td>45</td>\n",
       "      <td>510</td>\n",
       "      <td>0.088235</td>\n",
       "    </tr>\n",
       "    <tr>\n",
       "      <th>3</th>\n",
       "      <td>Sungsan</td>\n",
       "      <td>Grandeur</td>\n",
       "      <td>5</td>\n",
       "      <td>36</td>\n",
       "      <td>180</td>\n",
       "      <td>667</td>\n",
       "      <td>0.269865</td>\n",
       "    </tr>\n",
       "    <tr>\n",
       "      <th>4</th>\n",
       "      <td>Sungsan</td>\n",
       "      <td>Sonata</td>\n",
       "      <td>19</td>\n",
       "      <td>19</td>\n",
       "      <td>361</td>\n",
       "      <td>667</td>\n",
       "      <td>0.541229</td>\n",
       "    </tr>\n",
       "    <tr>\n",
       "      <th>5</th>\n",
       "      <td>Sungsan</td>\n",
       "      <td>Avante</td>\n",
       "      <td>9</td>\n",
       "      <td>14</td>\n",
       "      <td>126</td>\n",
       "      <td>667</td>\n",
       "      <td>0.188906</td>\n",
       "    </tr>\n",
       "    <tr>\n",
       "      <th>6</th>\n",
       "      <td>Yeonhi</td>\n",
       "      <td>Grandeur</td>\n",
       "      <td>10</td>\n",
       "      <td>34</td>\n",
       "      <td>340</td>\n",
       "      <td>782</td>\n",
       "      <td>0.434783</td>\n",
       "    </tr>\n",
       "    <tr>\n",
       "      <th>7</th>\n",
       "      <td>Yeonhi</td>\n",
       "      <td>Sonata</td>\n",
       "      <td>13</td>\n",
       "      <td>19</td>\n",
       "      <td>247</td>\n",
       "      <td>782</td>\n",
       "      <td>0.315857</td>\n",
       "    </tr>\n",
       "    <tr>\n",
       "      <th>8</th>\n",
       "      <td>Yeonhi</td>\n",
       "      <td>Avante</td>\n",
       "      <td>15</td>\n",
       "      <td>13</td>\n",
       "      <td>195</td>\n",
       "      <td>782</td>\n",
       "      <td>0.249361</td>\n",
       "    </tr>\n",
       "  </tbody>\n",
       "</table>\n",
       "</div>"
      ],
      "text/plain": [
       "    Branch  Car Name  Quantity  Unit Price  Ext Price  Br_Total    Br_Pct\n",
       "0  Yeonnam  Grandeur         7          35        245       510  0.480392\n",
       "1  Yeonnam    Sonata        11          20        220       510  0.431373\n",
       "2  Yeonnam    Avante         3          15         45       510  0.088235\n",
       "3  Sungsan  Grandeur         5          36        180       667  0.269865\n",
       "4  Sungsan    Sonata        19          19        361       667  0.541229\n",
       "5  Sungsan    Avante         9          14        126       667  0.188906\n",
       "6   Yeonhi  Grandeur        10          34        340       782  0.434783\n",
       "7   Yeonhi    Sonata        13          19        247       782  0.315857\n",
       "8   Yeonhi    Avante        15          13        195       782  0.249361"
      ]
     },
     "execution_count": 53,
     "metadata": {},
     "output_type": "execute_result"
    }
   ],
   "source": [
    "df['Br_Total'] = df.groupby('Branch')['Ext Price'].transform('sum')\n",
    "df['Br_Pct'] = df['Ext Price'] / df['Br_Total']\n",
    "df"
   ]
  },
  {
   "cell_type": "code",
   "execution_count": null,
   "id": "d405702a-68cf-4f36-a2c8-b584425ed9de",
   "metadata": {},
   "outputs": [],
   "source": [
    "# 5.2.3 GroupBy 객체를 이용한 분할, 적용, 통합\n",
    "# 학교별 수학 성적에 분할, 적용, 통합 연산 실행"
   ]
  },
  {
   "cell_type": "code",
   "execution_count": 29,
   "id": "b73ef34d-afdb-429e-b133-e57ff4ec2821",
   "metadata": {
    "tags": []
   },
   "outputs": [
    {
     "data": {
      "text/html": [
       "<div>\n",
       "<style scoped>\n",
       "    .dataframe tbody tr th:only-of-type {\n",
       "        vertical-align: middle;\n",
       "    }\n",
       "\n",
       "    .dataframe tbody tr th {\n",
       "        vertical-align: top;\n",
       "    }\n",
       "\n",
       "    .dataframe thead th {\n",
       "        text-align: right;\n",
       "    }\n",
       "</style>\n",
       "<table border=\"1\" class=\"dataframe\">\n",
       "  <thead>\n",
       "    <tr style=\"text-align: right;\">\n",
       "      <th></th>\n",
       "      <th>School</th>\n",
       "      <th>Name</th>\n",
       "      <th>Math_S</th>\n",
       "    </tr>\n",
       "  </thead>\n",
       "  <tbody>\n",
       "    <tr>\n",
       "      <th>0</th>\n",
       "      <td>Yeonhi</td>\n",
       "      <td>Haena</td>\n",
       "      <td>92</td>\n",
       "    </tr>\n",
       "    <tr>\n",
       "      <th>1</th>\n",
       "      <td>Yeonhi</td>\n",
       "      <td>Gisu</td>\n",
       "      <td>70</td>\n",
       "    </tr>\n",
       "    <tr>\n",
       "      <th>2</th>\n",
       "      <td>Sungsan</td>\n",
       "      <td>Una</td>\n",
       "      <td>88</td>\n",
       "    </tr>\n",
       "    <tr>\n",
       "      <th>3</th>\n",
       "      <td>Sungsan</td>\n",
       "      <td>Naeun</td>\n",
       "      <td>92</td>\n",
       "    </tr>\n",
       "    <tr>\n",
       "      <th>4</th>\n",
       "      <td>Sungsan</td>\n",
       "      <td>Ziho</td>\n",
       "      <td>70</td>\n",
       "    </tr>\n",
       "  </tbody>\n",
       "</table>\n",
       "</div>"
      ],
      "text/plain": [
       "    School   Name  Math_S\n",
       "0   Yeonhi  Haena      92\n",
       "1   Yeonhi   Gisu      70\n",
       "2  Sungsan    Una      88\n",
       "3  Sungsan  Naeun      92\n",
       "4  Sungsan   Ziho      70"
      ]
     },
     "execution_count": 29,
     "metadata": {},
     "output_type": "execute_result"
    }
   ],
   "source": [
    "df = pd.DataFrame({'School' : ['Yeonhi', 'Yeonhi', 'Sungsan', 'Sungsan', 'Sungsan'],\n",
    "                  'Name' : ['Haena', 'Gisu', 'Una', 'Naeun', 'Ziho'],\n",
    "                  'Math_S' : [92, 70, 88, 92, 70]})\n",
    "df"
   ]
  },
  {
   "cell_type": "code",
   "execution_count": 55,
   "id": "b297a639-45c2-4157-88cf-d7ca01d2d8bc",
   "metadata": {
    "tags": []
   },
   "outputs": [
    {
     "data": {
      "text/plain": [
       "School\n",
       "Sungsan    83.333333\n",
       "Yeonhi     81.000000\n",
       "Name: Math_S, dtype: float64"
      ]
     },
     "execution_count": 55,
     "metadata": {},
     "output_type": "execute_result"
    }
   ],
   "source": [
    "mean_s = df.groupby('School')['Math_S'].agg('mean')\n",
    "mean_s"
   ]
  },
  {
   "cell_type": "code",
   "execution_count": 56,
   "id": "84c4348c-c8b1-41bf-885c-b4bea3c9a52d",
   "metadata": {
    "tags": []
   },
   "outputs": [
    {
     "data": {
      "text/plain": [
       "School\n",
       "Sungsan    83.333333\n",
       "Yeonhi     81.000000\n",
       "Name: Avg_S, dtype: float64"
      ]
     },
     "execution_count": 56,
     "metadata": {},
     "output_type": "execute_result"
    }
   ],
   "source": [
    "mean_s.rename('Avg_S')"
   ]
  },
  {
   "cell_type": "code",
   "execution_count": 57,
   "id": "69865cb6-7455-40ed-aa4d-271e551f9c5a",
   "metadata": {
    "tags": []
   },
   "outputs": [
    {
     "data": {
      "text/html": [
       "<div>\n",
       "<style scoped>\n",
       "    .dataframe tbody tr th:only-of-type {\n",
       "        vertical-align: middle;\n",
       "    }\n",
       "\n",
       "    .dataframe tbody tr th {\n",
       "        vertical-align: top;\n",
       "    }\n",
       "\n",
       "    .dataframe thead th {\n",
       "        text-align: right;\n",
       "    }\n",
       "</style>\n",
       "<table border=\"1\" class=\"dataframe\">\n",
       "  <thead>\n",
       "    <tr style=\"text-align: right;\">\n",
       "      <th></th>\n",
       "      <th>School</th>\n",
       "      <th>Avg_S</th>\n",
       "    </tr>\n",
       "  </thead>\n",
       "  <tbody>\n",
       "    <tr>\n",
       "      <th>0</th>\n",
       "      <td>Sungsan</td>\n",
       "      <td>83.333333</td>\n",
       "    </tr>\n",
       "    <tr>\n",
       "      <th>1</th>\n",
       "      <td>Yeonhi</td>\n",
       "      <td>81.000000</td>\n",
       "    </tr>\n",
       "  </tbody>\n",
       "</table>\n",
       "</div>"
      ],
      "text/plain": [
       "    School      Avg_S\n",
       "0  Sungsan  83.333333\n",
       "1   Yeonhi  81.000000"
      ]
     },
     "execution_count": 57,
     "metadata": {},
     "output_type": "execute_result"
    }
   ],
   "source": [
    "avg_score = mean_s.rename('Avg_S').reset_index()\n",
    "avg_score"
   ]
  },
  {
   "cell_type": "code",
   "execution_count": 58,
   "id": "220d89b6-7900-4de8-ae60-818bd637c8f7",
   "metadata": {
    "tags": []
   },
   "outputs": [
    {
     "data": {
      "text/html": [
       "<div>\n",
       "<style scoped>\n",
       "    .dataframe tbody tr th:only-of-type {\n",
       "        vertical-align: middle;\n",
       "    }\n",
       "\n",
       "    .dataframe tbody tr th {\n",
       "        vertical-align: top;\n",
       "    }\n",
       "\n",
       "    .dataframe thead th {\n",
       "        text-align: right;\n",
       "    }\n",
       "</style>\n",
       "<table border=\"1\" class=\"dataframe\">\n",
       "  <thead>\n",
       "    <tr style=\"text-align: right;\">\n",
       "      <th></th>\n",
       "      <th>School</th>\n",
       "      <th>Name</th>\n",
       "      <th>Math_S</th>\n",
       "      <th>Avg_S</th>\n",
       "    </tr>\n",
       "  </thead>\n",
       "  <tbody>\n",
       "    <tr>\n",
       "      <th>0</th>\n",
       "      <td>Yeonhi</td>\n",
       "      <td>Haena</td>\n",
       "      <td>92</td>\n",
       "      <td>81.000000</td>\n",
       "    </tr>\n",
       "    <tr>\n",
       "      <th>1</th>\n",
       "      <td>Yeonhi</td>\n",
       "      <td>Gisu</td>\n",
       "      <td>70</td>\n",
       "      <td>81.000000</td>\n",
       "    </tr>\n",
       "    <tr>\n",
       "      <th>2</th>\n",
       "      <td>Sungsan</td>\n",
       "      <td>Una</td>\n",
       "      <td>88</td>\n",
       "      <td>83.333333</td>\n",
       "    </tr>\n",
       "    <tr>\n",
       "      <th>3</th>\n",
       "      <td>Sungsan</td>\n",
       "      <td>Naeun</td>\n",
       "      <td>92</td>\n",
       "      <td>83.333333</td>\n",
       "    </tr>\n",
       "    <tr>\n",
       "      <th>4</th>\n",
       "      <td>Sungsan</td>\n",
       "      <td>Ziho</td>\n",
       "      <td>70</td>\n",
       "      <td>83.333333</td>\n",
       "    </tr>\n",
       "  </tbody>\n",
       "</table>\n",
       "</div>"
      ],
      "text/plain": [
       "    School   Name  Math_S      Avg_S\n",
       "0   Yeonhi  Haena      92  81.000000\n",
       "1   Yeonhi   Gisu      70  81.000000\n",
       "2  Sungsan    Una      88  83.333333\n",
       "3  Sungsan  Naeun      92  83.333333\n",
       "4  Sungsan   Ziho      70  83.333333"
      ]
     },
     "execution_count": 58,
     "metadata": {},
     "output_type": "execute_result"
    }
   ],
   "source": [
    "df1 = df.merge(avg_score)\n",
    "df1"
   ]
  },
  {
   "cell_type": "code",
   "execution_count": 59,
   "id": "4fe76e40-6fbb-4d69-adef-3a1b82747044",
   "metadata": {
    "tags": []
   },
   "outputs": [
    {
     "data": {
      "text/html": [
       "<div>\n",
       "<style scoped>\n",
       "    .dataframe tbody tr th:only-of-type {\n",
       "        vertical-align: middle;\n",
       "    }\n",
       "\n",
       "    .dataframe tbody tr th {\n",
       "        vertical-align: top;\n",
       "    }\n",
       "\n",
       "    .dataframe thead th {\n",
       "        text-align: right;\n",
       "    }\n",
       "</style>\n",
       "<table border=\"1\" class=\"dataframe\">\n",
       "  <thead>\n",
       "    <tr style=\"text-align: right;\">\n",
       "      <th></th>\n",
       "      <th>School</th>\n",
       "      <th>Name</th>\n",
       "      <th>Math_S</th>\n",
       "      <th>Rating_S</th>\n",
       "    </tr>\n",
       "  </thead>\n",
       "  <tbody>\n",
       "    <tr>\n",
       "      <th>0</th>\n",
       "      <td>Yeonhi</td>\n",
       "      <td>Haena</td>\n",
       "      <td>92</td>\n",
       "      <td>0.92</td>\n",
       "    </tr>\n",
       "    <tr>\n",
       "      <th>1</th>\n",
       "      <td>Yeonhi</td>\n",
       "      <td>Gisu</td>\n",
       "      <td>70</td>\n",
       "      <td>0.70</td>\n",
       "    </tr>\n",
       "    <tr>\n",
       "      <th>2</th>\n",
       "      <td>Sungsan</td>\n",
       "      <td>Una</td>\n",
       "      <td>88</td>\n",
       "      <td>0.88</td>\n",
       "    </tr>\n",
       "    <tr>\n",
       "      <th>3</th>\n",
       "      <td>Sungsan</td>\n",
       "      <td>Naeun</td>\n",
       "      <td>92</td>\n",
       "      <td>0.92</td>\n",
       "    </tr>\n",
       "    <tr>\n",
       "      <th>4</th>\n",
       "      <td>Sungsan</td>\n",
       "      <td>Ziho</td>\n",
       "      <td>70</td>\n",
       "      <td>0.70</td>\n",
       "    </tr>\n",
       "  </tbody>\n",
       "</table>\n",
       "</div>"
      ],
      "text/plain": [
       "    School   Name  Math_S  Rating_S\n",
       "0   Yeonhi  Haena      92      0.92\n",
       "1   Yeonhi   Gisu      70      0.70\n",
       "2  Sungsan    Una      88      0.88\n",
       "3  Sungsan  Naeun      92      0.92\n",
       "4  Sungsan   Ziho      70      0.70"
      ]
     },
     "execution_count": 59,
     "metadata": {},
     "output_type": "execute_result"
    }
   ],
   "source": [
    "df['Rating_S'] = df['Math_S'].apply(lambda x: x/100)\n",
    "df"
   ]
  },
  {
   "cell_type": "code",
   "execution_count": 60,
   "id": "d9948a2c-0c1e-4c91-ad65-d1dc97db7d5d",
   "metadata": {
    "tags": []
   },
   "outputs": [],
   "source": [
    "math_score = df['Math_S']"
   ]
  },
  {
   "cell_type": "code",
   "execution_count": 61,
   "id": "6d8e87bb-ad5a-45a3-86ed-a93ed404b32c",
   "metadata": {
    "tags": []
   },
   "outputs": [
    {
     "data": {
      "text/plain": [
       "['A', 'F', 'B', 'A', 'F']"
      ]
     },
     "execution_count": 61,
     "metadata": {},
     "output_type": "execute_result"
    }
   ],
   "source": [
    "grade = []\n",
    "for x in math_score:\n",
    "    if x>90:\n",
    "        grade = grade + ['A']\n",
    "    elif x>80:\n",
    "        grade = grade + ['B']\n",
    "    elif x>70:\n",
    "        grade = grade + ['C']\n",
    "    else:\n",
    "        grade = grade + ['F']\n",
    "grade   "
   ]
  },
  {
   "cell_type": "code",
   "execution_count": 62,
   "id": "62bb952d-bf46-4546-bcb7-33f051f0cbff",
   "metadata": {
    "tags": []
   },
   "outputs": [],
   "source": [
    "df['Grade'] = grade"
   ]
  },
  {
   "cell_type": "code",
   "execution_count": 63,
   "id": "5b1fa001-9663-4015-bfc5-6f022beaf4c1",
   "metadata": {
    "tags": []
   },
   "outputs": [
    {
     "data": {
      "text/html": [
       "<div>\n",
       "<style scoped>\n",
       "    .dataframe tbody tr th:only-of-type {\n",
       "        vertical-align: middle;\n",
       "    }\n",
       "\n",
       "    .dataframe tbody tr th {\n",
       "        vertical-align: top;\n",
       "    }\n",
       "\n",
       "    .dataframe thead th {\n",
       "        text-align: right;\n",
       "    }\n",
       "</style>\n",
       "<table border=\"1\" class=\"dataframe\">\n",
       "  <thead>\n",
       "    <tr style=\"text-align: right;\">\n",
       "      <th></th>\n",
       "      <th>School</th>\n",
       "      <th>Name</th>\n",
       "      <th>Math_S</th>\n",
       "      <th>Rating_S</th>\n",
       "      <th>Grade</th>\n",
       "    </tr>\n",
       "  </thead>\n",
       "  <tbody>\n",
       "    <tr>\n",
       "      <th>0</th>\n",
       "      <td>Yeonhi</td>\n",
       "      <td>Haena</td>\n",
       "      <td>92</td>\n",
       "      <td>0.92</td>\n",
       "      <td>A</td>\n",
       "    </tr>\n",
       "    <tr>\n",
       "      <th>1</th>\n",
       "      <td>Yeonhi</td>\n",
       "      <td>Gisu</td>\n",
       "      <td>70</td>\n",
       "      <td>0.70</td>\n",
       "      <td>F</td>\n",
       "    </tr>\n",
       "    <tr>\n",
       "      <th>2</th>\n",
       "      <td>Sungsan</td>\n",
       "      <td>Una</td>\n",
       "      <td>88</td>\n",
       "      <td>0.88</td>\n",
       "      <td>B</td>\n",
       "    </tr>\n",
       "    <tr>\n",
       "      <th>3</th>\n",
       "      <td>Sungsan</td>\n",
       "      <td>Naeun</td>\n",
       "      <td>92</td>\n",
       "      <td>0.92</td>\n",
       "      <td>A</td>\n",
       "    </tr>\n",
       "    <tr>\n",
       "      <th>4</th>\n",
       "      <td>Sungsan</td>\n",
       "      <td>Ziho</td>\n",
       "      <td>70</td>\n",
       "      <td>0.70</td>\n",
       "      <td>F</td>\n",
       "    </tr>\n",
       "  </tbody>\n",
       "</table>\n",
       "</div>"
      ],
      "text/plain": [
       "    School   Name  Math_S  Rating_S Grade\n",
       "0   Yeonhi  Haena      92      0.92     A\n",
       "1   Yeonhi   Gisu      70      0.70     F\n",
       "2  Sungsan    Una      88      0.88     B\n",
       "3  Sungsan  Naeun      92      0.92     A\n",
       "4  Sungsan   Ziho      70      0.70     F"
      ]
     },
     "execution_count": 63,
     "metadata": {},
     "output_type": "execute_result"
    }
   ],
   "source": [
    "df"
   ]
  },
  {
   "cell_type": "code",
   "execution_count": 64,
   "id": "6433a56c-0f1c-4dfd-af18-5a0e9ee7767e",
   "metadata": {
    "tags": []
   },
   "outputs": [
    {
     "data": {
      "text/html": [
       "<div>\n",
       "<style scoped>\n",
       "    .dataframe tbody tr th:only-of-type {\n",
       "        vertical-align: middle;\n",
       "    }\n",
       "\n",
       "    .dataframe tbody tr th {\n",
       "        vertical-align: top;\n",
       "    }\n",
       "\n",
       "    .dataframe thead th {\n",
       "        text-align: right;\n",
       "    }\n",
       "</style>\n",
       "<table border=\"1\" class=\"dataframe\">\n",
       "  <thead>\n",
       "    <tr style=\"text-align: right;\">\n",
       "      <th></th>\n",
       "      <th>School</th>\n",
       "      <th>Name</th>\n",
       "      <th>Math_S</th>\n",
       "      <th>Rating_S</th>\n",
       "      <th>Grade</th>\n",
       "      <th>Avg_S</th>\n",
       "    </tr>\n",
       "  </thead>\n",
       "  <tbody>\n",
       "    <tr>\n",
       "      <th>0</th>\n",
       "      <td>Yeonhi</td>\n",
       "      <td>Haena</td>\n",
       "      <td>92</td>\n",
       "      <td>0.92</td>\n",
       "      <td>A</td>\n",
       "      <td>81.000000</td>\n",
       "    </tr>\n",
       "    <tr>\n",
       "      <th>1</th>\n",
       "      <td>Yeonhi</td>\n",
       "      <td>Gisu</td>\n",
       "      <td>70</td>\n",
       "      <td>0.70</td>\n",
       "      <td>F</td>\n",
       "      <td>81.000000</td>\n",
       "    </tr>\n",
       "    <tr>\n",
       "      <th>2</th>\n",
       "      <td>Sungsan</td>\n",
       "      <td>Una</td>\n",
       "      <td>88</td>\n",
       "      <td>0.88</td>\n",
       "      <td>B</td>\n",
       "      <td>83.333333</td>\n",
       "    </tr>\n",
       "    <tr>\n",
       "      <th>3</th>\n",
       "      <td>Sungsan</td>\n",
       "      <td>Naeun</td>\n",
       "      <td>92</td>\n",
       "      <td>0.92</td>\n",
       "      <td>A</td>\n",
       "      <td>83.333333</td>\n",
       "    </tr>\n",
       "    <tr>\n",
       "      <th>4</th>\n",
       "      <td>Sungsan</td>\n",
       "      <td>Ziho</td>\n",
       "      <td>70</td>\n",
       "      <td>0.70</td>\n",
       "      <td>F</td>\n",
       "      <td>83.333333</td>\n",
       "    </tr>\n",
       "  </tbody>\n",
       "</table>\n",
       "</div>"
      ],
      "text/plain": [
       "    School   Name  Math_S  Rating_S Grade      Avg_S\n",
       "0   Yeonhi  Haena      92      0.92     A  81.000000\n",
       "1   Yeonhi   Gisu      70      0.70     F  81.000000\n",
       "2  Sungsan    Una      88      0.88     B  83.333333\n",
       "3  Sungsan  Naeun      92      0.92     A  83.333333\n",
       "4  Sungsan   Ziho      70      0.70     F  83.333333"
      ]
     },
     "execution_count": 64,
     "metadata": {},
     "output_type": "execute_result"
    }
   ],
   "source": [
    "df['Avg_S'] = df.groupby('School')['Math_S'].transform('mean')\n",
    "df"
   ]
  },
  {
   "cell_type": "code",
   "execution_count": 65,
   "id": "5bb9eb2c-727a-452d-a954-83237dbe3ce0",
   "metadata": {
    "tags": []
   },
   "outputs": [
    {
     "data": {
      "text/html": [
       "<div>\n",
       "<style scoped>\n",
       "    .dataframe tbody tr th:only-of-type {\n",
       "        vertical-align: middle;\n",
       "    }\n",
       "\n",
       "    .dataframe tbody tr th {\n",
       "        vertical-align: top;\n",
       "    }\n",
       "\n",
       "    .dataframe thead th {\n",
       "        text-align: right;\n",
       "    }\n",
       "</style>\n",
       "<table border=\"1\" class=\"dataframe\">\n",
       "  <thead>\n",
       "    <tr style=\"text-align: right;\">\n",
       "      <th></th>\n",
       "      <th>School</th>\n",
       "      <th>Name</th>\n",
       "      <th>Math_S</th>\n",
       "      <th>Rating_S</th>\n",
       "      <th>Grade</th>\n",
       "      <th>Avg_S</th>\n",
       "      <th>Above_Avg</th>\n",
       "    </tr>\n",
       "  </thead>\n",
       "  <tbody>\n",
       "    <tr>\n",
       "      <th>0</th>\n",
       "      <td>Yeonhi</td>\n",
       "      <td>Haena</td>\n",
       "      <td>92</td>\n",
       "      <td>0.92</td>\n",
       "      <td>A</td>\n",
       "      <td>81.000000</td>\n",
       "      <td>True</td>\n",
       "    </tr>\n",
       "    <tr>\n",
       "      <th>1</th>\n",
       "      <td>Yeonhi</td>\n",
       "      <td>Gisu</td>\n",
       "      <td>70</td>\n",
       "      <td>0.70</td>\n",
       "      <td>F</td>\n",
       "      <td>81.000000</td>\n",
       "      <td>False</td>\n",
       "    </tr>\n",
       "    <tr>\n",
       "      <th>2</th>\n",
       "      <td>Sungsan</td>\n",
       "      <td>Una</td>\n",
       "      <td>88</td>\n",
       "      <td>0.88</td>\n",
       "      <td>B</td>\n",
       "      <td>83.333333</td>\n",
       "      <td>True</td>\n",
       "    </tr>\n",
       "    <tr>\n",
       "      <th>3</th>\n",
       "      <td>Sungsan</td>\n",
       "      <td>Naeun</td>\n",
       "      <td>92</td>\n",
       "      <td>0.92</td>\n",
       "      <td>A</td>\n",
       "      <td>83.333333</td>\n",
       "      <td>True</td>\n",
       "    </tr>\n",
       "    <tr>\n",
       "      <th>4</th>\n",
       "      <td>Sungsan</td>\n",
       "      <td>Ziho</td>\n",
       "      <td>70</td>\n",
       "      <td>0.70</td>\n",
       "      <td>F</td>\n",
       "      <td>83.333333</td>\n",
       "      <td>False</td>\n",
       "    </tr>\n",
       "  </tbody>\n",
       "</table>\n",
       "</div>"
      ],
      "text/plain": [
       "    School   Name  Math_S  Rating_S Grade      Avg_S  Above_Avg\n",
       "0   Yeonhi  Haena      92      0.92     A  81.000000       True\n",
       "1   Yeonhi   Gisu      70      0.70     F  81.000000      False\n",
       "2  Sungsan    Una      88      0.88     B  83.333333       True\n",
       "3  Sungsan  Naeun      92      0.92     A  83.333333       True\n",
       "4  Sungsan   Ziho      70      0.70     F  83.333333      False"
      ]
     },
     "execution_count": 65,
     "metadata": {},
     "output_type": "execute_result"
    }
   ],
   "source": [
    "df['Above_Avg'] = df['Avg_S'] < df['Math_S']\n",
    "df"
   ]
  },
  {
   "cell_type": "code",
   "execution_count": null,
   "id": "be0c4562-0e3c-4169-9d3c-4f3084e10d7e",
   "metadata": {},
   "outputs": [],
   "source": [
    "# apply() 메소드 적용"
   ]
  },
  {
   "cell_type": "code",
   "execution_count": 69,
   "id": "8cb6cdcd-b1eb-4553-9555-82f948865950",
   "metadata": {
    "tags": []
   },
   "outputs": [
    {
     "data": {
      "text/html": [
       "<div>\n",
       "<style scoped>\n",
       "    .dataframe tbody tr th:only-of-type {\n",
       "        vertical-align: middle;\n",
       "    }\n",
       "\n",
       "    .dataframe tbody tr th {\n",
       "        vertical-align: top;\n",
       "    }\n",
       "\n",
       "    .dataframe thead th {\n",
       "        text-align: right;\n",
       "    }\n",
       "</style>\n",
       "<table border=\"1\" class=\"dataframe\">\n",
       "  <thead>\n",
       "    <tr style=\"text-align: right;\">\n",
       "      <th></th>\n",
       "      <th>School</th>\n",
       "      <th>Name</th>\n",
       "      <th>Math_S</th>\n",
       "      <th>Rating_S</th>\n",
       "      <th>Grade</th>\n",
       "      <th>Avg_S</th>\n",
       "      <th>Above_Avg</th>\n",
       "    </tr>\n",
       "  </thead>\n",
       "  <tbody>\n",
       "    <tr>\n",
       "      <th>1</th>\n",
       "      <td>Yeonhi</td>\n",
       "      <td>Gisu</td>\n",
       "      <td>70</td>\n",
       "      <td>0.70</td>\n",
       "      <td>F</td>\n",
       "      <td>81.000000</td>\n",
       "      <td>False</td>\n",
       "    </tr>\n",
       "    <tr>\n",
       "      <th>4</th>\n",
       "      <td>Sungsan</td>\n",
       "      <td>Ziho</td>\n",
       "      <td>70</td>\n",
       "      <td>0.70</td>\n",
       "      <td>F</td>\n",
       "      <td>83.333333</td>\n",
       "      <td>False</td>\n",
       "    </tr>\n",
       "    <tr>\n",
       "      <th>2</th>\n",
       "      <td>Sungsan</td>\n",
       "      <td>Una</td>\n",
       "      <td>88</td>\n",
       "      <td>0.88</td>\n",
       "      <td>B</td>\n",
       "      <td>83.333333</td>\n",
       "      <td>True</td>\n",
       "    </tr>\n",
       "    <tr>\n",
       "      <th>0</th>\n",
       "      <td>Yeonhi</td>\n",
       "      <td>Haena</td>\n",
       "      <td>92</td>\n",
       "      <td>0.92</td>\n",
       "      <td>A</td>\n",
       "      <td>81.000000</td>\n",
       "      <td>True</td>\n",
       "    </tr>\n",
       "    <tr>\n",
       "      <th>3</th>\n",
       "      <td>Sungsan</td>\n",
       "      <td>Naeun</td>\n",
       "      <td>92</td>\n",
       "      <td>0.92</td>\n",
       "      <td>A</td>\n",
       "      <td>83.333333</td>\n",
       "      <td>True</td>\n",
       "    </tr>\n",
       "  </tbody>\n",
       "</table>\n",
       "</div>"
      ],
      "text/plain": [
       "    School   Name  Math_S  Rating_S Grade      Avg_S  Above_Avg\n",
       "1   Yeonhi   Gisu      70      0.70     F  81.000000      False\n",
       "4  Sungsan   Ziho      70      0.70     F  83.333333      False\n",
       "2  Sungsan    Una      88      0.88     B  83.333333       True\n",
       "0   Yeonhi  Haena      92      0.92     A  81.000000       True\n",
       "3  Sungsan  Naeun      92      0.92     A  83.333333       True"
      ]
     },
     "execution_count": 69,
     "metadata": {},
     "output_type": "execute_result"
    }
   ],
   "source": [
    "def sort_math(dfs, n=3, column='Math_S'):\n",
    "    return dfs.sort_values(by=column)[:n]\n",
    "\n",
    "sort_math(df, n=5)"
   ]
  },
  {
   "cell_type": "code",
   "execution_count": 70,
   "id": "bb97ad4b-588e-4839-b6ad-8e3d454ddfc2",
   "metadata": {
    "tags": []
   },
   "outputs": [
    {
     "data": {
      "text/html": [
       "<div>\n",
       "<style scoped>\n",
       "    .dataframe tbody tr th:only-of-type {\n",
       "        vertical-align: middle;\n",
       "    }\n",
       "\n",
       "    .dataframe tbody tr th {\n",
       "        vertical-align: top;\n",
       "    }\n",
       "\n",
       "    .dataframe thead th {\n",
       "        text-align: right;\n",
       "    }\n",
       "</style>\n",
       "<table border=\"1\" class=\"dataframe\">\n",
       "  <thead>\n",
       "    <tr style=\"text-align: right;\">\n",
       "      <th></th>\n",
       "      <th></th>\n",
       "      <th>School</th>\n",
       "      <th>Name</th>\n",
       "      <th>Math_S</th>\n",
       "      <th>Rating_S</th>\n",
       "      <th>Grade</th>\n",
       "      <th>Avg_S</th>\n",
       "      <th>Above_Avg</th>\n",
       "    </tr>\n",
       "    <tr>\n",
       "      <th>School</th>\n",
       "      <th></th>\n",
       "      <th></th>\n",
       "      <th></th>\n",
       "      <th></th>\n",
       "      <th></th>\n",
       "      <th></th>\n",
       "      <th></th>\n",
       "      <th></th>\n",
       "    </tr>\n",
       "  </thead>\n",
       "  <tbody>\n",
       "    <tr>\n",
       "      <th rowspan=\"2\" valign=\"top\">Sungsan</th>\n",
       "      <th>4</th>\n",
       "      <td>Sungsan</td>\n",
       "      <td>Ziho</td>\n",
       "      <td>70</td>\n",
       "      <td>0.70</td>\n",
       "      <td>F</td>\n",
       "      <td>83.333333</td>\n",
       "      <td>False</td>\n",
       "    </tr>\n",
       "    <tr>\n",
       "      <th>2</th>\n",
       "      <td>Sungsan</td>\n",
       "      <td>Una</td>\n",
       "      <td>88</td>\n",
       "      <td>0.88</td>\n",
       "      <td>B</td>\n",
       "      <td>83.333333</td>\n",
       "      <td>True</td>\n",
       "    </tr>\n",
       "    <tr>\n",
       "      <th rowspan=\"2\" valign=\"top\">Yeonhi</th>\n",
       "      <th>1</th>\n",
       "      <td>Yeonhi</td>\n",
       "      <td>Gisu</td>\n",
       "      <td>70</td>\n",
       "      <td>0.70</td>\n",
       "      <td>F</td>\n",
       "      <td>81.000000</td>\n",
       "      <td>False</td>\n",
       "    </tr>\n",
       "    <tr>\n",
       "      <th>0</th>\n",
       "      <td>Yeonhi</td>\n",
       "      <td>Haena</td>\n",
       "      <td>92</td>\n",
       "      <td>0.92</td>\n",
       "      <td>A</td>\n",
       "      <td>81.000000</td>\n",
       "      <td>True</td>\n",
       "    </tr>\n",
       "  </tbody>\n",
       "</table>\n",
       "</div>"
      ],
      "text/plain": [
       "            School   Name  Math_S  Rating_S Grade      Avg_S  Above_Avg\n",
       "School                                                                 \n",
       "Sungsan 4  Sungsan   Ziho      70      0.70     F  83.333333      False\n",
       "        2  Sungsan    Una      88      0.88     B  83.333333       True\n",
       "Yeonhi  1   Yeonhi   Gisu      70      0.70     F  81.000000      False\n",
       "        0   Yeonhi  Haena      92      0.92     A  81.000000       True"
      ]
     },
     "execution_count": 70,
     "metadata": {},
     "output_type": "execute_result"
    }
   ],
   "source": [
    "df.groupby('School').apply(sort_math, n=2, column = 'Rating_S')"
   ]
  },
  {
   "cell_type": "code",
   "execution_count": null,
   "id": "f168dde5-87d7-446c-bd04-1427ed444097",
   "metadata": {},
   "outputs": [],
   "source": [
    "# 5.2.4 기타 그룹 연산\n",
    "# 불필요한 부분을 자동으로 제거"
   ]
  },
  {
   "cell_type": "code",
   "execution_count": 71,
   "id": "0974afd7-a81e-44c7-99e6-8c090d2ad50d",
   "metadata": {
    "tags": []
   },
   "outputs": [
    {
     "data": {
      "text/html": [
       "<div>\n",
       "<style scoped>\n",
       "    .dataframe tbody tr th:only-of-type {\n",
       "        vertical-align: middle;\n",
       "    }\n",
       "\n",
       "    .dataframe tbody tr th {\n",
       "        vertical-align: top;\n",
       "    }\n",
       "\n",
       "    .dataframe thead th {\n",
       "        text-align: right;\n",
       "    }\n",
       "</style>\n",
       "<table border=\"1\" class=\"dataframe\">\n",
       "  <thead>\n",
       "    <tr style=\"text-align: right;\">\n",
       "      <th></th>\n",
       "      <th>A</th>\n",
       "      <th>B</th>\n",
       "      <th>Data1</th>\n",
       "      <th>Data2</th>\n",
       "    </tr>\n",
       "  </thead>\n",
       "  <tbody>\n",
       "    <tr>\n",
       "      <th>0</th>\n",
       "      <td>ha</td>\n",
       "      <td>one</td>\n",
       "      <td>-1.060447</td>\n",
       "      <td>1.107626</td>\n",
       "    </tr>\n",
       "    <tr>\n",
       "      <th>1</th>\n",
       "      <td>hi</td>\n",
       "      <td>two</td>\n",
       "      <td>-0.529765</td>\n",
       "      <td>-0.181499</td>\n",
       "    </tr>\n",
       "    <tr>\n",
       "      <th>2</th>\n",
       "      <td>ho</td>\n",
       "      <td>one</td>\n",
       "      <td>-0.781511</td>\n",
       "      <td>1.121199</td>\n",
       "    </tr>\n",
       "    <tr>\n",
       "      <th>3</th>\n",
       "      <td>ha</td>\n",
       "      <td>one</td>\n",
       "      <td>0.110549</td>\n",
       "      <td>-2.331553</td>\n",
       "    </tr>\n",
       "    <tr>\n",
       "      <th>4</th>\n",
       "      <td>ho</td>\n",
       "      <td>two</td>\n",
       "      <td>0.762684</td>\n",
       "      <td>-0.705083</td>\n",
       "    </tr>\n",
       "  </tbody>\n",
       "</table>\n",
       "</div>"
      ],
      "text/plain": [
       "    A    B     Data1     Data2\n",
       "0  ha  one -1.060447  1.107626\n",
       "1  hi  two -0.529765 -0.181499\n",
       "2  ho  one -0.781511  1.121199\n",
       "3  ha  one  0.110549 -2.331553\n",
       "4  ho  two  0.762684 -0.705083"
      ]
     },
     "execution_count": 71,
     "metadata": {},
     "output_type": "execute_result"
    }
   ],
   "source": [
    "df = pd.DataFrame({'A' : ['ha', 'hi', 'ho', 'ha', 'ho'],\n",
    "                   'B' : ['one', 'two', 'one', 'one', 'two'],\n",
    "                   'Data1' : np.random.randn(5),\n",
    "                   'Data2' : np.random.randn(5)})\n",
    "df"
   ]
  },
  {
   "cell_type": "code",
   "execution_count": 72,
   "id": "9849680e-81ed-4a48-a103-0c3fafc448e6",
   "metadata": {
    "tags": []
   },
   "outputs": [
    {
     "name": "stderr",
     "output_type": "stream",
     "text": [
      "/var/folders/cx/r_wdv_3d2q7_cr1m0yrq3dph0000gn/T/ipykernel_1072/3136877984.py:1: FutureWarning: The default value of numeric_only in DataFrameGroupBy.std is deprecated. In a future version, numeric_only will default to False. Either specify numeric_only or select only columns which should be valid for the function.\n",
      "  df.groupby('A').std()\n"
     ]
    },
    {
     "data": {
      "text/html": [
       "<div>\n",
       "<style scoped>\n",
       "    .dataframe tbody tr th:only-of-type {\n",
       "        vertical-align: middle;\n",
       "    }\n",
       "\n",
       "    .dataframe tbody tr th {\n",
       "        vertical-align: top;\n",
       "    }\n",
       "\n",
       "    .dataframe thead th {\n",
       "        text-align: right;\n",
       "    }\n",
       "</style>\n",
       "<table border=\"1\" class=\"dataframe\">\n",
       "  <thead>\n",
       "    <tr style=\"text-align: right;\">\n",
       "      <th></th>\n",
       "      <th>Data1</th>\n",
       "      <th>Data2</th>\n",
       "    </tr>\n",
       "    <tr>\n",
       "      <th>A</th>\n",
       "      <th></th>\n",
       "      <th></th>\n",
       "    </tr>\n",
       "  </thead>\n",
       "  <tbody>\n",
       "    <tr>\n",
       "      <th>ha</th>\n",
       "      <td>0.828019</td>\n",
       "      <td>2.431867</td>\n",
       "    </tr>\n",
       "    <tr>\n",
       "      <th>hi</th>\n",
       "      <td>NaN</td>\n",
       "      <td>NaN</td>\n",
       "    </tr>\n",
       "    <tr>\n",
       "      <th>ho</th>\n",
       "      <td>1.091910</td>\n",
       "      <td>1.291376</td>\n",
       "    </tr>\n",
       "  </tbody>\n",
       "</table>\n",
       "</div>"
      ],
      "text/plain": [
       "       Data1     Data2\n",
       "A                     \n",
       "ha  0.828019  2.431867\n",
       "hi       NaN       NaN\n",
       "ho  1.091910  1.291376"
      ]
     },
     "execution_count": 72,
     "metadata": {},
     "output_type": "execute_result"
    }
   ],
   "source": [
    "df.groupby('A').std()"
   ]
  },
  {
   "cell_type": "code",
   "execution_count": null,
   "id": "1be24fb3-cdaf-4e6d-b810-222b8fecf5c2",
   "metadata": {},
   "outputs": [],
   "source": [
    "# 순서가 정렬된 요소를 그룹화"
   ]
  },
  {
   "cell_type": "code",
   "execution_count": 73,
   "id": "c9b1e9bb-8cd7-463a-bafd-328fd1a4a44a",
   "metadata": {
    "collapsed": true,
    "jupyter": {
     "outputs_hidden": true
    },
    "tags": []
   },
   "outputs": [
    {
     "data": {
      "text/plain": [
       "0     1.612899\n",
       "1     0.634367\n",
       "2    -1.198024\n",
       "3    -0.721350\n",
       "4    -0.193099\n",
       "5    -0.228315\n",
       "6     0.611954\n",
       "7     1.215499\n",
       "8     1.286133\n",
       "9    -0.112937\n",
       "10   -0.663784\n",
       "11    0.321222\n",
       "12    0.793947\n",
       "13   -1.128215\n",
       "14    1.723748\n",
       "15   -0.022494\n",
       "dtype: float64"
      ]
     },
     "execution_count": 73,
     "metadata": {},
     "output_type": "execute_result"
    }
   ],
   "source": [
    "data = pd.Series(np.random.randn(16))\n",
    "data"
   ]
  },
  {
   "cell_type": "code",
   "execution_count": 74,
   "id": "b48162ff-6f53-4d8a-96f6-31f21fa1adcd",
   "metadata": {
    "tags": []
   },
   "outputs": [
    {
     "data": {
      "text/plain": [
       "0                    (0.899, 1.724]\n",
       "1                    (0.149, 0.899]\n",
       "2     (-1.1989999999999998, -0.337]\n",
       "3     (-1.1989999999999998, -0.337]\n",
       "4                   (-0.337, 0.149]\n",
       "5                   (-0.337, 0.149]\n",
       "6                    (0.149, 0.899]\n",
       "7                    (0.899, 1.724]\n",
       "8                    (0.899, 1.724]\n",
       "9                   (-0.337, 0.149]\n",
       "10    (-1.1989999999999998, -0.337]\n",
       "11                   (0.149, 0.899]\n",
       "12                   (0.149, 0.899]\n",
       "13    (-1.1989999999999998, -0.337]\n",
       "14                   (0.899, 1.724]\n",
       "15                  (-0.337, 0.149]\n",
       "dtype: category\n",
       "Categories (4, interval[float64, right]): [(-1.1989999999999998, -0.337] < (-0.337, 0.149] < (0.149, 0.899] < (0.899, 1.724]]"
      ]
     },
     "execution_count": 74,
     "metadata": {},
     "output_type": "execute_result"
    }
   ],
   "source": [
    "factor = pd.qcut(data, [0, .25, .5, .75, 1.])\n",
    "factor"
   ]
  },
  {
   "cell_type": "code",
   "execution_count": 75,
   "id": "50a691ff-9c39-403c-8c22-8c8e210a1ea3",
   "metadata": {
    "tags": []
   },
   "outputs": [
    {
     "data": {
      "text/plain": [
       "(-1.1989999999999998, -0.337]   -0.927843\n",
       "(-0.337, 0.149]                 -0.139211\n",
       "(0.149, 0.899]                   0.590373\n",
       "(0.899, 1.724]                   1.459570\n",
       "dtype: float64"
      ]
     },
     "execution_count": 75,
     "metadata": {},
     "output_type": "execute_result"
    }
   ],
   "source": [
    "data.groupby(factor).mean()"
   ]
  },
  {
   "cell_type": "code",
   "execution_count": null,
   "id": "7a1f4c23-bd15-464a-a004-c691fa4beadd",
   "metadata": {},
   "outputs": [],
   "source": [
    "# 각 그룹의 행 확인하기"
   ]
  },
  {
   "cell_type": "code",
   "execution_count": 32,
   "id": "8bc3b3c3-bcdf-4102-a49d-b071b8e1fb30",
   "metadata": {
    "tags": []
   },
   "outputs": [
    {
     "data": {
      "text/html": [
       "<div>\n",
       "<style scoped>\n",
       "    .dataframe tbody tr th:only-of-type {\n",
       "        vertical-align: middle;\n",
       "    }\n",
       "\n",
       "    .dataframe tbody tr th {\n",
       "        vertical-align: top;\n",
       "    }\n",
       "\n",
       "    .dataframe thead th {\n",
       "        text-align: right;\n",
       "    }\n",
       "</style>\n",
       "<table border=\"1\" class=\"dataframe\">\n",
       "  <thead>\n",
       "    <tr style=\"text-align: right;\">\n",
       "      <th></th>\n",
       "      <th>A</th>\n",
       "      <th>B</th>\n",
       "    </tr>\n",
       "  </thead>\n",
       "  <tbody>\n",
       "    <tr>\n",
       "      <th>0</th>\n",
       "      <td>1</td>\n",
       "      <td>2</td>\n",
       "    </tr>\n",
       "    <tr>\n",
       "      <th>1</th>\n",
       "      <td>1</td>\n",
       "      <td>4</td>\n",
       "    </tr>\n",
       "    <tr>\n",
       "      <th>2</th>\n",
       "      <td>5</td>\n",
       "      <td>6</td>\n",
       "    </tr>\n",
       "    <tr>\n",
       "      <th>3</th>\n",
       "      <td>5</td>\n",
       "      <td>8</td>\n",
       "    </tr>\n",
       "  </tbody>\n",
       "</table>\n",
       "</div>"
      ],
      "text/plain": [
       "   A  B\n",
       "0  1  2\n",
       "1  1  4\n",
       "2  5  6\n",
       "3  5  8"
      ]
     },
     "execution_count": 32,
     "metadata": {},
     "output_type": "execute_result"
    }
   ],
   "source": [
    "df = pd.DataFrame([[1, 2], [1, 4], [5, 6], [5, 8]], columns=['A', 'B'])\n",
    "df"
   ]
  },
  {
   "cell_type": "code",
   "execution_count": 33,
   "id": "53055bd9-1dc5-401f-a36f-c9c2040815f4",
   "metadata": {
    "tags": []
   },
   "outputs": [],
   "source": [
    "gr = df.groupby('A')"
   ]
  },
  {
   "cell_type": "code",
   "execution_count": 34,
   "id": "fc181a3a-f4a5-4b10-93bd-5d540c35853e",
   "metadata": {
    "tags": []
   },
   "outputs": [
    {
     "data": {
      "text/html": [
       "<div>\n",
       "<style scoped>\n",
       "    .dataframe tbody tr th:only-of-type {\n",
       "        vertical-align: middle;\n",
       "    }\n",
       "\n",
       "    .dataframe tbody tr th {\n",
       "        vertical-align: top;\n",
       "    }\n",
       "\n",
       "    .dataframe thead th {\n",
       "        text-align: right;\n",
       "    }\n",
       "</style>\n",
       "<table border=\"1\" class=\"dataframe\">\n",
       "  <thead>\n",
       "    <tr style=\"text-align: right;\">\n",
       "      <th></th>\n",
       "      <th>A</th>\n",
       "      <th>B</th>\n",
       "    </tr>\n",
       "  </thead>\n",
       "  <tbody>\n",
       "    <tr>\n",
       "      <th>0</th>\n",
       "      <td>1</td>\n",
       "      <td>2</td>\n",
       "    </tr>\n",
       "    <tr>\n",
       "      <th>2</th>\n",
       "      <td>5</td>\n",
       "      <td>6</td>\n",
       "    </tr>\n",
       "  </tbody>\n",
       "</table>\n",
       "</div>"
      ],
      "text/plain": [
       "   A  B\n",
       "0  1  2\n",
       "2  5  6"
      ]
     },
     "execution_count": 34,
     "metadata": {},
     "output_type": "execute_result"
    }
   ],
   "source": [
    "gr.head(1)"
   ]
  },
  {
   "cell_type": "code",
   "execution_count": 35,
   "id": "01b8a622-2b4d-4a68-a142-823639fe3587",
   "metadata": {
    "tags": []
   },
   "outputs": [
    {
     "data": {
      "text/html": [
       "<div>\n",
       "<style scoped>\n",
       "    .dataframe tbody tr th:only-of-type {\n",
       "        vertical-align: middle;\n",
       "    }\n",
       "\n",
       "    .dataframe tbody tr th {\n",
       "        vertical-align: top;\n",
       "    }\n",
       "\n",
       "    .dataframe thead th {\n",
       "        text-align: right;\n",
       "    }\n",
       "</style>\n",
       "<table border=\"1\" class=\"dataframe\">\n",
       "  <thead>\n",
       "    <tr style=\"text-align: right;\">\n",
       "      <th></th>\n",
       "      <th>A</th>\n",
       "      <th>B</th>\n",
       "    </tr>\n",
       "  </thead>\n",
       "  <tbody>\n",
       "    <tr>\n",
       "      <th>1</th>\n",
       "      <td>1</td>\n",
       "      <td>4</td>\n",
       "    </tr>\n",
       "    <tr>\n",
       "      <th>3</th>\n",
       "      <td>5</td>\n",
       "      <td>8</td>\n",
       "    </tr>\n",
       "  </tbody>\n",
       "</table>\n",
       "</div>"
      ],
      "text/plain": [
       "   A  B\n",
       "1  1  4\n",
       "3  5  8"
      ]
     },
     "execution_count": 35,
     "metadata": {},
     "output_type": "execute_result"
    }
   ],
   "source": [
    "gr.tail(1)"
   ]
  },
  {
   "cell_type": "code",
   "execution_count": 36,
   "id": "8c9c54e9-7f0d-4419-8812-7516a88ebf48",
   "metadata": {
    "tags": []
   },
   "outputs": [
    {
     "data": {
      "text/html": [
       "<div>\n",
       "<style scoped>\n",
       "    .dataframe tbody tr th:only-of-type {\n",
       "        vertical-align: middle;\n",
       "    }\n",
       "\n",
       "    .dataframe tbody tr th {\n",
       "        vertical-align: top;\n",
       "    }\n",
       "\n",
       "    .dataframe thead th {\n",
       "        text-align: right;\n",
       "    }\n",
       "</style>\n",
       "<table border=\"1\" class=\"dataframe\">\n",
       "  <thead>\n",
       "    <tr style=\"text-align: right;\">\n",
       "      <th></th>\n",
       "      <th>B</th>\n",
       "    </tr>\n",
       "    <tr>\n",
       "      <th>A</th>\n",
       "      <th></th>\n",
       "    </tr>\n",
       "  </thead>\n",
       "  <tbody>\n",
       "    <tr>\n",
       "      <th>1</th>\n",
       "      <td>2</td>\n",
       "    </tr>\n",
       "    <tr>\n",
       "      <th>5</th>\n",
       "      <td>6</td>\n",
       "    </tr>\n",
       "  </tbody>\n",
       "</table>\n",
       "</div>"
      ],
      "text/plain": [
       "   B\n",
       "A   \n",
       "1  2\n",
       "5  6"
      ]
     },
     "execution_count": 36,
     "metadata": {},
     "output_type": "execute_result"
    }
   ],
   "source": [
    "gr.nth(0)"
   ]
  },
  {
   "cell_type": "code",
   "execution_count": 37,
   "id": "362adb5e-735c-4f6b-be3d-b131d351ade9",
   "metadata": {
    "tags": []
   },
   "outputs": [
    {
     "data": {
      "text/html": [
       "<div>\n",
       "<style scoped>\n",
       "    .dataframe tbody tr th:only-of-type {\n",
       "        vertical-align: middle;\n",
       "    }\n",
       "\n",
       "    .dataframe tbody tr th {\n",
       "        vertical-align: top;\n",
       "    }\n",
       "\n",
       "    .dataframe thead th {\n",
       "        text-align: right;\n",
       "    }\n",
       "</style>\n",
       "<table border=\"1\" class=\"dataframe\">\n",
       "  <thead>\n",
       "    <tr style=\"text-align: right;\">\n",
       "      <th></th>\n",
       "      <th>B</th>\n",
       "    </tr>\n",
       "    <tr>\n",
       "      <th>A</th>\n",
       "      <th></th>\n",
       "    </tr>\n",
       "  </thead>\n",
       "  <tbody>\n",
       "    <tr>\n",
       "      <th>1</th>\n",
       "      <td>4</td>\n",
       "    </tr>\n",
       "    <tr>\n",
       "      <th>5</th>\n",
       "      <td>8</td>\n",
       "    </tr>\n",
       "  </tbody>\n",
       "</table>\n",
       "</div>"
      ],
      "text/plain": [
       "   B\n",
       "A   \n",
       "1  4\n",
       "5  8"
      ]
     },
     "execution_count": 37,
     "metadata": {},
     "output_type": "execute_result"
    }
   ],
   "source": [
    "gr.nth(1)"
   ]
  },
  {
   "cell_type": "code",
   "execution_count": 38,
   "id": "a253da8a-70ec-44bd-b65e-d4726b0e5fda",
   "metadata": {
    "tags": []
   },
   "outputs": [
    {
     "data": {
      "text/html": [
       "<div>\n",
       "<style scoped>\n",
       "    .dataframe tbody tr th:only-of-type {\n",
       "        vertical-align: middle;\n",
       "    }\n",
       "\n",
       "    .dataframe tbody tr th {\n",
       "        vertical-align: top;\n",
       "    }\n",
       "\n",
       "    .dataframe thead th {\n",
       "        text-align: right;\n",
       "    }\n",
       "</style>\n",
       "<table border=\"1\" class=\"dataframe\">\n",
       "  <thead>\n",
       "    <tr style=\"text-align: right;\">\n",
       "      <th></th>\n",
       "      <th>B</th>\n",
       "    </tr>\n",
       "    <tr>\n",
       "      <th>A</th>\n",
       "      <th></th>\n",
       "    </tr>\n",
       "  </thead>\n",
       "  <tbody>\n",
       "    <tr>\n",
       "      <th>1</th>\n",
       "      <td>4</td>\n",
       "    </tr>\n",
       "    <tr>\n",
       "      <th>5</th>\n",
       "      <td>8</td>\n",
       "    </tr>\n",
       "  </tbody>\n",
       "</table>\n",
       "</div>"
      ],
      "text/plain": [
       "   B\n",
       "A   \n",
       "1  4\n",
       "5  8"
      ]
     },
     "execution_count": 38,
     "metadata": {},
     "output_type": "execute_result"
    }
   ],
   "source": [
    "gr.nth(-1)"
   ]
  },
  {
   "cell_type": "code",
   "execution_count": 39,
   "id": "ec147554-408c-447c-8822-555e9b271778",
   "metadata": {
    "tags": []
   },
   "outputs": [
    {
     "data": {
      "text/html": [
       "<div>\n",
       "<style scoped>\n",
       "    .dataframe tbody tr th:only-of-type {\n",
       "        vertical-align: middle;\n",
       "    }\n",
       "\n",
       "    .dataframe tbody tr th {\n",
       "        vertical-align: top;\n",
       "    }\n",
       "\n",
       "    .dataframe thead th {\n",
       "        text-align: right;\n",
       "    }\n",
       "</style>\n",
       "<table border=\"1\" class=\"dataframe\">\n",
       "  <thead>\n",
       "    <tr style=\"text-align: right;\">\n",
       "      <th></th>\n",
       "      <th>A</th>\n",
       "      <th>B</th>\n",
       "    </tr>\n",
       "  </thead>\n",
       "  <tbody>\n",
       "    <tr>\n",
       "      <th>0</th>\n",
       "      <td>1</td>\n",
       "      <td>NaN</td>\n",
       "    </tr>\n",
       "    <tr>\n",
       "      <th>1</th>\n",
       "      <td>1</td>\n",
       "      <td>4.0</td>\n",
       "    </tr>\n",
       "    <tr>\n",
       "      <th>2</th>\n",
       "      <td>5</td>\n",
       "      <td>6.0</td>\n",
       "    </tr>\n",
       "    <tr>\n",
       "      <th>3</th>\n",
       "      <td>5</td>\n",
       "      <td>8.0</td>\n",
       "    </tr>\n",
       "  </tbody>\n",
       "</table>\n",
       "</div>"
      ],
      "text/plain": [
       "   A    B\n",
       "0  1  NaN\n",
       "1  1  4.0\n",
       "2  5  6.0\n",
       "3  5  8.0"
      ]
     },
     "execution_count": 39,
     "metadata": {},
     "output_type": "execute_result"
    }
   ],
   "source": [
    "df = pd.DataFrame([[1, np.nan], [1, 4], [5, 6], [5, 8]], columns=['A', 'B'])\n",
    "df"
   ]
  },
  {
   "cell_type": "code",
   "execution_count": 40,
   "id": "6686f6d7-5569-49ab-986b-3e54f2df4ae9",
   "metadata": {
    "tags": []
   },
   "outputs": [],
   "source": [
    "gr = df.groupby('A')"
   ]
  },
  {
   "cell_type": "code",
   "execution_count": 41,
   "id": "f481881c-6310-4bc6-bc35-2b4ac6b28c5f",
   "metadata": {
    "tags": []
   },
   "outputs": [
    {
     "data": {
      "text/html": [
       "<div>\n",
       "<style scoped>\n",
       "    .dataframe tbody tr th:only-of-type {\n",
       "        vertical-align: middle;\n",
       "    }\n",
       "\n",
       "    .dataframe tbody tr th {\n",
       "        vertical-align: top;\n",
       "    }\n",
       "\n",
       "    .dataframe thead th {\n",
       "        text-align: right;\n",
       "    }\n",
       "</style>\n",
       "<table border=\"1\" class=\"dataframe\">\n",
       "  <thead>\n",
       "    <tr style=\"text-align: right;\">\n",
       "      <th></th>\n",
       "      <th>B</th>\n",
       "    </tr>\n",
       "    <tr>\n",
       "      <th>A</th>\n",
       "      <th></th>\n",
       "    </tr>\n",
       "  </thead>\n",
       "  <tbody>\n",
       "    <tr>\n",
       "      <th>1</th>\n",
       "      <td>NaN</td>\n",
       "    </tr>\n",
       "    <tr>\n",
       "      <th>5</th>\n",
       "      <td>6.0</td>\n",
       "    </tr>\n",
       "  </tbody>\n",
       "</table>\n",
       "</div>"
      ],
      "text/plain": [
       "     B\n",
       "A     \n",
       "1  NaN\n",
       "5  6.0"
      ]
     },
     "execution_count": 41,
     "metadata": {},
     "output_type": "execute_result"
    }
   ],
   "source": [
    "gr.nth(0)"
   ]
  },
  {
   "cell_type": "code",
   "execution_count": 42,
   "id": "7e9d30b1-1a29-4a01-ae3a-60a95efa00fa",
   "metadata": {
    "tags": []
   },
   "outputs": [
    {
     "data": {
      "text/html": [
       "<div>\n",
       "<style scoped>\n",
       "    .dataframe tbody tr th:only-of-type {\n",
       "        vertical-align: middle;\n",
       "    }\n",
       "\n",
       "    .dataframe tbody tr th {\n",
       "        vertical-align: top;\n",
       "    }\n",
       "\n",
       "    .dataframe thead th {\n",
       "        text-align: right;\n",
       "    }\n",
       "</style>\n",
       "<table border=\"1\" class=\"dataframe\">\n",
       "  <thead>\n",
       "    <tr style=\"text-align: right;\">\n",
       "      <th></th>\n",
       "      <th>B</th>\n",
       "    </tr>\n",
       "    <tr>\n",
       "      <th>A</th>\n",
       "      <th></th>\n",
       "    </tr>\n",
       "  </thead>\n",
       "  <tbody>\n",
       "    <tr>\n",
       "      <th>1</th>\n",
       "      <td>4.0</td>\n",
       "    </tr>\n",
       "    <tr>\n",
       "      <th>5</th>\n",
       "      <td>6.0</td>\n",
       "    </tr>\n",
       "  </tbody>\n",
       "</table>\n",
       "</div>"
      ],
      "text/plain": [
       "     B\n",
       "A     \n",
       "1  4.0\n",
       "5  6.0"
      ]
     },
     "execution_count": 42,
     "metadata": {},
     "output_type": "execute_result"
    }
   ],
   "source": [
    "gr.nth(0, dropna='any')"
   ]
  },
  {
   "cell_type": "code",
   "execution_count": 43,
   "id": "e9c27d34-a4b8-4834-b351-6158d18e7e93",
   "metadata": {
    "tags": []
   },
   "outputs": [
    {
     "data": {
      "text/html": [
       "<div>\n",
       "<style scoped>\n",
       "    .dataframe tbody tr th:only-of-type {\n",
       "        vertical-align: middle;\n",
       "    }\n",
       "\n",
       "    .dataframe tbody tr th {\n",
       "        vertical-align: top;\n",
       "    }\n",
       "\n",
       "    .dataframe thead th {\n",
       "        text-align: right;\n",
       "    }\n",
       "</style>\n",
       "<table border=\"1\" class=\"dataframe\">\n",
       "  <thead>\n",
       "    <tr style=\"text-align: right;\">\n",
       "      <th></th>\n",
       "      <th>B</th>\n",
       "    </tr>\n",
       "    <tr>\n",
       "      <th>A</th>\n",
       "      <th></th>\n",
       "    </tr>\n",
       "  </thead>\n",
       "  <tbody>\n",
       "    <tr>\n",
       "      <th>1</th>\n",
       "      <td>4.0</td>\n",
       "    </tr>\n",
       "    <tr>\n",
       "      <th>5</th>\n",
       "      <td>6.0</td>\n",
       "    </tr>\n",
       "  </tbody>\n",
       "</table>\n",
       "</div>"
      ],
      "text/plain": [
       "     B\n",
       "A     \n",
       "1  4.0\n",
       "5  6.0"
      ]
     },
     "execution_count": 43,
     "metadata": {},
     "output_type": "execute_result"
    }
   ],
   "source": [
    "gr.first()"
   ]
  },
  {
   "cell_type": "code",
   "execution_count": 44,
   "id": "aec7afe9-36f8-42c9-a6dc-20bad805e16b",
   "metadata": {
    "tags": []
   },
   "outputs": [
    {
     "data": {
      "text/html": [
       "<div>\n",
       "<style scoped>\n",
       "    .dataframe tbody tr th:only-of-type {\n",
       "        vertical-align: middle;\n",
       "    }\n",
       "\n",
       "    .dataframe tbody tr th {\n",
       "        vertical-align: top;\n",
       "    }\n",
       "\n",
       "    .dataframe thead th {\n",
       "        text-align: right;\n",
       "    }\n",
       "</style>\n",
       "<table border=\"1\" class=\"dataframe\">\n",
       "  <thead>\n",
       "    <tr style=\"text-align: right;\">\n",
       "      <th></th>\n",
       "      <th>B</th>\n",
       "    </tr>\n",
       "    <tr>\n",
       "      <th>A</th>\n",
       "      <th></th>\n",
       "    </tr>\n",
       "  </thead>\n",
       "  <tbody>\n",
       "    <tr>\n",
       "      <th>1</th>\n",
       "      <td>4.0</td>\n",
       "    </tr>\n",
       "    <tr>\n",
       "      <th>5</th>\n",
       "      <td>8.0</td>\n",
       "    </tr>\n",
       "  </tbody>\n",
       "</table>\n",
       "</div>"
      ],
      "text/plain": [
       "     B\n",
       "A     \n",
       "1  4.0\n",
       "5  8.0"
      ]
     },
     "execution_count": 44,
     "metadata": {},
     "output_type": "execute_result"
    }
   ],
   "source": [
    "gr.last()"
   ]
  },
  {
   "cell_type": "code",
   "execution_count": 45,
   "id": "92079fe3-1ca5-4384-b538-04e742dbb464",
   "metadata": {
    "tags": []
   },
   "outputs": [
    {
     "data": {
      "text/html": [
       "<div>\n",
       "<style scoped>\n",
       "    .dataframe tbody tr th:only-of-type {\n",
       "        vertical-align: middle;\n",
       "    }\n",
       "\n",
       "    .dataframe tbody tr th {\n",
       "        vertical-align: top;\n",
       "    }\n",
       "\n",
       "    .dataframe thead th {\n",
       "        text-align: right;\n",
       "    }\n",
       "</style>\n",
       "<table border=\"1\" class=\"dataframe\">\n",
       "  <thead>\n",
       "    <tr style=\"text-align: right;\">\n",
       "      <th></th>\n",
       "      <th>A</th>\n",
       "      <th>B</th>\n",
       "    </tr>\n",
       "  </thead>\n",
       "  <tbody>\n",
       "    <tr>\n",
       "      <th>0</th>\n",
       "      <td>1</td>\n",
       "      <td>NaN</td>\n",
       "    </tr>\n",
       "    <tr>\n",
       "      <th>2</th>\n",
       "      <td>5</td>\n",
       "      <td>6.0</td>\n",
       "    </tr>\n",
       "  </tbody>\n",
       "</table>\n",
       "</div>"
      ],
      "text/plain": [
       "   A    B\n",
       "0  1  NaN\n",
       "2  5  6.0"
      ]
     },
     "execution_count": 45,
     "metadata": {},
     "output_type": "execute_result"
    }
   ],
   "source": [
    "gr1 = df.groupby('A', as_index=False)\n",
    "gr1.nth(0)"
   ]
  }
 ],
 "metadata": {
  "kernelspec": {
   "display_name": "Python 3 (ipykernel)",
   "language": "python",
   "name": "python3"
  },
  "language_info": {
   "codemirror_mode": {
    "name": "ipython",
    "version": 3
   },
   "file_extension": ".py",
   "mimetype": "text/x-python",
   "name": "python",
   "nbconvert_exporter": "python",
   "pygments_lexer": "ipython3",
   "version": "3.11.2"
  }
 },
 "nbformat": 4,
 "nbformat_minor": 5
}
