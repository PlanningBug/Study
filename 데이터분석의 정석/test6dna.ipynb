{
 "cells": [
  {
   "cell_type": "code",
   "execution_count": null,
   "id": "5d6dae8f-24b5-49b8-9d6c-09d8203824ed",
   "metadata": {},
   "outputs": [],
   "source": [
    "# 212~236 + 242~243 + 253~257"
   ]
  },
  {
   "cell_type": "code",
   "execution_count": 1,
   "id": "ff170b56-2c1d-47d5-87f8-2e457ac39e33",
   "metadata": {
    "tags": []
   },
   "outputs": [
    {
     "data": {
      "text/html": [
       "<div>\n",
       "<style scoped>\n",
       "    .dataframe tbody tr th:only-of-type {\n",
       "        vertical-align: middle;\n",
       "    }\n",
       "\n",
       "    .dataframe tbody tr th {\n",
       "        vertical-align: top;\n",
       "    }\n",
       "\n",
       "    .dataframe thead th {\n",
       "        text-align: right;\n",
       "    }\n",
       "</style>\n",
       "<table border=\"1\" class=\"dataframe\">\n",
       "  <thead>\n",
       "    <tr style=\"text-align: right;\">\n",
       "      <th></th>\n",
       "      <th>one</th>\n",
       "      <th>two</th>\n",
       "      <th>three</th>\n",
       "      <th>four</th>\n",
       "      <th>five</th>\n",
       "    </tr>\n",
       "  </thead>\n",
       "  <tbody>\n",
       "    <tr>\n",
       "      <th>a</th>\n",
       "      <td>1.5</td>\n",
       "      <td>1.0</td>\n",
       "      <td>-1.1</td>\n",
       "      <td>ha</td>\n",
       "      <td>True</td>\n",
       "    </tr>\n",
       "    <tr>\n",
       "      <th>c</th>\n",
       "      <td>2.2</td>\n",
       "      <td>-1.2</td>\n",
       "      <td>2.0</td>\n",
       "      <td>ha</td>\n",
       "      <td>True</td>\n",
       "    </tr>\n",
       "    <tr>\n",
       "      <th>f</th>\n",
       "      <td>-3.0</td>\n",
       "      <td>5.0</td>\n",
       "      <td>4.0</td>\n",
       "      <td>ha</td>\n",
       "      <td>False</td>\n",
       "    </tr>\n",
       "  </tbody>\n",
       "</table>\n",
       "</div>"
      ],
      "text/plain": [
       "   one  two  three four   five\n",
       "a  1.5  1.0   -1.1   ha   True\n",
       "c  2.2 -1.2    2.0   ha   True\n",
       "f -3.0  5.0    4.0   ha  False"
      ]
     },
     "execution_count": 1,
     "metadata": {},
     "output_type": "execute_result"
    }
   ],
   "source": [
    "# 4.3.3 손실 데이터 처리\n",
    "import pandas as pd\n",
    "import numpy as np\n",
    "\n",
    "d = {'one': [1.5, 2.2, -3.0], 'two': [1.0, -1.2, 5.0], 'three': [-1.1, 2.0, 4.0]}\n",
    "df = pd.DataFrame(d, index=['a', 'c', 'f'])\n",
    "df['four'] = 'ha'\n",
    "df['five'] = df['one'] > 0\n",
    "df"
   ]
  },
  {
   "cell_type": "code",
   "execution_count": 2,
   "id": "a27eaeea-325c-437d-a7e2-26d224056fde",
   "metadata": {
    "tags": []
   },
   "outputs": [
    {
     "data": {
      "text/html": [
       "<div>\n",
       "<style scoped>\n",
       "    .dataframe tbody tr th:only-of-type {\n",
       "        vertical-align: middle;\n",
       "    }\n",
       "\n",
       "    .dataframe tbody tr th {\n",
       "        vertical-align: top;\n",
       "    }\n",
       "\n",
       "    .dataframe thead th {\n",
       "        text-align: right;\n",
       "    }\n",
       "</style>\n",
       "<table border=\"1\" class=\"dataframe\">\n",
       "  <thead>\n",
       "    <tr style=\"text-align: right;\">\n",
       "      <th></th>\n",
       "      <th>one</th>\n",
       "      <th>two</th>\n",
       "      <th>three</th>\n",
       "      <th>four</th>\n",
       "      <th>five</th>\n",
       "    </tr>\n",
       "  </thead>\n",
       "  <tbody>\n",
       "    <tr>\n",
       "      <th>a</th>\n",
       "      <td>1.5</td>\n",
       "      <td>1.0</td>\n",
       "      <td>-1.1</td>\n",
       "      <td>ha</td>\n",
       "      <td>True</td>\n",
       "    </tr>\n",
       "    <tr>\n",
       "      <th>b</th>\n",
       "      <td>NaN</td>\n",
       "      <td>NaN</td>\n",
       "      <td>NaN</td>\n",
       "      <td>NaN</td>\n",
       "      <td>NaN</td>\n",
       "    </tr>\n",
       "    <tr>\n",
       "      <th>c</th>\n",
       "      <td>2.2</td>\n",
       "      <td>-1.2</td>\n",
       "      <td>2.0</td>\n",
       "      <td>ha</td>\n",
       "      <td>True</td>\n",
       "    </tr>\n",
       "    <tr>\n",
       "      <th>d</th>\n",
       "      <td>NaN</td>\n",
       "      <td>NaN</td>\n",
       "      <td>NaN</td>\n",
       "      <td>NaN</td>\n",
       "      <td>NaN</td>\n",
       "    </tr>\n",
       "    <tr>\n",
       "      <th>e</th>\n",
       "      <td>NaN</td>\n",
       "      <td>NaN</td>\n",
       "      <td>NaN</td>\n",
       "      <td>NaN</td>\n",
       "      <td>NaN</td>\n",
       "    </tr>\n",
       "    <tr>\n",
       "      <th>f</th>\n",
       "      <td>-3.0</td>\n",
       "      <td>5.0</td>\n",
       "      <td>4.0</td>\n",
       "      <td>ha</td>\n",
       "      <td>False</td>\n",
       "    </tr>\n",
       "  </tbody>\n",
       "</table>\n",
       "</div>"
      ],
      "text/plain": [
       "   one  two  three four   five\n",
       "a  1.5  1.0   -1.1   ha   True\n",
       "b  NaN  NaN    NaN  NaN    NaN\n",
       "c  2.2 -1.2    2.0   ha   True\n",
       "d  NaN  NaN    NaN  NaN    NaN\n",
       "e  NaN  NaN    NaN  NaN    NaN\n",
       "f -3.0  5.0    4.0   ha  False"
      ]
     },
     "execution_count": 2,
     "metadata": {},
     "output_type": "execute_result"
    }
   ],
   "source": [
    "df1 = df.reindex(['a', 'b', 'c', 'd', 'e', 'f'])\n",
    "df1"
   ]
  },
  {
   "cell_type": "code",
   "execution_count": 3,
   "id": "16947397-e99f-4a2e-a47a-107f3a3eac1c",
   "metadata": {
    "tags": []
   },
   "outputs": [
    {
     "data": {
      "text/plain": [
       "a    1.5\n",
       "b    NaN\n",
       "c    2.2\n",
       "d    NaN\n",
       "e    NaN\n",
       "f   -3.0\n",
       "Name: one, dtype: float64"
      ]
     },
     "execution_count": 3,
     "metadata": {},
     "output_type": "execute_result"
    }
   ],
   "source": [
    "df1['one']"
   ]
  },
  {
   "cell_type": "code",
   "execution_count": 4,
   "id": "52ec1a32-5107-40c2-8d0a-7d9729e2f2ac",
   "metadata": {
    "tags": []
   },
   "outputs": [
    {
     "data": {
      "text/plain": [
       "a    False\n",
       "b     True\n",
       "c    False\n",
       "d     True\n",
       "e     True\n",
       "f    False\n",
       "Name: one, dtype: bool"
      ]
     },
     "execution_count": 4,
     "metadata": {},
     "output_type": "execute_result"
    }
   ],
   "source": [
    "pd.isna(df1['one'])"
   ]
  },
  {
   "cell_type": "code",
   "execution_count": 5,
   "id": "a0c51106-88b0-4d21-84cd-708fb90b163e",
   "metadata": {
    "tags": []
   },
   "outputs": [
    {
     "data": {
      "text/plain": [
       "a     True\n",
       "b    False\n",
       "c     True\n",
       "d    False\n",
       "e    False\n",
       "f     True\n",
       "Name: four, dtype: bool"
      ]
     },
     "execution_count": 5,
     "metadata": {},
     "output_type": "execute_result"
    }
   ],
   "source": [
    "df1['four'].notna()"
   ]
  },
  {
   "cell_type": "code",
   "execution_count": 6,
   "id": "ecb797f0-dc20-49c2-bb9d-0d1e3b85cdfe",
   "metadata": {
    "tags": []
   },
   "outputs": [
    {
     "data": {
      "text/plain": [
       "True"
      ]
     },
     "execution_count": 6,
     "metadata": {},
     "output_type": "execute_result"
    }
   ],
   "source": [
    "None == None"
   ]
  },
  {
   "cell_type": "code",
   "execution_count": 7,
   "id": "0033232d-5309-43b1-b972-15652f76db69",
   "metadata": {
    "tags": []
   },
   "outputs": [
    {
     "data": {
      "text/plain": [
       "False"
      ]
     },
     "execution_count": 7,
     "metadata": {},
     "output_type": "execute_result"
    }
   ],
   "source": [
    "np.nan == np.nan"
   ]
  },
  {
   "cell_type": "code",
   "execution_count": 8,
   "id": "c82cdf84-efa3-40cb-b4b8-d44ddcf1f4ca",
   "metadata": {
    "tags": []
   },
   "outputs": [
    {
     "data": {
      "text/html": [
       "<div>\n",
       "<style scoped>\n",
       "    .dataframe tbody tr th:only-of-type {\n",
       "        vertical-align: middle;\n",
       "    }\n",
       "\n",
       "    .dataframe tbody tr th {\n",
       "        vertical-align: top;\n",
       "    }\n",
       "\n",
       "    .dataframe thead th {\n",
       "        text-align: right;\n",
       "    }\n",
       "</style>\n",
       "<table border=\"1\" class=\"dataframe\">\n",
       "  <thead>\n",
       "    <tr style=\"text-align: right;\">\n",
       "      <th></th>\n",
       "      <th>one</th>\n",
       "      <th>two</th>\n",
       "    </tr>\n",
       "  </thead>\n",
       "  <tbody>\n",
       "    <tr>\n",
       "      <th>a</th>\n",
       "      <td>1.0</td>\n",
       "      <td>4.0</td>\n",
       "    </tr>\n",
       "    <tr>\n",
       "      <th>b</th>\n",
       "      <td>2.0</td>\n",
       "      <td>5.0</td>\n",
       "    </tr>\n",
       "    <tr>\n",
       "      <th>c</th>\n",
       "      <td>3.0</td>\n",
       "      <td>6.0</td>\n",
       "    </tr>\n",
       "  </tbody>\n",
       "</table>\n",
       "</div>"
      ],
      "text/plain": [
       "   one  two\n",
       "a  1.0  4.0\n",
       "b  2.0  5.0\n",
       "c  3.0  6.0"
      ]
     },
     "execution_count": 8,
     "metadata": {},
     "output_type": "execute_result"
    }
   ],
   "source": [
    "# 손실 데이터 계산\n",
    "d1 = {'one': [1.0, 2.0, 3.0], 'two': [4.0, 5.0, 6.0]}\n",
    "df1 = pd.DataFrame(d1, index = ['a', 'b', 'c'])\n",
    "df2 = df1.copy()\n",
    "df2.loc['d'] = np.nan\n",
    "df2['three'] = 2.0\n",
    "df2.iloc[1:2, 1:2] = np.nan\n",
    "df1"
   ]
  },
  {
   "cell_type": "code",
   "execution_count": 9,
   "id": "fdd21c9e-de97-4a39-9418-741e18b96e80",
   "metadata": {
    "tags": []
   },
   "outputs": [
    {
     "data": {
      "text/html": [
       "<div>\n",
       "<style scoped>\n",
       "    .dataframe tbody tr th:only-of-type {\n",
       "        vertical-align: middle;\n",
       "    }\n",
       "\n",
       "    .dataframe tbody tr th {\n",
       "        vertical-align: top;\n",
       "    }\n",
       "\n",
       "    .dataframe thead th {\n",
       "        text-align: right;\n",
       "    }\n",
       "</style>\n",
       "<table border=\"1\" class=\"dataframe\">\n",
       "  <thead>\n",
       "    <tr style=\"text-align: right;\">\n",
       "      <th></th>\n",
       "      <th>one</th>\n",
       "      <th>two</th>\n",
       "      <th>three</th>\n",
       "    </tr>\n",
       "  </thead>\n",
       "  <tbody>\n",
       "    <tr>\n",
       "      <th>a</th>\n",
       "      <td>1.0</td>\n",
       "      <td>4.0</td>\n",
       "      <td>2.0</td>\n",
       "    </tr>\n",
       "    <tr>\n",
       "      <th>b</th>\n",
       "      <td>2.0</td>\n",
       "      <td>NaN</td>\n",
       "      <td>2.0</td>\n",
       "    </tr>\n",
       "    <tr>\n",
       "      <th>c</th>\n",
       "      <td>3.0</td>\n",
       "      <td>6.0</td>\n",
       "      <td>2.0</td>\n",
       "    </tr>\n",
       "    <tr>\n",
       "      <th>d</th>\n",
       "      <td>NaN</td>\n",
       "      <td>NaN</td>\n",
       "      <td>2.0</td>\n",
       "    </tr>\n",
       "  </tbody>\n",
       "</table>\n",
       "</div>"
      ],
      "text/plain": [
       "   one  two  three\n",
       "a  1.0  4.0    2.0\n",
       "b  2.0  NaN    2.0\n",
       "c  3.0  6.0    2.0\n",
       "d  NaN  NaN    2.0"
      ]
     },
     "execution_count": 9,
     "metadata": {},
     "output_type": "execute_result"
    }
   ],
   "source": [
    "df2"
   ]
  },
  {
   "cell_type": "code",
   "execution_count": 10,
   "id": "c60b1d94-f791-4f1c-b8b1-e50d1ce4ab3d",
   "metadata": {
    "tags": []
   },
   "outputs": [
    {
     "data": {
      "text/html": [
       "<div>\n",
       "<style scoped>\n",
       "    .dataframe tbody tr th:only-of-type {\n",
       "        vertical-align: middle;\n",
       "    }\n",
       "\n",
       "    .dataframe tbody tr th {\n",
       "        vertical-align: top;\n",
       "    }\n",
       "\n",
       "    .dataframe thead th {\n",
       "        text-align: right;\n",
       "    }\n",
       "</style>\n",
       "<table border=\"1\" class=\"dataframe\">\n",
       "  <thead>\n",
       "    <tr style=\"text-align: right;\">\n",
       "      <th></th>\n",
       "      <th>one</th>\n",
       "      <th>three</th>\n",
       "      <th>two</th>\n",
       "    </tr>\n",
       "  </thead>\n",
       "  <tbody>\n",
       "    <tr>\n",
       "      <th>a</th>\n",
       "      <td>2.0</td>\n",
       "      <td>NaN</td>\n",
       "      <td>8.0</td>\n",
       "    </tr>\n",
       "    <tr>\n",
       "      <th>b</th>\n",
       "      <td>4.0</td>\n",
       "      <td>NaN</td>\n",
       "      <td>NaN</td>\n",
       "    </tr>\n",
       "    <tr>\n",
       "      <th>c</th>\n",
       "      <td>6.0</td>\n",
       "      <td>NaN</td>\n",
       "      <td>12.0</td>\n",
       "    </tr>\n",
       "    <tr>\n",
       "      <th>d</th>\n",
       "      <td>NaN</td>\n",
       "      <td>NaN</td>\n",
       "      <td>NaN</td>\n",
       "    </tr>\n",
       "  </tbody>\n",
       "</table>\n",
       "</div>"
      ],
      "text/plain": [
       "   one  three   two\n",
       "a  2.0    NaN   8.0\n",
       "b  4.0    NaN   NaN\n",
       "c  6.0    NaN  12.0\n",
       "d  NaN    NaN   NaN"
      ]
     },
     "execution_count": 10,
     "metadata": {},
     "output_type": "execute_result"
    }
   ],
   "source": [
    "df1 + df2"
   ]
  },
  {
   "cell_type": "code",
   "execution_count": 11,
   "id": "f7a67584-1ce2-439b-b73b-db2d35248d9f",
   "metadata": {
    "tags": []
   },
   "outputs": [
    {
     "data": {
      "text/plain": [
       "0.0"
      ]
     },
     "execution_count": 11,
     "metadata": {},
     "output_type": "execute_result"
    }
   ],
   "source": [
    "pd.Series([np.nan]).sum()"
   ]
  },
  {
   "cell_type": "code",
   "execution_count": 12,
   "id": "3803b115-bb7d-4050-b4ab-7b8e820b838f",
   "metadata": {
    "tags": []
   },
   "outputs": [
    {
     "data": {
      "text/plain": [
       "0"
      ]
     },
     "execution_count": 12,
     "metadata": {},
     "output_type": "execute_result"
    }
   ],
   "source": [
    "pd.Series([], dtype=object).sum()"
   ]
  },
  {
   "cell_type": "code",
   "execution_count": 13,
   "id": "dd511dfb-a210-4894-873d-6e6d7c9537cc",
   "metadata": {
    "tags": []
   },
   "outputs": [
    {
     "data": {
      "text/plain": [
       "1.0"
      ]
     },
     "execution_count": 13,
     "metadata": {},
     "output_type": "execute_result"
    }
   ],
   "source": [
    "pd.Series([np.nan]).prod()"
   ]
  },
  {
   "cell_type": "code",
   "execution_count": 14,
   "id": "47ace1e0-54e2-40d0-990d-9ab6137eaed2",
   "metadata": {
    "tags": []
   },
   "outputs": [
    {
     "data": {
      "text/plain": [
       "1"
      ]
     },
     "execution_count": 14,
     "metadata": {},
     "output_type": "execute_result"
    }
   ],
   "source": [
    "pd.Series([], dtype=object).prod()"
   ]
  },
  {
   "cell_type": "code",
   "execution_count": 15,
   "id": "f20e993b-2dee-4538-b5d0-48526d177dee",
   "metadata": {
    "tags": []
   },
   "outputs": [
    {
     "data": {
      "text/html": [
       "<div>\n",
       "<style scoped>\n",
       "    .dataframe tbody tr th:only-of-type {\n",
       "        vertical-align: middle;\n",
       "    }\n",
       "\n",
       "    .dataframe tbody tr th {\n",
       "        vertical-align: top;\n",
       "    }\n",
       "\n",
       "    .dataframe thead th {\n",
       "        text-align: right;\n",
       "    }\n",
       "</style>\n",
       "<table border=\"1\" class=\"dataframe\">\n",
       "  <thead>\n",
       "    <tr style=\"text-align: right;\">\n",
       "      <th></th>\n",
       "      <th>one</th>\n",
       "      <th>two</th>\n",
       "      <th>three</th>\n",
       "    </tr>\n",
       "  </thead>\n",
       "  <tbody>\n",
       "    <tr>\n",
       "      <th>a</th>\n",
       "      <td>1.0</td>\n",
       "      <td>4.0</td>\n",
       "      <td>2.0</td>\n",
       "    </tr>\n",
       "    <tr>\n",
       "      <th>b</th>\n",
       "      <td>2.0</td>\n",
       "      <td>0.0</td>\n",
       "      <td>2.0</td>\n",
       "    </tr>\n",
       "    <tr>\n",
       "      <th>c</th>\n",
       "      <td>3.0</td>\n",
       "      <td>6.0</td>\n",
       "      <td>2.0</td>\n",
       "    </tr>\n",
       "    <tr>\n",
       "      <th>d</th>\n",
       "      <td>0.0</td>\n",
       "      <td>0.0</td>\n",
       "      <td>2.0</td>\n",
       "    </tr>\n",
       "  </tbody>\n",
       "</table>\n",
       "</div>"
      ],
      "text/plain": [
       "   one  two  three\n",
       "a  1.0  4.0    2.0\n",
       "b  2.0  0.0    2.0\n",
       "c  3.0  6.0    2.0\n",
       "d  0.0  0.0    2.0"
      ]
     },
     "execution_count": 15,
     "metadata": {},
     "output_type": "execute_result"
    }
   ],
   "source": [
    "# 손실 데이터 채우기\n",
    "\n",
    "df2.fillna(0)"
   ]
  },
  {
   "cell_type": "code",
   "execution_count": 16,
   "id": "632bdd00-3017-4363-ba85-97acf00c1316",
   "metadata": {
    "tags": []
   },
   "outputs": [
    {
     "data": {
      "text/plain": [
       "a        1.0\n",
       "b        2.0\n",
       "c        3.0\n",
       "d    missing\n",
       "Name: one, dtype: object"
      ]
     },
     "execution_count": 16,
     "metadata": {},
     "output_type": "execute_result"
    }
   ],
   "source": [
    "df2['one'].fillna('missing')"
   ]
  },
  {
   "cell_type": "code",
   "execution_count": 17,
   "id": "a3028809-54fa-412b-980e-f70235424a92",
   "metadata": {
    "tags": []
   },
   "outputs": [
    {
     "data": {
      "text/html": [
       "<div>\n",
       "<style scoped>\n",
       "    .dataframe tbody tr th:only-of-type {\n",
       "        vertical-align: middle;\n",
       "    }\n",
       "\n",
       "    .dataframe tbody tr th {\n",
       "        vertical-align: top;\n",
       "    }\n",
       "\n",
       "    .dataframe thead th {\n",
       "        text-align: right;\n",
       "    }\n",
       "</style>\n",
       "<table border=\"1\" class=\"dataframe\">\n",
       "  <thead>\n",
       "    <tr style=\"text-align: right;\">\n",
       "      <th></th>\n",
       "      <th>one</th>\n",
       "      <th>two</th>\n",
       "      <th>three</th>\n",
       "    </tr>\n",
       "  </thead>\n",
       "  <tbody>\n",
       "    <tr>\n",
       "      <th>a</th>\n",
       "      <td>1.0</td>\n",
       "      <td>4.0</td>\n",
       "      <td>2.0</td>\n",
       "    </tr>\n",
       "    <tr>\n",
       "      <th>b</th>\n",
       "      <td>2.0</td>\n",
       "      <td>NaN</td>\n",
       "      <td>2.0</td>\n",
       "    </tr>\n",
       "    <tr>\n",
       "      <th>c</th>\n",
       "      <td>3.0</td>\n",
       "      <td>6.0</td>\n",
       "      <td>2.0</td>\n",
       "    </tr>\n",
       "    <tr>\n",
       "      <th>d</th>\n",
       "      <td>NaN</td>\n",
       "      <td>NaN</td>\n",
       "      <td>2.0</td>\n",
       "    </tr>\n",
       "  </tbody>\n",
       "</table>\n",
       "</div>"
      ],
      "text/plain": [
       "   one  two  three\n",
       "a  1.0  4.0    2.0\n",
       "b  2.0  NaN    2.0\n",
       "c  3.0  6.0    2.0\n",
       "d  NaN  NaN    2.0"
      ]
     },
     "execution_count": 17,
     "metadata": {},
     "output_type": "execute_result"
    }
   ],
   "source": [
    "df2"
   ]
  },
  {
   "cell_type": "code",
   "execution_count": 18,
   "id": "d8aedae4-96de-4481-b56b-48c23a2d37fa",
   "metadata": {
    "tags": []
   },
   "outputs": [
    {
     "data": {
      "text/html": [
       "<div>\n",
       "<style scoped>\n",
       "    .dataframe tbody tr th:only-of-type {\n",
       "        vertical-align: middle;\n",
       "    }\n",
       "\n",
       "    .dataframe tbody tr th {\n",
       "        vertical-align: top;\n",
       "    }\n",
       "\n",
       "    .dataframe thead th {\n",
       "        text-align: right;\n",
       "    }\n",
       "</style>\n",
       "<table border=\"1\" class=\"dataframe\">\n",
       "  <thead>\n",
       "    <tr style=\"text-align: right;\">\n",
       "      <th></th>\n",
       "      <th>one</th>\n",
       "      <th>two</th>\n",
       "      <th>three</th>\n",
       "    </tr>\n",
       "  </thead>\n",
       "  <tbody>\n",
       "    <tr>\n",
       "      <th>a</th>\n",
       "      <td>1.0</td>\n",
       "      <td>4.0</td>\n",
       "      <td>2.0</td>\n",
       "    </tr>\n",
       "    <tr>\n",
       "      <th>b</th>\n",
       "      <td>2.0</td>\n",
       "      <td>4.0</td>\n",
       "      <td>2.0</td>\n",
       "    </tr>\n",
       "    <tr>\n",
       "      <th>c</th>\n",
       "      <td>3.0</td>\n",
       "      <td>6.0</td>\n",
       "      <td>2.0</td>\n",
       "    </tr>\n",
       "    <tr>\n",
       "      <th>d</th>\n",
       "      <td>3.0</td>\n",
       "      <td>6.0</td>\n",
       "      <td>2.0</td>\n",
       "    </tr>\n",
       "  </tbody>\n",
       "</table>\n",
       "</div>"
      ],
      "text/plain": [
       "   one  two  three\n",
       "a  1.0  4.0    2.0\n",
       "b  2.0  4.0    2.0\n",
       "c  3.0  6.0    2.0\n",
       "d  3.0  6.0    2.0"
      ]
     },
     "execution_count": 18,
     "metadata": {},
     "output_type": "execute_result"
    }
   ],
   "source": [
    "df2.fillna(method='pad')"
   ]
  },
  {
   "cell_type": "code",
   "execution_count": 19,
   "id": "83a31c51-4c60-4016-b9ab-861260a7a273",
   "metadata": {
    "tags": []
   },
   "outputs": [],
   "source": [
    "df2.loc['c', 'three'] = np.nan"
   ]
  },
  {
   "cell_type": "code",
   "execution_count": 20,
   "id": "1a24cb10-f82c-47f2-b083-511aeb326bf8",
   "metadata": {
    "tags": []
   },
   "outputs": [
    {
     "data": {
      "text/html": [
       "<div>\n",
       "<style scoped>\n",
       "    .dataframe tbody tr th:only-of-type {\n",
       "        vertical-align: middle;\n",
       "    }\n",
       "\n",
       "    .dataframe tbody tr th {\n",
       "        vertical-align: top;\n",
       "    }\n",
       "\n",
       "    .dataframe thead th {\n",
       "        text-align: right;\n",
       "    }\n",
       "</style>\n",
       "<table border=\"1\" class=\"dataframe\">\n",
       "  <thead>\n",
       "    <tr style=\"text-align: right;\">\n",
       "      <th></th>\n",
       "      <th>one</th>\n",
       "      <th>two</th>\n",
       "      <th>three</th>\n",
       "    </tr>\n",
       "  </thead>\n",
       "  <tbody>\n",
       "    <tr>\n",
       "      <th>a</th>\n",
       "      <td>1.0</td>\n",
       "      <td>4.0</td>\n",
       "      <td>2.0</td>\n",
       "    </tr>\n",
       "    <tr>\n",
       "      <th>b</th>\n",
       "      <td>2.0</td>\n",
       "      <td>NaN</td>\n",
       "      <td>2.0</td>\n",
       "    </tr>\n",
       "    <tr>\n",
       "      <th>c</th>\n",
       "      <td>3.0</td>\n",
       "      <td>6.0</td>\n",
       "      <td>NaN</td>\n",
       "    </tr>\n",
       "    <tr>\n",
       "      <th>d</th>\n",
       "      <td>NaN</td>\n",
       "      <td>NaN</td>\n",
       "      <td>2.0</td>\n",
       "    </tr>\n",
       "  </tbody>\n",
       "</table>\n",
       "</div>"
      ],
      "text/plain": [
       "   one  two  three\n",
       "a  1.0  4.0    2.0\n",
       "b  2.0  NaN    2.0\n",
       "c  3.0  6.0    NaN\n",
       "d  NaN  NaN    2.0"
      ]
     },
     "execution_count": 20,
     "metadata": {},
     "output_type": "execute_result"
    }
   ],
   "source": [
    "df2"
   ]
  },
  {
   "cell_type": "code",
   "execution_count": 22,
   "id": "8754a3c0-74e2-45ae-8b5c-b76bd3e51d32",
   "metadata": {
    "tags": []
   },
   "outputs": [
    {
     "data": {
      "text/plain": [
       "one      2.0\n",
       "two      5.0\n",
       "three    2.0\n",
       "dtype: float64"
      ]
     },
     "execution_count": 22,
     "metadata": {},
     "output_type": "execute_result"
    }
   ],
   "source": [
    "df2.mean()"
   ]
  },
  {
   "cell_type": "code",
   "execution_count": 23,
   "id": "70bce436-8ea0-4475-b6b8-afe005dee850",
   "metadata": {
    "tags": []
   },
   "outputs": [
    {
     "data": {
      "text/html": [
       "<div>\n",
       "<style scoped>\n",
       "    .dataframe tbody tr th:only-of-type {\n",
       "        vertical-align: middle;\n",
       "    }\n",
       "\n",
       "    .dataframe tbody tr th {\n",
       "        vertical-align: top;\n",
       "    }\n",
       "\n",
       "    .dataframe thead th {\n",
       "        text-align: right;\n",
       "    }\n",
       "</style>\n",
       "<table border=\"1\" class=\"dataframe\">\n",
       "  <thead>\n",
       "    <tr style=\"text-align: right;\">\n",
       "      <th></th>\n",
       "      <th>one</th>\n",
       "      <th>two</th>\n",
       "      <th>three</th>\n",
       "    </tr>\n",
       "  </thead>\n",
       "  <tbody>\n",
       "    <tr>\n",
       "      <th>a</th>\n",
       "      <td>1.0</td>\n",
       "      <td>4.0</td>\n",
       "      <td>2.0</td>\n",
       "    </tr>\n",
       "    <tr>\n",
       "      <th>b</th>\n",
       "      <td>2.0</td>\n",
       "      <td>5.0</td>\n",
       "      <td>2.0</td>\n",
       "    </tr>\n",
       "    <tr>\n",
       "      <th>c</th>\n",
       "      <td>3.0</td>\n",
       "      <td>6.0</td>\n",
       "      <td>2.0</td>\n",
       "    </tr>\n",
       "    <tr>\n",
       "      <th>d</th>\n",
       "      <td>2.0</td>\n",
       "      <td>5.0</td>\n",
       "      <td>2.0</td>\n",
       "    </tr>\n",
       "  </tbody>\n",
       "</table>\n",
       "</div>"
      ],
      "text/plain": [
       "   one  two  three\n",
       "a  1.0  4.0    2.0\n",
       "b  2.0  5.0    2.0\n",
       "c  3.0  6.0    2.0\n",
       "d  2.0  5.0    2.0"
      ]
     },
     "execution_count": 23,
     "metadata": {},
     "output_type": "execute_result"
    }
   ],
   "source": [
    "df2.fillna(df2.mean())"
   ]
  },
  {
   "cell_type": "code",
   "execution_count": 26,
   "id": "972cdddc-7010-485a-93de-4ec91f7b5c76",
   "metadata": {
    "tags": []
   },
   "outputs": [
    {
     "data": {
      "text/html": [
       "<div>\n",
       "<style scoped>\n",
       "    .dataframe tbody tr th:only-of-type {\n",
       "        vertical-align: middle;\n",
       "    }\n",
       "\n",
       "    .dataframe tbody tr th {\n",
       "        vertical-align: top;\n",
       "    }\n",
       "\n",
       "    .dataframe thead th {\n",
       "        text-align: right;\n",
       "    }\n",
       "</style>\n",
       "<table border=\"1\" class=\"dataframe\">\n",
       "  <thead>\n",
       "    <tr style=\"text-align: right;\">\n",
       "      <th></th>\n",
       "      <th>A</th>\n",
       "      <th>B</th>\n",
       "      <th>C</th>\n",
       "      <th>D</th>\n",
       "    </tr>\n",
       "  </thead>\n",
       "  <tbody>\n",
       "    <tr>\n",
       "      <th>0</th>\n",
       "      <td>NaN</td>\n",
       "      <td>2</td>\n",
       "      <td>0.0</td>\n",
       "      <td>NaN</td>\n",
       "    </tr>\n",
       "    <tr>\n",
       "      <th>1</th>\n",
       "      <td>3.0</td>\n",
       "      <td>4</td>\n",
       "      <td>NaN</td>\n",
       "      <td>1.0</td>\n",
       "    </tr>\n",
       "    <tr>\n",
       "      <th>2</th>\n",
       "      <td>NaN</td>\n",
       "      <td>5</td>\n",
       "      <td>NaN</td>\n",
       "      <td>2.0</td>\n",
       "    </tr>\n",
       "    <tr>\n",
       "      <th>3</th>\n",
       "      <td>NaN</td>\n",
       "      <td>1</td>\n",
       "      <td>2.0</td>\n",
       "      <td>3.0</td>\n",
       "    </tr>\n",
       "  </tbody>\n",
       "</table>\n",
       "</div>"
      ],
      "text/plain": [
       "     A  B    C    D\n",
       "0  NaN  2  0.0  NaN\n",
       "1  3.0  4  NaN  1.0\n",
       "2  NaN  5  NaN  2.0\n",
       "3  NaN  1  2.0  3.0"
      ]
     },
     "execution_count": 26,
     "metadata": {},
     "output_type": "execute_result"
    }
   ],
   "source": [
    "df = pd.DataFrame([[np.nan, 2, 0, np.nan], [3, 4, np.nan, 1], [np.nan, 5, np.nan, 2],\n",
    "                   [np.nan, 1, 2, 3]], columns = list('ABCD'))\n",
    "df"
   ]
  },
  {
   "cell_type": "code",
   "execution_count": 27,
   "id": "73d198fc-0f87-4fcb-9afb-5bb3174288dd",
   "metadata": {
    "tags": []
   },
   "outputs": [
    {
     "data": {
      "text/html": [
       "<div>\n",
       "<style scoped>\n",
       "    .dataframe tbody tr th:only-of-type {\n",
       "        vertical-align: middle;\n",
       "    }\n",
       "\n",
       "    .dataframe tbody tr th {\n",
       "        vertical-align: top;\n",
       "    }\n",
       "\n",
       "    .dataframe thead th {\n",
       "        text-align: right;\n",
       "    }\n",
       "</style>\n",
       "<table border=\"1\" class=\"dataframe\">\n",
       "  <thead>\n",
       "    <tr style=\"text-align: right;\">\n",
       "      <th></th>\n",
       "      <th>A</th>\n",
       "      <th>B</th>\n",
       "      <th>C</th>\n",
       "      <th>D</th>\n",
       "    </tr>\n",
       "  </thead>\n",
       "  <tbody>\n",
       "    <tr>\n",
       "      <th>0</th>\n",
       "      <td>0.0</td>\n",
       "      <td>2</td>\n",
       "      <td>0.0</td>\n",
       "      <td>0.0</td>\n",
       "    </tr>\n",
       "    <tr>\n",
       "      <th>1</th>\n",
       "      <td>3.0</td>\n",
       "      <td>4</td>\n",
       "      <td>0.0</td>\n",
       "      <td>1.0</td>\n",
       "    </tr>\n",
       "    <tr>\n",
       "      <th>2</th>\n",
       "      <td>0.0</td>\n",
       "      <td>5</td>\n",
       "      <td>0.0</td>\n",
       "      <td>2.0</td>\n",
       "    </tr>\n",
       "    <tr>\n",
       "      <th>3</th>\n",
       "      <td>0.0</td>\n",
       "      <td>1</td>\n",
       "      <td>2.0</td>\n",
       "      <td>3.0</td>\n",
       "    </tr>\n",
       "  </tbody>\n",
       "</table>\n",
       "</div>"
      ],
      "text/plain": [
       "     A  B    C    D\n",
       "0  0.0  2  0.0  0.0\n",
       "1  3.0  4  0.0  1.0\n",
       "2  0.0  5  0.0  2.0\n",
       "3  0.0  1  2.0  3.0"
      ]
     },
     "execution_count": 27,
     "metadata": {},
     "output_type": "execute_result"
    }
   ],
   "source": [
    "df.fillna(0)"
   ]
  },
  {
   "cell_type": "code",
   "execution_count": 28,
   "id": "b51fd957-0ee4-4fe4-98ac-d8b239988158",
   "metadata": {
    "tags": []
   },
   "outputs": [
    {
     "data": {
      "text/html": [
       "<div>\n",
       "<style scoped>\n",
       "    .dataframe tbody tr th:only-of-type {\n",
       "        vertical-align: middle;\n",
       "    }\n",
       "\n",
       "    .dataframe tbody tr th {\n",
       "        vertical-align: top;\n",
       "    }\n",
       "\n",
       "    .dataframe thead th {\n",
       "        text-align: right;\n",
       "    }\n",
       "</style>\n",
       "<table border=\"1\" class=\"dataframe\">\n",
       "  <thead>\n",
       "    <tr style=\"text-align: right;\">\n",
       "      <th></th>\n",
       "      <th>A</th>\n",
       "      <th>B</th>\n",
       "      <th>C</th>\n",
       "      <th>D</th>\n",
       "    </tr>\n",
       "  </thead>\n",
       "  <tbody>\n",
       "    <tr>\n",
       "      <th>0</th>\n",
       "      <td>NaN</td>\n",
       "      <td>2</td>\n",
       "      <td>0.0</td>\n",
       "      <td>NaN</td>\n",
       "    </tr>\n",
       "    <tr>\n",
       "      <th>1</th>\n",
       "      <td>3.0</td>\n",
       "      <td>4</td>\n",
       "      <td>0.0</td>\n",
       "      <td>1.0</td>\n",
       "    </tr>\n",
       "    <tr>\n",
       "      <th>2</th>\n",
       "      <td>3.0</td>\n",
       "      <td>5</td>\n",
       "      <td>0.0</td>\n",
       "      <td>2.0</td>\n",
       "    </tr>\n",
       "    <tr>\n",
       "      <th>3</th>\n",
       "      <td>3.0</td>\n",
       "      <td>1</td>\n",
       "      <td>2.0</td>\n",
       "      <td>3.0</td>\n",
       "    </tr>\n",
       "  </tbody>\n",
       "</table>\n",
       "</div>"
      ],
      "text/plain": [
       "     A  B    C    D\n",
       "0  NaN  2  0.0  NaN\n",
       "1  3.0  4  0.0  1.0\n",
       "2  3.0  5  0.0  2.0\n",
       "3  3.0  1  2.0  3.0"
      ]
     },
     "execution_count": 28,
     "metadata": {},
     "output_type": "execute_result"
    }
   ],
   "source": [
    "df.fillna(method = 'ffill')"
   ]
  },
  {
   "cell_type": "code",
   "execution_count": 29,
   "id": "97350458-18a1-49ca-b7b5-7263e08c67d4",
   "metadata": {
    "tags": []
   },
   "outputs": [
    {
     "data": {
      "text/html": [
       "<div>\n",
       "<style scoped>\n",
       "    .dataframe tbody tr th:only-of-type {\n",
       "        vertical-align: middle;\n",
       "    }\n",
       "\n",
       "    .dataframe tbody tr th {\n",
       "        vertical-align: top;\n",
       "    }\n",
       "\n",
       "    .dataframe thead th {\n",
       "        text-align: right;\n",
       "    }\n",
       "</style>\n",
       "<table border=\"1\" class=\"dataframe\">\n",
       "  <thead>\n",
       "    <tr style=\"text-align: right;\">\n",
       "      <th></th>\n",
       "      <th>A</th>\n",
       "      <th>B</th>\n",
       "      <th>C</th>\n",
       "      <th>D</th>\n",
       "    </tr>\n",
       "  </thead>\n",
       "  <tbody>\n",
       "    <tr>\n",
       "      <th>0</th>\n",
       "      <td>0.0</td>\n",
       "      <td>2</td>\n",
       "      <td>0.0</td>\n",
       "      <td>3.0</td>\n",
       "    </tr>\n",
       "    <tr>\n",
       "      <th>1</th>\n",
       "      <td>3.0</td>\n",
       "      <td>4</td>\n",
       "      <td>2.0</td>\n",
       "      <td>1.0</td>\n",
       "    </tr>\n",
       "    <tr>\n",
       "      <th>2</th>\n",
       "      <td>0.0</td>\n",
       "      <td>5</td>\n",
       "      <td>2.0</td>\n",
       "      <td>2.0</td>\n",
       "    </tr>\n",
       "    <tr>\n",
       "      <th>3</th>\n",
       "      <td>0.0</td>\n",
       "      <td>1</td>\n",
       "      <td>2.0</td>\n",
       "      <td>3.0</td>\n",
       "    </tr>\n",
       "  </tbody>\n",
       "</table>\n",
       "</div>"
      ],
      "text/plain": [
       "     A  B    C    D\n",
       "0  0.0  2  0.0  3.0\n",
       "1  3.0  4  2.0  1.0\n",
       "2  0.0  5  2.0  2.0\n",
       "3  0.0  1  2.0  3.0"
      ]
     },
     "execution_count": 29,
     "metadata": {},
     "output_type": "execute_result"
    }
   ],
   "source": [
    "val = {'A': 0, 'B': 1, 'C': 2, 'D': 3}\n",
    "df.fillna(value=val)"
   ]
  },
  {
   "cell_type": "code",
   "execution_count": 30,
   "id": "903e7ee8-62ee-400a-934c-0d9380878132",
   "metadata": {
    "tags": []
   },
   "outputs": [
    {
     "data": {
      "text/html": [
       "<div>\n",
       "<style scoped>\n",
       "    .dataframe tbody tr th:only-of-type {\n",
       "        vertical-align: middle;\n",
       "    }\n",
       "\n",
       "    .dataframe tbody tr th {\n",
       "        vertical-align: top;\n",
       "    }\n",
       "\n",
       "    .dataframe thead th {\n",
       "        text-align: right;\n",
       "    }\n",
       "</style>\n",
       "<table border=\"1\" class=\"dataframe\">\n",
       "  <thead>\n",
       "    <tr style=\"text-align: right;\">\n",
       "      <th></th>\n",
       "      <th>A</th>\n",
       "      <th>B</th>\n",
       "      <th>C</th>\n",
       "      <th>D</th>\n",
       "    </tr>\n",
       "  </thead>\n",
       "  <tbody>\n",
       "    <tr>\n",
       "      <th>0</th>\n",
       "      <td>0.0</td>\n",
       "      <td>2</td>\n",
       "      <td>0.0</td>\n",
       "      <td>3.0</td>\n",
       "    </tr>\n",
       "    <tr>\n",
       "      <th>1</th>\n",
       "      <td>3.0</td>\n",
       "      <td>4</td>\n",
       "      <td>2.0</td>\n",
       "      <td>1.0</td>\n",
       "    </tr>\n",
       "    <tr>\n",
       "      <th>2</th>\n",
       "      <td>NaN</td>\n",
       "      <td>5</td>\n",
       "      <td>NaN</td>\n",
       "      <td>2.0</td>\n",
       "    </tr>\n",
       "    <tr>\n",
       "      <th>3</th>\n",
       "      <td>NaN</td>\n",
       "      <td>1</td>\n",
       "      <td>2.0</td>\n",
       "      <td>3.0</td>\n",
       "    </tr>\n",
       "  </tbody>\n",
       "</table>\n",
       "</div>"
      ],
      "text/plain": [
       "     A  B    C    D\n",
       "0  0.0  2  0.0  3.0\n",
       "1  3.0  4  2.0  1.0\n",
       "2  NaN  5  NaN  2.0\n",
       "3  NaN  1  2.0  3.0"
      ]
     },
     "execution_count": 30,
     "metadata": {},
     "output_type": "execute_result"
    }
   ],
   "source": [
    "df.fillna(value=val, limit=1)"
   ]
  },
  {
   "cell_type": "code",
   "execution_count": 31,
   "id": "211cbc95-a2c3-4f8f-821e-a46806532a0d",
   "metadata": {
    "tags": []
   },
   "outputs": [
    {
     "data": {
      "text/html": [
       "<div>\n",
       "<style scoped>\n",
       "    .dataframe tbody tr th:only-of-type {\n",
       "        vertical-align: middle;\n",
       "    }\n",
       "\n",
       "    .dataframe tbody tr th {\n",
       "        vertical-align: top;\n",
       "    }\n",
       "\n",
       "    .dataframe thead th {\n",
       "        text-align: right;\n",
       "    }\n",
       "</style>\n",
       "<table border=\"1\" class=\"dataframe\">\n",
       "  <thead>\n",
       "    <tr style=\"text-align: right;\">\n",
       "      <th></th>\n",
       "      <th>one</th>\n",
       "      <th>two</th>\n",
       "      <th>three</th>\n",
       "    </tr>\n",
       "  </thead>\n",
       "  <tbody>\n",
       "    <tr>\n",
       "      <th>a</th>\n",
       "      <td>1.0</td>\n",
       "      <td>4.0</td>\n",
       "      <td>2.0</td>\n",
       "    </tr>\n",
       "    <tr>\n",
       "      <th>b</th>\n",
       "      <td>2.0</td>\n",
       "      <td>NaN</td>\n",
       "      <td>2.0</td>\n",
       "    </tr>\n",
       "    <tr>\n",
       "      <th>c</th>\n",
       "      <td>3.0</td>\n",
       "      <td>6.0</td>\n",
       "      <td>2.0</td>\n",
       "    </tr>\n",
       "    <tr>\n",
       "      <th>d</th>\n",
       "      <td>NaN</td>\n",
       "      <td>NaN</td>\n",
       "      <td>2.0</td>\n",
       "    </tr>\n",
       "  </tbody>\n",
       "</table>\n",
       "</div>"
      ],
      "text/plain": [
       "   one  two  three\n",
       "a  1.0  4.0    2.0\n",
       "b  2.0  NaN    2.0\n",
       "c  3.0  6.0    2.0\n",
       "d  NaN  NaN    2.0"
      ]
     },
     "execution_count": 31,
     "metadata": {},
     "output_type": "execute_result"
    }
   ],
   "source": [
    "df2.iloc[2:3, 2:3] = 2.0\n",
    "df2"
   ]
  },
  {
   "cell_type": "code",
   "execution_count": 32,
   "id": "44298563-c268-49b2-a777-bbdb354bf091",
   "metadata": {
    "tags": []
   },
   "outputs": [
    {
     "data": {
      "text/html": [
       "<div>\n",
       "<style scoped>\n",
       "    .dataframe tbody tr th:only-of-type {\n",
       "        vertical-align: middle;\n",
       "    }\n",
       "\n",
       "    .dataframe tbody tr th {\n",
       "        vertical-align: top;\n",
       "    }\n",
       "\n",
       "    .dataframe thead th {\n",
       "        text-align: right;\n",
       "    }\n",
       "</style>\n",
       "<table border=\"1\" class=\"dataframe\">\n",
       "  <thead>\n",
       "    <tr style=\"text-align: right;\">\n",
       "      <th></th>\n",
       "      <th>one</th>\n",
       "      <th>two</th>\n",
       "      <th>three</th>\n",
       "    </tr>\n",
       "  </thead>\n",
       "  <tbody>\n",
       "    <tr>\n",
       "      <th>a</th>\n",
       "      <td>1.0</td>\n",
       "      <td>4.0</td>\n",
       "      <td>2.0</td>\n",
       "    </tr>\n",
       "    <tr>\n",
       "      <th>c</th>\n",
       "      <td>3.0</td>\n",
       "      <td>6.0</td>\n",
       "      <td>2.0</td>\n",
       "    </tr>\n",
       "  </tbody>\n",
       "</table>\n",
       "</div>"
      ],
      "text/plain": [
       "   one  two  three\n",
       "a  1.0  4.0    2.0\n",
       "c  3.0  6.0    2.0"
      ]
     },
     "execution_count": 32,
     "metadata": {},
     "output_type": "execute_result"
    }
   ],
   "source": [
    "df2.dropna(axis=0)"
   ]
  },
  {
   "cell_type": "code",
   "execution_count": 33,
   "id": "1f7ca03c-bc1d-4815-b640-0d47ef44bf4a",
   "metadata": {
    "tags": []
   },
   "outputs": [
    {
     "data": {
      "text/html": [
       "<div>\n",
       "<style scoped>\n",
       "    .dataframe tbody tr th:only-of-type {\n",
       "        vertical-align: middle;\n",
       "    }\n",
       "\n",
       "    .dataframe tbody tr th {\n",
       "        vertical-align: top;\n",
       "    }\n",
       "\n",
       "    .dataframe thead th {\n",
       "        text-align: right;\n",
       "    }\n",
       "</style>\n",
       "<table border=\"1\" class=\"dataframe\">\n",
       "  <thead>\n",
       "    <tr style=\"text-align: right;\">\n",
       "      <th></th>\n",
       "      <th>three</th>\n",
       "    </tr>\n",
       "  </thead>\n",
       "  <tbody>\n",
       "    <tr>\n",
       "      <th>a</th>\n",
       "      <td>2.0</td>\n",
       "    </tr>\n",
       "    <tr>\n",
       "      <th>b</th>\n",
       "      <td>2.0</td>\n",
       "    </tr>\n",
       "    <tr>\n",
       "      <th>c</th>\n",
       "      <td>2.0</td>\n",
       "    </tr>\n",
       "    <tr>\n",
       "      <th>d</th>\n",
       "      <td>2.0</td>\n",
       "    </tr>\n",
       "  </tbody>\n",
       "</table>\n",
       "</div>"
      ],
      "text/plain": [
       "   three\n",
       "a    2.0\n",
       "b    2.0\n",
       "c    2.0\n",
       "d    2.0"
      ]
     },
     "execution_count": 33,
     "metadata": {},
     "output_type": "execute_result"
    }
   ],
   "source": [
    "df2.dropna(axis=1)"
   ]
  },
  {
   "cell_type": "code",
   "execution_count": 34,
   "id": "b3c8611d-50ab-46b6-898e-597d10d2d967",
   "metadata": {
    "tags": []
   },
   "outputs": [
    {
     "data": {
      "text/plain": [
       "a    4.0\n",
       "c    6.0\n",
       "Name: two, dtype: float64"
      ]
     },
     "execution_count": 34,
     "metadata": {},
     "output_type": "execute_result"
    }
   ],
   "source": [
    "df2['two'].dropna()"
   ]
  },
  {
   "cell_type": "code",
   "execution_count": 35,
   "id": "0152232c-688b-46db-b4bd-dc9ec00607fb",
   "metadata": {
    "tags": []
   },
   "outputs": [
    {
     "data": {
      "text/html": [
       "<div>\n",
       "<style scoped>\n",
       "    .dataframe tbody tr th:only-of-type {\n",
       "        vertical-align: middle;\n",
       "    }\n",
       "\n",
       "    .dataframe tbody tr th {\n",
       "        vertical-align: top;\n",
       "    }\n",
       "\n",
       "    .dataframe thead th {\n",
       "        text-align: right;\n",
       "    }\n",
       "</style>\n",
       "<table border=\"1\" class=\"dataframe\">\n",
       "  <thead>\n",
       "    <tr style=\"text-align: right;\">\n",
       "      <th></th>\n",
       "      <th>name</th>\n",
       "      <th>hobby</th>\n",
       "      <th>born</th>\n",
       "    </tr>\n",
       "  </thead>\n",
       "  <tbody>\n",
       "    <tr>\n",
       "      <th>0</th>\n",
       "      <td>haena</td>\n",
       "      <td>jogging</td>\n",
       "      <td>NaT</td>\n",
       "    </tr>\n",
       "    <tr>\n",
       "      <th>1</th>\n",
       "      <td>suho</td>\n",
       "      <td>reading</td>\n",
       "      <td>2001-01-01</td>\n",
       "    </tr>\n",
       "    <tr>\n",
       "      <th>2</th>\n",
       "      <td>naeun</td>\n",
       "      <td>NaN</td>\n",
       "      <td>NaT</td>\n",
       "    </tr>\n",
       "  </tbody>\n",
       "</table>\n",
       "</div>"
      ],
      "text/plain": [
       "    name    hobby       born\n",
       "0  haena  jogging        NaT\n",
       "1   suho  reading 2001-01-01\n",
       "2  naeun      NaN        NaT"
      ]
     },
     "execution_count": 35,
     "metadata": {},
     "output_type": "execute_result"
    }
   ],
   "source": [
    "df = pd.DataFrame({'name': ['haena', 'suho', 'naeun'],\n",
    "                   'hobby': ['jogging', 'reading', np.nan],\n",
    "                  'born': [pd.NaT, pd.Timestamp('2001-01-01'), pd.NaT]})\n",
    "df"
   ]
  },
  {
   "cell_type": "code",
   "execution_count": 37,
   "id": "07e72a76-b639-4ad8-b1d5-7d8e6318a1d7",
   "metadata": {
    "tags": []
   },
   "outputs": [
    {
     "data": {
      "text/html": [
       "<div>\n",
       "<style scoped>\n",
       "    .dataframe tbody tr th:only-of-type {\n",
       "        vertical-align: middle;\n",
       "    }\n",
       "\n",
       "    .dataframe tbody tr th {\n",
       "        vertical-align: top;\n",
       "    }\n",
       "\n",
       "    .dataframe thead th {\n",
       "        text-align: right;\n",
       "    }\n",
       "</style>\n",
       "<table border=\"1\" class=\"dataframe\">\n",
       "  <thead>\n",
       "    <tr style=\"text-align: right;\">\n",
       "      <th></th>\n",
       "      <th>name</th>\n",
       "      <th>hobby</th>\n",
       "      <th>born</th>\n",
       "    </tr>\n",
       "  </thead>\n",
       "  <tbody>\n",
       "    <tr>\n",
       "      <th>1</th>\n",
       "      <td>suho</td>\n",
       "      <td>reading</td>\n",
       "      <td>2001-01-01</td>\n",
       "    </tr>\n",
       "  </tbody>\n",
       "</table>\n",
       "</div>"
      ],
      "text/plain": [
       "   name    hobby       born\n",
       "1  suho  reading 2001-01-01"
      ]
     },
     "execution_count": 37,
     "metadata": {},
     "output_type": "execute_result"
    }
   ],
   "source": [
    "df.dropna()"
   ]
  },
  {
   "cell_type": "code",
   "execution_count": 39,
   "id": "f6d6da6b-b41a-45f8-a4f4-c275d1e9b9d3",
   "metadata": {
    "tags": []
   },
   "outputs": [
    {
     "data": {
      "text/html": [
       "<div>\n",
       "<style scoped>\n",
       "    .dataframe tbody tr th:only-of-type {\n",
       "        vertical-align: middle;\n",
       "    }\n",
       "\n",
       "    .dataframe tbody tr th {\n",
       "        vertical-align: top;\n",
       "    }\n",
       "\n",
       "    .dataframe thead th {\n",
       "        text-align: right;\n",
       "    }\n",
       "</style>\n",
       "<table border=\"1\" class=\"dataframe\">\n",
       "  <thead>\n",
       "    <tr style=\"text-align: right;\">\n",
       "      <th></th>\n",
       "      <th>name</th>\n",
       "    </tr>\n",
       "  </thead>\n",
       "  <tbody>\n",
       "    <tr>\n",
       "      <th>0</th>\n",
       "      <td>haena</td>\n",
       "    </tr>\n",
       "    <tr>\n",
       "      <th>1</th>\n",
       "      <td>suho</td>\n",
       "    </tr>\n",
       "    <tr>\n",
       "      <th>2</th>\n",
       "      <td>naeun</td>\n",
       "    </tr>\n",
       "  </tbody>\n",
       "</table>\n",
       "</div>"
      ],
      "text/plain": [
       "    name\n",
       "0  haena\n",
       "1   suho\n",
       "2  naeun"
      ]
     },
     "execution_count": 39,
     "metadata": {},
     "output_type": "execute_result"
    }
   ],
   "source": [
    "df.dropna(axis='columns')"
   ]
  },
  {
   "cell_type": "code",
   "execution_count": 40,
   "id": "1d4ee461-5323-41c7-a86e-67ddbdfd09b1",
   "metadata": {
    "tags": []
   },
   "outputs": [
    {
     "data": {
      "text/html": [
       "<div>\n",
       "<style scoped>\n",
       "    .dataframe tbody tr th:only-of-type {\n",
       "        vertical-align: middle;\n",
       "    }\n",
       "\n",
       "    .dataframe tbody tr th {\n",
       "        vertical-align: top;\n",
       "    }\n",
       "\n",
       "    .dataframe thead th {\n",
       "        text-align: right;\n",
       "    }\n",
       "</style>\n",
       "<table border=\"1\" class=\"dataframe\">\n",
       "  <thead>\n",
       "    <tr style=\"text-align: right;\">\n",
       "      <th></th>\n",
       "      <th>name</th>\n",
       "      <th>hobby</th>\n",
       "      <th>born</th>\n",
       "    </tr>\n",
       "  </thead>\n",
       "  <tbody>\n",
       "    <tr>\n",
       "      <th>0</th>\n",
       "      <td>haena</td>\n",
       "      <td>jogging</td>\n",
       "      <td>NaT</td>\n",
       "    </tr>\n",
       "    <tr>\n",
       "      <th>1</th>\n",
       "      <td>suho</td>\n",
       "      <td>reading</td>\n",
       "      <td>2001-01-01</td>\n",
       "    </tr>\n",
       "    <tr>\n",
       "      <th>2</th>\n",
       "      <td>naeun</td>\n",
       "      <td>NaN</td>\n",
       "      <td>NaT</td>\n",
       "    </tr>\n",
       "  </tbody>\n",
       "</table>\n",
       "</div>"
      ],
      "text/plain": [
       "    name    hobby       born\n",
       "0  haena  jogging        NaT\n",
       "1   suho  reading 2001-01-01\n",
       "2  naeun      NaN        NaT"
      ]
     },
     "execution_count": 40,
     "metadata": {},
     "output_type": "execute_result"
    }
   ],
   "source": [
    "df.dropna(how='all')"
   ]
  },
  {
   "cell_type": "code",
   "execution_count": 41,
   "id": "dcdb0536-037c-4171-ac31-15cab59b2054",
   "metadata": {
    "tags": []
   },
   "outputs": [
    {
     "data": {
      "text/html": [
       "<div>\n",
       "<style scoped>\n",
       "    .dataframe tbody tr th:only-of-type {\n",
       "        vertical-align: middle;\n",
       "    }\n",
       "\n",
       "    .dataframe tbody tr th {\n",
       "        vertical-align: top;\n",
       "    }\n",
       "\n",
       "    .dataframe thead th {\n",
       "        text-align: right;\n",
       "    }\n",
       "</style>\n",
       "<table border=\"1\" class=\"dataframe\">\n",
       "  <thead>\n",
       "    <tr style=\"text-align: right;\">\n",
       "      <th></th>\n",
       "      <th>name</th>\n",
       "      <th>hobby</th>\n",
       "      <th>born</th>\n",
       "    </tr>\n",
       "  </thead>\n",
       "  <tbody>\n",
       "    <tr>\n",
       "      <th>0</th>\n",
       "      <td>haena</td>\n",
       "      <td>jogging</td>\n",
       "      <td>NaT</td>\n",
       "    </tr>\n",
       "    <tr>\n",
       "      <th>1</th>\n",
       "      <td>suho</td>\n",
       "      <td>reading</td>\n",
       "      <td>2001-01-01</td>\n",
       "    </tr>\n",
       "  </tbody>\n",
       "</table>\n",
       "</div>"
      ],
      "text/plain": [
       "    name    hobby       born\n",
       "0  haena  jogging        NaT\n",
       "1   suho  reading 2001-01-01"
      ]
     },
     "execution_count": 41,
     "metadata": {},
     "output_type": "execute_result"
    }
   ],
   "source": [
    "df.dropna(thresh = 2)"
   ]
  },
  {
   "cell_type": "code",
   "execution_count": 42,
   "id": "41150a57-6bf9-41fc-bbab-6b8515eb0bcc",
   "metadata": {
    "tags": []
   },
   "outputs": [
    {
     "data": {
      "text/html": [
       "<div>\n",
       "<style scoped>\n",
       "    .dataframe tbody tr th:only-of-type {\n",
       "        vertical-align: middle;\n",
       "    }\n",
       "\n",
       "    .dataframe tbody tr th {\n",
       "        vertical-align: top;\n",
       "    }\n",
       "\n",
       "    .dataframe thead th {\n",
       "        text-align: right;\n",
       "    }\n",
       "</style>\n",
       "<table border=\"1\" class=\"dataframe\">\n",
       "  <thead>\n",
       "    <tr style=\"text-align: right;\">\n",
       "      <th></th>\n",
       "      <th>name</th>\n",
       "      <th>hobby</th>\n",
       "      <th>born</th>\n",
       "    </tr>\n",
       "  </thead>\n",
       "  <tbody>\n",
       "    <tr>\n",
       "      <th>1</th>\n",
       "      <td>suho</td>\n",
       "      <td>reading</td>\n",
       "      <td>2001-01-01</td>\n",
       "    </tr>\n",
       "  </tbody>\n",
       "</table>\n",
       "</div>"
      ],
      "text/plain": [
       "   name    hobby       born\n",
       "1  suho  reading 2001-01-01"
      ]
     },
     "execution_count": 42,
     "metadata": {},
     "output_type": "execute_result"
    }
   ],
   "source": [
    "df.dropna(subset = ['name', 'born'])"
   ]
  },
  {
   "cell_type": "code",
   "execution_count": 44,
   "id": "9164e90c-655e-4d6e-99fb-68646fb21920",
   "metadata": {
    "tags": []
   },
   "outputs": [
    {
     "data": {
      "text/html": [
       "<div>\n",
       "<style scoped>\n",
       "    .dataframe tbody tr th:only-of-type {\n",
       "        vertical-align: middle;\n",
       "    }\n",
       "\n",
       "    .dataframe tbody tr th {\n",
       "        vertical-align: top;\n",
       "    }\n",
       "\n",
       "    .dataframe thead th {\n",
       "        text-align: right;\n",
       "    }\n",
       "</style>\n",
       "<table border=\"1\" class=\"dataframe\">\n",
       "  <thead>\n",
       "    <tr style=\"text-align: right;\">\n",
       "      <th></th>\n",
       "      <th>name</th>\n",
       "      <th>hobby</th>\n",
       "      <th>born</th>\n",
       "    </tr>\n",
       "  </thead>\n",
       "  <tbody>\n",
       "    <tr>\n",
       "      <th>1</th>\n",
       "      <td>suho</td>\n",
       "      <td>reading</td>\n",
       "      <td>2001-01-01</td>\n",
       "    </tr>\n",
       "  </tbody>\n",
       "</table>\n",
       "</div>"
      ],
      "text/plain": [
       "   name    hobby       born\n",
       "1  suho  reading 2001-01-01"
      ]
     },
     "execution_count": 44,
     "metadata": {},
     "output_type": "execute_result"
    }
   ],
   "source": [
    "df.dropna(inplace = True)\n",
    "df"
   ]
  },
  {
   "cell_type": "code",
   "execution_count": 45,
   "id": "6fd3e7fc-1324-4806-8886-bfa3e2f543b0",
   "metadata": {
    "tags": []
   },
   "outputs": [
    {
     "data": {
      "text/plain": [
       "0    0.0\n",
       "1    NaN\n",
       "2    2.0\n",
       "3    3.0\n",
       "4    5.0\n",
       "dtype: float64"
      ]
     },
     "execution_count": 45,
     "metadata": {},
     "output_type": "execute_result"
    }
   ],
   "source": [
    "ser = pd.Series([0, np.nan, 2, 3, 5])\n",
    "ser"
   ]
  },
  {
   "cell_type": "code",
   "execution_count": 46,
   "id": "04f89a43-a0f8-43aa-aafc-911fc1f78efb",
   "metadata": {
    "tags": []
   },
   "outputs": [
    {
     "data": {
      "text/plain": [
       "0    0.0\n",
       "1    1.0\n",
       "2    2.0\n",
       "3    3.0\n",
       "4    5.0\n",
       "dtype: float64"
      ]
     },
     "execution_count": 46,
     "metadata": {},
     "output_type": "execute_result"
    }
   ],
   "source": [
    "ser.replace(np.nan, 1.0)"
   ]
  },
  {
   "cell_type": "code",
   "execution_count": 49,
   "id": "64dee0b4-3ded-48b9-bed1-5e5e4c912e53",
   "metadata": {
    "tags": []
   },
   "outputs": [
    {
     "data": {
      "text/plain": [
       "0    0.0\n",
       "1    1.0\n",
       "2    2.0\n",
       "3    3.0\n",
       "4    4.0\n",
       "dtype: float64"
      ]
     },
     "execution_count": 49,
     "metadata": {},
     "output_type": "execute_result"
    }
   ],
   "source": [
    "ser.replace({np.nan: 1, 5: 4})"
   ]
  },
  {
   "cell_type": "code",
   "execution_count": 50,
   "id": "e04b134c-7ee9-4fd1-8b2f-65213bf5b6e9",
   "metadata": {
    "tags": []
   },
   "outputs": [
    {
     "data": {
      "text/plain": [
       "0    1.0\n",
       "1    NaN\n",
       "2    1.0\n",
       "3    3.0\n",
       "4    5.0\n",
       "dtype: float64"
      ]
     },
     "execution_count": 50,
     "metadata": {},
     "output_type": "execute_result"
    }
   ],
   "source": [
    "ser.replace([0, 2], 1)"
   ]
  },
  {
   "cell_type": "code",
   "execution_count": 51,
   "id": "162ae381-f311-4925-b681-c0159347220f",
   "metadata": {
    "tags": []
   },
   "outputs": [
    {
     "data": {
      "text/plain": [
       "0    0.0\n",
       "1    1.0\n",
       "2    2.0\n",
       "3    3.0\n",
       "4    NaN\n",
       "dtype: float64"
      ]
     },
     "execution_count": 51,
     "metadata": {},
     "output_type": "execute_result"
    }
   ],
   "source": [
    "ser.replace([np.nan, 5], [1, np.nan])"
   ]
  },
  {
   "cell_type": "code",
   "execution_count": 52,
   "id": "d0797810-d7e7-4c7e-866c-fe5fef3c6d3b",
   "metadata": {
    "tags": []
   },
   "outputs": [
    {
     "data": {
      "text/html": [
       "<div>\n",
       "<style scoped>\n",
       "    .dataframe tbody tr th:only-of-type {\n",
       "        vertical-align: middle;\n",
       "    }\n",
       "\n",
       "    .dataframe tbody tr th {\n",
       "        vertical-align: top;\n",
       "    }\n",
       "\n",
       "    .dataframe thead th {\n",
       "        text-align: right;\n",
       "    }\n",
       "</style>\n",
       "<table border=\"1\" class=\"dataframe\">\n",
       "  <thead>\n",
       "    <tr style=\"text-align: right;\">\n",
       "      <th></th>\n",
       "      <th>A</th>\n",
       "      <th>B</th>\n",
       "    </tr>\n",
       "  </thead>\n",
       "  <tbody>\n",
       "    <tr>\n",
       "      <th>0</th>\n",
       "      <td>0.0</td>\n",
       "      <td>10</td>\n",
       "    </tr>\n",
       "    <tr>\n",
       "      <th>1</th>\n",
       "      <td>1.0</td>\n",
       "      <td>4</td>\n",
       "    </tr>\n",
       "    <tr>\n",
       "      <th>2</th>\n",
       "      <td>10.0</td>\n",
       "      <td>5</td>\n",
       "    </tr>\n",
       "  </tbody>\n",
       "</table>\n",
       "</div>"
      ],
      "text/plain": [
       "      A   B\n",
       "0   0.0  10\n",
       "1   1.0   4\n",
       "2  10.0   5"
      ]
     },
     "execution_count": 52,
     "metadata": {},
     "output_type": "execute_result"
    }
   ],
   "source": [
    "df = pd.DataFrame({'A': [0, 1, np.nan], 'B': [3, 4, 5]})\n",
    "df.replace({'A': np.nan, 'B': 3}, 10)"
   ]
  },
  {
   "cell_type": "code",
   "execution_count": 54,
   "id": "022f2cf7-34cb-4fb9-9869-b26bd1f11979",
   "metadata": {
    "tags": []
   },
   "outputs": [
    {
     "data": {
      "text/plain": [
       "[('ha', 'one'),\n",
       " ('ha', 'two'),\n",
       " ('hi', 'one'),\n",
       " ('hi', 'two'),\n",
       " ('ho', 'one'),\n",
       " ('ho', 'two')]"
      ]
     },
     "execution_count": 54,
     "metadata": {},
     "output_type": "execute_result"
    }
   ],
   "source": [
    "# 4.3.4 멀티인덱스\n",
    "\n",
    "li = [['ha', 'ha', 'hi', 'hi', 'ho', 'ho'], ['one', 'two', 'one', 'two', 'one', 'two']]\n",
    "li1 = list(zip(*li))\n",
    "li1"
   ]
  },
  {
   "cell_type": "code",
   "execution_count": 55,
   "id": "af5a4397-608f-4372-af1c-f557795aeb8f",
   "metadata": {
    "tags": []
   },
   "outputs": [
    {
     "data": {
      "text/plain": [
       "MultiIndex([('ha', 'one'),\n",
       "            ('ha', 'two'),\n",
       "            ('hi', 'one'),\n",
       "            ('hi', 'two'),\n",
       "            ('ho', 'one'),\n",
       "            ('ho', 'two')],\n",
       "           names=['1st', '2nd'])"
      ]
     },
     "execution_count": 55,
     "metadata": {},
     "output_type": "execute_result"
    }
   ],
   "source": [
    "ind = pd.MultiIndex.from_tuples(li1, names=['1st', '2nd'])\n",
    "ind"
   ]
  },
  {
   "cell_type": "code",
   "execution_count": 56,
   "id": "a617f44e-a8ff-441a-b016-5c34fa057b6c",
   "metadata": {
    "tags": []
   },
   "outputs": [
    {
     "data": {
      "text/plain": [
       "1st  2nd\n",
       "ha   one    0.084728\n",
       "     two   -0.179387\n",
       "hi   one   -0.324190\n",
       "     two    0.058003\n",
       "ho   one   -2.006291\n",
       "     two    0.266411\n",
       "dtype: float64"
      ]
     },
     "execution_count": 56,
     "metadata": {},
     "output_type": "execute_result"
    }
   ],
   "source": [
    "ser = pd.Series(np.random.randn(6), index=ind)\n",
    "ser"
   ]
  },
  {
   "cell_type": "code",
   "execution_count": 57,
   "id": "1aae4dae-cf6c-4d29-9165-9b7bc10154f9",
   "metadata": {
    "tags": []
   },
   "outputs": [
    {
     "data": {
      "text/plain": [
       "MultiIndex([('ha', 'one'),\n",
       "            ('ha', 'two'),\n",
       "            ('hi', 'one'),\n",
       "            ('hi', 'two'),\n",
       "            ('ho', 'one'),\n",
       "            ('ho', 'two')],\n",
       "           names=['1st', '2nd'])"
      ]
     },
     "execution_count": 57,
     "metadata": {},
     "output_type": "execute_result"
    }
   ],
   "source": [
    "iter = [['ha', 'hi', 'ho'], ['one', 'two']]\n",
    "pd.MultiIndex.from_product(iter, names=['1st', '2nd'])"
   ]
  },
  {
   "cell_type": "code",
   "execution_count": 58,
   "id": "e09df441-d3ad-4cbc-8019-5eec7da9e079",
   "metadata": {
    "tags": []
   },
   "outputs": [
    {
     "data": {
      "text/plain": [
       "MultiIndex([('ha', 'one'),\n",
       "            ('ha', 'two'),\n",
       "            ('ho', 'one'),\n",
       "            ('ho', 'two')],\n",
       "           names=['1st', '2nd'])"
      ]
     },
     "execution_count": 58,
     "metadata": {},
     "output_type": "execute_result"
    }
   ],
   "source": [
    "df = pd.DataFrame([['ha', 'one'], ['ha', 'two'], ['ho', 'one'], ['ho', 'two']],\n",
    "                                                                 columns = ['1st', '2nd'])\n",
    "pd.MultiIndex.from_frame(df)"
   ]
  },
  {
   "cell_type": "code",
   "execution_count": 59,
   "id": "c9cd6a58-0a1e-40b5-96f5-1dac93fe5536",
   "metadata": {
    "tags": []
   },
   "outputs": [
    {
     "data": {
      "text/plain": [
       "ha  one    0.543135\n",
       "    two   -0.602134\n",
       "hi  one   -0.744668\n",
       "    two    1.964872\n",
       "ho  one    1.371068\n",
       "    two   -0.519936\n",
       "dtype: float64"
      ]
     },
     "execution_count": 59,
     "metadata": {},
     "output_type": "execute_result"
    }
   ],
   "source": [
    "arr = [np.array(['ha', 'ha', 'hi', 'hi', 'ho', 'ho']), np.array(['one', 'two', 'one',\n",
    "                                                                 'two', 'one', 'two'])]\n",
    "ser = pd.Series(np.random.randn(6), index=arr)\n",
    "ser"
   ]
  },
  {
   "cell_type": "code",
   "execution_count": 60,
   "id": "81d73a09-eabd-47b1-b44d-fb74d87ce3fa",
   "metadata": {
    "tags": []
   },
   "outputs": [
    {
     "data": {
      "text/html": [
       "<div>\n",
       "<style scoped>\n",
       "    .dataframe tbody tr th:only-of-type {\n",
       "        vertical-align: middle;\n",
       "    }\n",
       "\n",
       "    .dataframe tbody tr th {\n",
       "        vertical-align: top;\n",
       "    }\n",
       "\n",
       "    .dataframe thead th {\n",
       "        text-align: right;\n",
       "    }\n",
       "</style>\n",
       "<table border=\"1\" class=\"dataframe\">\n",
       "  <thead>\n",
       "    <tr style=\"text-align: right;\">\n",
       "      <th></th>\n",
       "      <th></th>\n",
       "      <th>0</th>\n",
       "      <th>1</th>\n",
       "      <th>2</th>\n",
       "    </tr>\n",
       "  </thead>\n",
       "  <tbody>\n",
       "    <tr>\n",
       "      <th rowspan=\"2\" valign=\"top\">ha</th>\n",
       "      <th>one</th>\n",
       "      <td>0.501971</td>\n",
       "      <td>-1.797104</td>\n",
       "      <td>-0.104905</td>\n",
       "    </tr>\n",
       "    <tr>\n",
       "      <th>two</th>\n",
       "      <td>1.526197</td>\n",
       "      <td>-0.329623</td>\n",
       "      <td>0.674479</td>\n",
       "    </tr>\n",
       "    <tr>\n",
       "      <th rowspan=\"2\" valign=\"top\">hi</th>\n",
       "      <th>one</th>\n",
       "      <td>1.051420</td>\n",
       "      <td>-0.755669</td>\n",
       "      <td>-0.992502</td>\n",
       "    </tr>\n",
       "    <tr>\n",
       "      <th>two</th>\n",
       "      <td>-0.152401</td>\n",
       "      <td>-1.853396</td>\n",
       "      <td>0.408253</td>\n",
       "    </tr>\n",
       "    <tr>\n",
       "      <th rowspan=\"2\" valign=\"top\">ho</th>\n",
       "      <th>one</th>\n",
       "      <td>-0.703247</td>\n",
       "      <td>0.913650</td>\n",
       "      <td>0.645162</td>\n",
       "    </tr>\n",
       "    <tr>\n",
       "      <th>two</th>\n",
       "      <td>0.631489</td>\n",
       "      <td>0.707708</td>\n",
       "      <td>-0.627036</td>\n",
       "    </tr>\n",
       "  </tbody>\n",
       "</table>\n",
       "</div>"
      ],
      "text/plain": [
       "               0         1         2\n",
       "ha one  0.501971 -1.797104 -0.104905\n",
       "   two  1.526197 -0.329623  0.674479\n",
       "hi one  1.051420 -0.755669 -0.992502\n",
       "   two -0.152401 -1.853396  0.408253\n",
       "ho one -0.703247  0.913650  0.645162\n",
       "   two  0.631489  0.707708 -0.627036"
      ]
     },
     "execution_count": 60,
     "metadata": {},
     "output_type": "execute_result"
    }
   ],
   "source": [
    "df = pd.DataFrame(np.random.randn(6, 3), index=arr)\n",
    "df"
   ]
  },
  {
   "cell_type": "code",
   "execution_count": 61,
   "id": "d9f42049-ef87-41a4-9e0c-0464f3cfcc0a",
   "metadata": {
    "tags": []
   },
   "outputs": [
    {
     "data": {
      "text/html": [
       "<div>\n",
       "<style scoped>\n",
       "    .dataframe tbody tr th:only-of-type {\n",
       "        vertical-align: middle;\n",
       "    }\n",
       "\n",
       "    .dataframe tbody tr th {\n",
       "        vertical-align: top;\n",
       "    }\n",
       "\n",
       "    .dataframe thead tr th {\n",
       "        text-align: left;\n",
       "    }\n",
       "</style>\n",
       "<table border=\"1\" class=\"dataframe\">\n",
       "  <thead>\n",
       "    <tr>\n",
       "      <th>1st</th>\n",
       "      <th colspan=\"2\" halign=\"left\">ha</th>\n",
       "      <th colspan=\"2\" halign=\"left\">hi</th>\n",
       "      <th colspan=\"2\" halign=\"left\">ho</th>\n",
       "    </tr>\n",
       "    <tr>\n",
       "      <th>2nd</th>\n",
       "      <th>one</th>\n",
       "      <th>two</th>\n",
       "      <th>one</th>\n",
       "      <th>two</th>\n",
       "      <th>one</th>\n",
       "      <th>two</th>\n",
       "    </tr>\n",
       "  </thead>\n",
       "  <tbody>\n",
       "    <tr>\n",
       "      <th>A</th>\n",
       "      <td>0.045153</td>\n",
       "      <td>0.326284</td>\n",
       "      <td>-0.724382</td>\n",
       "      <td>-1.180638</td>\n",
       "      <td>0.880138</td>\n",
       "      <td>1.194827</td>\n",
       "    </tr>\n",
       "    <tr>\n",
       "      <th>B</th>\n",
       "      <td>-1.970692</td>\n",
       "      <td>-0.024067</td>\n",
       "      <td>0.003469</td>\n",
       "      <td>1.264374</td>\n",
       "      <td>1.377679</td>\n",
       "      <td>-1.129651</td>\n",
       "    </tr>\n",
       "    <tr>\n",
       "      <th>C</th>\n",
       "      <td>-0.947458</td>\n",
       "      <td>-0.851646</td>\n",
       "      <td>-0.838114</td>\n",
       "      <td>-1.014734</td>\n",
       "      <td>-1.836602</td>\n",
       "      <td>-0.565644</td>\n",
       "    </tr>\n",
       "  </tbody>\n",
       "</table>\n",
       "</div>"
      ],
      "text/plain": [
       "1st        ha                  hi                  ho          \n",
       "2nd       one       two       one       two       one       two\n",
       "A    0.045153  0.326284 -0.724382 -1.180638  0.880138  1.194827\n",
       "B   -1.970692 -0.024067  0.003469  1.264374  1.377679 -1.129651\n",
       "C   -0.947458 -0.851646 -0.838114 -1.014734 -1.836602 -0.565644"
      ]
     },
     "execution_count": 61,
     "metadata": {},
     "output_type": "execute_result"
    }
   ],
   "source": [
    "df = pd.DataFrame(np.random.randn(3, 6), index = ['A', 'B', 'C'], columns = ind)\n",
    "df"
   ]
  },
  {
   "cell_type": "code",
   "execution_count": 62,
   "id": "41af3825-766b-4459-900e-8737b66f71e3",
   "metadata": {
    "tags": []
   },
   "outputs": [
    {
     "data": {
      "text/html": [
       "<div>\n",
       "<style scoped>\n",
       "    .dataframe tbody tr th:only-of-type {\n",
       "        vertical-align: middle;\n",
       "    }\n",
       "\n",
       "    .dataframe tbody tr th {\n",
       "        vertical-align: top;\n",
       "    }\n",
       "\n",
       "    .dataframe thead th {\n",
       "        text-align: right;\n",
       "    }\n",
       "</style>\n",
       "<table border=\"1\" class=\"dataframe\">\n",
       "  <thead>\n",
       "    <tr style=\"text-align: right;\">\n",
       "      <th>2nd</th>\n",
       "      <th>one</th>\n",
       "      <th>two</th>\n",
       "    </tr>\n",
       "  </thead>\n",
       "  <tbody>\n",
       "    <tr>\n",
       "      <th>A</th>\n",
       "      <td>0.045153</td>\n",
       "      <td>0.326284</td>\n",
       "    </tr>\n",
       "    <tr>\n",
       "      <th>B</th>\n",
       "      <td>-1.970692</td>\n",
       "      <td>-0.024067</td>\n",
       "    </tr>\n",
       "    <tr>\n",
       "      <th>C</th>\n",
       "      <td>-0.947458</td>\n",
       "      <td>-0.851646</td>\n",
       "    </tr>\n",
       "  </tbody>\n",
       "</table>\n",
       "</div>"
      ],
      "text/plain": [
       "2nd       one       two\n",
       "A    0.045153  0.326284\n",
       "B   -1.970692 -0.024067\n",
       "C   -0.947458 -0.851646"
      ]
     },
     "execution_count": 62,
     "metadata": {},
     "output_type": "execute_result"
    }
   ],
   "source": [
    "# 멀티인덱스 인덱싱\n",
    "df['ha']"
   ]
  },
  {
   "cell_type": "code",
   "execution_count": 63,
   "id": "157620d4-41b1-4ca1-a719-def6c14d8e13",
   "metadata": {
    "tags": []
   },
   "outputs": [
    {
     "data": {
      "text/plain": [
       "A    0.045153\n",
       "B   -1.970692\n",
       "C   -0.947458\n",
       "Name: one, dtype: float64"
      ]
     },
     "execution_count": 63,
     "metadata": {},
     "output_type": "execute_result"
    }
   ],
   "source": [
    "df['ha']['one']"
   ]
  },
  {
   "cell_type": "code",
   "execution_count": 64,
   "id": "6b233e46-4d3d-4ae9-a41b-1026166ce2e6",
   "metadata": {
    "tags": []
   },
   "outputs": [
    {
     "data": {
      "text/plain": [
       "1st  2nd\n",
       "ha   one    0.543135\n",
       "     two   -0.602134\n",
       "hi   one   -0.744668\n",
       "dtype: float64"
      ]
     },
     "execution_count": 64,
     "metadata": {},
     "output_type": "execute_result"
    }
   ],
   "source": [
    "ser.reindex(ind[:3])"
   ]
  },
  {
   "cell_type": "code",
   "execution_count": 65,
   "id": "ae430725-e5bf-42a1-988b-09c01db04901",
   "metadata": {
    "tags": []
   },
   "outputs": [
    {
     "data": {
      "text/plain": [
       "ho  one    1.371068\n",
       "ha  two   -0.602134\n",
       "dtype: float64"
      ]
     },
     "execution_count": 65,
     "metadata": {},
     "output_type": "execute_result"
    }
   ],
   "source": [
    "ser.reindex([('ho', 'one'), ('ha', 'two')])"
   ]
  },
  {
   "cell_type": "code",
   "execution_count": 66,
   "id": "a3ae7692-4ac4-49d9-8b8e-e19797c3417b",
   "metadata": {
    "tags": []
   },
   "outputs": [
    {
     "data": {
      "text/html": [
       "<div>\n",
       "<style scoped>\n",
       "    .dataframe tbody tr th:only-of-type {\n",
       "        vertical-align: middle;\n",
       "    }\n",
       "\n",
       "    .dataframe tbody tr th {\n",
       "        vertical-align: top;\n",
       "    }\n",
       "\n",
       "    .dataframe thead th {\n",
       "        text-align: right;\n",
       "    }\n",
       "</style>\n",
       "<table border=\"1\" class=\"dataframe\">\n",
       "  <thead>\n",
       "    <tr style=\"text-align: right;\">\n",
       "      <th></th>\n",
       "      <th></th>\n",
       "      <th>A</th>\n",
       "      <th>B</th>\n",
       "      <th>C</th>\n",
       "    </tr>\n",
       "    <tr>\n",
       "      <th>1st</th>\n",
       "      <th>2nd</th>\n",
       "      <th></th>\n",
       "      <th></th>\n",
       "      <th></th>\n",
       "    </tr>\n",
       "  </thead>\n",
       "  <tbody>\n",
       "    <tr>\n",
       "      <th rowspan=\"2\" valign=\"top\">ha</th>\n",
       "      <th>one</th>\n",
       "      <td>0.045153</td>\n",
       "      <td>-1.970692</td>\n",
       "      <td>-0.947458</td>\n",
       "    </tr>\n",
       "    <tr>\n",
       "      <th>two</th>\n",
       "      <td>0.326284</td>\n",
       "      <td>-0.024067</td>\n",
       "      <td>-0.851646</td>\n",
       "    </tr>\n",
       "    <tr>\n",
       "      <th rowspan=\"2\" valign=\"top\">hi</th>\n",
       "      <th>one</th>\n",
       "      <td>-0.724382</td>\n",
       "      <td>0.003469</td>\n",
       "      <td>-0.838114</td>\n",
       "    </tr>\n",
       "    <tr>\n",
       "      <th>two</th>\n",
       "      <td>-1.180638</td>\n",
       "      <td>1.264374</td>\n",
       "      <td>-1.014734</td>\n",
       "    </tr>\n",
       "    <tr>\n",
       "      <th rowspan=\"2\" valign=\"top\">ho</th>\n",
       "      <th>one</th>\n",
       "      <td>0.880138</td>\n",
       "      <td>1.377679</td>\n",
       "      <td>-1.836602</td>\n",
       "    </tr>\n",
       "    <tr>\n",
       "      <th>two</th>\n",
       "      <td>1.194827</td>\n",
       "      <td>-1.129651</td>\n",
       "      <td>-0.565644</td>\n",
       "    </tr>\n",
       "  </tbody>\n",
       "</table>\n",
       "</div>"
      ],
      "text/plain": [
       "                A         B         C\n",
       "1st 2nd                              \n",
       "ha  one  0.045153 -1.970692 -0.947458\n",
       "    two  0.326284 -0.024067 -0.851646\n",
       "hi  one -0.724382  0.003469 -0.838114\n",
       "    two -1.180638  1.264374 -1.014734\n",
       "ho  one  0.880138  1.377679 -1.836602\n",
       "    two  1.194827 -1.129651 -0.565644"
      ]
     },
     "execution_count": 66,
     "metadata": {},
     "output_type": "execute_result"
    }
   ],
   "source": [
    "df = df.T\n",
    "df"
   ]
  },
  {
   "cell_type": "code",
   "execution_count": 67,
   "id": "a390506e-45f4-4889-9033-b8fd6599f441",
   "metadata": {
    "tags": []
   },
   "outputs": [
    {
     "data": {
      "text/plain": [
       "A    0.326284\n",
       "B   -0.024067\n",
       "C   -0.851646\n",
       "Name: (ha, two), dtype: float64"
      ]
     },
     "execution_count": 67,
     "metadata": {},
     "output_type": "execute_result"
    }
   ],
   "source": [
    "df.loc[('ha', 'two')]"
   ]
  },
  {
   "cell_type": "code",
   "execution_count": 68,
   "id": "6da4f432-af37-421f-8909-fba7ce8b6eeb",
   "metadata": {
    "tags": []
   },
   "outputs": [
    {
     "data": {
      "text/html": [
       "<div>\n",
       "<style scoped>\n",
       "    .dataframe tbody tr th:only-of-type {\n",
       "        vertical-align: middle;\n",
       "    }\n",
       "\n",
       "    .dataframe tbody tr th {\n",
       "        vertical-align: top;\n",
       "    }\n",
       "\n",
       "    .dataframe thead th {\n",
       "        text-align: right;\n",
       "    }\n",
       "</style>\n",
       "<table border=\"1\" class=\"dataframe\">\n",
       "  <thead>\n",
       "    <tr style=\"text-align: right;\">\n",
       "      <th></th>\n",
       "      <th>A</th>\n",
       "      <th>B</th>\n",
       "      <th>C</th>\n",
       "    </tr>\n",
       "    <tr>\n",
       "      <th>2nd</th>\n",
       "      <th></th>\n",
       "      <th></th>\n",
       "      <th></th>\n",
       "    </tr>\n",
       "  </thead>\n",
       "  <tbody>\n",
       "    <tr>\n",
       "      <th>one</th>\n",
       "      <td>0.045153</td>\n",
       "      <td>-1.970692</td>\n",
       "      <td>-0.947458</td>\n",
       "    </tr>\n",
       "    <tr>\n",
       "      <th>two</th>\n",
       "      <td>0.326284</td>\n",
       "      <td>-0.024067</td>\n",
       "      <td>-0.851646</td>\n",
       "    </tr>\n",
       "  </tbody>\n",
       "</table>\n",
       "</div>"
      ],
      "text/plain": [
       "            A         B         C\n",
       "2nd                              \n",
       "one  0.045153 -1.970692 -0.947458\n",
       "two  0.326284 -0.024067 -0.851646"
      ]
     },
     "execution_count": 68,
     "metadata": {},
     "output_type": "execute_result"
    }
   ],
   "source": [
    "df.loc[('ha', 'two'), 'A']\n",
    "df.loc['ha']"
   ]
  },
  {
   "cell_type": "code",
   "execution_count": 69,
   "id": "c5d2fe3d-e05e-488d-b7b8-59eac69f2f21",
   "metadata": {
    "tags": []
   },
   "outputs": [
    {
     "data": {
      "text/html": [
       "<div>\n",
       "<style scoped>\n",
       "    .dataframe tbody tr th:only-of-type {\n",
       "        vertical-align: middle;\n",
       "    }\n",
       "\n",
       "    .dataframe tbody tr th {\n",
       "        vertical-align: top;\n",
       "    }\n",
       "\n",
       "    .dataframe thead th {\n",
       "        text-align: right;\n",
       "    }\n",
       "</style>\n",
       "<table border=\"1\" class=\"dataframe\">\n",
       "  <thead>\n",
       "    <tr style=\"text-align: right;\">\n",
       "      <th></th>\n",
       "      <th></th>\n",
       "      <th>A</th>\n",
       "      <th>B</th>\n",
       "      <th>C</th>\n",
       "    </tr>\n",
       "    <tr>\n",
       "      <th>1st</th>\n",
       "      <th>2nd</th>\n",
       "      <th></th>\n",
       "      <th></th>\n",
       "      <th></th>\n",
       "    </tr>\n",
       "  </thead>\n",
       "  <tbody>\n",
       "    <tr>\n",
       "      <th rowspan=\"2\" valign=\"top\">ha</th>\n",
       "      <th>one</th>\n",
       "      <td>0.045153</td>\n",
       "      <td>-1.970692</td>\n",
       "      <td>-0.947458</td>\n",
       "    </tr>\n",
       "    <tr>\n",
       "      <th>two</th>\n",
       "      <td>0.326284</td>\n",
       "      <td>-0.024067</td>\n",
       "      <td>-0.851646</td>\n",
       "    </tr>\n",
       "    <tr>\n",
       "      <th rowspan=\"2\" valign=\"top\">hi</th>\n",
       "      <th>one</th>\n",
       "      <td>-0.724382</td>\n",
       "      <td>0.003469</td>\n",
       "      <td>-0.838114</td>\n",
       "    </tr>\n",
       "    <tr>\n",
       "      <th>two</th>\n",
       "      <td>-1.180638</td>\n",
       "      <td>1.264374</td>\n",
       "      <td>-1.014734</td>\n",
       "    </tr>\n",
       "  </tbody>\n",
       "</table>\n",
       "</div>"
      ],
      "text/plain": [
       "                A         B         C\n",
       "1st 2nd                              \n",
       "ha  one  0.045153 -1.970692 -0.947458\n",
       "    two  0.326284 -0.024067 -0.851646\n",
       "hi  one -0.724382  0.003469 -0.838114\n",
       "    two -1.180638  1.264374 -1.014734"
      ]
     },
     "execution_count": 69,
     "metadata": {},
     "output_type": "execute_result"
    }
   ],
   "source": [
    "df.loc['ha':'hi']"
   ]
  },
  {
   "cell_type": "code",
   "execution_count": 70,
   "id": "3c9014fc-16a2-4672-a48e-3cc3e9c59a11",
   "metadata": {
    "tags": []
   },
   "outputs": [
    {
     "data": {
      "text/html": [
       "<div>\n",
       "<style scoped>\n",
       "    .dataframe tbody tr th:only-of-type {\n",
       "        vertical-align: middle;\n",
       "    }\n",
       "\n",
       "    .dataframe tbody tr th {\n",
       "        vertical-align: top;\n",
       "    }\n",
       "\n",
       "    .dataframe thead th {\n",
       "        text-align: right;\n",
       "    }\n",
       "</style>\n",
       "<table border=\"1\" class=\"dataframe\">\n",
       "  <thead>\n",
       "    <tr style=\"text-align: right;\">\n",
       "      <th></th>\n",
       "      <th></th>\n",
       "      <th>A</th>\n",
       "      <th>B</th>\n",
       "      <th>C</th>\n",
       "    </tr>\n",
       "    <tr>\n",
       "      <th>1st</th>\n",
       "      <th>2nd</th>\n",
       "      <th></th>\n",
       "      <th></th>\n",
       "      <th></th>\n",
       "    </tr>\n",
       "  </thead>\n",
       "  <tbody>\n",
       "    <tr>\n",
       "      <th>hi</th>\n",
       "      <th>two</th>\n",
       "      <td>-1.180638</td>\n",
       "      <td>1.264374</td>\n",
       "      <td>-1.014734</td>\n",
       "    </tr>\n",
       "    <tr>\n",
       "      <th>ho</th>\n",
       "      <th>one</th>\n",
       "      <td>0.880138</td>\n",
       "      <td>1.377679</td>\n",
       "      <td>-1.836602</td>\n",
       "    </tr>\n",
       "  </tbody>\n",
       "</table>\n",
       "</div>"
      ],
      "text/plain": [
       "                A         B         C\n",
       "1st 2nd                              \n",
       "hi  two -1.180638  1.264374 -1.014734\n",
       "ho  one  0.880138  1.377679 -1.836602"
      ]
     },
     "execution_count": 70,
     "metadata": {},
     "output_type": "execute_result"
    }
   ],
   "source": [
    "df.loc[('hi', 'two'):('ho', 'one')]"
   ]
  },
  {
   "cell_type": "code",
   "execution_count": 71,
   "id": "9315a8da-6641-49ad-a26a-bf1cdb49848b",
   "metadata": {
    "tags": []
   },
   "outputs": [
    {
     "data": {
      "text/html": [
       "<div>\n",
       "<style scoped>\n",
       "    .dataframe tbody tr th:only-of-type {\n",
       "        vertical-align: middle;\n",
       "    }\n",
       "\n",
       "    .dataframe tbody tr th {\n",
       "        vertical-align: top;\n",
       "    }\n",
       "\n",
       "    .dataframe thead th {\n",
       "        text-align: right;\n",
       "    }\n",
       "</style>\n",
       "<table border=\"1\" class=\"dataframe\">\n",
       "  <thead>\n",
       "    <tr style=\"text-align: right;\">\n",
       "      <th></th>\n",
       "      <th></th>\n",
       "      <th>A</th>\n",
       "      <th>B</th>\n",
       "      <th>C</th>\n",
       "    </tr>\n",
       "    <tr>\n",
       "      <th>1st</th>\n",
       "      <th>2nd</th>\n",
       "      <th></th>\n",
       "      <th></th>\n",
       "      <th></th>\n",
       "    </tr>\n",
       "  </thead>\n",
       "  <tbody>\n",
       "    <tr>\n",
       "      <th>hi</th>\n",
       "      <th>two</th>\n",
       "      <td>-1.180638</td>\n",
       "      <td>1.264374</td>\n",
       "      <td>-1.014734</td>\n",
       "    </tr>\n",
       "    <tr>\n",
       "      <th rowspan=\"2\" valign=\"top\">ho</th>\n",
       "      <th>one</th>\n",
       "      <td>0.880138</td>\n",
       "      <td>1.377679</td>\n",
       "      <td>-1.836602</td>\n",
       "    </tr>\n",
       "    <tr>\n",
       "      <th>two</th>\n",
       "      <td>1.194827</td>\n",
       "      <td>-1.129651</td>\n",
       "      <td>-0.565644</td>\n",
       "    </tr>\n",
       "  </tbody>\n",
       "</table>\n",
       "</div>"
      ],
      "text/plain": [
       "                A         B         C\n",
       "1st 2nd                              \n",
       "hi  two -1.180638  1.264374 -1.014734\n",
       "ho  one  0.880138  1.377679 -1.836602\n",
       "    two  1.194827 -1.129651 -0.565644"
      ]
     },
     "execution_count": 71,
     "metadata": {},
     "output_type": "execute_result"
    }
   ],
   "source": [
    "df.loc[('hi', 'two'):'ho']"
   ]
  },
  {
   "cell_type": "code",
   "execution_count": 72,
   "id": "f6f24b9f-c76d-49e3-9f69-c0831d84b3a1",
   "metadata": {
    "tags": []
   },
   "outputs": [
    {
     "data": {
      "text/html": [
       "<div>\n",
       "<style scoped>\n",
       "    .dataframe tbody tr th:only-of-type {\n",
       "        vertical-align: middle;\n",
       "    }\n",
       "\n",
       "    .dataframe tbody tr th {\n",
       "        vertical-align: top;\n",
       "    }\n",
       "\n",
       "    .dataframe thead th {\n",
       "        text-align: right;\n",
       "    }\n",
       "</style>\n",
       "<table border=\"1\" class=\"dataframe\">\n",
       "  <thead>\n",
       "    <tr style=\"text-align: right;\">\n",
       "      <th></th>\n",
       "      <th></th>\n",
       "      <th>A</th>\n",
       "      <th>B</th>\n",
       "      <th>C</th>\n",
       "    </tr>\n",
       "    <tr>\n",
       "      <th>1st</th>\n",
       "      <th>2nd</th>\n",
       "      <th></th>\n",
       "      <th></th>\n",
       "      <th></th>\n",
       "    </tr>\n",
       "  </thead>\n",
       "  <tbody>\n",
       "    <tr>\n",
       "      <th>ha</th>\n",
       "      <th>two</th>\n",
       "      <td>0.326284</td>\n",
       "      <td>-0.024067</td>\n",
       "      <td>-0.851646</td>\n",
       "    </tr>\n",
       "    <tr>\n",
       "      <th>ho</th>\n",
       "      <th>one</th>\n",
       "      <td>0.880138</td>\n",
       "      <td>1.377679</td>\n",
       "      <td>-1.836602</td>\n",
       "    </tr>\n",
       "  </tbody>\n",
       "</table>\n",
       "</div>"
      ],
      "text/plain": [
       "                A         B         C\n",
       "1st 2nd                              \n",
       "ha  two  0.326284 -0.024067 -0.851646\n",
       "ho  one  0.880138  1.377679 -1.836602"
      ]
     },
     "execution_count": 72,
     "metadata": {},
     "output_type": "execute_result"
    }
   ],
   "source": [
    "df.loc[[('ha', 'two'), ('ho', 'one')]]"
   ]
  },
  {
   "cell_type": "code",
   "execution_count": 73,
   "id": "8519cf03-4836-4c9b-a99f-829ca3aeeb0e",
   "metadata": {
    "tags": []
   },
   "outputs": [
    {
     "data": {
      "text/plain": [
       "[('ha', 'one'),\n",
       " ('ha', 'two'),\n",
       " ('hi', 'one'),\n",
       " ('hi', 'two'),\n",
       " ('ho', 'one'),\n",
       " ('ho', 'two')]"
      ]
     },
     "execution_count": 73,
     "metadata": {},
     "output_type": "execute_result"
    }
   ],
   "source": [
    "# 멀티인덱스 순서 정렬\n",
    "li1"
   ]
  },
  {
   "cell_type": "code",
   "execution_count": 74,
   "id": "574d7041-99b2-41b8-b9f2-3c485dd56cd7",
   "metadata": {
    "tags": []
   },
   "outputs": [],
   "source": [
    "np.random.shuffle(li1)"
   ]
  },
  {
   "cell_type": "code",
   "execution_count": 75,
   "id": "5098d015-8c80-4c3e-84e5-6c358a2fdd5a",
   "metadata": {
    "tags": []
   },
   "outputs": [
    {
     "data": {
      "text/plain": [
       "[('ha', 'two'),\n",
       " ('ha', 'one'),\n",
       " ('ho', 'one'),\n",
       " ('hi', 'two'),\n",
       " ('ho', 'two'),\n",
       " ('hi', 'one')]"
      ]
     },
     "execution_count": 75,
     "metadata": {},
     "output_type": "execute_result"
    }
   ],
   "source": [
    "li1"
   ]
  },
  {
   "cell_type": "code",
   "execution_count": 77,
   "id": "78da023c-43eb-445b-b9c5-b9d1fa7f479c",
   "metadata": {
    "tags": []
   },
   "outputs": [
    {
     "data": {
      "text/plain": [
       "ha  two   -0.865925\n",
       "    one   -1.426396\n",
       "ho  one   -0.614416\n",
       "hi  two    0.448234\n",
       "ho  two    0.393412\n",
       "hi  one    0.087316\n",
       "dtype: float64"
      ]
     },
     "execution_count": 77,
     "metadata": {},
     "output_type": "execute_result"
    }
   ],
   "source": [
    "ser = pd.Series(np.random.randn(6), index = pd.MultiIndex.from_tuples(li1))\n",
    "ser"
   ]
  },
  {
   "cell_type": "code",
   "execution_count": 79,
   "id": "afafdf3f-ed84-4dcb-9950-e1cafd27e4e7",
   "metadata": {
    "tags": []
   },
   "outputs": [
    {
     "data": {
      "text/plain": [
       "ha  one   -1.426396\n",
       "    two   -0.865925\n",
       "hi  one    0.087316\n",
       "    two    0.448234\n",
       "ho  one   -0.614416\n",
       "    two    0.393412\n",
       "dtype: float64"
      ]
     },
     "execution_count": 79,
     "metadata": {},
     "output_type": "execute_result"
    }
   ],
   "source": [
    "ser.sort_index(level = 0)"
   ]
  },
  {
   "cell_type": "code",
   "execution_count": 80,
   "id": "0136bd8d-428d-4769-b6de-ed3dc642ab9e",
   "metadata": {
    "tags": []
   },
   "outputs": [
    {
     "data": {
      "text/plain": [
       "ha  one   -1.426396\n",
       "hi  one    0.087316\n",
       "ho  one   -0.614416\n",
       "ha  two   -0.865925\n",
       "hi  two    0.448234\n",
       "ho  two    0.393412\n",
       "dtype: float64"
      ]
     },
     "execution_count": 80,
     "metadata": {},
     "output_type": "execute_result"
    }
   ],
   "source": [
    "ser.sort_index(level = 1)"
   ]
  },
  {
   "cell_type": "code",
   "execution_count": 82,
   "id": "8907c5ed-c721-47a9-9172-2c2ce8581f6d",
   "metadata": {
    "tags": []
   },
   "outputs": [
    {
     "data": {
      "text/plain": [
       "1st  2nd\n",
       "ha   one   -1.426396\n",
       "     two   -0.865925\n",
       "hi   one    0.087316\n",
       "     two    0.448234\n",
       "ho   one   -0.614416\n",
       "     two    0.393412\n",
       "dtype: float64"
      ]
     },
     "execution_count": 82,
     "metadata": {},
     "output_type": "execute_result"
    }
   ],
   "source": [
    "ser.index.set_names(['1st', '2nd'], inplace = True)\n",
    "ser.sort_index(level = '1st')"
   ]
  },
  {
   "cell_type": "code",
   "execution_count": 83,
   "id": "efeb9fcf-13f1-4e95-bf22-9727154676e0",
   "metadata": {
    "tags": []
   },
   "outputs": [
    {
     "data": {
      "text/plain": [
       "1st  2nd\n",
       "ha   one   -1.426396\n",
       "hi   one    0.087316\n",
       "ho   one   -0.614416\n",
       "ha   two   -0.865925\n",
       "hi   two    0.448234\n",
       "ho   two    0.393412\n",
       "dtype: float64"
      ]
     },
     "execution_count": 83,
     "metadata": {},
     "output_type": "execute_result"
    }
   ],
   "source": [
    "ser.sort_index(level = '2nd')"
   ]
  },
  {
   "cell_type": "code",
   "execution_count": 84,
   "id": "494520f7-fb95-4b7f-bd17-d29eff15c821",
   "metadata": {
    "tags": []
   },
   "outputs": [
    {
     "data": {
      "text/html": [
       "<div>\n",
       "<style scoped>\n",
       "    .dataframe tbody tr th:only-of-type {\n",
       "        vertical-align: middle;\n",
       "    }\n",
       "\n",
       "    .dataframe tbody tr th {\n",
       "        vertical-align: top;\n",
       "    }\n",
       "\n",
       "    .dataframe thead th {\n",
       "        text-align: right;\n",
       "    }\n",
       "</style>\n",
       "<table border=\"1\" class=\"dataframe\">\n",
       "  <thead>\n",
       "    <tr style=\"text-align: right;\">\n",
       "      <th></th>\n",
       "      <th></th>\n",
       "      <th>A</th>\n",
       "      <th>B</th>\n",
       "      <th>C</th>\n",
       "    </tr>\n",
       "    <tr>\n",
       "      <th>1st</th>\n",
       "      <th>2nd</th>\n",
       "      <th></th>\n",
       "      <th></th>\n",
       "      <th></th>\n",
       "    </tr>\n",
       "  </thead>\n",
       "  <tbody>\n",
       "    <tr>\n",
       "      <th rowspan=\"2\" valign=\"top\">ha</th>\n",
       "      <th>one</th>\n",
       "      <td>0.045153</td>\n",
       "      <td>-1.970692</td>\n",
       "      <td>-0.947458</td>\n",
       "    </tr>\n",
       "    <tr>\n",
       "      <th>two</th>\n",
       "      <td>0.326284</td>\n",
       "      <td>-0.024067</td>\n",
       "      <td>-0.851646</td>\n",
       "    </tr>\n",
       "    <tr>\n",
       "      <th rowspan=\"2\" valign=\"top\">hi</th>\n",
       "      <th>one</th>\n",
       "      <td>-0.724382</td>\n",
       "      <td>0.003469</td>\n",
       "      <td>-0.838114</td>\n",
       "    </tr>\n",
       "    <tr>\n",
       "      <th>two</th>\n",
       "      <td>-1.180638</td>\n",
       "      <td>1.264374</td>\n",
       "      <td>-1.014734</td>\n",
       "    </tr>\n",
       "    <tr>\n",
       "      <th rowspan=\"2\" valign=\"top\">ho</th>\n",
       "      <th>one</th>\n",
       "      <td>0.880138</td>\n",
       "      <td>1.377679</td>\n",
       "      <td>-1.836602</td>\n",
       "    </tr>\n",
       "    <tr>\n",
       "      <th>two</th>\n",
       "      <td>1.194827</td>\n",
       "      <td>-1.129651</td>\n",
       "      <td>-0.565644</td>\n",
       "    </tr>\n",
       "  </tbody>\n",
       "</table>\n",
       "</div>"
      ],
      "text/plain": [
       "                A         B         C\n",
       "1st 2nd                              \n",
       "ha  one  0.045153 -1.970692 -0.947458\n",
       "    two  0.326284 -0.024067 -0.851646\n",
       "hi  one -0.724382  0.003469 -0.838114\n",
       "    two -1.180638  1.264374 -1.014734\n",
       "ho  one  0.880138  1.377679 -1.836602\n",
       "    two  1.194827 -1.129651 -0.565644"
      ]
     },
     "execution_count": 84,
     "metadata": {},
     "output_type": "execute_result"
    }
   ],
   "source": [
    "df"
   ]
  },
  {
   "cell_type": "code",
   "execution_count": 85,
   "id": "298018d6-b4b1-496d-b794-bdf08ecded94",
   "metadata": {
    "tags": []
   },
   "outputs": [
    {
     "data": {
      "text/html": [
       "<div>\n",
       "<style scoped>\n",
       "    .dataframe tbody tr th:only-of-type {\n",
       "        vertical-align: middle;\n",
       "    }\n",
       "\n",
       "    .dataframe tbody tr th {\n",
       "        vertical-align: top;\n",
       "    }\n",
       "\n",
       "    .dataframe thead tr th {\n",
       "        text-align: left;\n",
       "    }\n",
       "</style>\n",
       "<table border=\"1\" class=\"dataframe\">\n",
       "  <thead>\n",
       "    <tr>\n",
       "      <th>1st</th>\n",
       "      <th>ha</th>\n",
       "      <th>hi</th>\n",
       "      <th>ho</th>\n",
       "      <th>ha</th>\n",
       "      <th>hi</th>\n",
       "      <th>ho</th>\n",
       "    </tr>\n",
       "    <tr>\n",
       "      <th>2nd</th>\n",
       "      <th>one</th>\n",
       "      <th>one</th>\n",
       "      <th>one</th>\n",
       "      <th>two</th>\n",
       "      <th>two</th>\n",
       "      <th>two</th>\n",
       "    </tr>\n",
       "  </thead>\n",
       "  <tbody>\n",
       "    <tr>\n",
       "      <th>A</th>\n",
       "      <td>0.045153</td>\n",
       "      <td>-0.724382</td>\n",
       "      <td>0.880138</td>\n",
       "      <td>0.326284</td>\n",
       "      <td>-1.180638</td>\n",
       "      <td>1.194827</td>\n",
       "    </tr>\n",
       "    <tr>\n",
       "      <th>B</th>\n",
       "      <td>-1.970692</td>\n",
       "      <td>0.003469</td>\n",
       "      <td>1.377679</td>\n",
       "      <td>-0.024067</td>\n",
       "      <td>1.264374</td>\n",
       "      <td>-1.129651</td>\n",
       "    </tr>\n",
       "    <tr>\n",
       "      <th>C</th>\n",
       "      <td>-0.947458</td>\n",
       "      <td>-0.838114</td>\n",
       "      <td>-1.836602</td>\n",
       "      <td>-0.851646</td>\n",
       "      <td>-1.014734</td>\n",
       "      <td>-0.565644</td>\n",
       "    </tr>\n",
       "  </tbody>\n",
       "</table>\n",
       "</div>"
      ],
      "text/plain": [
       "1st        ha        hi        ho        ha        hi        ho\n",
       "2nd       one       one       one       two       two       two\n",
       "A    0.045153 -0.724382  0.880138  0.326284 -1.180638  1.194827\n",
       "B   -1.970692  0.003469  1.377679 -0.024067  1.264374 -1.129651\n",
       "C   -0.947458 -0.838114 -1.836602 -0.851646 -1.014734 -0.565644"
      ]
     },
     "execution_count": 85,
     "metadata": {},
     "output_type": "execute_result"
    }
   ],
   "source": [
    "df.T.sort_index(level = 1, axis = 1)"
   ]
  },
  {
   "cell_type": "code",
   "execution_count": 86,
   "id": "b5909337-324d-46a0-a3b7-f167594070fe",
   "metadata": {
    "tags": []
   },
   "outputs": [
    {
     "data": {
      "text/html": [
       "<div>\n",
       "<style scoped>\n",
       "    .dataframe tbody tr th:only-of-type {\n",
       "        vertical-align: middle;\n",
       "    }\n",
       "\n",
       "    .dataframe tbody tr th {\n",
       "        vertical-align: top;\n",
       "    }\n",
       "\n",
       "    .dataframe thead th {\n",
       "        text-align: right;\n",
       "    }\n",
       "</style>\n",
       "<table border=\"1\" class=\"dataframe\">\n",
       "  <thead>\n",
       "    <tr style=\"text-align: right;\">\n",
       "      <th></th>\n",
       "      <th>name</th>\n",
       "      <th>age</th>\n",
       "      <th>address</th>\n",
       "      <th>score</th>\n",
       "      <th>grade</th>\n",
       "    </tr>\n",
       "  </thead>\n",
       "  <tbody>\n",
       "    <tr>\n",
       "      <th>0</th>\n",
       "      <td>haena</td>\n",
       "      <td>30</td>\n",
       "      <td>dogok</td>\n",
       "      <td>100</td>\n",
       "      <td>A</td>\n",
       "    </tr>\n",
       "    <tr>\n",
       "      <th>1</th>\n",
       "      <td>naeun</td>\n",
       "      <td>27</td>\n",
       "      <td>suwon</td>\n",
       "      <td>88</td>\n",
       "      <td>B</td>\n",
       "    </tr>\n",
       "    <tr>\n",
       "      <th>2</th>\n",
       "      <td>una</td>\n",
       "      <td>28</td>\n",
       "      <td>mapo</td>\n",
       "      <td>73</td>\n",
       "      <td>C</td>\n",
       "    </tr>\n",
       "    <tr>\n",
       "      <th>3</th>\n",
       "      <td>bum</td>\n",
       "      <td>23</td>\n",
       "      <td>ilsan</td>\n",
       "      <td>83</td>\n",
       "      <td>B</td>\n",
       "    </tr>\n",
       "    <tr>\n",
       "      <th>4</th>\n",
       "      <td>suho</td>\n",
       "      <td>18</td>\n",
       "      <td>yeoyi</td>\n",
       "      <td>95</td>\n",
       "      <td>A</td>\n",
       "    </tr>\n",
       "  </tbody>\n",
       "</table>\n",
       "</div>"
      ],
      "text/plain": [
       "    name  age address  score grade\n",
       "0  haena   30   dogok    100     A\n",
       "1  naeun   27   suwon     88     B\n",
       "2    una   28    mapo     73     C\n",
       "3    bum   23   ilsan     83     B\n",
       "4   suho   18   yeoyi     95     A"
      ]
     },
     "execution_count": 86,
     "metadata": {},
     "output_type": "execute_result"
    }
   ],
   "source": [
    "# 4.4 데이터 타입과 입출력\n",
    "# 4.4.1 텍스트 파일\n",
    "\n",
    "# csv \n",
    "\n",
    "data = {'name': ['haena', 'naeun', 'una', 'bum', 'suho'],\n",
    "       'age': [30, 27, 28, 23, 18],\n",
    "       'address': ['dogok', 'suwon', 'mapo', 'ilsan', 'yeoyi'],\n",
    "       'grade': ['A', 'B', 'C', 'B', 'A'],\n",
    "       'score': [100, 88, 73, 83, 95]}\n",
    "df = pd.DataFrame(data, columns = ['name', 'age', 'address', 'score', 'grade'])\n",
    "df"
   ]
  },
  {
   "cell_type": "code",
   "execution_count": 93,
   "id": "f039b8fd-d147-47b2-b3e9-7a3e7e2e6d88",
   "metadata": {
    "tags": []
   },
   "outputs": [],
   "source": [
    "df.to_csv('/Users/raekkkky/Desktop/DNA/Semester_2023_1/Data_Analysis/data-collection-master/student_grade.csv')"
   ]
  },
  {
   "cell_type": "code",
   "execution_count": 99,
   "id": "4e514d14-0849-4c41-a4aa-b91f4f830e8d",
   "metadata": {
    "tags": []
   },
   "outputs": [
    {
     "name": "stdout",
     "output_type": "stream",
     "text": [
      "/Users/raekkkky/Desktop/DNA/Semester_2023_1/Data_Analysis/data-collection-master/student_grade.csv not found\n"
     ]
    }
   ],
   "source": [
    "!type /Users/raekkkky/Desktop/DNA/Semester_2023_1/Data_Analysis/data-collection-master/student_grade.csv"
   ]
  },
  {
   "cell_type": "code",
   "execution_count": 101,
   "id": "3535938f-f424-4565-950c-1034c384b249",
   "metadata": {
    "tags": []
   },
   "outputs": [
    {
     "data": {
      "text/html": [
       "<div>\n",
       "<style scoped>\n",
       "    .dataframe tbody tr th:only-of-type {\n",
       "        vertical-align: middle;\n",
       "    }\n",
       "\n",
       "    .dataframe tbody tr th {\n",
       "        vertical-align: top;\n",
       "    }\n",
       "\n",
       "    .dataframe thead th {\n",
       "        text-align: right;\n",
       "    }\n",
       "</style>\n",
       "<table border=\"1\" class=\"dataframe\">\n",
       "  <thead>\n",
       "    <tr style=\"text-align: right;\">\n",
       "      <th></th>\n",
       "      <th>Unnamed: 0</th>\n",
       "      <th>name</th>\n",
       "      <th>age</th>\n",
       "      <th>address</th>\n",
       "      <th>score</th>\n",
       "      <th>grade</th>\n",
       "    </tr>\n",
       "  </thead>\n",
       "  <tbody>\n",
       "    <tr>\n",
       "      <th>0</th>\n",
       "      <td>0</td>\n",
       "      <td>haena</td>\n",
       "      <td>30</td>\n",
       "      <td>dogok</td>\n",
       "      <td>100</td>\n",
       "      <td>A</td>\n",
       "    </tr>\n",
       "    <tr>\n",
       "      <th>1</th>\n",
       "      <td>1</td>\n",
       "      <td>naeun</td>\n",
       "      <td>27</td>\n",
       "      <td>suwon</td>\n",
       "      <td>88</td>\n",
       "      <td>B</td>\n",
       "    </tr>\n",
       "    <tr>\n",
       "      <th>2</th>\n",
       "      <td>2</td>\n",
       "      <td>una</td>\n",
       "      <td>28</td>\n",
       "      <td>mapo</td>\n",
       "      <td>73</td>\n",
       "      <td>C</td>\n",
       "    </tr>\n",
       "    <tr>\n",
       "      <th>3</th>\n",
       "      <td>3</td>\n",
       "      <td>bum</td>\n",
       "      <td>23</td>\n",
       "      <td>ilsan</td>\n",
       "      <td>83</td>\n",
       "      <td>B</td>\n",
       "    </tr>\n",
       "    <tr>\n",
       "      <th>4</th>\n",
       "      <td>4</td>\n",
       "      <td>suho</td>\n",
       "      <td>18</td>\n",
       "      <td>yeoyi</td>\n",
       "      <td>95</td>\n",
       "      <td>A</td>\n",
       "    </tr>\n",
       "  </tbody>\n",
       "</table>\n",
       "</div>"
      ],
      "text/plain": [
       "   Unnamed: 0   name  age address  score grade\n",
       "0           0  haena   30   dogok    100     A\n",
       "1           1  naeun   27   suwon     88     B\n",
       "2           2    una   28    mapo     73     C\n",
       "3           3    bum   23   ilsan     83     B\n",
       "4           4   suho   18   yeoyi     95     A"
      ]
     },
     "execution_count": 101,
     "metadata": {},
     "output_type": "execute_result"
    }
   ],
   "source": [
    "df1 = pd.read_csv('/Users/raekkkky/Desktop/DNA/Semester_2023_1/Data_Analysis/data-collection-master/student_grade.csv')\n",
    "df1"
   ]
  },
  {
   "cell_type": "code",
   "execution_count": 102,
   "id": "948cceec-a994-46f4-a5db-84bd3307d1bb",
   "metadata": {
    "tags": []
   },
   "outputs": [
    {
     "data": {
      "text/html": [
       "<div>\n",
       "<style scoped>\n",
       "    .dataframe tbody tr th:only-of-type {\n",
       "        vertical-align: middle;\n",
       "    }\n",
       "\n",
       "    .dataframe tbody tr th {\n",
       "        vertical-align: top;\n",
       "    }\n",
       "\n",
       "    .dataframe thead th {\n",
       "        text-align: right;\n",
       "    }\n",
       "</style>\n",
       "<table border=\"1\" class=\"dataframe\">\n",
       "  <thead>\n",
       "    <tr style=\"text-align: right;\">\n",
       "      <th></th>\n",
       "      <th>name</th>\n",
       "      <th>age</th>\n",
       "      <th>address</th>\n",
       "      <th>score</th>\n",
       "      <th>grade</th>\n",
       "    </tr>\n",
       "  </thead>\n",
       "  <tbody>\n",
       "    <tr>\n",
       "      <th>0</th>\n",
       "      <td>haena</td>\n",
       "      <td>30</td>\n",
       "      <td>dogok</td>\n",
       "      <td>100</td>\n",
       "      <td>A</td>\n",
       "    </tr>\n",
       "    <tr>\n",
       "      <th>1</th>\n",
       "      <td>naeun</td>\n",
       "      <td>27</td>\n",
       "      <td>suwon</td>\n",
       "      <td>88</td>\n",
       "      <td>B</td>\n",
       "    </tr>\n",
       "    <tr>\n",
       "      <th>2</th>\n",
       "      <td>una</td>\n",
       "      <td>28</td>\n",
       "      <td>mapo</td>\n",
       "      <td>73</td>\n",
       "      <td>C</td>\n",
       "    </tr>\n",
       "    <tr>\n",
       "      <th>3</th>\n",
       "      <td>bum</td>\n",
       "      <td>23</td>\n",
       "      <td>ilsan</td>\n",
       "      <td>83</td>\n",
       "      <td>B</td>\n",
       "    </tr>\n",
       "    <tr>\n",
       "      <th>4</th>\n",
       "      <td>suho</td>\n",
       "      <td>18</td>\n",
       "      <td>yeoyi</td>\n",
       "      <td>95</td>\n",
       "      <td>A</td>\n",
       "    </tr>\n",
       "  </tbody>\n",
       "</table>\n",
       "</div>"
      ],
      "text/plain": [
       "    name  age address  score grade\n",
       "0  haena   30   dogok    100     A\n",
       "1  naeun   27   suwon     88     B\n",
       "2    una   28    mapo     73     C\n",
       "3    bum   23   ilsan     83     B\n",
       "4   suho   18   yeoyi     95     A"
      ]
     },
     "execution_count": 102,
     "metadata": {},
     "output_type": "execute_result"
    }
   ],
   "source": [
    "df1 = df1.iloc[0:5, 1:6]\n",
    "df1"
   ]
  },
  {
   "cell_type": "code",
   "execution_count": 103,
   "id": "189f0327-f0ad-4dcc-95b3-fa2652f4ecc5",
   "metadata": {
    "tags": []
   },
   "outputs": [],
   "source": [
    "df.to_csv('student_grade.csv')"
   ]
  },
  {
   "cell_type": "code",
   "execution_count": 105,
   "id": "5fc91b1b-1f94-42ae-9956-1c8dd2eb15d3",
   "metadata": {
    "tags": []
   },
   "outputs": [
    {
     "data": {
      "text/html": [
       "<div>\n",
       "<style scoped>\n",
       "    .dataframe tbody tr th:only-of-type {\n",
       "        vertical-align: middle;\n",
       "    }\n",
       "\n",
       "    .dataframe tbody tr th {\n",
       "        vertical-align: top;\n",
       "    }\n",
       "\n",
       "    .dataframe thead th {\n",
       "        text-align: right;\n",
       "    }\n",
       "</style>\n",
       "<table border=\"1\" class=\"dataframe\">\n",
       "  <thead>\n",
       "    <tr style=\"text-align: right;\">\n",
       "      <th></th>\n",
       "      <th>0</th>\n",
       "      <th>1</th>\n",
       "      <th>2</th>\n",
       "      <th>3</th>\n",
       "      <th>4</th>\n",
       "      <th>5</th>\n",
       "    </tr>\n",
       "  </thead>\n",
       "  <tbody>\n",
       "    <tr>\n",
       "      <th>0</th>\n",
       "      <td>NaN</td>\n",
       "      <td>name</td>\n",
       "      <td>age</td>\n",
       "      <td>address</td>\n",
       "      <td>score</td>\n",
       "      <td>grade</td>\n",
       "    </tr>\n",
       "    <tr>\n",
       "      <th>1</th>\n",
       "      <td>0.0</td>\n",
       "      <td>haena</td>\n",
       "      <td>30</td>\n",
       "      <td>dogok</td>\n",
       "      <td>100</td>\n",
       "      <td>A</td>\n",
       "    </tr>\n",
       "    <tr>\n",
       "      <th>2</th>\n",
       "      <td>1.0</td>\n",
       "      <td>naeun</td>\n",
       "      <td>27</td>\n",
       "      <td>suwon</td>\n",
       "      <td>88</td>\n",
       "      <td>B</td>\n",
       "    </tr>\n",
       "  </tbody>\n",
       "</table>\n",
       "</div>"
      ],
      "text/plain": [
       "     0      1    2        3      4      5\n",
       "0  NaN   name  age  address  score  grade\n",
       "1  0.0  haena   30    dogok    100      A\n",
       "2  1.0  naeun   27    suwon     88      B"
      ]
     },
     "execution_count": 105,
     "metadata": {},
     "output_type": "execute_result"
    }
   ],
   "source": [
    "df2 = pd.read_csv('student_grade.csv', header=None, nrows=3)\n",
    "df2"
   ]
  },
  {
   "cell_type": "code",
   "execution_count": 106,
   "id": "90903dbf-e4fe-4a55-bf07-792ab5ac3bdd",
   "metadata": {
    "tags": []
   },
   "outputs": [
    {
     "data": {
      "text/html": [
       "<div>\n",
       "<style scoped>\n",
       "    .dataframe tbody tr th:only-of-type {\n",
       "        vertical-align: middle;\n",
       "    }\n",
       "\n",
       "    .dataframe tbody tr th {\n",
       "        vertical-align: top;\n",
       "    }\n",
       "\n",
       "    .dataframe thead th {\n",
       "        text-align: right;\n",
       "    }\n",
       "</style>\n",
       "<table border=\"1\" class=\"dataframe\">\n",
       "  <thead>\n",
       "    <tr style=\"text-align: right;\">\n",
       "      <th></th>\n",
       "      <th>name</th>\n",
       "      <th>age</th>\n",
       "      <th>address</th>\n",
       "      <th>score</th>\n",
       "      <th>grade</th>\n",
       "    </tr>\n",
       "  </thead>\n",
       "  <tbody>\n",
       "    <tr>\n",
       "      <th>0</th>\n",
       "      <td>haena</td>\n",
       "      <td>30</td>\n",
       "      <td>dogok</td>\n",
       "      <td>100</td>\n",
       "      <td>A</td>\n",
       "    </tr>\n",
       "    <tr>\n",
       "      <th>1</th>\n",
       "      <td>naeun</td>\n",
       "      <td>27</td>\n",
       "      <td>suwon</td>\n",
       "      <td>88</td>\n",
       "      <td>B</td>\n",
       "    </tr>\n",
       "    <tr>\n",
       "      <th>2</th>\n",
       "      <td>una</td>\n",
       "      <td>28</td>\n",
       "      <td>mapo</td>\n",
       "      <td>73</td>\n",
       "      <td>C</td>\n",
       "    </tr>\n",
       "    <tr>\n",
       "      <th>3</th>\n",
       "      <td>bum</td>\n",
       "      <td>23</td>\n",
       "      <td>ilsan</td>\n",
       "      <td>83</td>\n",
       "      <td>B</td>\n",
       "    </tr>\n",
       "    <tr>\n",
       "      <th>4</th>\n",
       "      <td>suho</td>\n",
       "      <td>18</td>\n",
       "      <td>yeoyi</td>\n",
       "      <td>95</td>\n",
       "      <td>A</td>\n",
       "    </tr>\n",
       "  </tbody>\n",
       "</table>\n",
       "</div>"
      ],
      "text/plain": [
       "    name  age address  score grade\n",
       "0  haena   30   dogok    100     A\n",
       "1  naeun   27   suwon     88     B\n",
       "2    una   28    mapo     73     C\n",
       "3    bum   23   ilsan     83     B\n",
       "4   suho   18   yeoyi     95     A"
      ]
     },
     "execution_count": 106,
     "metadata": {},
     "output_type": "execute_result"
    }
   ],
   "source": [
    "df2 = pd.read_csv('student_grade.csv', index_col=0)\n",
    "df2"
   ]
  },
  {
   "cell_type": "code",
   "execution_count": 107,
   "id": "c0d88b12-3e72-4a69-8fa8-dc1a719f7b27",
   "metadata": {
    "tags": []
   },
   "outputs": [
    {
     "data": {
      "text/html": [
       "<div>\n",
       "<style scoped>\n",
       "    .dataframe tbody tr th:only-of-type {\n",
       "        vertical-align: middle;\n",
       "    }\n",
       "\n",
       "    .dataframe tbody tr th {\n",
       "        vertical-align: top;\n",
       "    }\n",
       "\n",
       "    .dataframe thead th {\n",
       "        text-align: right;\n",
       "    }\n",
       "</style>\n",
       "<table border=\"1\" class=\"dataframe\">\n",
       "  <thead>\n",
       "    <tr style=\"text-align: right;\">\n",
       "      <th></th>\n",
       "      <th>Unnamed: 0</th>\n",
       "      <th>age</th>\n",
       "      <th>address</th>\n",
       "      <th>score</th>\n",
       "      <th>grade</th>\n",
       "    </tr>\n",
       "    <tr>\n",
       "      <th>name</th>\n",
       "      <th></th>\n",
       "      <th></th>\n",
       "      <th></th>\n",
       "      <th></th>\n",
       "      <th></th>\n",
       "    </tr>\n",
       "  </thead>\n",
       "  <tbody>\n",
       "    <tr>\n",
       "      <th>haena</th>\n",
       "      <td>0</td>\n",
       "      <td>30</td>\n",
       "      <td>dogok</td>\n",
       "      <td>100</td>\n",
       "      <td>A</td>\n",
       "    </tr>\n",
       "    <tr>\n",
       "      <th>naeun</th>\n",
       "      <td>1</td>\n",
       "      <td>27</td>\n",
       "      <td>suwon</td>\n",
       "      <td>88</td>\n",
       "      <td>B</td>\n",
       "    </tr>\n",
       "    <tr>\n",
       "      <th>una</th>\n",
       "      <td>2</td>\n",
       "      <td>28</td>\n",
       "      <td>mapo</td>\n",
       "      <td>73</td>\n",
       "      <td>C</td>\n",
       "    </tr>\n",
       "    <tr>\n",
       "      <th>bum</th>\n",
       "      <td>3</td>\n",
       "      <td>23</td>\n",
       "      <td>ilsan</td>\n",
       "      <td>83</td>\n",
       "      <td>B</td>\n",
       "    </tr>\n",
       "    <tr>\n",
       "      <th>suho</th>\n",
       "      <td>4</td>\n",
       "      <td>18</td>\n",
       "      <td>yeoyi</td>\n",
       "      <td>95</td>\n",
       "      <td>A</td>\n",
       "    </tr>\n",
       "  </tbody>\n",
       "</table>\n",
       "</div>"
      ],
      "text/plain": [
       "       Unnamed: 0  age address  score grade\n",
       "name                                       \n",
       "haena           0   30   dogok    100     A\n",
       "naeun           1   27   suwon     88     B\n",
       "una             2   28    mapo     73     C\n",
       "bum             3   23   ilsan     83     B\n",
       "suho            4   18   yeoyi     95     A"
      ]
     },
     "execution_count": 107,
     "metadata": {},
     "output_type": "execute_result"
    }
   ],
   "source": [
    "df2 = pd.read_csv('student_grade.csv', index_col = ['name'])\n",
    "df2"
   ]
  },
  {
   "cell_type": "code",
   "execution_count": 109,
   "id": "0741aa21-a171-4548-b4cb-72fa2fb13a23",
   "metadata": {
    "tags": []
   },
   "outputs": [
    {
     "data": {
      "text/html": [
       "<div>\n",
       "<style scoped>\n",
       "    .dataframe tbody tr th:only-of-type {\n",
       "        vertical-align: middle;\n",
       "    }\n",
       "\n",
       "    .dataframe tbody tr th {\n",
       "        vertical-align: top;\n",
       "    }\n",
       "\n",
       "    .dataframe thead th {\n",
       "        text-align: right;\n",
       "    }\n",
       "</style>\n",
       "<table border=\"1\" class=\"dataframe\">\n",
       "  <thead>\n",
       "    <tr style=\"text-align: right;\">\n",
       "      <th></th>\n",
       "      <th>No</th>\n",
       "      <th>name</th>\n",
       "      <th>age</th>\n",
       "      <th>address</th>\n",
       "      <th>score</th>\n",
       "      <th>grade</th>\n",
       "    </tr>\n",
       "  </thead>\n",
       "  <tbody>\n",
       "    <tr>\n",
       "      <th>0</th>\n",
       "      <td>NaN</td>\n",
       "      <td>name</td>\n",
       "      <td>age</td>\n",
       "      <td>address</td>\n",
       "      <td>score</td>\n",
       "      <td>grade</td>\n",
       "    </tr>\n",
       "    <tr>\n",
       "      <th>1</th>\n",
       "      <td>0.0</td>\n",
       "      <td>haena</td>\n",
       "      <td>30</td>\n",
       "      <td>dogok</td>\n",
       "      <td>100</td>\n",
       "      <td>A</td>\n",
       "    </tr>\n",
       "    <tr>\n",
       "      <th>2</th>\n",
       "      <td>1.0</td>\n",
       "      <td>naeun</td>\n",
       "      <td>27</td>\n",
       "      <td>suwon</td>\n",
       "      <td>88</td>\n",
       "      <td>B</td>\n",
       "    </tr>\n",
       "  </tbody>\n",
       "</table>\n",
       "</div>"
      ],
      "text/plain": [
       "    No   name  age  address  score  grade\n",
       "0  NaN   name  age  address  score  grade\n",
       "1  0.0  haena   30    dogok    100      A\n",
       "2  1.0  naeun   27    suwon     88      B"
      ]
     },
     "execution_count": 109,
     "metadata": {},
     "output_type": "execute_result"
    }
   ],
   "source": [
    "df2 = pd.read_csv('student_grade.csv', names = ['No', 'name', 'age', 'address', 'score',\n",
    "                                                'grade'], nrows = 3)\n",
    "df2"
   ]
  },
  {
   "cell_type": "code",
   "execution_count": 110,
   "id": "5059e8b0-8835-4904-8118-df4d0db4e94a",
   "metadata": {
    "tags": []
   },
   "outputs": [
    {
     "data": {
      "text/html": [
       "<div>\n",
       "<style scoped>\n",
       "    .dataframe tbody tr th:only-of-type {\n",
       "        vertical-align: middle;\n",
       "    }\n",
       "\n",
       "    .dataframe tbody tr th {\n",
       "        vertical-align: top;\n",
       "    }\n",
       "\n",
       "    .dataframe thead th {\n",
       "        text-align: right;\n",
       "    }\n",
       "</style>\n",
       "<table border=\"1\" class=\"dataframe\">\n",
       "  <thead>\n",
       "    <tr style=\"text-align: right;\">\n",
       "      <th></th>\n",
       "      <th>Unnamed: 0</th>\n",
       "      <th>name</th>\n",
       "      <th>age</th>\n",
       "      <th>address</th>\n",
       "      <th>score</th>\n",
       "      <th>grade</th>\n",
       "    </tr>\n",
       "  </thead>\n",
       "  <tbody>\n",
       "    <tr>\n",
       "      <th>0</th>\n",
       "      <td>0</td>\n",
       "      <td>haena</td>\n",
       "      <td>30</td>\n",
       "      <td>dogok</td>\n",
       "      <td>100.0</td>\n",
       "      <td>A</td>\n",
       "    </tr>\n",
       "    <tr>\n",
       "      <th>1</th>\n",
       "      <td>1</td>\n",
       "      <td>naeun</td>\n",
       "      <td>27</td>\n",
       "      <td>suwon</td>\n",
       "      <td>88.0</td>\n",
       "      <td>B</td>\n",
       "    </tr>\n",
       "    <tr>\n",
       "      <th>2</th>\n",
       "      <td>2</td>\n",
       "      <td>una</td>\n",
       "      <td>28</td>\n",
       "      <td>NaN</td>\n",
       "      <td>73.0</td>\n",
       "      <td>C</td>\n",
       "    </tr>\n",
       "    <tr>\n",
       "      <th>3</th>\n",
       "      <td>3</td>\n",
       "      <td>bum</td>\n",
       "      <td>23</td>\n",
       "      <td>ilsan</td>\n",
       "      <td>NaN</td>\n",
       "      <td>B</td>\n",
       "    </tr>\n",
       "    <tr>\n",
       "      <th>4</th>\n",
       "      <td>4</td>\n",
       "      <td>suho</td>\n",
       "      <td>18</td>\n",
       "      <td>yeoyi</td>\n",
       "      <td>95.0</td>\n",
       "      <td>A</td>\n",
       "    </tr>\n",
       "  </tbody>\n",
       "</table>\n",
       "</div>"
      ],
      "text/plain": [
       "   Unnamed: 0   name  age address  score grade\n",
       "0           0  haena   30   dogok  100.0     A\n",
       "1           1  naeun   27   suwon   88.0     B\n",
       "2           2    una   28     NaN   73.0     C\n",
       "3           3    bum   23   ilsan    NaN     B\n",
       "4           4   suho   18   yeoyi   95.0     A"
      ]
     },
     "execution_count": 110,
     "metadata": {},
     "output_type": "execute_result"
    }
   ],
   "source": [
    "to_na = {'address': ['mapo', 'NA'], 'score': [83]}\n",
    "df2 = pd.read_csv('student_grade.csv', na_values = to_na)\n",
    "df2"
   ]
  },
  {
   "cell_type": "code",
   "execution_count": 113,
   "id": "415ec1bf-009d-49bc-b39a-1e76195764ab",
   "metadata": {
    "tags": []
   },
   "outputs": [
    {
     "data": {
      "text/html": [
       "<div>\n",
       "<style scoped>\n",
       "    .dataframe tbody tr th:only-of-type {\n",
       "        vertical-align: middle;\n",
       "    }\n",
       "\n",
       "    .dataframe tbody tr th {\n",
       "        vertical-align: top;\n",
       "    }\n",
       "\n",
       "    .dataframe thead th {\n",
       "        text-align: right;\n",
       "    }\n",
       "</style>\n",
       "<table border=\"1\" class=\"dataframe\">\n",
       "  <thead>\n",
       "    <tr style=\"text-align: right;\">\n",
       "      <th></th>\n",
       "      <th>2</th>\n",
       "      <th>una</th>\n",
       "      <th>28</th>\n",
       "      <th>mapo</th>\n",
       "      <th>73</th>\n",
       "      <th>C</th>\n",
       "    </tr>\n",
       "  </thead>\n",
       "  <tbody>\n",
       "    <tr>\n",
       "      <th>0</th>\n",
       "      <td>3</td>\n",
       "      <td>bum</td>\n",
       "      <td>23</td>\n",
       "      <td>ilsan</td>\n",
       "      <td>83</td>\n",
       "      <td>B</td>\n",
       "    </tr>\n",
       "    <tr>\n",
       "      <th>1</th>\n",
       "      <td>4</td>\n",
       "      <td>suho</td>\n",
       "      <td>18</td>\n",
       "      <td>yeoyi</td>\n",
       "      <td>95</td>\n",
       "      <td>A</td>\n",
       "    </tr>\n",
       "  </tbody>\n",
       "</table>\n",
       "</div>"
      ],
      "text/plain": [
       "   2   una  28   mapo  73  C\n",
       "0  3   bum  23  ilsan  83  B\n",
       "1  4  suho  18  yeoyi  95  A"
      ]
     },
     "execution_count": 113,
     "metadata": {},
     "output_type": "execute_result"
    }
   ],
   "source": [
    "df2 = pd.read_csv('student_grade.csv', skiprows = 3)\n",
    "df2"
   ]
  },
  {
   "cell_type": "code",
   "execution_count": 115,
   "id": "afd3f8b4-77d4-4b58-91f8-d92ff975d690",
   "metadata": {
    "tags": []
   },
   "outputs": [
    {
     "name": "stdout",
     "output_type": "stream",
     "text": [
      "student_grade1.csv not found\n"
     ]
    }
   ],
   "source": [
    "!type student_grade1.csv"
   ]
  },
  {
   "cell_type": "code",
   "execution_count": 116,
   "id": "0a713c80-c0fa-4b62-b3af-cdafbb7ac9e2",
   "metadata": {
    "tags": []
   },
   "outputs": [
    {
     "name": "stdout",
     "output_type": "stream",
     "text": [
      "/Users/raekkkky/Desktop/DNA/Semester_2023_1/Data_Analysis/data-collection-master/student_grade1.csv not found\n"
     ]
    }
   ],
   "source": [
    "!type /Users/raekkkky/Desktop/DNA/Semester_2023_1/Data_Analysis/data-collection-master/student_grade1.csv"
   ]
  },
  {
   "cell_type": "code",
   "execution_count": 118,
   "id": "66430538-28e8-403c-9595-ea97026bb36b",
   "metadata": {
    "tags": []
   },
   "outputs": [
    {
     "data": {
      "text/html": [
       "<div>\n",
       "<style scoped>\n",
       "    .dataframe tbody tr th:only-of-type {\n",
       "        vertical-align: middle;\n",
       "    }\n",
       "\n",
       "    .dataframe tbody tr th {\n",
       "        vertical-align: top;\n",
       "    }\n",
       "\n",
       "    .dataframe thead th {\n",
       "        text-align: right;\n",
       "    }\n",
       "</style>\n",
       "<table border=\"1\" class=\"dataframe\">\n",
       "  <thead>\n",
       "    <tr style=\"text-align: right;\">\n",
       "      <th></th>\n",
       "      <th>,name,age,address,score,grade</th>\n",
       "    </tr>\n",
       "  </thead>\n",
       "  <tbody>\n",
       "    <tr>\n",
       "      <th>0</th>\n",
       "      <td>0,haena,30,dogok,100,A</td>\n",
       "    </tr>\n",
       "    <tr>\n",
       "      <th>1</th>\n",
       "      <td>1,naeun,27,suwon,88,B</td>\n",
       "    </tr>\n",
       "    <tr>\n",
       "      <th>2</th>\n",
       "      <td>2,una,28,mapo,73,C</td>\n",
       "    </tr>\n",
       "    <tr>\n",
       "      <th>3</th>\n",
       "      <td>3,bum,23,ilsan,83,B</td>\n",
       "    </tr>\n",
       "    <tr>\n",
       "      <th>4</th>\n",
       "      <td>4,suho,18,yeoyi,95,A</td>\n",
       "    </tr>\n",
       "  </tbody>\n",
       "</table>\n",
       "</div>"
      ],
      "text/plain": [
       "  ,name,age,address,score,grade\n",
       "0        0,haena,30,dogok,100,A\n",
       "1         1,naeun,27,suwon,88,B\n",
       "2            2,una,28,mapo,73,C\n",
       "3           3,bum,23,ilsan,83,B\n",
       "4          4,suho,18,yeoyi,95,A"
      ]
     },
     "execution_count": 118,
     "metadata": {},
     "output_type": "execute_result"
    }
   ],
   "source": [
    "pd.read_csv('/Users/raekkkky/Desktop/DNA/Semester_2023_1/Data_Analysis/data-collection-master/student_grade1.csv', sep = '|')"
   ]
  },
  {
   "cell_type": "code",
   "execution_count": null,
   "id": "a568545c-b76b-44a3-b5ba-58f56f01735c",
   "metadata": {},
   "outputs": [],
   "source": [
    "# 242~243"
   ]
  },
  {
   "cell_type": "code",
   "execution_count": 3,
   "id": "e600d715-c666-4909-9d4c-2a4a83a2644d",
   "metadata": {
    "tags": []
   },
   "outputs": [
    {
     "name": "stdout",
     "output_type": "stream",
     "text": [
      "Collecting openpyxl\n",
      "  Downloading openpyxl-3.1.2-py2.py3-none-any.whl (249 kB)\n",
      "\u001b[2K     \u001b[90m━━━━━━━━━━━━━━━━━━━━━━━━━━━━━━━━━━━━━━\u001b[0m \u001b[32m250.0/250.0 kB\u001b[0m \u001b[31m12.3 MB/s\u001b[0m eta \u001b[36m0:00:00\u001b[0m\n",
      "\u001b[?25hCollecting et-xmlfile\n",
      "  Downloading et_xmlfile-1.1.0-py3-none-any.whl (4.7 kB)\n",
      "Installing collected packages: et-xmlfile, openpyxl\n",
      "Successfully installed et-xmlfile-1.1.0 openpyxl-3.1.2\n",
      "\n",
      "\u001b[1m[\u001b[0m\u001b[34;49mnotice\u001b[0m\u001b[1;39;49m]\u001b[0m\u001b[39;49m A new release of pip available: \u001b[0m\u001b[31;49m22.3.1\u001b[0m\u001b[39;49m -> \u001b[0m\u001b[32;49m23.1.2\u001b[0m\n",
      "\u001b[1m[\u001b[0m\u001b[34;49mnotice\u001b[0m\u001b[1;39;49m]\u001b[0m\u001b[39;49m To update, run: \u001b[0m\u001b[32;49mpython3.11 -m pip install --upgrade pip\u001b[0m\n",
      "Note: you may need to restart the kernel to use updated packages.\n"
     ]
    }
   ],
   "source": [
    "pip install openpyxl"
   ]
  },
  {
   "cell_type": "code",
   "execution_count": 4,
   "id": "e6f80e7b-7e3d-464f-89d8-77a48a660718",
   "metadata": {
    "tags": []
   },
   "outputs": [],
   "source": [
    "# 4.4.2 이진데이터\n",
    "# 엑셀파일\n",
    "import pandas as pd\n",
    "import numpy as np\n",
    "\n",
    "df1 = pd.read_excel('/Users/raekkkky/Desktop/DNA/Semester_2023_1/Data_Analysis/data-collection-master/shoppingcenter.xlsx')"
   ]
  },
  {
   "cell_type": "code",
   "execution_count": 5,
   "id": "eacfadbb-cffb-47d2-94a3-1ea0fcac7a94",
   "metadata": {
    "collapsed": true,
    "jupyter": {
     "outputs_hidden": true
    },
    "tags": []
   },
   "outputs": [
    {
     "ename": "FileNotFoundError",
     "evalue": "[Errno 2] No such file or directory: 'shoppingcenter.xlsx'",
     "output_type": "error",
     "traceback": [
      "\u001b[0;31m---------------------------------------------------------------------------\u001b[0m",
      "\u001b[0;31mFileNotFoundError\u001b[0m                         Traceback (most recent call last)",
      "Cell \u001b[0;32mIn[5], line 1\u001b[0m\n\u001b[0;32m----> 1\u001b[0m df2 \u001b[38;5;241m=\u001b[39m \u001b[43mpd\u001b[49m\u001b[38;5;241;43m.\u001b[39;49m\u001b[43mread_excel\u001b[49m\u001b[43m(\u001b[49m\u001b[38;5;124;43m'\u001b[39;49m\u001b[38;5;124;43mshoppingcenter.xlsx\u001b[39;49m\u001b[38;5;124;43m'\u001b[39;49m\u001b[43m)\u001b[49m\n",
      "File \u001b[0;32m/opt/homebrew/Cellar/jupyterlab/3.6.1/libexec/lib/python3.11/site-packages/pandas/util/_decorators.py:211\u001b[0m, in \u001b[0;36mdeprecate_kwarg.<locals>._deprecate_kwarg.<locals>.wrapper\u001b[0;34m(*args, **kwargs)\u001b[0m\n\u001b[1;32m    209\u001b[0m     \u001b[38;5;28;01melse\u001b[39;00m:\n\u001b[1;32m    210\u001b[0m         kwargs[new_arg_name] \u001b[38;5;241m=\u001b[39m new_arg_value\n\u001b[0;32m--> 211\u001b[0m \u001b[38;5;28;01mreturn\u001b[39;00m \u001b[43mfunc\u001b[49m\u001b[43m(\u001b[49m\u001b[38;5;241;43m*\u001b[39;49m\u001b[43margs\u001b[49m\u001b[43m,\u001b[49m\u001b[43m \u001b[49m\u001b[38;5;241;43m*\u001b[39;49m\u001b[38;5;241;43m*\u001b[39;49m\u001b[43mkwargs\u001b[49m\u001b[43m)\u001b[49m\n",
      "File \u001b[0;32m/opt/homebrew/Cellar/jupyterlab/3.6.1/libexec/lib/python3.11/site-packages/pandas/util/_decorators.py:331\u001b[0m, in \u001b[0;36mdeprecate_nonkeyword_arguments.<locals>.decorate.<locals>.wrapper\u001b[0;34m(*args, **kwargs)\u001b[0m\n\u001b[1;32m    325\u001b[0m \u001b[38;5;28;01mif\u001b[39;00m \u001b[38;5;28mlen\u001b[39m(args) \u001b[38;5;241m>\u001b[39m num_allow_args:\n\u001b[1;32m    326\u001b[0m     warnings\u001b[38;5;241m.\u001b[39mwarn(\n\u001b[1;32m    327\u001b[0m         msg\u001b[38;5;241m.\u001b[39mformat(arguments\u001b[38;5;241m=\u001b[39m_format_argument_list(allow_args)),\n\u001b[1;32m    328\u001b[0m         \u001b[38;5;167;01mFutureWarning\u001b[39;00m,\n\u001b[1;32m    329\u001b[0m         stacklevel\u001b[38;5;241m=\u001b[39mfind_stack_level(),\n\u001b[1;32m    330\u001b[0m     )\n\u001b[0;32m--> 331\u001b[0m \u001b[38;5;28;01mreturn\u001b[39;00m \u001b[43mfunc\u001b[49m\u001b[43m(\u001b[49m\u001b[38;5;241;43m*\u001b[39;49m\u001b[43margs\u001b[49m\u001b[43m,\u001b[49m\u001b[43m \u001b[49m\u001b[38;5;241;43m*\u001b[39;49m\u001b[38;5;241;43m*\u001b[39;49m\u001b[43mkwargs\u001b[49m\u001b[43m)\u001b[49m\n",
      "File \u001b[0;32m/opt/homebrew/Cellar/jupyterlab/3.6.1/libexec/lib/python3.11/site-packages/pandas/io/excel/_base.py:482\u001b[0m, in \u001b[0;36mread_excel\u001b[0;34m(io, sheet_name, header, names, index_col, usecols, squeeze, dtype, engine, converters, true_values, false_values, skiprows, nrows, na_values, keep_default_na, na_filter, verbose, parse_dates, date_parser, thousands, decimal, comment, skipfooter, convert_float, mangle_dupe_cols, storage_options)\u001b[0m\n\u001b[1;32m    480\u001b[0m \u001b[38;5;28;01mif\u001b[39;00m \u001b[38;5;129;01mnot\u001b[39;00m \u001b[38;5;28misinstance\u001b[39m(io, ExcelFile):\n\u001b[1;32m    481\u001b[0m     should_close \u001b[38;5;241m=\u001b[39m \u001b[38;5;28;01mTrue\u001b[39;00m\n\u001b[0;32m--> 482\u001b[0m     io \u001b[38;5;241m=\u001b[39m \u001b[43mExcelFile\u001b[49m\u001b[43m(\u001b[49m\u001b[43mio\u001b[49m\u001b[43m,\u001b[49m\u001b[43m \u001b[49m\u001b[43mstorage_options\u001b[49m\u001b[38;5;241;43m=\u001b[39;49m\u001b[43mstorage_options\u001b[49m\u001b[43m,\u001b[49m\u001b[43m \u001b[49m\u001b[43mengine\u001b[49m\u001b[38;5;241;43m=\u001b[39;49m\u001b[43mengine\u001b[49m\u001b[43m)\u001b[49m\n\u001b[1;32m    483\u001b[0m \u001b[38;5;28;01melif\u001b[39;00m engine \u001b[38;5;129;01mand\u001b[39;00m engine \u001b[38;5;241m!=\u001b[39m io\u001b[38;5;241m.\u001b[39mengine:\n\u001b[1;32m    484\u001b[0m     \u001b[38;5;28;01mraise\u001b[39;00m \u001b[38;5;167;01mValueError\u001b[39;00m(\n\u001b[1;32m    485\u001b[0m         \u001b[38;5;124m\"\u001b[39m\u001b[38;5;124mEngine should not be specified when passing \u001b[39m\u001b[38;5;124m\"\u001b[39m\n\u001b[1;32m    486\u001b[0m         \u001b[38;5;124m\"\u001b[39m\u001b[38;5;124man ExcelFile - ExcelFile already has the engine set\u001b[39m\u001b[38;5;124m\"\u001b[39m\n\u001b[1;32m    487\u001b[0m     )\n",
      "File \u001b[0;32m/opt/homebrew/Cellar/jupyterlab/3.6.1/libexec/lib/python3.11/site-packages/pandas/io/excel/_base.py:1652\u001b[0m, in \u001b[0;36mExcelFile.__init__\u001b[0;34m(self, path_or_buffer, engine, storage_options)\u001b[0m\n\u001b[1;32m   1650\u001b[0m     ext \u001b[38;5;241m=\u001b[39m \u001b[38;5;124m\"\u001b[39m\u001b[38;5;124mxls\u001b[39m\u001b[38;5;124m\"\u001b[39m\n\u001b[1;32m   1651\u001b[0m \u001b[38;5;28;01melse\u001b[39;00m:\n\u001b[0;32m-> 1652\u001b[0m     ext \u001b[38;5;241m=\u001b[39m \u001b[43minspect_excel_format\u001b[49m\u001b[43m(\u001b[49m\n\u001b[1;32m   1653\u001b[0m \u001b[43m        \u001b[49m\u001b[43mcontent_or_path\u001b[49m\u001b[38;5;241;43m=\u001b[39;49m\u001b[43mpath_or_buffer\u001b[49m\u001b[43m,\u001b[49m\u001b[43m \u001b[49m\u001b[43mstorage_options\u001b[49m\u001b[38;5;241;43m=\u001b[39;49m\u001b[43mstorage_options\u001b[49m\n\u001b[1;32m   1654\u001b[0m \u001b[43m    \u001b[49m\u001b[43m)\u001b[49m\n\u001b[1;32m   1655\u001b[0m     \u001b[38;5;28;01mif\u001b[39;00m ext \u001b[38;5;129;01mis\u001b[39;00m \u001b[38;5;28;01mNone\u001b[39;00m:\n\u001b[1;32m   1656\u001b[0m         \u001b[38;5;28;01mraise\u001b[39;00m \u001b[38;5;167;01mValueError\u001b[39;00m(\n\u001b[1;32m   1657\u001b[0m             \u001b[38;5;124m\"\u001b[39m\u001b[38;5;124mExcel file format cannot be determined, you must specify \u001b[39m\u001b[38;5;124m\"\u001b[39m\n\u001b[1;32m   1658\u001b[0m             \u001b[38;5;124m\"\u001b[39m\u001b[38;5;124man engine manually.\u001b[39m\u001b[38;5;124m\"\u001b[39m\n\u001b[1;32m   1659\u001b[0m         )\n",
      "File \u001b[0;32m/opt/homebrew/Cellar/jupyterlab/3.6.1/libexec/lib/python3.11/site-packages/pandas/io/excel/_base.py:1525\u001b[0m, in \u001b[0;36minspect_excel_format\u001b[0;34m(content_or_path, storage_options)\u001b[0m\n\u001b[1;32m   1522\u001b[0m \u001b[38;5;28;01mif\u001b[39;00m \u001b[38;5;28misinstance\u001b[39m(content_or_path, \u001b[38;5;28mbytes\u001b[39m):\n\u001b[1;32m   1523\u001b[0m     content_or_path \u001b[38;5;241m=\u001b[39m BytesIO(content_or_path)\n\u001b[0;32m-> 1525\u001b[0m \u001b[38;5;28;01mwith\u001b[39;00m \u001b[43mget_handle\u001b[49m\u001b[43m(\u001b[49m\n\u001b[1;32m   1526\u001b[0m \u001b[43m    \u001b[49m\u001b[43mcontent_or_path\u001b[49m\u001b[43m,\u001b[49m\u001b[43m \u001b[49m\u001b[38;5;124;43m\"\u001b[39;49m\u001b[38;5;124;43mrb\u001b[39;49m\u001b[38;5;124;43m\"\u001b[39;49m\u001b[43m,\u001b[49m\u001b[43m \u001b[49m\u001b[43mstorage_options\u001b[49m\u001b[38;5;241;43m=\u001b[39;49m\u001b[43mstorage_options\u001b[49m\u001b[43m,\u001b[49m\u001b[43m \u001b[49m\u001b[43mis_text\u001b[49m\u001b[38;5;241;43m=\u001b[39;49m\u001b[38;5;28;43;01mFalse\u001b[39;49;00m\n\u001b[1;32m   1527\u001b[0m \u001b[43m\u001b[49m\u001b[43m)\u001b[49m \u001b[38;5;28;01mas\u001b[39;00m handle:\n\u001b[1;32m   1528\u001b[0m     stream \u001b[38;5;241m=\u001b[39m handle\u001b[38;5;241m.\u001b[39mhandle\n\u001b[1;32m   1529\u001b[0m     stream\u001b[38;5;241m.\u001b[39mseek(\u001b[38;5;241m0\u001b[39m)\n",
      "File \u001b[0;32m/opt/homebrew/Cellar/jupyterlab/3.6.1/libexec/lib/python3.11/site-packages/pandas/io/common.py:865\u001b[0m, in \u001b[0;36mget_handle\u001b[0;34m(path_or_buf, mode, encoding, compression, memory_map, is_text, errors, storage_options)\u001b[0m\n\u001b[1;32m    856\u001b[0m         handle \u001b[38;5;241m=\u001b[39m \u001b[38;5;28mopen\u001b[39m(\n\u001b[1;32m    857\u001b[0m             handle,\n\u001b[1;32m    858\u001b[0m             ioargs\u001b[38;5;241m.\u001b[39mmode,\n\u001b[0;32m   (...)\u001b[0m\n\u001b[1;32m    861\u001b[0m             newline\u001b[38;5;241m=\u001b[39m\u001b[38;5;124m\"\u001b[39m\u001b[38;5;124m\"\u001b[39m,\n\u001b[1;32m    862\u001b[0m         )\n\u001b[1;32m    863\u001b[0m     \u001b[38;5;28;01melse\u001b[39;00m:\n\u001b[1;32m    864\u001b[0m         \u001b[38;5;66;03m# Binary mode\u001b[39;00m\n\u001b[0;32m--> 865\u001b[0m         handle \u001b[38;5;241m=\u001b[39m \u001b[38;5;28;43mopen\u001b[39;49m\u001b[43m(\u001b[49m\u001b[43mhandle\u001b[49m\u001b[43m,\u001b[49m\u001b[43m \u001b[49m\u001b[43mioargs\u001b[49m\u001b[38;5;241;43m.\u001b[39;49m\u001b[43mmode\u001b[49m\u001b[43m)\u001b[49m\n\u001b[1;32m    866\u001b[0m     handles\u001b[38;5;241m.\u001b[39mappend(handle)\n\u001b[1;32m    868\u001b[0m \u001b[38;5;66;03m# Convert BytesIO or file objects passed with an encoding\u001b[39;00m\n",
      "\u001b[0;31mFileNotFoundError\u001b[0m: [Errno 2] No such file or directory: 'shoppingcenter.xlsx'"
     ]
    }
   ],
   "source": [
    "df2 = pd.read_excel('shoppingcenter.xlsx') # 얜 안됨 할거면 여기에 위치한 상태로 진행해야 함"
   ]
  },
  {
   "cell_type": "code",
   "execution_count": 7,
   "id": "936db792-871b-4d1b-b981-70961237e40c",
   "metadata": {
    "tags": []
   },
   "outputs": [
    {
     "data": {
      "text/html": [
       "<div>\n",
       "<style scoped>\n",
       "    .dataframe tbody tr th:only-of-type {\n",
       "        vertical-align: middle;\n",
       "    }\n",
       "\n",
       "    .dataframe tbody tr th {\n",
       "        vertical-align: top;\n",
       "    }\n",
       "\n",
       "    .dataframe thead th {\n",
       "        text-align: right;\n",
       "    }\n",
       "</style>\n",
       "<table border=\"1\" class=\"dataframe\">\n",
       "  <thead>\n",
       "    <tr style=\"text-align: right;\">\n",
       "      <th></th>\n",
       "      <th>광역시도</th>\n",
       "      <th>시군구</th>\n",
       "      <th>업종대분류</th>\n",
       "      <th>업종중분류</th>\n",
       "      <th>1년미만</th>\n",
       "      <th>1~2년</th>\n",
       "      <th>2~3년</th>\n",
       "      <th>3~5년</th>\n",
       "      <th>5년 이상</th>\n",
       "    </tr>\n",
       "  </thead>\n",
       "  <tbody>\n",
       "    <tr>\n",
       "      <th>0</th>\n",
       "      <td>서울특별시</td>\n",
       "      <td>종로구</td>\n",
       "      <td>관광/여가/오락</td>\n",
       "      <td>연극/영화/극장</td>\n",
       "      <td>1.0</td>\n",
       "      <td>2.0</td>\n",
       "      <td>42.0</td>\n",
       "      <td>39.0</td>\n",
       "      <td>16.0</td>\n",
       "    </tr>\n",
       "    <tr>\n",
       "      <th>1</th>\n",
       "      <td>서울특별시</td>\n",
       "      <td>종로구</td>\n",
       "      <td>관광/여가/오락</td>\n",
       "      <td>전시/관람</td>\n",
       "      <td>0.0</td>\n",
       "      <td>6.0</td>\n",
       "      <td>18.0</td>\n",
       "      <td>35.0</td>\n",
       "      <td>44.0</td>\n",
       "    </tr>\n",
       "    <tr>\n",
       "      <th>2</th>\n",
       "      <td>서울특별시</td>\n",
       "      <td>종로구</td>\n",
       "      <td>관광/여가/오락</td>\n",
       "      <td>PC/오락/당구/볼링등</td>\n",
       "      <td>0.0</td>\n",
       "      <td>5.0</td>\n",
       "      <td>12.0</td>\n",
       "      <td>86.0</td>\n",
       "      <td>20.0</td>\n",
       "    </tr>\n",
       "    <tr>\n",
       "      <th>3</th>\n",
       "      <td>서울특별시</td>\n",
       "      <td>종로구</td>\n",
       "      <td>관광/여가/오락</td>\n",
       "      <td>경마/경륜/성인오락</td>\n",
       "      <td>0.0</td>\n",
       "      <td>1.0</td>\n",
       "      <td>1.0</td>\n",
       "      <td>1.0</td>\n",
       "      <td>2.0</td>\n",
       "    </tr>\n",
       "    <tr>\n",
       "      <th>4</th>\n",
       "      <td>서울특별시</td>\n",
       "      <td>종로구</td>\n",
       "      <td>관광/여가/오락</td>\n",
       "      <td>스포츠/운동</td>\n",
       "      <td>0.0</td>\n",
       "      <td>0.0</td>\n",
       "      <td>1.0</td>\n",
       "      <td>0.0</td>\n",
       "      <td>0.0</td>\n",
       "    </tr>\n",
       "    <tr>\n",
       "      <th>...</th>\n",
       "      <td>...</td>\n",
       "      <td>...</td>\n",
       "      <td>...</td>\n",
       "      <td>...</td>\n",
       "      <td>...</td>\n",
       "      <td>...</td>\n",
       "      <td>...</td>\n",
       "      <td>...</td>\n",
       "      <td>...</td>\n",
       "    </tr>\n",
       "    <tr>\n",
       "      <th>20620</th>\n",
       "      <td>제주특별자치도</td>\n",
       "      <td>서귀포시</td>\n",
       "      <td>학문/교육</td>\n",
       "      <td>학원-예능취미체육</td>\n",
       "      <td>5.0</td>\n",
       "      <td>1.0</td>\n",
       "      <td>1.0</td>\n",
       "      <td>0.0</td>\n",
       "      <td>22.0</td>\n",
       "    </tr>\n",
       "    <tr>\n",
       "      <th>20621</th>\n",
       "      <td>제주특별자치도</td>\n",
       "      <td>서귀포시</td>\n",
       "      <td>학문/교육</td>\n",
       "      <td>학원-보습교습입시</td>\n",
       "      <td>6.0</td>\n",
       "      <td>2.0</td>\n",
       "      <td>3.0</td>\n",
       "      <td>47.0</td>\n",
       "      <td>18.0</td>\n",
       "    </tr>\n",
       "    <tr>\n",
       "      <th>20622</th>\n",
       "      <td>제주특별자치도</td>\n",
       "      <td>서귀포시</td>\n",
       "      <td>학문/교육</td>\n",
       "      <td>학원기타</td>\n",
       "      <td>8.0</td>\n",
       "      <td>1.0</td>\n",
       "      <td>17.0</td>\n",
       "      <td>53.0</td>\n",
       "      <td>28.0</td>\n",
       "    </tr>\n",
       "    <tr>\n",
       "      <th>20623</th>\n",
       "      <td>제주특별자치도</td>\n",
       "      <td>서귀포시</td>\n",
       "      <td>학문/교육</td>\n",
       "      <td>유아교육</td>\n",
       "      <td>0.0</td>\n",
       "      <td>1.0</td>\n",
       "      <td>7.0</td>\n",
       "      <td>5.0</td>\n",
       "      <td>115.0</td>\n",
       "    </tr>\n",
       "    <tr>\n",
       "      <th>20624</th>\n",
       "      <td>제주특별자치도</td>\n",
       "      <td>서귀포시</td>\n",
       "      <td>학문/교육</td>\n",
       "      <td>특수교육기관</td>\n",
       "      <td>0.0</td>\n",
       "      <td>1.0</td>\n",
       "      <td>0.0</td>\n",
       "      <td>0.0</td>\n",
       "      <td>3.0</td>\n",
       "    </tr>\n",
       "  </tbody>\n",
       "</table>\n",
       "<p>20625 rows × 9 columns</p>\n",
       "</div>"
      ],
      "text/plain": [
       "          광역시도   시군구     업종대분류         업종중분류  1년미만  1~2년  2~3년  3~5년  5년 이상\n",
       "0        서울특별시   종로구  관광/여가/오락      연극/영화/극장   1.0   2.0  42.0  39.0   16.0\n",
       "1        서울특별시   종로구  관광/여가/오락         전시/관람   0.0   6.0  18.0  35.0   44.0\n",
       "2        서울특별시   종로구  관광/여가/오락  PC/오락/당구/볼링등   0.0   5.0  12.0  86.0   20.0\n",
       "3        서울특별시   종로구  관광/여가/오락    경마/경륜/성인오락   0.0   1.0   1.0   1.0    2.0\n",
       "4        서울특별시   종로구  관광/여가/오락        스포츠/운동   0.0   0.0   1.0   0.0    0.0\n",
       "...        ...   ...       ...           ...   ...   ...   ...   ...    ...\n",
       "20620  제주특별자치도  서귀포시     학문/교육     학원-예능취미체육   5.0   1.0   1.0   0.0   22.0\n",
       "20621  제주특별자치도  서귀포시     학문/교육     학원-보습교습입시   6.0   2.0   3.0  47.0   18.0\n",
       "20622  제주특별자치도  서귀포시     학문/교육          학원기타   8.0   1.0  17.0  53.0   28.0\n",
       "20623  제주특별자치도  서귀포시     학문/교육          유아교육   0.0   1.0   7.0   5.0  115.0\n",
       "20624  제주특별자치도  서귀포시     학문/교육        특수교육기관   0.0   1.0   0.0   0.0    3.0\n",
       "\n",
       "[20625 rows x 9 columns]"
      ]
     },
     "execution_count": 7,
     "metadata": {},
     "output_type": "execute_result"
    }
   ],
   "source": [
    "df = pd.read_excel('/Users/raekkkky/Desktop/DNA/Semester_2023_1/Data_Analysis/data-collection-master/shoppingcenter.xlsx')\n",
    "df"
   ]
  },
  {
   "cell_type": "code",
   "execution_count": 9,
   "id": "20cf4ec6-0011-4c71-80e4-6a58a677642c",
   "metadata": {},
   "outputs": [
    {
     "data": {
      "text/html": [
       "<div>\n",
       "<style scoped>\n",
       "    .dataframe tbody tr th:only-of-type {\n",
       "        vertical-align: middle;\n",
       "    }\n",
       "\n",
       "    .dataframe tbody tr th {\n",
       "        vertical-align: top;\n",
       "    }\n",
       "\n",
       "    .dataframe thead th {\n",
       "        text-align: right;\n",
       "    }\n",
       "</style>\n",
       "<table border=\"1\" class=\"dataframe\">\n",
       "  <thead>\n",
       "    <tr style=\"text-align: right;\">\n",
       "      <th></th>\n",
       "      <th>광역시도</th>\n",
       "      <th>시군구</th>\n",
       "      <th>업종대분류</th>\n",
       "      <th>업종중분류</th>\n",
       "      <th>1년미만</th>\n",
       "      <th>1~2년</th>\n",
       "      <th>2~3년</th>\n",
       "      <th>3~5년</th>\n",
       "      <th>5년 이상</th>\n",
       "    </tr>\n",
       "  </thead>\n",
       "  <tbody>\n",
       "    <tr>\n",
       "      <th>0</th>\n",
       "      <td>서울특별시</td>\n",
       "      <td>종로구</td>\n",
       "      <td>관광/여가/오락</td>\n",
       "      <td>연극/영화/극장</td>\n",
       "      <td>1</td>\n",
       "      <td>1</td>\n",
       "      <td>16</td>\n",
       "      <td>64</td>\n",
       "      <td>19</td>\n",
       "    </tr>\n",
       "    <tr>\n",
       "      <th>1</th>\n",
       "      <td>서울특별시</td>\n",
       "      <td>종로구</td>\n",
       "      <td>관광/여가/오락</td>\n",
       "      <td>전시/관람</td>\n",
       "      <td>0</td>\n",
       "      <td>0</td>\n",
       "      <td>13</td>\n",
       "      <td>45</td>\n",
       "      <td>46</td>\n",
       "    </tr>\n",
       "    <tr>\n",
       "      <th>2</th>\n",
       "      <td>서울특별시</td>\n",
       "      <td>종로구</td>\n",
       "      <td>관광/여가/오락</td>\n",
       "      <td>PC/오락/당구/볼링등</td>\n",
       "      <td>0</td>\n",
       "      <td>3</td>\n",
       "      <td>9</td>\n",
       "      <td>68</td>\n",
       "      <td>43</td>\n",
       "    </tr>\n",
       "    <tr>\n",
       "      <th>3</th>\n",
       "      <td>서울특별시</td>\n",
       "      <td>종로구</td>\n",
       "      <td>관광/여가/오락</td>\n",
       "      <td>경마/경륜/성인오락</td>\n",
       "      <td>0</td>\n",
       "      <td>1</td>\n",
       "      <td>2</td>\n",
       "      <td>0</td>\n",
       "      <td>3</td>\n",
       "    </tr>\n",
       "    <tr>\n",
       "      <th>4</th>\n",
       "      <td>서울특별시</td>\n",
       "      <td>종로구</td>\n",
       "      <td>관광/여가/오락</td>\n",
       "      <td>스포츠/운동</td>\n",
       "      <td>0</td>\n",
       "      <td>0</td>\n",
       "      <td>1</td>\n",
       "      <td>0</td>\n",
       "      <td>0</td>\n",
       "    </tr>\n",
       "    <tr>\n",
       "      <th>...</th>\n",
       "      <td>...</td>\n",
       "      <td>...</td>\n",
       "      <td>...</td>\n",
       "      <td>...</td>\n",
       "      <td>...</td>\n",
       "      <td>...</td>\n",
       "      <td>...</td>\n",
       "      <td>...</td>\n",
       "      <td>...</td>\n",
       "    </tr>\n",
       "    <tr>\n",
       "      <th>20620</th>\n",
       "      <td>제주특별자치도</td>\n",
       "      <td>서귀포시</td>\n",
       "      <td>학문/교육</td>\n",
       "      <td>학원-예능취미체육</td>\n",
       "      <td>2</td>\n",
       "      <td>3</td>\n",
       "      <td>1</td>\n",
       "      <td>1</td>\n",
       "      <td>22</td>\n",
       "    </tr>\n",
       "    <tr>\n",
       "      <th>20621</th>\n",
       "      <td>제주특별자치도</td>\n",
       "      <td>서귀포시</td>\n",
       "      <td>학문/교육</td>\n",
       "      <td>학원-보습교습입시</td>\n",
       "      <td>3</td>\n",
       "      <td>4</td>\n",
       "      <td>3</td>\n",
       "      <td>47</td>\n",
       "      <td>18</td>\n",
       "    </tr>\n",
       "    <tr>\n",
       "      <th>20622</th>\n",
       "      <td>제주특별자치도</td>\n",
       "      <td>서귀포시</td>\n",
       "      <td>학문/교육</td>\n",
       "      <td>학원기타</td>\n",
       "      <td>4</td>\n",
       "      <td>4</td>\n",
       "      <td>6</td>\n",
       "      <td>64</td>\n",
       "      <td>28</td>\n",
       "    </tr>\n",
       "    <tr>\n",
       "      <th>20623</th>\n",
       "      <td>제주특별자치도</td>\n",
       "      <td>서귀포시</td>\n",
       "      <td>학문/교육</td>\n",
       "      <td>유아교육</td>\n",
       "      <td>0</td>\n",
       "      <td>0</td>\n",
       "      <td>3</td>\n",
       "      <td>9</td>\n",
       "      <td>115</td>\n",
       "    </tr>\n",
       "    <tr>\n",
       "      <th>20624</th>\n",
       "      <td>제주특별자치도</td>\n",
       "      <td>서귀포시</td>\n",
       "      <td>학문/교육</td>\n",
       "      <td>특수교육기관</td>\n",
       "      <td>0</td>\n",
       "      <td>0</td>\n",
       "      <td>1</td>\n",
       "      <td>0</td>\n",
       "      <td>3</td>\n",
       "    </tr>\n",
       "  </tbody>\n",
       "</table>\n",
       "<p>20625 rows × 9 columns</p>\n",
       "</div>"
      ],
      "text/plain": [
       "          광역시도   시군구     업종대분류         업종중분류  1년미만  1~2년  2~3년  3~5년  5년 이상\n",
       "0        서울특별시   종로구  관광/여가/오락      연극/영화/극장     1     1    16    64     19\n",
       "1        서울특별시   종로구  관광/여가/오락         전시/관람     0     0    13    45     46\n",
       "2        서울특별시   종로구  관광/여가/오락  PC/오락/당구/볼링등     0     3     9    68     43\n",
       "3        서울특별시   종로구  관광/여가/오락    경마/경륜/성인오락     0     1     2     0      3\n",
       "4        서울특별시   종로구  관광/여가/오락        스포츠/운동     0     0     1     0      0\n",
       "...        ...   ...       ...           ...   ...   ...   ...   ...    ...\n",
       "20620  제주특별자치도  서귀포시     학문/교육     학원-예능취미체육     2     3     1     1     22\n",
       "20621  제주특별자치도  서귀포시     학문/교육     학원-보습교습입시     3     4     3    47     18\n",
       "20622  제주특별자치도  서귀포시     학문/교육          학원기타     4     4     6    64     28\n",
       "20623  제주특별자치도  서귀포시     학문/교육          유아교육     0     0     3     9    115\n",
       "20624  제주특별자치도  서귀포시     학문/교육        특수교육기관     0     0     1     0      3\n",
       "\n",
       "[20625 rows x 9 columns]"
      ]
     },
     "execution_count": 9,
     "metadata": {},
     "output_type": "execute_result"
    }
   ],
   "source": [
    "df1 = pd.read_excel('/Users/raekkkky/Desktop/DNA/Semester_2023_1/Data_Analysis/data-collection-master/shoppingcenter.xlsx',\n",
    "                    sheet_name = '2018년 하반기 업력현황')\n",
    "df1"
   ]
  },
  {
   "cell_type": "code",
   "execution_count": 11,
   "id": "4224b174-c06b-4afe-88c1-9fcdf5a381ad",
   "metadata": {},
   "outputs": [],
   "source": [
    "df.to_excel('file_with_path.xlsx', sheet_name = 'Sheet1')"
   ]
  },
  {
   "cell_type": "code",
   "execution_count": null,
   "id": "37f467c4-a614-4d4c-8339-a1e89f472699",
   "metadata": {},
   "outputs": [],
   "source": [
    "# 253 ~ 257"
   ]
  },
  {
   "cell_type": "code",
   "execution_count": 16,
   "id": "fca2ddf2-89a1-4cce-bb23-d96588d8cd64",
   "metadata": {},
   "outputs": [
    {
     "data": {
      "text/html": [
       "<div>\n",
       "<style scoped>\n",
       "    .dataframe tbody tr th:only-of-type {\n",
       "        vertical-align: middle;\n",
       "    }\n",
       "\n",
       "    .dataframe tbody tr th {\n",
       "        vertical-align: top;\n",
       "    }\n",
       "\n",
       "    .dataframe thead th {\n",
       "        text-align: right;\n",
       "    }\n",
       "</style>\n",
       "<table border=\"1\" class=\"dataframe\">\n",
       "  <thead>\n",
       "    <tr style=\"text-align: right;\">\n",
       "      <th></th>\n",
       "      <th>site_code</th>\n",
       "      <th>test_no</th>\n",
       "      <th>average</th>\n",
       "    </tr>\n",
       "  </thead>\n",
       "  <tbody>\n",
       "    <tr>\n",
       "      <th>0</th>\n",
       "      <td>104</td>\n",
       "      <td>1</td>\n",
       "      <td>0.008</td>\n",
       "    </tr>\n",
       "    <tr>\n",
       "      <th>1</th>\n",
       "      <td>102</td>\n",
       "      <td>8</td>\n",
       "      <td>101.000</td>\n",
       "    </tr>\n",
       "    <tr>\n",
       "      <th>2</th>\n",
       "      <td>102</td>\n",
       "      <td>9</td>\n",
       "      <td>64.000</td>\n",
       "    </tr>\n",
       "    <tr>\n",
       "      <th>3</th>\n",
       "      <td>102</td>\n",
       "      <td>6</td>\n",
       "      <td>0.071</td>\n",
       "    </tr>\n",
       "    <tr>\n",
       "      <th>4</th>\n",
       "      <td>102</td>\n",
       "      <td>1</td>\n",
       "      <td>0.005</td>\n",
       "    </tr>\n",
       "    <tr>\n",
       "      <th>...</th>\n",
       "      <td>...</td>\n",
       "      <td>...</td>\n",
       "      <td>...</td>\n",
       "    </tr>\n",
       "    <tr>\n",
       "      <th>291595</th>\n",
       "      <td>116</td>\n",
       "      <td>3</td>\n",
       "      <td>0.021</td>\n",
       "    </tr>\n",
       "    <tr>\n",
       "      <th>291596</th>\n",
       "      <td>116</td>\n",
       "      <td>8</td>\n",
       "      <td>19.000</td>\n",
       "    </tr>\n",
       "    <tr>\n",
       "      <th>291597</th>\n",
       "      <td>124</td>\n",
       "      <td>6</td>\n",
       "      <td>0.014</td>\n",
       "    </tr>\n",
       "    <tr>\n",
       "      <th>291598</th>\n",
       "      <td>110</td>\n",
       "      <td>9</td>\n",
       "      <td>11.000</td>\n",
       "    </tr>\n",
       "    <tr>\n",
       "      <th>291599</th>\n",
       "      <td>116</td>\n",
       "      <td>6</td>\n",
       "      <td>0.025</td>\n",
       "    </tr>\n",
       "  </tbody>\n",
       "</table>\n",
       "<p>291600 rows × 3 columns</p>\n",
       "</div>"
      ],
      "text/plain": [
       "        site_code  test_no  average\n",
       "0             104        1    0.008\n",
       "1             102        8  101.000\n",
       "2             102        9   64.000\n",
       "3             102        6    0.071\n",
       "4             102        1    0.005\n",
       "...           ...      ...      ...\n",
       "291595        116        3    0.021\n",
       "291596        116        8   19.000\n",
       "291597        124        6    0.014\n",
       "291598        110        9   11.000\n",
       "291599        116        6    0.025\n",
       "\n",
       "[291600 rows x 3 columns]"
      ]
     },
     "execution_count": 16,
     "metadata": {},
     "output_type": "execute_result"
    }
   ],
   "source": [
    "# 4.4.4 기상청 대용량 데이터 세트의 처리\n",
    "\n",
    "df = pd.read_csv('/Users/raekkkky/Desktop/DNA/Semester_2023_1/Data_Analysis/data-collection-master/air_test.csv')\n",
    "df"
   ]
  },
  {
   "cell_type": "code",
   "execution_count": 17,
   "id": "857c43a2-d537-4117-9b02-23efc1af8c38",
   "metadata": {},
   "outputs": [
    {
     "data": {
      "text/plain": [
       "<pandas.io.parsers.readers.TextFileReader at 0x12b31b290>"
      ]
     },
     "execution_count": 17,
     "metadata": {},
     "output_type": "execute_result"
    }
   ],
   "source": [
    "df_chunk = pd.read_csv('/Users/raekkkky/Desktop/DNA/Semester_2023_1/Data_Analysis/data-collection-master/air_test.csv',\n",
    "                       chunksize = 10000)\n",
    "df_chunk"
   ]
  },
  {
   "cell_type": "code",
   "execution_count": 18,
   "id": "ef5eeda1-09d5-4787-9200-babf556a29a8",
   "metadata": {
    "collapsed": true,
    "jupyter": {
     "outputs_hidden": true
    },
    "tags": []
   },
   "outputs": [
    {
     "name": "stdout",
     "output_type": "stream",
     "text": [
      "      site_code  test_no  average\n",
      "0           104        1    0.008\n",
      "1           102        8  101.000\n",
      "2           102        9   64.000\n",
      "3           102        6    0.071\n",
      "4           102        1    0.005\n",
      "...         ...      ...      ...\n",
      "9995        107        3    0.065\n",
      "9996        125        9   98.000\n",
      "9997        125        8  137.000\n",
      "9998        125        6    0.029\n",
      "9999        125        5    0.900\n",
      "\n",
      "[10000 rows x 3 columns]\n",
      "       site_code  test_no  average\n",
      "10000        125        1    0.005\n",
      "10001        125        3    0.050\n",
      "10002        109        9   84.000\n",
      "10003        109        8  114.000\n",
      "10004        109        6    0.026\n",
      "...          ...      ...      ...\n",
      "19995        106        6    0.005\n",
      "19996        106        5    0.800\n",
      "19997        106        1    0.005\n",
      "19998        106        3    0.058\n",
      "19999        110        9   38.000\n",
      "\n",
      "[10000 rows x 3 columns]\n",
      "       site_code  test_no  average\n",
      "20000        110        8   51.000\n",
      "20001        110        6    0.005\n",
      "20002        110        5    0.700\n",
      "20003        110        1    0.008\n",
      "20004        110        3    0.037\n",
      "...          ...      ...      ...\n",
      "29995        102        5    0.900\n",
      "29996        102        3    0.059\n",
      "29997        102        1    0.006\n",
      "29998        102        6    0.011\n",
      "29999        102        9   41.000\n",
      "\n",
      "[10000 rows x 3 columns]\n",
      "       site_code  test_no  average\n",
      "30000        117        8   71.000\n",
      "30001        122        9   36.000\n",
      "30002        122        8   50.000\n",
      "30003        122        6    0.005\n",
      "30004        122        5    0.700\n",
      "...          ...      ...      ...\n",
      "39995        107        3    0.058\n",
      "39996        125        9   65.000\n",
      "39997        125        8   73.000\n",
      "39998        125        6    0.022\n",
      "39999        125        5    0.800\n",
      "\n",
      "[10000 rows x 3 columns]\n",
      "       site_code  test_no  average\n",
      "40000        125        1    0.006\n",
      "40001        125        3    0.046\n",
      "40002        109        9   63.000\n",
      "40003        109        8   73.000\n",
      "40004        109        6    0.025\n",
      "...          ...      ...      ...\n",
      "49995        102        8   42.000\n",
      "49996        122        9   24.000\n",
      "49997        122        8   43.000\n",
      "49998        122        6    0.005\n",
      "49999        122        5    0.300\n",
      "\n",
      "[10000 rows x 3 columns]\n",
      "       site_code  test_no  average\n",
      "50000        122        1    0.004\n",
      "50001        122        3    0.052\n",
      "50002        105        9   33.000\n",
      "50003        105        8   46.000\n",
      "50004        105        6    0.007\n",
      "...          ...      ...      ...\n",
      "59995        117        9   32.000\n",
      "59996        117        8   41.000\n",
      "59997        117        6    0.035\n",
      "59998        117        5    0.400\n",
      "59999        117        1    0.004\n",
      "\n",
      "[10000 rows x 3 columns]\n",
      "       site_code  test_no  average\n",
      "60000        118        9   33.000\n",
      "60001        122        9   29.000\n",
      "60002        122        8   34.000\n",
      "60003        122        6    0.032\n",
      "60004        122        5    0.400\n",
      "...          ...      ...      ...\n",
      "69995        102        3    0.049\n",
      "69996        102        1    0.004\n",
      "69997        102        6    0.005\n",
      "69998        102        9   22.000\n",
      "69999        102        8   40.000\n",
      "\n",
      "[10000 rows x 3 columns]\n",
      "       site_code  test_no  average\n",
      "70000        122        9   17.000\n",
      "70001        122        8   45.000\n",
      "70002        122        6    0.006\n",
      "70003        122        5    0.400\n",
      "70004        122        1    0.005\n",
      "...          ...      ...      ...\n",
      "79995        101        6    0.015\n",
      "79996        101        5    0.700\n",
      "79997        101        1    0.004\n",
      "79998        101        3    0.035\n",
      "79999        104        9   23.000\n",
      "\n",
      "[10000 rows x 3 columns]\n",
      "       site_code  test_no  average\n",
      "80000        104        8   46.000\n",
      "80001        104        6    0.023\n",
      "80002        104        5    0.800\n",
      "80003        104        1    0.006\n",
      "80004        104        3    0.021\n",
      "...          ...      ...      ...\n",
      "89995        102        5    0.400\n",
      "89996        102        3    0.017\n",
      "89997        102        1    0.002\n",
      "89998        102        6    0.032\n",
      "89999        102        9   11.000\n",
      "\n",
      "[10000 rows x 3 columns]\n",
      "       site_code  test_no  average\n",
      "90000        115        9   17.000\n",
      "90001        101        9   15.000\n",
      "90002        101        8   28.000\n",
      "90003        101        6    0.029\n",
      "90004        101        5    0.400\n",
      "...          ...      ...      ...\n",
      "99995        119        8   45.000\n",
      "99996        119        6    0.068\n",
      "99997        119        5    0.200\n",
      "99998        119        1    0.004\n",
      "99999        119        3    0.025\n",
      "\n",
      "[10000 rows x 3 columns]\n",
      "        site_code  test_no  average\n",
      "100000        123        9   19.000\n",
      "100001        123        8   33.000\n",
      "100002        123        6    0.005\n",
      "100003        123        5    0.500\n",
      "100004        123        1    0.004\n",
      "...           ...      ...      ...\n",
      "109995        119        1    0.005\n",
      "109996        119        3    0.037\n",
      "109997        123        9   35.000\n",
      "109998        123        8   40.000\n",
      "109999        123        6    0.002\n",
      "\n",
      "[10000 rows x 3 columns]\n",
      "        site_code  test_no  average\n",
      "110000        123        5    0.600\n",
      "110001        123        1    0.007\n",
      "110002        123        3    0.039\n",
      "110003        124        9   30.000\n",
      "110004        110        1    0.008\n",
      "...           ...      ...      ...\n",
      "119995        106        3    0.050\n",
      "119996        115        8  110.000\n",
      "119997        102        9   40.000\n",
      "119998        115        9   64.000\n",
      "119999        102        8   74.000\n",
      "\n",
      "[10000 rows x 3 columns]\n",
      "        site_code  test_no  average\n",
      "120000        118        9   34.000\n",
      "120001        122        9   36.000\n",
      "120002        122        8   74.000\n",
      "120003        122        6    0.003\n",
      "120004        122        5    1.000\n",
      "...           ...      ...      ...\n",
      "129995        124        5    0.400\n",
      "129996        123        3    0.015\n",
      "129997        124        9   12.000\n",
      "129998        124        8   31.000\n",
      "129999        124        6    0.027\n",
      "\n",
      "[10000 rows x 3 columns]\n",
      "        site_code  test_no  average\n",
      "130000        105        3    0.016\n",
      "130001        123        9   26.000\n",
      "130002        123        5    0.400\n",
      "130003        101        5    0.500\n",
      "130004        101        3    0.025\n",
      "...           ...      ...      ...\n",
      "139995        123        9   24.000\n",
      "139996        119        5    0.600\n",
      "139997        123        5    0.600\n",
      "139998        123        6    0.002\n",
      "139999        123        8   37.000\n",
      "\n",
      "[10000 rows x 3 columns]\n",
      "        site_code  test_no  average\n",
      "140000        119        6    0.006\n",
      "140001        124        8   42.000\n",
      "140002        124        9   20.000\n",
      "140003        124        6    0.002\n",
      "140004        123        3    0.055\n",
      "...           ...      ...      ...\n",
      "149995        113        6    0.002\n",
      "149996        113        8   56.000\n",
      "149997        113        5    1.200\n",
      "149998        113        9   23.000\n",
      "149999        109        9   23.000\n",
      "\n",
      "[10000 rows x 3 columns]\n",
      "        site_code  test_no  average\n",
      "150000        110        5    0.700\n",
      "150001        120        3    0.052\n",
      "150002        104        1    0.005\n",
      "150003        104        3    0.040\n",
      "150004        117        3    0.050\n",
      "...           ...      ...      ...\n",
      "159995        104        5    1.300\n",
      "159996        104        6    0.004\n",
      "159997        124        5    1.300\n",
      "159998        107        6    0.002\n",
      "159999        107        8  107.000\n",
      "\n",
      "[10000 rows x 3 columns]\n",
      "        site_code  test_no  average\n",
      "160000        107        5    1.100\n",
      "160001        107        9   78.000\n",
      "160002        107        3    0.057\n",
      "160003        104        3    0.052\n",
      "160004        107        1    0.005\n",
      "...           ...      ...      ...\n",
      "169995        105        8   47.000\n",
      "169996        101        1    0.004\n",
      "169997        111        5    0.600\n",
      "169998        105        5    0.600\n",
      "169999        101        5    0.500\n",
      "\n",
      "[10000 rows x 3 columns]\n",
      "        site_code  test_no  average\n",
      "170000        121        3    0.023\n",
      "170001        105        6    0.018\n",
      "170002        108        9   18.000\n",
      "170003        117        6    0.022\n",
      "170004        117        8   29.000\n",
      "...           ...      ...      ...\n",
      "179995        105        6    0.022\n",
      "179996        109        6    0.026\n",
      "179997        112        8  147.000\n",
      "179998        114        5    1.100\n",
      "179999        114        3    0.043\n",
      "\n",
      "[10000 rows x 3 columns]\n",
      "        site_code  test_no  average\n",
      "180000        106        6    0.025\n",
      "180001        125        9   68.000\n",
      "180002        101        6    0.034\n",
      "180003        119        1    0.004\n",
      "180004        119        3    0.038\n",
      "...           ...      ...      ...\n",
      "189995        109        1    0.007\n",
      "189996        112        6    0.002\n",
      "189997        109        3    0.050\n",
      "189998        112        1    0.004\n",
      "189999        112        5    0.800\n",
      "\n",
      "[10000 rows x 3 columns]\n",
      "        site_code  test_no  average\n",
      "190000        112        3    0.042\n",
      "190001        109        8   54.000\n",
      "190002        109        6    0.002\n",
      "190003        109        5    0.900\n",
      "190004        109        9   43.000\n",
      "...           ...      ...      ...\n",
      "199995        102        9   17.000\n",
      "199996        115        5    0.500\n",
      "199997        120        5    0.400\n",
      "199998        119        9   19.000\n",
      "199999        120        9   21.000\n",
      "\n",
      "[10000 rows x 3 columns]\n",
      "        site_code  test_no  average\n",
      "200000        119        6    0.015\n",
      "200001        119        1    0.005\n",
      "200002        108        3    0.022\n",
      "200003        119        8   25.000\n",
      "200004        123        9   18.000\n",
      "...           ...      ...      ...\n",
      "209995        101        6    0.019\n",
      "209996        122        9   23.000\n",
      "209997        105        3    0.021\n",
      "209998        104        8   63.000\n",
      "209999        104        9   37.000\n",
      "\n",
      "[10000 rows x 3 columns]\n",
      "        site_code  test_no  average\n",
      "210000        102        8   56.000\n",
      "210001        102        9   33.000\n",
      "210002        102        6    0.015\n",
      "210003        102        1    0.005\n",
      "210004        102        3    0.032\n",
      "...           ...      ...      ...\n",
      "219995        117        9   19.000\n",
      "219996        118        8   44.000\n",
      "219997        118        9   28.000\n",
      "219998        118        6    0.019\n",
      "219999        118        1    0.005\n",
      "\n",
      "[10000 rows x 3 columns]\n",
      "        site_code  test_no  average\n",
      "220000        118        3    0.037\n",
      "220001        118        5    0.500\n",
      "220002        114        8   33.000\n",
      "220003        114        9   22.000\n",
      "220004        114        6    0.024\n",
      "...           ...      ...      ...\n",
      "229995        109        6    0.003\n",
      "229996        109        8   29.000\n",
      "229997        109        9   23.000\n",
      "229998        113        3    0.040\n",
      "229999        113        1    0.004\n",
      "\n",
      "[10000 rows x 3 columns]\n",
      "        site_code  test_no  average\n",
      "230000        113        5    1.200\n",
      "230001        113        6    0.003\n",
      "230002        113        8   35.000\n",
      "230003        113        9   23.000\n",
      "230004        107        3    0.043\n",
      "...           ...      ...      ...\n",
      "239995        121        8   28.000\n",
      "239996        122        5    0.200\n",
      "239997        122        9    2.000\n",
      "239998        122        6    0.021\n",
      "239999        122        8   26.000\n",
      "\n",
      "[10000 rows x 3 columns]\n",
      "        site_code  test_no  average\n",
      "240000        110        3    0.013\n",
      "240001        110        1    0.006\n",
      "240002        110        5    0.400\n",
      "240003        110        6    0.018\n",
      "240004        110        8   22.000\n",
      "...           ...      ...      ...\n",
      "249995        119        9   24.000\n",
      "249996        116        3    0.057\n",
      "249997        116        1    0.005\n",
      "249998        116        8   32.000\n",
      "249999        116        5    0.800\n",
      "\n",
      "[10000 rows x 3 columns]\n",
      "        site_code  test_no  average\n",
      "250000        116        6    0.002\n",
      "250001        116        9   17.000\n",
      "250002        111        6    0.002\n",
      "250003        111        5    0.800\n",
      "250004        111        1    0.004\n",
      "...           ...      ...      ...\n",
      "259995        109        3    0.041\n",
      "259996        109        1    0.011\n",
      "259997        109        5    0.900\n",
      "259998        109        6    0.019\n",
      "259999        109        8   95.000\n",
      "\n",
      "[10000 rows x 3 columns]\n",
      "        site_code  test_no  average\n",
      "260000        109        9   85.000\n",
      "260001        103        3    0.045\n",
      "260002        103        1    0.005\n",
      "260003        103        5    0.800\n",
      "260004        103        6    0.017\n",
      "...           ...      ...      ...\n",
      "269995        122        9   21.000\n",
      "269996        105        1    0.015\n",
      "269997        105        5    1.100\n",
      "269998        108        8   54.000\n",
      "269999        105        3    0.050\n",
      "\n",
      "[10000 rows x 3 columns]\n",
      "        site_code  test_no  average\n",
      "270000        102        8   47.000\n",
      "270001        102        9   27.000\n",
      "270002        102        1    0.005\n",
      "270003        102        6    0.002\n",
      "270004        102        3    0.059\n",
      "...           ...      ...      ...\n",
      "279995        107        3    0.042\n",
      "279996        107        5    0.500\n",
      "279997        107        1    0.007\n",
      "279998        107        6    0.002\n",
      "279999        107        8   42.000\n",
      "\n",
      "[10000 rows x 3 columns]\n",
      "        site_code  test_no  average\n",
      "280000        107        9   32.000\n",
      "280001        103        3    0.052\n",
      "280002        103        1    0.004\n",
      "280003        103        5    0.800\n",
      "280004        103        6    0.001\n",
      "...           ...      ...      ...\n",
      "289995        113        6    0.011\n",
      "289996        113        8   19.000\n",
      "289997        113        9   12.000\n",
      "289998        109        3    0.020\n",
      "289999        109        1    0.007\n",
      "\n",
      "[10000 rows x 3 columns]\n",
      "        site_code  test_no  average\n",
      "290000        109        5    0.600\n",
      "290001        109        6    0.017\n",
      "290002        109        8   21.000\n",
      "290003        109        9   13.000\n",
      "290004        125        3    0.036\n",
      "...           ...      ...      ...\n",
      "291595        116        3    0.021\n",
      "291596        116        8   19.000\n",
      "291597        124        6    0.014\n",
      "291598        110        9   11.000\n",
      "291599        116        6    0.025\n",
      "\n",
      "[1600 rows x 3 columns]\n"
     ]
    }
   ],
   "source": [
    "for chunk in df_chunk: \n",
    "    print(chunk)"
   ]
  },
  {
   "cell_type": "code",
   "execution_count": 19,
   "id": "932135f7-18d4-4ab4-b0a0-a1c1eee85c9e",
   "metadata": {},
   "outputs": [
    {
     "data": {
      "text/plain": [
       "pandas.core.frame.DataFrame"
      ]
     },
     "execution_count": 19,
     "metadata": {},
     "output_type": "execute_result"
    }
   ],
   "source": [
    "type(chunk)"
   ]
  },
  {
   "cell_type": "code",
   "execution_count": 21,
   "id": "a4f1f71c-3275-4c0b-8f3d-e27050dcda5f",
   "metadata": {
    "collapsed": true,
    "jupyter": {
     "outputs_hidden": true
    },
    "tags": []
   },
   "outputs": [
    {
     "ename": "ValueError",
     "evalue": "No objects to concatenate",
     "output_type": "error",
     "traceback": [
      "\u001b[0;31m---------------------------------------------------------------------------\u001b[0m",
      "\u001b[0;31mValueError\u001b[0m                                Traceback (most recent call last)",
      "Cell \u001b[0;32mIn[21], line 1\u001b[0m\n\u001b[0;32m----> 1\u001b[0m \u001b[43mpd\u001b[49m\u001b[38;5;241;43m.\u001b[39;49m\u001b[43mconcat\u001b[49m\u001b[43m(\u001b[49m\u001b[43mdf_chunk\u001b[49m\u001b[43m,\u001b[49m\u001b[43m \u001b[49m\u001b[43mignore_index\u001b[49m\u001b[38;5;241;43m=\u001b[39;49m\u001b[38;5;28;43;01mTrue\u001b[39;49;00m\u001b[43m)\u001b[49m\n",
      "File \u001b[0;32m/opt/homebrew/Cellar/jupyterlab/3.6.1/libexec/lib/python3.11/site-packages/pandas/util/_decorators.py:331\u001b[0m, in \u001b[0;36mdeprecate_nonkeyword_arguments.<locals>.decorate.<locals>.wrapper\u001b[0;34m(*args, **kwargs)\u001b[0m\n\u001b[1;32m    325\u001b[0m \u001b[38;5;28;01mif\u001b[39;00m \u001b[38;5;28mlen\u001b[39m(args) \u001b[38;5;241m>\u001b[39m num_allow_args:\n\u001b[1;32m    326\u001b[0m     warnings\u001b[38;5;241m.\u001b[39mwarn(\n\u001b[1;32m    327\u001b[0m         msg\u001b[38;5;241m.\u001b[39mformat(arguments\u001b[38;5;241m=\u001b[39m_format_argument_list(allow_args)),\n\u001b[1;32m    328\u001b[0m         \u001b[38;5;167;01mFutureWarning\u001b[39;00m,\n\u001b[1;32m    329\u001b[0m         stacklevel\u001b[38;5;241m=\u001b[39mfind_stack_level(),\n\u001b[1;32m    330\u001b[0m     )\n\u001b[0;32m--> 331\u001b[0m \u001b[38;5;28;01mreturn\u001b[39;00m \u001b[43mfunc\u001b[49m\u001b[43m(\u001b[49m\u001b[38;5;241;43m*\u001b[39;49m\u001b[43margs\u001b[49m\u001b[43m,\u001b[49m\u001b[43m \u001b[49m\u001b[38;5;241;43m*\u001b[39;49m\u001b[38;5;241;43m*\u001b[39;49m\u001b[43mkwargs\u001b[49m\u001b[43m)\u001b[49m\n",
      "File \u001b[0;32m/opt/homebrew/Cellar/jupyterlab/3.6.1/libexec/lib/python3.11/site-packages/pandas/core/reshape/concat.py:368\u001b[0m, in \u001b[0;36mconcat\u001b[0;34m(objs, axis, join, ignore_index, keys, levels, names, verify_integrity, sort, copy)\u001b[0m\n\u001b[1;32m    146\u001b[0m \u001b[38;5;129m@deprecate_nonkeyword_arguments\u001b[39m(version\u001b[38;5;241m=\u001b[39m\u001b[38;5;28;01mNone\u001b[39;00m, allowed_args\u001b[38;5;241m=\u001b[39m[\u001b[38;5;124m\"\u001b[39m\u001b[38;5;124mobjs\u001b[39m\u001b[38;5;124m\"\u001b[39m])\n\u001b[1;32m    147\u001b[0m \u001b[38;5;28;01mdef\u001b[39;00m \u001b[38;5;21mconcat\u001b[39m(\n\u001b[1;32m    148\u001b[0m     objs: Iterable[NDFrame] \u001b[38;5;241m|\u001b[39m Mapping[HashableT, NDFrame],\n\u001b[0;32m   (...)\u001b[0m\n\u001b[1;32m    157\u001b[0m     copy: \u001b[38;5;28mbool\u001b[39m \u001b[38;5;241m=\u001b[39m \u001b[38;5;28;01mTrue\u001b[39;00m,\n\u001b[1;32m    158\u001b[0m ) \u001b[38;5;241m-\u001b[39m\u001b[38;5;241m>\u001b[39m DataFrame \u001b[38;5;241m|\u001b[39m Series:\n\u001b[1;32m    159\u001b[0m \u001b[38;5;250m    \u001b[39m\u001b[38;5;124;03m\"\"\"\u001b[39;00m\n\u001b[1;32m    160\u001b[0m \u001b[38;5;124;03m    Concatenate pandas objects along a particular axis.\u001b[39;00m\n\u001b[1;32m    161\u001b[0m \n\u001b[0;32m   (...)\u001b[0m\n\u001b[1;32m    366\u001b[0m \u001b[38;5;124;03m    1   3   4\u001b[39;00m\n\u001b[1;32m    367\u001b[0m \u001b[38;5;124;03m    \"\"\"\u001b[39;00m\n\u001b[0;32m--> 368\u001b[0m     op \u001b[38;5;241m=\u001b[39m \u001b[43m_Concatenator\u001b[49m\u001b[43m(\u001b[49m\n\u001b[1;32m    369\u001b[0m \u001b[43m        \u001b[49m\u001b[43mobjs\u001b[49m\u001b[43m,\u001b[49m\n\u001b[1;32m    370\u001b[0m \u001b[43m        \u001b[49m\u001b[43maxis\u001b[49m\u001b[38;5;241;43m=\u001b[39;49m\u001b[43maxis\u001b[49m\u001b[43m,\u001b[49m\n\u001b[1;32m    371\u001b[0m \u001b[43m        \u001b[49m\u001b[43mignore_index\u001b[49m\u001b[38;5;241;43m=\u001b[39;49m\u001b[43mignore_index\u001b[49m\u001b[43m,\u001b[49m\n\u001b[1;32m    372\u001b[0m \u001b[43m        \u001b[49m\u001b[43mjoin\u001b[49m\u001b[38;5;241;43m=\u001b[39;49m\u001b[43mjoin\u001b[49m\u001b[43m,\u001b[49m\n\u001b[1;32m    373\u001b[0m \u001b[43m        \u001b[49m\u001b[43mkeys\u001b[49m\u001b[38;5;241;43m=\u001b[39;49m\u001b[43mkeys\u001b[49m\u001b[43m,\u001b[49m\n\u001b[1;32m    374\u001b[0m \u001b[43m        \u001b[49m\u001b[43mlevels\u001b[49m\u001b[38;5;241;43m=\u001b[39;49m\u001b[43mlevels\u001b[49m\u001b[43m,\u001b[49m\n\u001b[1;32m    375\u001b[0m \u001b[43m        \u001b[49m\u001b[43mnames\u001b[49m\u001b[38;5;241;43m=\u001b[39;49m\u001b[43mnames\u001b[49m\u001b[43m,\u001b[49m\n\u001b[1;32m    376\u001b[0m \u001b[43m        \u001b[49m\u001b[43mverify_integrity\u001b[49m\u001b[38;5;241;43m=\u001b[39;49m\u001b[43mverify_integrity\u001b[49m\u001b[43m,\u001b[49m\n\u001b[1;32m    377\u001b[0m \u001b[43m        \u001b[49m\u001b[43mcopy\u001b[49m\u001b[38;5;241;43m=\u001b[39;49m\u001b[43mcopy\u001b[49m\u001b[43m,\u001b[49m\n\u001b[1;32m    378\u001b[0m \u001b[43m        \u001b[49m\u001b[43msort\u001b[49m\u001b[38;5;241;43m=\u001b[39;49m\u001b[43msort\u001b[49m\u001b[43m,\u001b[49m\n\u001b[1;32m    379\u001b[0m \u001b[43m    \u001b[49m\u001b[43m)\u001b[49m\n\u001b[1;32m    381\u001b[0m     \u001b[38;5;28;01mreturn\u001b[39;00m op\u001b[38;5;241m.\u001b[39mget_result()\n",
      "File \u001b[0;32m/opt/homebrew/Cellar/jupyterlab/3.6.1/libexec/lib/python3.11/site-packages/pandas/core/reshape/concat.py:425\u001b[0m, in \u001b[0;36m_Concatenator.__init__\u001b[0;34m(self, objs, axis, join, keys, levels, names, ignore_index, verify_integrity, copy, sort)\u001b[0m\n\u001b[1;32m    422\u001b[0m     objs \u001b[38;5;241m=\u001b[39m \u001b[38;5;28mlist\u001b[39m(objs)\n\u001b[1;32m    424\u001b[0m \u001b[38;5;28;01mif\u001b[39;00m \u001b[38;5;28mlen\u001b[39m(objs) \u001b[38;5;241m==\u001b[39m \u001b[38;5;241m0\u001b[39m:\n\u001b[0;32m--> 425\u001b[0m     \u001b[38;5;28;01mraise\u001b[39;00m \u001b[38;5;167;01mValueError\u001b[39;00m(\u001b[38;5;124m\"\u001b[39m\u001b[38;5;124mNo objects to concatenate\u001b[39m\u001b[38;5;124m\"\u001b[39m)\n\u001b[1;32m    427\u001b[0m \u001b[38;5;28;01mif\u001b[39;00m keys \u001b[38;5;129;01mis\u001b[39;00m \u001b[38;5;28;01mNone\u001b[39;00m:\n\u001b[1;32m    428\u001b[0m     objs \u001b[38;5;241m=\u001b[39m \u001b[38;5;28mlist\u001b[39m(com\u001b[38;5;241m.\u001b[39mnot_none(\u001b[38;5;241m*\u001b[39mobjs))\n",
      "\u001b[0;31mValueError\u001b[0m: No objects to concatenate"
     ]
    }
   ],
   "source": [
    "pd.concat(df_chunk, ignore_index=True) # 이거 왜 안됨?"
   ]
  },
  {
   "cell_type": "code",
   "execution_count": 22,
   "id": "5f7c8366-8dc1-4c79-b330-8dd708856a9f",
   "metadata": {},
   "outputs": [
    {
     "data": {
      "text/plain": [
       "0    a\n",
       "1    b\n",
       "0    c\n",
       "1    d\n",
       "dtype: object"
      ]
     },
     "execution_count": 22,
     "metadata": {},
     "output_type": "execute_result"
    }
   ],
   "source": [
    "ser1 = pd.Series(['a', 'b'])\n",
    "ser2 = pd.Series(['c', 'd'])\n",
    "pd.concat([ser1, ser2])"
   ]
  },
  {
   "cell_type": "code",
   "execution_count": 23,
   "id": "7e0db960-c400-4906-be31-2141da660f33",
   "metadata": {},
   "outputs": [
    {
     "data": {
      "text/plain": [
       "0    a\n",
       "1    b\n",
       "2    c\n",
       "3    d\n",
       "dtype: object"
      ]
     },
     "execution_count": 23,
     "metadata": {},
     "output_type": "execute_result"
    }
   ],
   "source": [
    "pd.concat([ser1, ser2], ignore_index=True) # 얜 되네?"
   ]
  },
  {
   "cell_type": "markdown",
   "id": "004241c3-6138-461c-aaef-ea753f298067",
   "metadata": {},
   "source": [
    "# 이렇게 4장 끝!!"
   ]
  }
 ],
 "metadata": {
  "kernelspec": {
   "display_name": "Python 3 (ipykernel)",
   "language": "python",
   "name": "python3"
  },
  "language_info": {
   "codemirror_mode": {
    "name": "ipython",
    "version": 3
   },
   "file_extension": ".py",
   "mimetype": "text/x-python",
   "name": "python",
   "nbconvert_exporter": "python",
   "pygments_lexer": "ipython3",
   "version": "3.11.2"
  }
 },
 "nbformat": 4,
 "nbformat_minor": 5
}
