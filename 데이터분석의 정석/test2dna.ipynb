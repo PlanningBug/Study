{
 "cells": [
  {
   "cell_type": "code",
   "execution_count": null,
   "id": "11136fbe-be18-49ee-9c2c-fff91c71c83a",
   "metadata": {},
   "outputs": [],
   "source": [
    "# 75 ~ 80 , 96 ~ 106 , 108 ~ 114 , 117 ~ 124"
   ]
  },
  {
   "cell_type": "code",
   "execution_count": 1,
   "id": "11a9b01d-154f-4f7a-a82d-4383fd1335aa",
   "metadata": {
    "tags": []
   },
   "outputs": [],
   "source": [
    "import numpy as np"
   ]
  },
  {
   "cell_type": "code",
   "execution_count": 4,
   "id": "e28db32d-f20e-42a4-8193-246be9e2283c",
   "metadata": {
    "tags": []
   },
   "outputs": [
    {
     "data": {
      "text/plain": [
       "array([[ 0,  1,  2,  3],\n",
       "       [ 4,  5,  6,  7],\n",
       "       [ 8,  9, 10, 11]])"
      ]
     },
     "execution_count": 4,
     "metadata": {},
     "output_type": "execute_result"
    }
   ],
   "source": [
    "# 슬라이싱과 인덱스 배열 처리\n",
    "arr = np.arange(12).reshape(3, 4)\n",
    "arr"
   ]
  },
  {
   "cell_type": "code",
   "execution_count": 7,
   "id": "a1902c99-84d0-46da-ae16-b9ef718afc11",
   "metadata": {
    "tags": []
   },
   "outputs": [
    {
     "data": {
      "text/plain": [
       "array([[ 5,  6],\n",
       "       [ 9, 10]])"
      ]
     },
     "execution_count": 7,
     "metadata": {},
     "output_type": "execute_result"
    }
   ],
   "source": [
    "arr[np.array([1, 2]), 1:3]"
   ]
  },
  {
   "cell_type": "code",
   "execution_count": 8,
   "id": "a7c318ec-d309-4782-b5a4-b793ccb8586d",
   "metadata": {
    "tags": []
   },
   "outputs": [
    {
     "data": {
      "text/plain": [
       "array([[False, False, False, False],\n",
       "       [False, False,  True,  True],\n",
       "       [ True,  True,  True,  True]])"
      ]
     },
     "execution_count": 8,
     "metadata": {},
     "output_type": "execute_result"
    }
   ],
   "source": [
    "ind = arr > 5\n",
    "ind"
   ]
  },
  {
   "cell_type": "code",
   "execution_count": 9,
   "id": "ec5a076b-8237-45ff-9efc-19f9247b8466",
   "metadata": {
    "tags": []
   },
   "outputs": [
    {
     "data": {
      "text/plain": [
       "array([[False, False, False, False],\n",
       "       [False, False,  True,  True]])"
      ]
     },
     "execution_count": 9,
     "metadata": {},
     "output_type": "execute_result"
    }
   ],
   "source": [
    "ind[: 2]"
   ]
  },
  {
   "cell_type": "code",
   "execution_count": 10,
   "id": "9baed43f-29be-428f-8cfb-4cf84a3b846e",
   "metadata": {
    "tags": []
   },
   "outputs": [
    {
     "data": {
      "text/plain": [
       "array([[ 5,  6],\n",
       "       [ 9, 10]])"
      ]
     },
     "execution_count": 10,
     "metadata": {},
     "output_type": "execute_result"
    }
   ],
   "source": [
    "arr[ind[:, 2], 1:3]"
   ]
  },
  {
   "cell_type": "code",
   "execution_count": 11,
   "id": "77262cf1-9310-49f4-a691-605a2def9aed",
   "metadata": {
    "tags": []
   },
   "outputs": [
    {
     "data": {
      "text/plain": [
       "array([[1, 0, 0],\n",
       "       [0, 2, 0],\n",
       "       [1, 1, 0]])"
      ]
     },
     "execution_count": 11,
     "metadata": {},
     "output_type": "execute_result"
    }
   ],
   "source": [
    "arr = np.array([[1, 0, 0], [0, 2, 0], [1, 1, 0]])\n",
    "arr"
   ]
  },
  {
   "cell_type": "code",
   "execution_count": 12,
   "id": "351d7000-5ddc-464f-a59d-0d299a26972a",
   "metadata": {
    "tags": []
   },
   "outputs": [
    {
     "data": {
      "text/plain": [
       "(array([0, 1, 2, 2]), array([0, 1, 0, 1]))"
      ]
     },
     "execution_count": 12,
     "metadata": {},
     "output_type": "execute_result"
    }
   ],
   "source": [
    "np.nonzero(arr) # 0이 아닌 값들의 인덱스 값들 행과 열로 구분 지은 거임!"
   ]
  },
  {
   "cell_type": "code",
   "execution_count": 14,
   "id": "7be80f50-fd97-43c1-983e-a1948f82bba7",
   "metadata": {
    "tags": []
   },
   "outputs": [
    {
     "data": {
      "text/plain": [
       "array([1, 2, 1, 1])"
      ]
     },
     "execution_count": 14,
     "metadata": {},
     "output_type": "execute_result"
    }
   ],
   "source": [
    "arr[np.nonzero(arr)]"
   ]
  },
  {
   "cell_type": "code",
   "execution_count": 15,
   "id": "a663cb51-8815-42b6-beb8-81ba11e0ffe5",
   "metadata": {
    "tags": []
   },
   "outputs": [
    {
     "data": {
      "text/plain": [
       "array([[0, 0],\n",
       "       [1, 1],\n",
       "       [2, 0],\n",
       "       [2, 1]])"
      ]
     },
     "execution_count": 15,
     "metadata": {},
     "output_type": "execute_result"
    }
   ],
   "source": [
    "np.transpose(np.nonzero(arr)) # 전치함수"
   ]
  },
  {
   "cell_type": "code",
   "execution_count": 18,
   "id": "0e2aab28-266f-49af-9de3-03e8e8d1c6a4",
   "metadata": {
    "tags": []
   },
   "outputs": [
    {
     "data": {
      "text/plain": [
       "array([[0, 1, 2],\n",
       "       [3, 4, 5],\n",
       "       [6, 7, 8]])"
      ]
     },
     "execution_count": 18,
     "metadata": {},
     "output_type": "execute_result"
    }
   ],
   "source": [
    "arr = np.arange(9).reshape(3, 3)\n",
    "arr"
   ]
  },
  {
   "cell_type": "code",
   "execution_count": 19,
   "id": "9355de9f-81ee-497f-a0d5-c81d847fe876",
   "metadata": {
    "tags": []
   },
   "outputs": [
    {
     "data": {
      "text/plain": [
       "array([[False, False, False],\n",
       "       [False,  True,  True],\n",
       "       [ True,  True,  True]])"
      ]
     },
     "execution_count": 19,
     "metadata": {},
     "output_type": "execute_result"
    }
   ],
   "source": [
    "arr > 3"
   ]
  },
  {
   "cell_type": "code",
   "execution_count": 20,
   "id": "d13b91b2-3278-48db-b23d-d6479f3d820c",
   "metadata": {
    "tags": []
   },
   "outputs": [
    {
     "data": {
      "text/plain": [
       "(array([1, 1, 2, 2, 2]), array([1, 2, 0, 1, 2]))"
      ]
     },
     "execution_count": 20,
     "metadata": {},
     "output_type": "execute_result"
    }
   ],
   "source": [
    "np.nonzero(arr > 3) # 파이썬 코드 짤 때 방법 1"
   ]
  },
  {
   "cell_type": "code",
   "execution_count": 21,
   "id": "813f8a2b-e934-4efa-a51b-ffbdb50f0e21",
   "metadata": {
    "tags": []
   },
   "outputs": [
    {
     "data": {
      "text/plain": [
       "(array([1, 1, 2, 2, 2]), array([1, 2, 0, 1, 2]))"
      ]
     },
     "execution_count": 21,
     "metadata": {},
     "output_type": "execute_result"
    }
   ],
   "source": [
    "(arr > 3).nonzero() # 파이썬 코드 짤 때 방법 2"
   ]
  },
  {
   "cell_type": "code",
   "execution_count": 24,
   "id": "1ddfd304-bf73-4a81-8caf-68beb6f6a64d",
   "metadata": {
    "tags": []
   },
   "outputs": [
    {
     "data": {
      "text/plain": [
       "array([[0, 1],\n",
       "       [2, 3]])"
      ]
     },
     "execution_count": 24,
     "metadata": {},
     "output_type": "execute_result"
    }
   ],
   "source": [
    "arr = np.arange(4).reshape((2,2)) # 괄호 2번한 이유는 딱히 없는듯?\n",
    "arr"
   ]
  },
  {
   "cell_type": "code",
   "execution_count": 25,
   "id": "8466d1f3-08b8-4e4b-bc48-4997a219e016",
   "metadata": {
    "tags": []
   },
   "outputs": [
    {
     "data": {
      "text/plain": [
       "array([[0, 1],\n",
       "       [2, 3]])"
      ]
     },
     "execution_count": 25,
     "metadata": {},
     "output_type": "execute_result"
    }
   ],
   "source": [
    "arr"
   ]
  },
  {
   "cell_type": "code",
   "execution_count": 26,
   "id": "eb7d3487-7e4c-4363-b25b-958c8e3f1ca0",
   "metadata": {
    "tags": []
   },
   "outputs": [
    {
     "data": {
      "text/plain": [
       "array([[0, 2],\n",
       "       [1, 3]])"
      ]
     },
     "execution_count": 26,
     "metadata": {},
     "output_type": "execute_result"
    }
   ],
   "source": [
    "np.transpose(arr)"
   ]
  },
  {
   "cell_type": "code",
   "execution_count": 29,
   "id": "9406bfa8-4821-4f7c-91fc-2b6c9422c813",
   "metadata": {
    "tags": []
   },
   "outputs": [
    {
     "data": {
      "text/plain": [
       "array([[[1., 1., 1.],\n",
       "        [1., 1., 1.]]])"
      ]
     },
     "execution_count": 29,
     "metadata": {},
     "output_type": "execute_result"
    }
   ],
   "source": [
    "arr1 = np.ones((1, 2, 3))\n",
    "arr1"
   ]
  },
  {
   "cell_type": "code",
   "execution_count": 30,
   "id": "60d3be39-bbe8-4e48-b5e7-b1789fc55ee5",
   "metadata": {
    "tags": []
   },
   "outputs": [
    {
     "data": {
      "text/plain": [
       "(2, 1, 3)"
      ]
     },
     "execution_count": 30,
     "metadata": {},
     "output_type": "execute_result"
    }
   ],
   "source": [
    "np.transpose(arr1, (1, 0, 2)).shape # 축을 바꾸고 전치를 한 것임!"
   ]
  },
  {
   "cell_type": "code",
   "execution_count": 31,
   "id": "169a7214-d025-43f2-9048-f3de457b7d2c",
   "metadata": {
    "tags": []
   },
   "outputs": [
    {
     "data": {
      "text/plain": [
       "array([1, 2, 3])"
      ]
     },
     "execution_count": 31,
     "metadata": {},
     "output_type": "execute_result"
    }
   ],
   "source": [
    "a = [1, 2, 3]\n",
    "b = np.array(a)\n",
    "b"
   ]
  },
  {
   "cell_type": "code",
   "execution_count": 32,
   "id": "8992a92f-4b8f-423b-a009-291fac12a652",
   "metadata": {
    "tags": []
   },
   "outputs": [
    {
     "data": {
      "text/plain": [
       "array([1, 2, 3])"
      ]
     },
     "execution_count": 32,
     "metadata": {},
     "output_type": "execute_result"
    }
   ],
   "source": [
    "b.T"
   ]
  },
  {
   "cell_type": "code",
   "execution_count": 33,
   "id": "27cc9f7a-6c91-429e-8cf3-addf7d9577a5",
   "metadata": {
    "tags": []
   },
   "outputs": [
    {
     "data": {
      "text/plain": [
       "array([1, 2, 3])"
      ]
     },
     "execution_count": 33,
     "metadata": {},
     "output_type": "execute_result"
    }
   ],
   "source": [
    "b"
   ]
  },
  {
   "cell_type": "code",
   "execution_count": 35,
   "id": "c218fbc0-0b0d-4988-a9bc-a9738eaa9c1c",
   "metadata": {
    "tags": []
   },
   "outputs": [
    {
     "data": {
      "text/plain": [
       "array([[1],\n",
       "       [2],\n",
       "       [3]])"
      ]
     },
     "execution_count": 35,
     "metadata": {},
     "output_type": "execute_result"
    }
   ],
   "source": [
    "arr = np.array([a])\n",
    "arr.transpose()"
   ]
  },
  {
   "cell_type": "code",
   "execution_count": 36,
   "id": "a4833ccd-fed7-4696-97f9-bcebd90b7947",
   "metadata": {
    "tags": []
   },
   "outputs": [
    {
     "data": {
      "text/plain": [
       "array([[1, 2, 3, 4],\n",
       "       [5, 6, 7, 8]])"
      ]
     },
     "execution_count": 36,
     "metadata": {},
     "output_type": "execute_result"
    }
   ],
   "source": [
    "arr = np.array([[1, 2, 3, 4], [5, 6, 7, 8]])\n",
    "arr"
   ]
  },
  {
   "cell_type": "code",
   "execution_count": 37,
   "id": "3a352acd-e95e-47f3-b519-f494a95b165a",
   "metadata": {
    "tags": []
   },
   "outputs": [
    {
     "data": {
      "text/plain": [
       "array([[1, 5],\n",
       "       [2, 6],\n",
       "       [3, 7],\n",
       "       [4, 8]])"
      ]
     },
     "execution_count": 37,
     "metadata": {},
     "output_type": "execute_result"
    }
   ],
   "source": [
    "arr.transpose()"
   ]
  },
  {
   "cell_type": "code",
   "execution_count": 41,
   "id": "79a17d72-3c4b-42cb-949f-75202978d167",
   "metadata": {
    "tags": []
   },
   "outputs": [
    {
     "data": {
      "text/plain": [
       "array([[[ 0,  1,  2,  3],\n",
       "        [ 4,  5,  6,  7]],\n",
       "\n",
       "       [[ 8,  9, 10, 11],\n",
       "        [12, 13, 14, 15]]])"
      ]
     },
     "execution_count": 41,
     "metadata": {},
     "output_type": "execute_result"
    }
   ],
   "source": [
    "arr1 = np.array([[[0, 1, 2, 3], [4, 5, 6, 7]],\n",
    "                 [[8, 9, 10, 11], [12, 13, 14, 15]]])\n",
    "arr1"
   ]
  },
  {
   "cell_type": "code",
   "execution_count": 42,
   "id": "b7004a5a-a572-43fa-961e-aecbd3660222",
   "metadata": {
    "tags": []
   },
   "outputs": [
    {
     "data": {
      "text/plain": [
       "array([[[ 0,  8],\n",
       "        [ 4, 12]],\n",
       "\n",
       "       [[ 1,  9],\n",
       "        [ 5, 13]],\n",
       "\n",
       "       [[ 2, 10],\n",
       "        [ 6, 14]],\n",
       "\n",
       "       [[ 3, 11],\n",
       "        [ 7, 15]]])"
      ]
     },
     "execution_count": 42,
     "metadata": {},
     "output_type": "execute_result"
    }
   ],
   "source": [
    "arr1.T"
   ]
  },
  {
   "cell_type": "code",
   "execution_count": 44,
   "id": "cd29a842-beb9-4c61-904a-f32772a4755c",
   "metadata": {
    "tags": []
   },
   "outputs": [
    {
     "data": {
      "text/plain": [
       "array([[[ 0,  1,  2,  3],\n",
       "        [ 8,  9, 10, 11]],\n",
       "\n",
       "       [[ 4,  5,  6,  7],\n",
       "        [12, 13, 14, 15]]])"
      ]
     },
     "execution_count": 44,
     "metadata": {},
     "output_type": "execute_result"
    }
   ],
   "source": [
    "arr2 = np.transpose(arr1, (1, 0, 2))\n",
    "arr2"
   ]
  },
  {
   "cell_type": "code",
   "execution_count": 46,
   "id": "61fc4410-d7d7-42c6-b0c5-ba4146620798",
   "metadata": {
    "tags": []
   },
   "outputs": [
    {
     "data": {
      "text/plain": [
       "array([[[ 0,  1,  2,  3],\n",
       "        [ 8,  9, 10, 11]],\n",
       "\n",
       "       [[ 4,  5,  6,  7],\n",
       "        [12, 13, 14, 15]]])"
      ]
     },
     "execution_count": 46,
     "metadata": {},
     "output_type": "execute_result"
    }
   ],
   "source": [
    "arr3 = arr1.transpose((1, 0, 2))\n",
    "arr3"
   ]
  },
  {
   "cell_type": "code",
   "execution_count": 48,
   "id": "4f3b0859-a91d-4393-9eb1-2af1a09d36d6",
   "metadata": {
    "tags": []
   },
   "outputs": [
    {
     "data": {
      "text/plain": [
       "array([[[ 0,  8],\n",
       "        [ 4, 12]],\n",
       "\n",
       "       [[ 1,  9],\n",
       "        [ 5, 13]],\n",
       "\n",
       "       [[ 2, 10],\n",
       "        [ 6, 14]],\n",
       "\n",
       "       [[ 3, 11],\n",
       "        [ 7, 15]]])"
      ]
     },
     "execution_count": 48,
     "metadata": {},
     "output_type": "execute_result"
    }
   ],
   "source": [
    "arr4 = arr1.T\n",
    "arr4"
   ]
  },
  {
   "cell_type": "code",
   "execution_count": null,
   "id": "4c470685-b546-4329-9f08-972c3afeccdb",
   "metadata": {},
   "outputs": [],
   "source": [
    "# 96 ~ 106 시작! [ 유니버셜과 뷰 복사는 넘김! ]"
   ]
  },
  {
   "cell_type": "code",
   "execution_count": 50,
   "id": "a18d52e9-29d3-4a4e-b93c-dea0d64b9684",
   "metadata": {
    "tags": []
   },
   "outputs": [
    {
     "data": {
      "text/plain": [
       "array([2., 4., 6.])"
      ]
     },
     "execution_count": 50,
     "metadata": {},
     "output_type": "execute_result"
    }
   ],
   "source": [
    "a = np.array([1.0, 2.0, 3.0])\n",
    "b = np.array([2.0, 2.0, 2.0])\n",
    "arr = a * b\n",
    "arr"
   ]
  },
  {
   "cell_type": "code",
   "execution_count": 51,
   "id": "7c2118d7-0f6e-4efe-8577-e28d642c6d99",
   "metadata": {
    "tags": []
   },
   "outputs": [
    {
     "data": {
      "text/plain": [
       "array([2., 4., 6.])"
      ]
     },
     "execution_count": 51,
     "metadata": {},
     "output_type": "execute_result"
    }
   ],
   "source": [
    "a = np.array([1.0, 2.0, 3.0])\n",
    "b = 2.0\n",
    "a * b"
   ]
  },
  {
   "cell_type": "code",
   "execution_count": null,
   "id": "d8ecdbb2-0e67-4907-bd67-8523a4642803",
   "metadata": {},
   "outputs": [],
   "source": [
    "# 브로드캐스팅 규칙 - p97"
   ]
  },
  {
   "cell_type": "code",
   "execution_count": 53,
   "id": "50fa2b8c-a2d1-40d4-bed0-00324ef0dd96",
   "metadata": {
    "tags": []
   },
   "outputs": [
    {
     "data": {
      "text/plain": [
       "(4,)"
      ]
     },
     "execution_count": 53,
     "metadata": {},
     "output_type": "execute_result"
    }
   ],
   "source": [
    "arr1 = np.arange(4)\n",
    "arr2 = arr1.reshape(4, 1)\n",
    "arr3 = np.ones(5)\n",
    "arr4 = np.ones((3, 4))\n",
    "arr1.shape"
   ]
  },
  {
   "cell_type": "code",
   "execution_count": 54,
   "id": "c28e6370-4bba-459f-a7dc-ca21cedf0204",
   "metadata": {
    "tags": []
   },
   "outputs": [
    {
     "data": {
      "text/plain": [
       "(5,)"
      ]
     },
     "execution_count": 54,
     "metadata": {},
     "output_type": "execute_result"
    }
   ],
   "source": [
    "arr3.shape"
   ]
  },
  {
   "cell_type": "code",
   "execution_count": 55,
   "id": "db5b31e3-3514-4be5-9331-3c0b32d356e5",
   "metadata": {
    "tags": []
   },
   "outputs": [
    {
     "ename": "ValueError",
     "evalue": "operands could not be broadcast together with shapes (4,) (5,) ",
     "output_type": "error",
     "traceback": [
      "\u001b[0;31m---------------------------------------------------------------------------\u001b[0m",
      "\u001b[0;31mValueError\u001b[0m                                Traceback (most recent call last)",
      "Cell \u001b[0;32mIn[55], line 1\u001b[0m\n\u001b[0;32m----> 1\u001b[0m \u001b[43marr1\u001b[49m\u001b[43m \u001b[49m\u001b[38;5;241;43m+\u001b[39;49m\u001b[43m \u001b[49m\u001b[43marr3\u001b[49m\n",
      "\u001b[0;31mValueError\u001b[0m: operands could not be broadcast together with shapes (4,) (5,) "
     ]
    }
   ],
   "source": [
    "arr1 + arr3"
   ]
  },
  {
   "cell_type": "code",
   "execution_count": 56,
   "id": "9fb8e011-f55e-422f-977f-15b8f57cb1ff",
   "metadata": {
    "tags": []
   },
   "outputs": [
    {
     "data": {
      "text/plain": [
       "(4, 1)"
      ]
     },
     "execution_count": 56,
     "metadata": {},
     "output_type": "execute_result"
    }
   ],
   "source": [
    "arr2.shape"
   ]
  },
  {
   "cell_type": "code",
   "execution_count": 57,
   "id": "bb39c25f-714b-4b79-894b-d09af26c1b2f",
   "metadata": {
    "tags": []
   },
   "outputs": [
    {
     "data": {
      "text/plain": [
       "(4, 5)"
      ]
     },
     "execution_count": 57,
     "metadata": {},
     "output_type": "execute_result"
    }
   ],
   "source": [
    "(arr2 + arr3).shape"
   ]
  },
  {
   "cell_type": "code",
   "execution_count": 59,
   "id": "1b1f2406-91d1-4dbe-8087-1b1027cd3bb7",
   "metadata": {
    "tags": []
   },
   "outputs": [
    {
     "data": {
      "text/plain": [
       "array([[1., 1., 1., 1., 1.],\n",
       "       [2., 2., 2., 2., 2.],\n",
       "       [3., 3., 3., 3., 3.],\n",
       "       [4., 4., 4., 4., 4.]])"
      ]
     },
     "execution_count": 59,
     "metadata": {},
     "output_type": "execute_result"
    }
   ],
   "source": [
    "arr2 + arr3"
   ]
  },
  {
   "cell_type": "code",
   "execution_count": 60,
   "id": "8c94ac12-2e93-4282-aef1-0da31e8bfa98",
   "metadata": {
    "tags": []
   },
   "outputs": [
    {
     "data": {
      "text/plain": [
       "(3, 4)"
      ]
     },
     "execution_count": 60,
     "metadata": {},
     "output_type": "execute_result"
    }
   ],
   "source": [
    "arr4.shape"
   ]
  },
  {
   "cell_type": "code",
   "execution_count": 61,
   "id": "ef3cb8c5-6cf7-4be3-8414-0e257dc09116",
   "metadata": {
    "tags": []
   },
   "outputs": [
    {
     "data": {
      "text/plain": [
       "(3, 4)"
      ]
     },
     "execution_count": 61,
     "metadata": {},
     "output_type": "execute_result"
    }
   ],
   "source": [
    "(arr1 + arr4).shape"
   ]
  },
  {
   "cell_type": "code",
   "execution_count": 62,
   "id": "1c2acba2-90ad-4450-8718-8921f21caf6f",
   "metadata": {
    "tags": []
   },
   "outputs": [
    {
     "data": {
      "text/plain": [
       "array([[1., 2., 3., 4.],\n",
       "       [1., 2., 3., 4.],\n",
       "       [1., 2., 3., 4.]])"
      ]
     },
     "execution_count": 62,
     "metadata": {},
     "output_type": "execute_result"
    }
   ],
   "source": [
    "arr1 + arr4"
   ]
  },
  {
   "cell_type": "code",
   "execution_count": 63,
   "id": "19c415b2-0871-42ef-81b3-893a1c41825c",
   "metadata": {
    "tags": []
   },
   "outputs": [
    {
     "data": {
      "text/plain": [
       "array([0, 1, 2, 3])"
      ]
     },
     "execution_count": 63,
     "metadata": {},
     "output_type": "execute_result"
    }
   ],
   "source": [
    "arr = np.array([0, 1, 2, 3])\n",
    "arr"
   ]
  },
  {
   "cell_type": "code",
   "execution_count": 64,
   "id": "26c610a4-5542-44a6-b605-8338bc668bb9",
   "metadata": {
    "tags": []
   },
   "outputs": [
    {
     "data": {
      "text/plain": [
       "(4,)"
      ]
     },
     "execution_count": 64,
     "metadata": {},
     "output_type": "execute_result"
    }
   ],
   "source": [
    "arr.shape"
   ]
  },
  {
   "cell_type": "code",
   "execution_count": 65,
   "id": "0c1814a1-6eda-4055-bf53-7381b46b845e",
   "metadata": {
    "tags": []
   },
   "outputs": [
    {
     "data": {
      "text/plain": [
       "array([[0, 1, 2, 3]])"
      ]
     },
     "execution_count": 65,
     "metadata": {},
     "output_type": "execute_result"
    }
   ],
   "source": [
    "arr[np.newaxis, :]"
   ]
  },
  {
   "cell_type": "code",
   "execution_count": 66,
   "id": "0a62feca-b409-4c9a-afc2-f0c36b38fd5d",
   "metadata": {
    "tags": []
   },
   "outputs": [
    {
     "data": {
      "text/plain": [
       "array([[0],\n",
       "       [1],\n",
       "       [2],\n",
       "       [3]])"
      ]
     },
     "execution_count": 66,
     "metadata": {},
     "output_type": "execute_result"
    }
   ],
   "source": [
    "arr[:, np.newaxis] # 열백터로 변환 위에는 행백터로 변환"
   ]
  },
  {
   "cell_type": "code",
   "execution_count": 67,
   "id": "2e73c0ae-a03d-4d89-94fa-2059def41cdd",
   "metadata": {
    "tags": []
   },
   "outputs": [
    {
     "data": {
      "text/plain": [
       "array([[10, 20, 30],\n",
       "       [11, 21, 31],\n",
       "       [12, 22, 32],\n",
       "       [13, 23, 33]])"
      ]
     },
     "execution_count": 67,
     "metadata": {},
     "output_type": "execute_result"
    }
   ],
   "source": [
    "arr1 = np.array([0, 1, 2, 3])\n",
    "arr2 = np.array([10, 20, 30])\n",
    "arr11 = arr1[:, np.newaxis]\n",
    "arr11 + arr2"
   ]
  },
  {
   "cell_type": "code",
   "execution_count": 69,
   "id": "bdb58db7-c276-482c-bf52-887db4b311d2",
   "metadata": {
    "tags": []
   },
   "outputs": [
    {
     "data": {
      "text/plain": [
       "<numpy.broadcast at 0x11e009190>"
      ]
     },
     "execution_count": 69,
     "metadata": {},
     "output_type": "execute_result"
    }
   ],
   "source": [
    "# 브로드 케스트 시작! - 101p\n",
    "arr1 = np.array([1, 2, 3])\n",
    "arr2 = np.array([[4], [5], [6]])\n",
    "arr = np.broadcast(arr1,arr2)\n",
    "arr.numiter"
   ]
  },
  {
   "cell_type": "code",
   "execution_count": 70,
   "id": "cbaa5711-e69e-4de2-8b58-427ee0172399",
   "metadata": {
    "tags": []
   },
   "outputs": [
    {
     "data": {
      "text/plain": [
       "(3, 3)"
      ]
     },
     "execution_count": 70,
     "metadata": {},
     "output_type": "execute_result"
    }
   ],
   "source": [
    "arr1 = np.array([[1], [2], [3]])\n",
    "arr2 = np.array([4, 5, 6])\n",
    "arr = np.broadcast(arr1, arr2)\n",
    "arr\n",
    "arr.shape"
   ]
  },
  {
   "cell_type": "code",
   "execution_count": 72,
   "id": "aed8ffe4-dc65-4c5e-b6e1-f9a3e970a24c",
   "metadata": {
    "tags": []
   },
   "outputs": [
    {
     "data": {
      "text/plain": [
       "array([[5., 6., 7.],\n",
       "       [6., 7., 8.],\n",
       "       [7., 8., 9.]])"
      ]
     },
     "execution_count": 72,
     "metadata": {},
     "output_type": "execute_result"
    }
   ],
   "source": [
    "out = np.empty(arr.shape)\n",
    "out.flat = [u+v for (u,v) in arr]\n",
    "out"
   ]
  },
  {
   "cell_type": "code",
   "execution_count": 73,
   "id": "6a547367-013d-46b9-a619-2be6ec1678b0",
   "metadata": {
    "tags": []
   },
   "outputs": [
    {
     "data": {
      "text/plain": [
       "array([[5, 6, 7],\n",
       "       [6, 7, 8],\n",
       "       [7, 8, 9]])"
      ]
     },
     "execution_count": 73,
     "metadata": {},
     "output_type": "execute_result"
    }
   ],
   "source": [
    "arr1 + arr2"
   ]
  },
  {
   "cell_type": "code",
   "execution_count": 75,
   "id": "15065050-9b2c-46dc-9ecb-3f79e0e01cfd",
   "metadata": {
    "tags": []
   },
   "outputs": [
    {
     "name": "stdout",
     "output_type": "stream",
     "text": [
      "0\n",
      "1\n",
      "2\n",
      "3\n",
      "4\n",
      "5\n"
     ]
    }
   ],
   "source": [
    "arr = np.arange(6).reshape(2, 3)\n",
    "f1 = arr.flat\n",
    "type(f1)\n",
    "for item in f1:\n",
    "    print(item)"
   ]
  },
  {
   "cell_type": "code",
   "execution_count": 76,
   "id": "d2ed41ee-0c65-4eb1-9f44-a16255982de0",
   "metadata": {
    "tags": []
   },
   "outputs": [
    {
     "data": {
      "text/plain": [
       "array([2, 3])"
      ]
     },
     "execution_count": 76,
     "metadata": {},
     "output_type": "execute_result"
    }
   ],
   "source": [
    "f1[2:4]"
   ]
  },
  {
   "cell_type": "code",
   "execution_count": 77,
   "id": "563e8ce3-a25e-4e48-84a1-8b119791108c",
   "metadata": {
    "tags": []
   },
   "outputs": [
    {
     "data": {
      "text/plain": [
       "True"
      ]
     },
     "execution_count": 77,
     "metadata": {},
     "output_type": "execute_result"
    }
   ],
   "source": [
    "arr1 = np.arange(5)\n",
    "f1 = arr1.flat\n",
    "f1.base is arr1"
   ]
  },
  {
   "cell_type": "code",
   "execution_count": 78,
   "id": "499d47f2-bcf8-4e00-b4a2-15711e918ff7",
   "metadata": {
    "tags": []
   },
   "outputs": [],
   "source": [
    "arr2 = np.arange(6).reshape(2, 3)\n",
    "arr2"
   ]
  },
  {
   "cell_type": "code",
   "execution_count": 79,
   "id": "75d9fe5b-ae12-4dbc-8f27-5743208a3e6a",
   "metadata": {
    "tags": []
   },
   "outputs": [
    {
     "data": {
      "text/plain": [
       "0"
      ]
     },
     "execution_count": 79,
     "metadata": {},
     "output_type": "execute_result"
    }
   ],
   "source": [
    "f2 = arr2.flat\n",
    "f2.index"
   ]
  },
  {
   "cell_type": "code",
   "execution_count": 80,
   "id": "93c8e6c6-a727-4fd8-a0bd-df6587630115",
   "metadata": {
    "tags": []
   },
   "outputs": [
    {
     "data": {
      "text/plain": [
       "(0, 0)"
      ]
     },
     "execution_count": 80,
     "metadata": {},
     "output_type": "execute_result"
    }
   ],
   "source": [
    "arr1 = np.arange(6).reshape(2, 3)\n",
    "f1 = arr1.flat\n",
    "f1.coords"
   ]
  },
  {
   "cell_type": "code",
   "execution_count": 81,
   "id": "5d334d41-baab-49ce-bb65-0c3714c2612b",
   "metadata": {
    "tags": []
   },
   "outputs": [
    {
     "data": {
      "text/plain": [
       "0"
      ]
     },
     "execution_count": 81,
     "metadata": {},
     "output_type": "execute_result"
    }
   ],
   "source": [
    "next(f1)"
   ]
  },
  {
   "cell_type": "code",
   "execution_count": 82,
   "id": "db937594-49b8-4d3d-9fca-a4c570d983a0",
   "metadata": {
    "tags": []
   },
   "outputs": [
    {
     "data": {
      "text/plain": [
       "(0, 1)"
      ]
     },
     "execution_count": 82,
     "metadata": {},
     "output_type": "execute_result"
    }
   ],
   "source": [
    "f1.coords"
   ]
  },
  {
   "cell_type": "code",
   "execution_count": 83,
   "id": "c8111f57-6d2f-48c1-8512-2c62edff4ceb",
   "metadata": {
    "tags": []
   },
   "outputs": [
    {
     "data": {
      "text/plain": [
       "1"
      ]
     },
     "execution_count": 83,
     "metadata": {},
     "output_type": "execute_result"
    }
   ],
   "source": [
    "next(f1)"
   ]
  },
  {
   "cell_type": "code",
   "execution_count": 84,
   "id": "7c05d30c-27ec-442a-a664-cb22c75b1c77",
   "metadata": {
    "tags": []
   },
   "outputs": [
    {
     "data": {
      "text/plain": [
       "(0, 2)"
      ]
     },
     "execution_count": 84,
     "metadata": {},
     "output_type": "execute_result"
    }
   ],
   "source": [
    "f1.coords"
   ]
  },
  {
   "cell_type": "code",
   "execution_count": 86,
   "id": "db21389c-be9d-4673-9aec-a4059a908318",
   "metadata": {
    "tags": []
   },
   "outputs": [
    {
     "data": {
      "text/plain": [
       "array([[1, 2, 3],\n",
       "       [4, 5, 6]])"
      ]
     },
     "execution_count": 86,
     "metadata": {},
     "output_type": "execute_result"
    }
   ],
   "source": [
    "arr = np.arange(1, 7).reshape(2, 3)\n",
    "arr"
   ]
  },
  {
   "cell_type": "code",
   "execution_count": 87,
   "id": "2f5bef88-bf5b-4041-98b3-89952650864e",
   "metadata": {
    "tags": []
   },
   "outputs": [
    {
     "data": {
      "text/plain": [
       "4"
      ]
     },
     "execution_count": 87,
     "metadata": {},
     "output_type": "execute_result"
    }
   ],
   "source": [
    "arr.flat[3]"
   ]
  },
  {
   "cell_type": "code",
   "execution_count": 88,
   "id": "2e5c1fe4-a0ab-4127-9ab7-a4619cf9952d",
   "metadata": {
    "tags": []
   },
   "outputs": [
    {
     "data": {
      "text/plain": [
       "array([[1, 4],\n",
       "       [2, 5],\n",
       "       [3, 6]])"
      ]
     },
     "execution_count": 88,
     "metadata": {},
     "output_type": "execute_result"
    }
   ],
   "source": [
    "arr.T"
   ]
  },
  {
   "cell_type": "code",
   "execution_count": 89,
   "id": "8e0dabea-0335-4248-b5ea-597f44928319",
   "metadata": {
    "tags": []
   },
   "outputs": [
    {
     "data": {
      "text/plain": [
       "5"
      ]
     },
     "execution_count": 89,
     "metadata": {},
     "output_type": "execute_result"
    }
   ],
   "source": [
    "arr.T.flat[3]"
   ]
  },
  {
   "cell_type": "code",
   "execution_count": 90,
   "id": "7d1a87f1-3633-41c3-ae98-e77fb3b9e3e2",
   "metadata": {
    "tags": []
   },
   "outputs": [
    {
     "data": {
      "text/plain": [
       "numpy.flatiter"
      ]
     },
     "execution_count": 90,
     "metadata": {},
     "output_type": "execute_result"
    }
   ],
   "source": [
    "type(arr.flat)"
   ]
  },
  {
   "cell_type": "code",
   "execution_count": 91,
   "id": "4ef41a17-7139-41f9-8db8-bc60690a1777",
   "metadata": {
    "tags": []
   },
   "outputs": [
    {
     "data": {
      "text/plain": [
       "array([2, 5])"
      ]
     },
     "execution_count": 91,
     "metadata": {},
     "output_type": "execute_result"
    }
   ],
   "source": [
    "arr.flat[[1, 4]]"
   ]
  },
  {
   "cell_type": "code",
   "execution_count": 92,
   "id": "2bfa56d0-3b2b-42ae-a9f5-5f092a926ac9",
   "metadata": {
    "tags": []
   },
   "outputs": [
    {
     "data": {
      "text/plain": [
       "array([[3, 3, 3],\n",
       "       [3, 3, 3]])"
      ]
     },
     "execution_count": 92,
     "metadata": {},
     "output_type": "execute_result"
    }
   ],
   "source": [
    "arr.flat = 3; arr"
   ]
  },
  {
   "cell_type": "code",
   "execution_count": 93,
   "id": "d1440ab1-e866-4ddb-8a18-24f3a393f2af",
   "metadata": {
    "tags": []
   },
   "outputs": [
    {
     "data": {
      "text/plain": [
       "array([[3, 1, 3],\n",
       "       [3, 1, 3]])"
      ]
     },
     "execution_count": 93,
     "metadata": {},
     "output_type": "execute_result"
    }
   ],
   "source": [
    "arr.flat[[1, 4]] = 1; arr"
   ]
  },
  {
   "cell_type": "code",
   "execution_count": 95,
   "id": "c08c05f8-ffda-4a10-8ff0-b178c5478b53",
   "metadata": {
    "tags": []
   },
   "outputs": [
    {
     "data": {
      "text/plain": [
       "array([[ 0,  1,  2,  3,  4,  5,  6,  7,  8,  9],\n",
       "       [-1,  0,  1,  2,  3,  4,  5,  6,  7,  8],\n",
       "       [-2, -1,  0,  1,  2,  3,  4,  5,  6,  7],\n",
       "       [-3, -2, -1,  0,  1,  2,  3,  4,  5,  6],\n",
       "       [-4, -3, -2, -1,  0,  1,  2,  3,  4,  5],\n",
       "       [-5, -4, -3, -2, -1,  0,  1,  2,  3,  4],\n",
       "       [-6, -5, -4, -3, -2, -1,  0,  1,  2,  3],\n",
       "       [-7, -6, -5, -4, -3, -2, -1,  0,  1,  2],\n",
       "       [-8, -7, -6, -5, -4, -3, -2, -1,  0,  1],\n",
       "       [-9, -8, -7, -6, -5, -4, -3, -2, -1,  0]])"
      ]
     },
     "execution_count": 95,
     "metadata": {},
     "output_type": "execute_result"
    }
   ],
   "source": [
    "arr = np.arange(10)\n",
    "arr_br = arr -arr[:, np.newaxis]\n",
    "arr_br"
   ]
  },
  {
   "cell_type": "code",
   "execution_count": 96,
   "id": "013ef4b3-f998-4673-8dcf-d2ec120311d5",
   "metadata": {
    "tags": []
   },
   "outputs": [
    {
     "data": {
      "text/plain": [
       "array([0, 1, 2, 3, 4, 5, 6, 7, 8, 9])"
      ]
     },
     "execution_count": 96,
     "metadata": {},
     "output_type": "execute_result"
    }
   ],
   "source": [
    "arr"
   ]
  },
  {
   "cell_type": "code",
   "execution_count": 102,
   "id": "664d90ba-a57e-4113-993e-9351e5f6b277",
   "metadata": {
    "tags": []
   },
   "outputs": [
    {
     "data": {
      "text/plain": [
       "<matplotlib.colorbar.Colorbar at 0x10b15fe90>"
      ]
     },
     "execution_count": 102,
     "metadata": {},
     "output_type": "execute_result"
    },
    {
     "data": {
      "image/png": "[encoded data removed]",
      "text/plain": [
       "<Figure size 640x480 with 2 Axes>"
      ]
     },
     "metadata": {},
     "output_type": "display_data"
    }
   ],
   "source": [
    "import numpy as np\n",
    "import matplotlib.pyplot as plt\n",
    "\n",
    "arr1 = np.arange(10)\n",
    "arr2 = np.arange(7)\n",
    "arr_img = np.sqrt(arr1[:, np.newaxis]**2 + arr2**2)\n",
    "plt.pcolor(arr_img)\n",
    "plt.colorbar()"
   ]
  },
  {
   "cell_type": "code",
   "execution_count": 104,
   "id": "5a582b0d-ad32-42cf-8af9-745f8c8164ec",
   "metadata": {},
   "outputs": [
    {
     "data": {
      "image/png": "[encoded data removed]",
      "text/plain": [
       "<Figure size 640x480 with 1 Axes>"
      ]
     },
     "metadata": {},
     "output_type": "display_data"
    }
   ],
   "source": [
    "plt.axis('equal')\n",
    "plt.show()"
   ]
  },
  {
   "cell_type": "code",
   "execution_count": 105,
   "id": "866a5f55-061b-4671-be80-e2a9d6c964b6",
   "metadata": {},
   "outputs": [
    {
     "data": {
      "text/plain": [
       "array([[62.01674294, 57.62623303, 45.14756245],\n",
       "       [64.52545315, 77.05253361, 52.88606569],\n",
       "       [71.59907464, 70.17653252, 49.20968701],\n",
       "       [68.99924084, 72.88127853, 82.05649606],\n",
       "       [75.79286708, 61.78170726, 80.42631488]])"
      ]
     },
     "execution_count": 105,
     "metadata": {},
     "output_type": "execute_result"
    }
   ],
   "source": [
    "arr = np.random.normal(loc=[70., 67., 59.], scale = [5., 7., 9.], size = (5, 3))\n",
    "arr"
   ]
  },
  {
   "cell_type": "code",
   "execution_count": 106,
   "id": "a90f0392-905b-47a6-bc4b-31f69bf62ba3",
   "metadata": {},
   "outputs": [
    {
     "data": {
      "text/plain": [
       "array([68.58667573, 67.90365699, 61.94522522])"
      ]
     },
     "execution_count": 106,
     "metadata": {},
     "output_type": "execute_result"
    }
   ],
   "source": [
    "arr_avc = arr.mean(axis = 0)\n",
    "arr_avc"
   ]
  },
  {
   "cell_type": "code",
   "execution_count": 108,
   "id": "81c56dc5-e04c-4f1d-8613-17d436beeb9f",
   "metadata": {},
   "outputs": [
    {
     "data": {
      "text/plain": [
       "array([[ -6.56993279, -10.27742396, -16.79766277],\n",
       "       [ -4.06122258,   9.14887662,  -9.05915953],\n",
       "       [  3.01239891,   2.27287553, -12.73553821],\n",
       "       [  0.41256511,   4.97762154,  20.11127084],\n",
       "       [  7.20619135,  -6.12194973,  18.48108967]])"
      ]
     },
     "execution_count": 108,
     "metadata": {},
     "output_type": "execute_result"
    }
   ],
   "source": [
    "arr - arr_avc"
   ]
  },
  {
   "cell_type": "code",
   "execution_count": 109,
   "id": "fca78c54-2dfe-4112-b4e9-6cd6aa8275c7",
   "metadata": {},
   "outputs": [
    {
     "data": {
      "text/plain": [
       "array([54.93017948, 64.82135082, 63.66176472, 74.64567181, 72.66696308])"
      ]
     },
     "execution_count": 109,
     "metadata": {},
     "output_type": "execute_result"
    }
   ],
   "source": [
    "arr_avc = arr.mean(axis = 1)\n",
    "arr_avc"
   ]
  },
  {
   "cell_type": "code",
   "execution_count": 113,
   "id": "45763427-88a5-4561-ae62-1496f476eeaf",
   "metadata": {},
   "outputs": [
    {
     "data": {
      "text/plain": [
       "array([[54.93017948],\n",
       "       [64.82135082],\n",
       "       [63.66176472],\n",
       "       [74.64567181],\n",
       "       [72.66696308]])"
      ]
     },
     "execution_count": 113,
     "metadata": {},
     "output_type": "execute_result"
    }
   ],
   "source": [
    "arr_avc[:, np.newaxis]"
   ]
  },
  {
   "cell_type": "code",
   "execution_count": 115,
   "id": "ae413eda-e916-41de-addb-b2c6e4e519e1",
   "metadata": {},
   "outputs": [
    {
     "data": {
      "text/plain": [
       "array([[  7.08656347,   2.69605356,  -9.78261702],\n",
       "       [ -0.29589766,  12.23118279, -11.93528513],\n",
       "       [  7.93730992,   6.5147678 , -14.45207772],\n",
       "       [ -5.64643097,  -1.76439328,   7.41082425],\n",
       "       [  3.12590401, -10.88525581,   7.75935181]])"
      ]
     },
     "execution_count": 115,
     "metadata": {},
     "output_type": "execute_result"
    }
   ],
   "source": [
    "arr - arr_avc[:, np.newaxis]"
   ]
  },
  {
   "cell_type": "code",
   "execution_count": null,
   "id": "16c80d03-6f37-44bd-b734-a61d2ca16ba5",
   "metadata": {},
   "outputs": [],
   "source": [
    "# 배열 조작과 정렬 건너뛰고 108 ~ 114"
   ]
  },
  {
   "cell_type": "code",
   "execution_count": null,
   "id": "a11439b0-1134-4722-b1c6-72f4403dbca8",
   "metadata": {},
   "outputs": [],
   "source": [
    "# 배열을 이어 붙이고 스택으로 배치"
   ]
  },
  {
   "cell_type": "code",
   "execution_count": 116,
   "id": "19aa3e5b-eb0c-4ca9-92ff-87a9527fe4e7",
   "metadata": {},
   "outputs": [
    {
     "data": {
      "text/plain": [
       "array([[1, 2],\n",
       "       [3, 4],\n",
       "       [5, 6]])"
      ]
     },
     "execution_count": 116,
     "metadata": {},
     "output_type": "execute_result"
    }
   ],
   "source": [
    "arr1 = np.array([[1, 2], [3, 4]])\n",
    "arr2 = np.array([[5, 6]])\n",
    "np.concatenate((arr1, arr2), axis = 0)"
   ]
  },
  {
   "cell_type": "code",
   "execution_count": 117,
   "id": "893847a2-546c-4cce-85ec-e1c19cd6a47a",
   "metadata": {},
   "outputs": [
    {
     "data": {
      "text/plain": [
       "array([[1, 2, 5],\n",
       "       [3, 4, 6]])"
      ]
     },
     "execution_count": 117,
     "metadata": {},
     "output_type": "execute_result"
    }
   ],
   "source": [
    "np.concatenate((arr1, arr2.T), axis = 1)"
   ]
  },
  {
   "cell_type": "code",
   "execution_count": 119,
   "id": "56ae7568-a379-4973-96c6-31d9d78ee85d",
   "metadata": {},
   "outputs": [
    {
     "data": {
      "text/plain": [
       "array([[1, 2, 5],\n",
       "       [3, 4, 6]])"
      ]
     },
     "execution_count": 119,
     "metadata": {},
     "output_type": "execute_result"
    }
   ],
   "source": [
    "np.concatenate((arr1, arr2.T), axis = 1)"
   ]
  },
  {
   "cell_type": "code",
   "execution_count": 120,
   "id": "f419996d-48af-45cd-93f5-69ce12e9d684",
   "metadata": {},
   "outputs": [
    {
     "ename": "ValueError",
     "evalue": "all the input array dimensions except for the concatenation axis must match exactly, but along dimension 0, the array at index 0 has size 2 and the array at index 1 has size 1",
     "output_type": "error",
     "traceback": [
      "\u001b[0;31m---------------------------------------------------------------------------\u001b[0m",
      "\u001b[0;31mValueError\u001b[0m                                Traceback (most recent call last)",
      "Cell \u001b[0;32mIn[120], line 1\u001b[0m\n\u001b[0;32m----> 1\u001b[0m \u001b[43mnp\u001b[49m\u001b[38;5;241;43m.\u001b[39;49m\u001b[43mhstack\u001b[49m\u001b[43m(\u001b[49m\u001b[43m(\u001b[49m\u001b[43marr1\u001b[49m\u001b[43m,\u001b[49m\u001b[43m \u001b[49m\u001b[43marr2\u001b[49m\u001b[43m)\u001b[49m\u001b[43m)\u001b[49m\n",
      "File \u001b[0;32m<__array_function__ internals>:200\u001b[0m, in \u001b[0;36mhstack\u001b[0;34m(*args, **kwargs)\u001b[0m\n",
      "File \u001b[0;32m/opt/homebrew/Cellar/jupyterlab/3.6.1/libexec/lib/python3.11/site-packages/numpy/core/shape_base.py:370\u001b[0m, in \u001b[0;36mhstack\u001b[0;34m(tup, dtype, casting)\u001b[0m\n\u001b[1;32m    368\u001b[0m     \u001b[38;5;28;01mreturn\u001b[39;00m _nx\u001b[38;5;241m.\u001b[39mconcatenate(arrs, \u001b[38;5;241m0\u001b[39m, dtype\u001b[38;5;241m=\u001b[39mdtype, casting\u001b[38;5;241m=\u001b[39mcasting)\n\u001b[1;32m    369\u001b[0m \u001b[38;5;28;01melse\u001b[39;00m:\n\u001b[0;32m--> 370\u001b[0m     \u001b[38;5;28;01mreturn\u001b[39;00m \u001b[43m_nx\u001b[49m\u001b[38;5;241;43m.\u001b[39;49m\u001b[43mconcatenate\u001b[49m\u001b[43m(\u001b[49m\u001b[43marrs\u001b[49m\u001b[43m,\u001b[49m\u001b[43m \u001b[49m\u001b[38;5;241;43m1\u001b[39;49m\u001b[43m,\u001b[49m\u001b[43m \u001b[49m\u001b[43mdtype\u001b[49m\u001b[38;5;241;43m=\u001b[39;49m\u001b[43mdtype\u001b[49m\u001b[43m,\u001b[49m\u001b[43m \u001b[49m\u001b[43mcasting\u001b[49m\u001b[38;5;241;43m=\u001b[39;49m\u001b[43mcasting\u001b[49m\u001b[43m)\u001b[49m\n",
      "File \u001b[0;32m<__array_function__ internals>:200\u001b[0m, in \u001b[0;36mconcatenate\u001b[0;34m(*args, **kwargs)\u001b[0m\n",
      "\u001b[0;31mValueError\u001b[0m: all the input array dimensions except for the concatenation axis must match exactly, but along dimension 0, the array at index 0 has size 2 and the array at index 1 has size 1"
     ]
    }
   ],
   "source": [
    "np.hstack((arr1, arr2))"
   ]
  },
  {
   "cell_type": "code",
   "execution_count": 121,
   "id": "a05c4f4e-0a95-455d-88eb-f2b384c4b784",
   "metadata": {
    "tags": []
   },
   "outputs": [
    {
     "data": {
      "text/plain": [
       "array([[1, 2],\n",
       "       [3, 4],\n",
       "       [5, 6]])"
      ]
     },
     "execution_count": 121,
     "metadata": {},
     "output_type": "execute_result"
    }
   ],
   "source": [
    "np.vstack((arr1, arr2))"
   ]
  },
  {
   "cell_type": "code",
   "execution_count": 123,
   "id": "e2b78f3d-8dcb-4975-8217-60d4d3b38d7d",
   "metadata": {
    "tags": []
   },
   "outputs": [
    {
     "data": {
      "text/plain": [
       "(10, 3, 4)"
      ]
     },
     "execution_count": 123,
     "metadata": {},
     "output_type": "execute_result"
    }
   ],
   "source": [
    "arrays = [np.random.randn(3, 4) for _ in range(10)]\n",
    "np.stack(arrays, axis = 0).shape"
   ]
  },
  {
   "cell_type": "code",
   "execution_count": 124,
   "id": "020c04dd-4f79-4b5e-a149-b39fc5164e26",
   "metadata": {
    "tags": []
   },
   "outputs": [
    {
     "data": {
      "text/plain": [
       "[array([[ 0.57083593,  0.02401604,  0.38710212, -1.54779816],\n",
       "        [-1.23467687,  1.34407207,  0.33392712,  1.05047597],\n",
       "        [ 0.80190447,  1.12526189,  0.1333026 ,  0.68307871]]),\n",
       " array([[-0.09985733, -0.03949842,  0.69534261, -1.44307477],\n",
       "        [-0.26303657,  0.46809909, -1.79154088, -0.94356456],\n",
       "        [ 1.19256242, -2.0828245 ,  1.7054544 , -2.31181376]]),\n",
       " array([[-0.54556269,  2.10104226, -0.63421247, -0.27221961],\n",
       "        [-0.73747553, -0.54401471,  0.08113487,  1.08560671],\n",
       "        [ 0.19015763,  0.56702184,  0.62851289, -1.17284686]]),\n",
       " array([[-0.75013492, -0.98260148, -0.78389359, -0.55490452],\n",
       "        [ 0.342714  , -0.54309434, -0.12346651,  0.504261  ],\n",
       "        [ 1.13430466, -0.67676259,  1.21307905,  0.14244785]]),\n",
       " array([[ 1.69275195, -0.11504568, -0.58046943, -1.06091937],\n",
       "        [ 1.49833812,  0.53024095, -0.09951754,  1.66897038],\n",
       "        [-0.65371548, -1.36075363,  0.24387324,  1.58182195]]),\n",
       " array([[-0.52751331,  0.78137518, -0.279618  , -0.39444945],\n",
       "        [ 0.40718888,  1.69661377, -0.78436869,  2.17711723],\n",
       "        [-0.21128207, -0.34883131, -0.24134068, -0.44938384]]),\n",
       " array([[-0.54351056, -1.99489852,  0.91940934, -0.65796477],\n",
       "        [-0.91928883,  0.25410782,  1.26193525, -0.24934117],\n",
       "        [ 0.45241103, -0.29516349,  0.54398541,  0.38508109]]),\n",
       " array([[-0.45104988, -0.46898284,  0.60726193,  0.15922046],\n",
       "        [ 0.28532736, -0.54825877, -0.08835522, -0.78992897],\n",
       "        [ 0.21805912, -1.29788397, -0.82685196,  1.48162169]]),\n",
       " array([[-1.33065957, -0.65971185,  0.41627311, -0.41747672],\n",
       "        [ 0.88815115,  0.35806426,  0.88654521, -0.34559557],\n",
       "        [-1.99997287, -2.02973581, -0.54818683,  0.39899919]]),\n",
       " array([[ 0.11004262, -0.04088556,  0.45264986,  1.25159655],\n",
       "        [-0.44093105, -1.47170522, -0.08189199,  0.09432062],\n",
       "        [-2.57834264,  1.49019061,  0.28935126, -1.08252179]])]"
      ]
     },
     "execution_count": 124,
     "metadata": {},
     "output_type": "execute_result"
    }
   ],
   "source": [
    "arrays"
   ]
  },
  {
   "cell_type": "code",
   "execution_count": 125,
   "id": "b4a94065-d790-4508-9d12-4bf34bc95b07",
   "metadata": {
    "tags": []
   },
   "outputs": [
    {
     "data": {
      "text/plain": [
       "(3, 10, 4)"
      ]
     },
     "execution_count": 125,
     "metadata": {},
     "output_type": "execute_result"
    }
   ],
   "source": [
    "np.stack(arrays, axis = 1).shape"
   ]
  },
  {
   "cell_type": "code",
   "execution_count": 126,
   "id": "18552057-561a-43be-a539-debad298d1cb",
   "metadata": {
    "tags": []
   },
   "outputs": [
    {
     "data": {
      "text/plain": [
       "(3, 4, 10)"
      ]
     },
     "execution_count": 126,
     "metadata": {},
     "output_type": "execute_result"
    }
   ],
   "source": [
    "np.stack(arrays, axis = 2).shape"
   ]
  },
  {
   "cell_type": "code",
   "execution_count": 128,
   "id": "e10d0246-509b-47dc-937f-f6dc6bf80e38",
   "metadata": {
    "tags": []
   },
   "outputs": [
    {
     "data": {
      "text/plain": [
       "array([[1, 2],\n",
       "       [2, 3],\n",
       "       [3, 4]])"
      ]
     },
     "execution_count": 128,
     "metadata": {},
     "output_type": "execute_result"
    }
   ],
   "source": [
    "arr1 = np.array([1, 2, 3])\n",
    "arr2 = np.array([2, 3, 4])\n",
    "np.stack((arr1, arr2))\n",
    "np.stack((arr1, arr2), axis = -1)"
   ]
  },
  {
   "cell_type": "code",
   "execution_count": 129,
   "id": "e5358557-cd56-4973-842d-cbcb88cc3215",
   "metadata": {
    "tags": []
   },
   "outputs": [
    {
     "data": {
      "text/plain": [
       "array([[1, 2, 3],\n",
       "       [2, 3, 4]])"
      ]
     },
     "execution_count": 129,
     "metadata": {},
     "output_type": "execute_result"
    }
   ],
   "source": [
    "arr1 = np.array([1, 2, 3])\n",
    "arr2 = np.array([2, 3, 4])\n",
    "np.vstack((arr1, arr2))"
   ]
  },
  {
   "cell_type": "code",
   "execution_count": 131,
   "id": "15fc5fcf-abd4-4001-a392-5f2c283179fc",
   "metadata": {
    "tags": []
   },
   "outputs": [
    {
     "data": {
      "text/plain": [
       "array([[1],\n",
       "       [2],\n",
       "       [3],\n",
       "       [2],\n",
       "       [3],\n",
       "       [4]])"
      ]
     },
     "execution_count": 131,
     "metadata": {},
     "output_type": "execute_result"
    }
   ],
   "source": [
    "arr3 = np.array([[1], [2], [3]])\n",
    "arr4 = np.array([[2], [3], [4]])\n",
    "np.vstack((arr3, arr4))"
   ]
  },
  {
   "cell_type": "code",
   "execution_count": 132,
   "id": "fe343c14-6b0f-4ac9-a4f7-7e99ad95937b",
   "metadata": {
    "tags": []
   },
   "outputs": [
    {
     "data": {
      "text/plain": [
       "array([1, 2, 3, 2, 3, 4])"
      ]
     },
     "execution_count": 132,
     "metadata": {},
     "output_type": "execute_result"
    }
   ],
   "source": [
    "arr1 = np.array([1, 2, 3])\n",
    "arr2 = np.array([2, 3, 4])\n",
    "\n",
    "np.hstack((arr1, arr2))"
   ]
  },
  {
   "cell_type": "code",
   "execution_count": 135,
   "id": "5e5da2a8-32f4-4bb2-a186-3ed9e2bc6eee",
   "metadata": {
    "tags": []
   },
   "outputs": [
    {
     "data": {
      "text/plain": [
       "array([[1, 2],\n",
       "       [2, 3],\n",
       "       [3, 4]])"
      ]
     },
     "execution_count": 135,
     "metadata": {},
     "output_type": "execute_result"
    }
   ],
   "source": [
    "arr3 = np.array([[1], [2], [3]])\n",
    "arr4 = np.array([[2], [3], [4]])\n",
    "np.hstack((arr3, arr4))"
   ]
  },
  {
   "cell_type": "code",
   "execution_count": 136,
   "id": "5598bdfb-cda9-42b6-8f04-6526b66d01a2",
   "metadata": {
    "tags": []
   },
   "outputs": [
    {
     "data": {
      "text/plain": [
       "array([[1, 4],\n",
       "       [1, 3]])"
      ]
     },
     "execution_count": 136,
     "metadata": {},
     "output_type": "execute_result"
    }
   ],
   "source": [
    "arr = np.array([[1, 4], [3, 1]])\n",
    "np.sort(arr)"
   ]
  },
  {
   "cell_type": "code",
   "execution_count": 137,
   "id": "5d9cb4e4-cf0a-46a0-bb81-e2fc54f06c62",
   "metadata": {
    "tags": []
   },
   "outputs": [
    {
     "data": {
      "text/plain": [
       "array([1, 1, 3, 4])"
      ]
     },
     "execution_count": 137,
     "metadata": {},
     "output_type": "execute_result"
    }
   ],
   "source": [
    "np.sort(arr, axis = None)"
   ]
  },
  {
   "cell_type": "code",
   "execution_count": 138,
   "id": "f9d62213-c69a-4cbd-8c23-031711679128",
   "metadata": {
    "tags": []
   },
   "outputs": [
    {
     "data": {
      "text/plain": [
       "array([[1, 1],\n",
       "       [3, 4]])"
      ]
     },
     "execution_count": 138,
     "metadata": {},
     "output_type": "execute_result"
    }
   ],
   "source": [
    "np.sort(arr, axis = 0)"
   ]
  },
  {
   "cell_type": "code",
   "execution_count": null,
   "id": "fca3f11b-e252-40ab-80d4-fcfb67ccf1cb",
   "metadata": {},
   "outputs": [],
   "source": [
    "# 우선 p111 밑에 부분 구조화된 배열 정렬은 패스 (컴구조 내용)"
   ]
  },
  {
   "cell_type": "code",
   "execution_count": 140,
   "id": "9ef83f23-177b-46db-8edc-b3c33a437ba3",
   "metadata": {
    "tags": []
   },
   "outputs": [
    {
     "data": {
      "text/plain": [
       "array([[1, 4],\n",
       "       [1, 3]])"
      ]
     },
     "execution_count": 140,
     "metadata": {},
     "output_type": "execute_result"
    }
   ],
   "source": [
    "arr = np.array([[1, 4], [3, 1]])\n",
    "arr.sort(axis=1)\n",
    "arr"
   ]
  },
  {
   "cell_type": "code",
   "execution_count": 141,
   "id": "e6841348-fb36-4dd6-a6f7-3486f23f94d2",
   "metadata": {
    "tags": []
   },
   "outputs": [
    {
     "data": {
      "text/plain": [
       "array([[1, 3],\n",
       "       [1, 4]])"
      ]
     },
     "execution_count": 141,
     "metadata": {},
     "output_type": "execute_result"
    }
   ],
   "source": [
    "arr.sort(axis=0)\n",
    "arr"
   ]
  },
  {
   "cell_type": "code",
   "execution_count": 144,
   "id": "1c0b30dd-9b55-472f-ba08-34222f581dd6",
   "metadata": {
    "tags": []
   },
   "outputs": [
    {
     "data": {
      "text/plain": [
       "array([1, 2, 0])"
      ]
     },
     "execution_count": 144,
     "metadata": {},
     "output_type": "execute_result"
    }
   ],
   "source": [
    "arr = np.array([3, 1, 2])\n",
    "sorted_by_index = np.argsort(arr)\n",
    "sorted_by_index"
   ]
  },
  {
   "cell_type": "code",
   "execution_count": 145,
   "id": "92438051-b2b5-465c-8be0-db6e1231d696",
   "metadata": {
    "tags": []
   },
   "outputs": [
    {
     "name": "stdout",
     "output_type": "stream",
     "text": [
      "1\n",
      "2\n",
      "3\n"
     ]
    }
   ],
   "source": [
    "for i in sorted_by_index:\n",
    "    print(arr[i])"
   ]
  },
  {
   "cell_type": "code",
   "execution_count": 146,
   "id": "cc8ba3d7-fbe1-4370-a8d3-a9d124cd514a",
   "metadata": {
    "tags": []
   },
   "outputs": [
    {
     "data": {
      "text/plain": [
       "array([[0, 3],\n",
       "       [2, 2]])"
      ]
     },
     "execution_count": 146,
     "metadata": {},
     "output_type": "execute_result"
    }
   ],
   "source": [
    "arr = np.array([[0, 3], [2, 2]])\n",
    "arr"
   ]
  },
  {
   "cell_type": "code",
   "execution_count": 147,
   "id": "f88442b0-6e31-4a87-b748-5ce80670ca39",
   "metadata": {
    "tags": []
   },
   "outputs": [
    {
     "data": {
      "text/plain": [
       "array([[0, 1],\n",
       "       [1, 0]])"
      ]
     },
     "execution_count": 147,
     "metadata": {},
     "output_type": "execute_result"
    }
   ],
   "source": [
    "np.argsort(arr, axis = 0)"
   ]
  },
  {
   "cell_type": "code",
   "execution_count": 148,
   "id": "9b66c630-6955-4a50-b6a1-0ffa5506eb64",
   "metadata": {
    "tags": []
   },
   "outputs": [
    {
     "data": {
      "text/plain": [
       "array([[0, 1],\n",
       "       [0, 1]])"
      ]
     },
     "execution_count": 148,
     "metadata": {},
     "output_type": "execute_result"
    }
   ],
   "source": [
    "np.argsort(arr, axis = 1)"
   ]
  },
  {
   "cell_type": "code",
   "execution_count": 149,
   "id": "4dec67fb-3057-42c5-9b52-2ee6a7350529",
   "metadata": {
    "tags": []
   },
   "outputs": [
    {
     "data": {
      "text/plain": [
       "array([(1, 0), (0, 1)], dtype=[('x', '<i4'), ('y', '<i4')])"
      ]
     },
     "execution_count": 149,
     "metadata": {},
     "output_type": "execute_result"
    }
   ],
   "source": [
    "arr = np.array([(1, 0), (0, 1)], dtype = [('x', '<i4'), ('y', '<i4')])\n",
    "arr"
   ]
  },
  {
   "cell_type": "code",
   "execution_count": 150,
   "id": "c88a2fd8-8693-47f2-b9f4-7e3e5bf144ec",
   "metadata": {
    "tags": []
   },
   "outputs": [
    {
     "data": {
      "text/plain": [
       "array([1, 0])"
      ]
     },
     "execution_count": 150,
     "metadata": {},
     "output_type": "execute_result"
    }
   ],
   "source": [
    "np.argsort(arr)"
   ]
  },
  {
   "cell_type": "code",
   "execution_count": 151,
   "id": "41f36118-2c9b-4905-be80-4d73285889f8",
   "metadata": {
    "tags": []
   },
   "outputs": [
    {
     "data": {
      "text/plain": [
       "array([1, 0])"
      ]
     },
     "execution_count": 151,
     "metadata": {},
     "output_type": "execute_result"
    }
   ],
   "source": [
    "np.argsort(arr, order = ('x', 'y'))"
   ]
  },
  {
   "cell_type": "code",
   "execution_count": 152,
   "id": "53413e20-9a1b-4fde-a575-de87f7fed626",
   "metadata": {
    "tags": []
   },
   "outputs": [
    {
     "data": {
      "text/plain": [
       "array([0, 1])"
      ]
     },
     "execution_count": 152,
     "metadata": {},
     "output_type": "execute_result"
    }
   ],
   "source": [
    "np.argsort(arr, order = ('y', 'x'))"
   ]
  },
  {
   "cell_type": "code",
   "execution_count": 153,
   "id": "0ef4cabd-37a9-4a34-ad1a-5234277ecb29",
   "metadata": {
    "tags": []
   },
   "outputs": [
    {
     "data": {
      "text/plain": [
       "array([2, 3, 0, 1])"
      ]
     },
     "execution_count": 153,
     "metadata": {},
     "output_type": "execute_result"
    }
   ],
   "source": [
    "arr1 = np.array([2, 2, 1, 1])\n",
    "arr2 = np.array([2, 2, 1, 1])\n",
    "arr = np.lexsort((arr1, arr2))\n",
    "arr"
   ]
  },
  {
   "cell_type": "code",
   "execution_count": 154,
   "id": "f8badaae-5143-4908-82aa-2c0199bf75e9",
   "metadata": {
    "tags": []
   },
   "outputs": [
    {
     "data": {
      "text/plain": [
       "array([0, 2, 1])"
      ]
     },
     "execution_count": 154,
     "metadata": {},
     "output_type": "execute_result"
    }
   ],
   "source": [
    "surnames = ('Hong', 'Na', 'Kim')\n",
    "first_names = ('Gildong', 'Haeseok', 'Mandeok')\n",
    "ind = np.lexsort((first_names, surnames))\n",
    "ind"
   ]
  },
  {
   "cell_type": "code",
   "execution_count": 155,
   "id": "d32a48b3-ca4f-400b-9c31-593cd453ea3c",
   "metadata": {
    "tags": []
   },
   "outputs": [
    {
     "data": {
      "text/plain": [
       "['Hong,Gildong', 'Kim,Mandeok', 'Na,Haeseok']"
      ]
     },
     "execution_count": 155,
     "metadata": {},
     "output_type": "execute_result"
    }
   ],
   "source": [
    "[surnames[i] + \",\" + first_names[i] for i in ind]"
   ]
  },
  {
   "cell_type": "code",
   "execution_count": 156,
   "id": "8355e7be-ec9c-4a5c-ba4a-dd956a146d6e",
   "metadata": {
    "tags": []
   },
   "outputs": [
    {
     "data": {
      "text/plain": [
       "array([2, 0, 4, 6, 5, 3, 1])"
      ]
     },
     "execution_count": 156,
     "metadata": {},
     "output_type": "execute_result"
    }
   ],
   "source": [
    "a = [1, 5, 1, 4, 3, 4, 4]\n",
    "b = [9, 4, 0, 4, 0, 2, 1]\n",
    "ind = np.lexsort((b, a))\n",
    "ind\n",
    "# a를 기준으로 정렬한 다음 b를 기준으로 정렬함"
   ]
  },
  {
   "cell_type": "code",
   "execution_count": 157,
   "id": "1660e76e-ddc5-4b59-a98e-acc259e00898",
   "metadata": {
    "tags": []
   },
   "outputs": [
    {
     "name": "stdout",
     "output_type": "stream",
     "text": [
      "[2 0 4 6 5 3 1]\n"
     ]
    }
   ],
   "source": [
    "print(ind)"
   ]
  },
  {
   "cell_type": "code",
   "execution_count": 158,
   "id": "5c46f6db-32fe-44e8-aa97-f0e59f62dc89",
   "metadata": {
    "tags": []
   },
   "outputs": [
    {
     "data": {
      "text/plain": [
       "[(1, 0), (1, 9), (3, 0), (4, 1), (4, 2), (4, 4), (5, 4)]"
      ]
     },
     "execution_count": 158,
     "metadata": {},
     "output_type": "execute_result"
    }
   ],
   "source": [
    "[(a[i], b[i]) for i in ind]"
   ]
  },
  {
   "cell_type": "code",
   "execution_count": 159,
   "id": "ea24d918-7da4-441a-89e9-4fce2553c660",
   "metadata": {
    "tags": []
   },
   "outputs": [
    {
     "data": {
      "text/plain": [
       "[(1, 9), (1, 0), (3, 0), (4, 4), (4, 2), (4, 1), (5, 4)]"
      ]
     },
     "execution_count": 159,
     "metadata": {},
     "output_type": "execute_result"
    }
   ],
   "source": [
    "[(a[i], b[i]) for i in np.argsort(a)]"
   ]
  },
  {
   "cell_type": "code",
   "execution_count": 160,
   "id": "28843bb4-b8c6-405a-8819-52a58700f87b",
   "metadata": {
    "tags": []
   },
   "outputs": [
    {
     "data": {
      "text/plain": [
       "2"
      ]
     },
     "execution_count": 160,
     "metadata": {},
     "output_type": "execute_result"
    }
   ],
   "source": [
    "# 구조화된 배열 argsort로 찾기는 건너뛰고\n",
    "np.searchsorted([1, 2, 3, 4, 5], 3)"
   ]
  },
  {
   "cell_type": "code",
   "execution_count": 161,
   "id": "06b616ca-f960-4e11-a1d0-f69934bef5d9",
   "metadata": {
    "tags": []
   },
   "outputs": [
    {
     "data": {
      "text/plain": [
       "3"
      ]
     },
     "execution_count": 161,
     "metadata": {},
     "output_type": "execute_result"
    }
   ],
   "source": [
    "np.searchsorted([1, 2, 3, 4, 5], 3, side = 'right')"
   ]
  },
  {
   "cell_type": "code",
   "execution_count": 162,
   "id": "94a0bb94-625e-473c-8277-4ecbdcc9adb8",
   "metadata": {
    "tags": []
   },
   "outputs": [
    {
     "data": {
      "text/plain": [
       "array([0, 5, 1, 2])"
      ]
     },
     "execution_count": 162,
     "metadata": {},
     "output_type": "execute_result"
    }
   ],
   "source": [
    "np.searchsorted([1, 2, 3, 4, 5], [-10, 10, 2, 3])"
   ]
  },
  {
   "cell_type": "code",
   "execution_count": null,
   "id": "152308fd-ef4e-4f81-a915-2d43cf583db5",
   "metadata": {},
   "outputs": [],
   "source": [
    "# 히스토그램 115p ~ 116는 건너뛰고 ! 117 ~ 124 배열 연산부터 시작!"
   ]
  },
  {
   "cell_type": "code",
   "execution_count": 164,
   "id": "8ebabf40-f35e-4915-82c8-a8a7f29148d0",
   "metadata": {
    "tags": []
   },
   "outputs": [
    {
     "data": {
      "text/plain": [
       "array([[1, 2, 3],\n",
       "       [4, 5, 6]], dtype=int32)"
      ]
     },
     "execution_count": 164,
     "metadata": {},
     "output_type": "execute_result"
    }
   ],
   "source": [
    "arr = np.array([[1, 2, 3], [4, 5, 6]], dtype = 'int32')\n",
    "arr"
   ]
  },
  {
   "cell_type": "code",
   "execution_count": 165,
   "id": "c21e85b8-1bbc-4a71-9e90-7ff32064b82d",
   "metadata": {
    "tags": []
   },
   "outputs": [
    {
     "data": {
      "text/plain": [
       "array([5, 7, 9])"
      ]
     },
     "execution_count": 165,
     "metadata": {},
     "output_type": "execute_result"
    }
   ],
   "source": [
    "arr.sum(axis = 0)"
   ]
  },
  {
   "cell_type": "code",
   "execution_count": 166,
   "id": "af2618bf-09d2-4712-b814-327c8ea74ee6",
   "metadata": {
    "tags": []
   },
   "outputs": [
    {
     "data": {
      "text/plain": [
       "array([ 6, 15])"
      ]
     },
     "execution_count": 166,
     "metadata": {},
     "output_type": "execute_result"
    }
   ],
   "source": [
    "arr.sum(axis = 1)"
   ]
  },
  {
   "cell_type": "code",
   "execution_count": 168,
   "id": "e826269d-ead3-43cd-a34f-89680afff34b",
   "metadata": {
    "tags": []
   },
   "outputs": [
    {
     "data": {
      "text/plain": [
       "array([[[ 0,  1,  2,  3],\n",
       "        [ 4,  5,  6,  7]],\n",
       "\n",
       "       [[ 8,  9, 10, 11],\n",
       "        [12, 13, 14, 15]],\n",
       "\n",
       "       [[16, 17, 18, 19],\n",
       "        [20, 21, 22, 23]]])"
      ]
     },
     "execution_count": 168,
     "metadata": {},
     "output_type": "execute_result"
    }
   ],
   "source": [
    "arr = np.arange(24).reshape(3, 2, 4)\n",
    "arr"
   ]
  },
  {
   "cell_type": "code",
   "execution_count": 169,
   "id": "763a7183-da92-4e4b-bd5e-3e998c78a9ec",
   "metadata": {
    "tags": []
   },
   "outputs": [
    {
     "data": {
      "text/plain": [
       "(3, 2, 4)"
      ]
     },
     "execution_count": 169,
     "metadata": {},
     "output_type": "execute_result"
    }
   ],
   "source": [
    "arr.shape"
   ]
  },
  {
   "cell_type": "code",
   "execution_count": 170,
   "id": "e531ccc7-9f35-42e5-8f02-05db71ff0eec",
   "metadata": {
    "tags": []
   },
   "outputs": [
    {
     "data": {
      "text/plain": [
       "array([[24, 27, 30, 33],\n",
       "       [36, 39, 42, 45]])"
      ]
     },
     "execution_count": 170,
     "metadata": {},
     "output_type": "execute_result"
    }
   ],
   "source": [
    "arr.sum(axis = 0)"
   ]
  },
  {
   "cell_type": "code",
   "execution_count": 171,
   "id": "cf9b8b2f-8487-493b-8aed-4d926f988201",
   "metadata": {
    "tags": []
   },
   "outputs": [
    {
     "data": {
      "text/plain": [
       "array([[ 4,  6,  8, 10],\n",
       "       [20, 22, 24, 26],\n",
       "       [36, 38, 40, 42]])"
      ]
     },
     "execution_count": 171,
     "metadata": {},
     "output_type": "execute_result"
    }
   ],
   "source": [
    "arr.sum(axis = 1)"
   ]
  },
  {
   "cell_type": "code",
   "execution_count": 172,
   "id": "26787e95-a0c2-46aa-9157-e14b7ea60ad3",
   "metadata": {
    "tags": []
   },
   "outputs": [
    {
     "data": {
      "text/plain": [
       "array([[ 6, 22],\n",
       "       [38, 54],\n",
       "       [70, 86]])"
      ]
     },
     "execution_count": 172,
     "metadata": {},
     "output_type": "execute_result"
    }
   ],
   "source": [
    "arr.sum(axis = 2)"
   ]
  },
  {
   "cell_type": "code",
   "execution_count": 173,
   "id": "2467b3f2-fee2-48f8-9423-727b67fce31d",
   "metadata": {
    "tags": []
   },
   "outputs": [
    {
     "name": "stdout",
     "output_type": "stream",
     "text": [
      "33.4 ms ± 551 µs per loop (mean ± std. dev. of 7 runs, 10 loops each)\n",
      "457 µs ± 54.8 µs per loop (mean ± std. dev. of 7 runs, 1,000 loops each)\n",
      "177 µs ± 717 ns per loop (mean ± std. dev. of 7 runs, 10,000 loops each)\n",
      "2.29 ms ± 52.8 µs per loop (mean ± std. dev. of 7 runs, 100 loops each)\n"
     ]
    }
   ],
   "source": [
    "import random\n",
    "import numpy as np\n",
    "n = 1000000\n",
    "a = [random.random() for i in range(n)]\n",
    "b = [random.random() for i in range(n)]\n",
    "arr1 = np.array(a)\n",
    "arr2 = np.array(b)\n",
    "%timeit [a[j] + b[j] for j in range(n)]\n",
    "%timeit arr1 + arr2\n",
    "%timeit np.sum(arr1)\n",
    "%timeit sum(a)"
   ]
  },
  {
   "cell_type": "code",
   "execution_count": 174,
   "id": "0b613413-0f31-47d4-9686-9a6453ec3162",
   "metadata": {
    "tags": []
   },
   "outputs": [
    {
     "data": {
      "text/plain": [
       "array([1, 3, 5, 7])"
      ]
     },
     "execution_count": 174,
     "metadata": {},
     "output_type": "execute_result"
    }
   ],
   "source": [
    "arr = np.array([1, 3, 5, 7])\n",
    "arr"
   ]
  },
  {
   "cell_type": "code",
   "execution_count": 175,
   "id": "25a10845-6679-45c1-a26d-23ed5015036c",
   "metadata": {
    "tags": []
   },
   "outputs": [
    {
     "name": "stdout",
     "output_type": "stream",
     "text": [
      "1\n",
      "3\n",
      "5\n",
      "7\n"
     ]
    }
   ],
   "source": [
    "for i in arr : \n",
    "    print(i)"
   ]
  },
  {
   "cell_type": "code",
   "execution_count": 176,
   "id": "08fd94f1-2487-4812-8af8-acceb5049f31",
   "metadata": {
    "tags": []
   },
   "outputs": [
    {
     "name": "stdout",
     "output_type": "stream",
     "text": [
      "[0 1]\n",
      "[2 3]\n",
      "[4 5]\n",
      "[6 7]\n"
     ]
    }
   ],
   "source": [
    "arr = np.arange(8).reshape(4, 2)\n",
    "for i in arr :\n",
    "    print(i)"
   ]
  },
  {
   "cell_type": "code",
   "execution_count": 177,
   "id": "9df05619-f0ad-4496-8a8f-e9f22dce7e38",
   "metadata": {
    "tags": []
   },
   "outputs": [
    {
     "name": "stdout",
     "output_type": "stream",
     "text": [
      "0\n",
      "6\n",
      "20\n",
      "42\n"
     ]
    }
   ],
   "source": [
    "arr = np.arange(8).reshape(4, 2)\n",
    "for (a, b) in arr:\n",
    "    print(a*b)"
   ]
  },
  {
   "cell_type": "code",
   "execution_count": 178,
   "id": "512b8b2b-2c69-45f3-b4c9-bdd26bb27b0f",
   "metadata": {
    "tags": []
   },
   "outputs": [
    {
     "data": {
      "text/plain": [
       "array([[0.79610326, 0.12685965],\n",
       "       [0.11088918, 0.14595074],\n",
       "       [0.80450173, 0.18557977]])"
      ]
     },
     "execution_count": 178,
     "metadata": {},
     "output_type": "execute_result"
    }
   ],
   "source": [
    "np.random.rand(3, 2)"
   ]
  },
  {
   "cell_type": "code",
   "execution_count": 179,
   "id": "f536519e-b2b6-4afc-a7c3-56a3e6154afc",
   "metadata": {
    "tags": []
   },
   "outputs": [
    {
     "data": {
      "text/plain": [
       "array([1, 0, 1, 1, 0, 0, 1, 0, 0, 0])"
      ]
     },
     "execution_count": 179,
     "metadata": {},
     "output_type": "execute_result"
    }
   ],
   "source": [
    "np.random.randint(2, size=10)"
   ]
  },
  {
   "cell_type": "code",
   "execution_count": 180,
   "id": "186bd570-d57f-461f-bd9a-96f876d035ae",
   "metadata": {
    "tags": []
   },
   "outputs": [
    {
     "data": {
      "text/plain": [
       "array([4, 1, 3, 0, 4, 0, 0, 2, 3, 3])"
      ]
     },
     "execution_count": 180,
     "metadata": {},
     "output_type": "execute_result"
    }
   ],
   "source": [
    "np.random.randint(5, size=10)"
   ]
  },
  {
   "cell_type": "code",
   "execution_count": 181,
   "id": "aaec43d7-1052-4e98-8579-cafda56afee6",
   "metadata": {
    "tags": []
   },
   "outputs": [
    {
     "data": {
      "text/plain": [
       "array([[0, 0, 1, 1],\n",
       "       [1, 1, 0, 1]])"
      ]
     },
     "execution_count": 181,
     "metadata": {},
     "output_type": "execute_result"
    }
   ],
   "source": [
    "np.random.randint(2, size=(2, 4))"
   ]
  },
  {
   "cell_type": "code",
   "execution_count": 182,
   "id": "9616e158-f55f-479f-97fc-50818a2d7eb9",
   "metadata": {
    "tags": []
   },
   "outputs": [
    {
     "data": {
      "text/plain": [
       "array([4, 4, 3])"
      ]
     },
     "execution_count": 182,
     "metadata": {},
     "output_type": "execute_result"
    }
   ],
   "source": [
    "np.random.choice(5, 3)"
   ]
  },
  {
   "cell_type": "code",
   "execution_count": 183,
   "id": "1d84c887-2444-42d0-b4eb-650d3f170685",
   "metadata": {
    "tags": []
   },
   "outputs": [
    {
     "data": {
      "text/plain": [
       "array([3, 3, 2])"
      ]
     },
     "execution_count": 183,
     "metadata": {},
     "output_type": "execute_result"
    }
   ],
   "source": [
    "np.random.choice(5 ,3, p = [0.1, 0, 0.3, 0.6, 0])\n",
    "# 사이즈는 3이고 범위는 5이며 각각의 확률이 위와 같다!"
   ]
  },
  {
   "cell_type": "code",
   "execution_count": 185,
   "id": "a9826b3e-dda0-4d65-b581-9ed2922a4010",
   "metadata": {
    "tags": []
   },
   "outputs": [
    {
     "data": {
      "text/plain": [
       "array([ 0,  1,  2,  3,  4,  5,  6,  7,  8,  9, 10, 11])"
      ]
     },
     "execution_count": 185,
     "metadata": {},
     "output_type": "execute_result"
    }
   ],
   "source": [
    "arr = np.arange(12)\n",
    "arr"
   ]
  },
  {
   "cell_type": "code",
   "execution_count": 186,
   "id": "c2bb2ef2-e4bb-43f3-b3df-d575524d44ef",
   "metadata": {
    "tags": []
   },
   "outputs": [
    {
     "data": {
      "text/plain": [
       "array([ 8,  4,  5,  9, 10, 11,  8,  2,  4,  7])"
      ]
     },
     "execution_count": 186,
     "metadata": {},
     "output_type": "execute_result"
    }
   ],
   "source": [
    "np.random.choice(arr, size = 10, replace = True)\n",
    "# 복원추출 허용"
   ]
  },
  {
   "cell_type": "code",
   "execution_count": 187,
   "id": "49792455-7bcf-4242-bd11-a5b92233fea4",
   "metadata": {
    "tags": []
   },
   "outputs": [
    {
     "data": {
      "text/plain": [
       "array([ 5,  3, 10,  9,  2,  7,  8,  0, 11,  6])"
      ]
     },
     "execution_count": 187,
     "metadata": {},
     "output_type": "execute_result"
    }
   ],
   "source": [
    "np.random.choice(arr, size = 10, replace = False)\n",
    "# 복원추출 미허용"
   ]
  },
  {
   "cell_type": "code",
   "execution_count": 188,
   "id": "8ba88b25-536b-4866-8d51-b2132725f19e",
   "metadata": {
    "tags": []
   },
   "outputs": [
    {
     "data": {
      "text/plain": [
       "array([0, 2, 3])"
      ]
     },
     "execution_count": 188,
     "metadata": {},
     "output_type": "execute_result"
    }
   ],
   "source": [
    "np.random.choice(5, 3, p=[0.1, 0, 0.3, 0.6, 0])"
   ]
  },
  {
   "cell_type": "code",
   "execution_count": 190,
   "id": "01feed56-1521-4abf-aeff-e1edc800138e",
   "metadata": {
    "tags": []
   },
   "outputs": [
    {
     "data": {
      "text/plain": [
       "array(['jegong', 'hanseok', 'hanseok', 'manduck', 'yakyong'], dtype='<U7')"
      ]
     },
     "execution_count": 190,
     "metadata": {},
     "output_type": "execute_result"
    }
   ],
   "source": [
    "arr_like = ['yakyong', 'jegong', 'manduck', 'hanseok']\n",
    "np.random.choice(arr_like, 5, p=[0.5, 0.1, 0.1, 0.3])"
   ]
  },
  {
   "cell_type": "code",
   "execution_count": 191,
   "id": "a0474ca2-aa3c-4516-bda3-a180f04d0039",
   "metadata": {
    "tags": []
   },
   "outputs": [
    {
     "data": {
      "text/plain": [
       "array([ 3.42857143,  1.57142857, -2.85714286])"
      ]
     },
     "execution_count": 191,
     "metadata": {},
     "output_type": "execute_result"
    }
   ],
   "source": [
    "# 선형 대수\n",
    "a = np.array([[1, 2, 3], [2, 0, 1], [1, -1, 1]])\n",
    "b = np.array([-2, 4, -1])\n",
    "x = np.linalg.solve(a, b)\n",
    "x"
   ]
  },
  {
   "cell_type": "code",
   "execution_count": 192,
   "id": "69ff69eb-0811-43e4-95df-e9fcb3193be8",
   "metadata": {
    "tags": []
   },
   "outputs": [
    {
     "data": {
      "text/plain": [
       "array([2., 3.])"
      ]
     },
     "execution_count": 192,
     "metadata": {},
     "output_type": "execute_result"
    }
   ],
   "source": [
    "a = np.array([[3, 1], [1, 2]])\n",
    "b = np.array([9, 8])\n",
    "x = np.linalg.solve(a, b)\n",
    "x"
   ]
  },
  {
   "cell_type": "code",
   "execution_count": 193,
   "id": "a29d26ef-9ee7-48d5-b953-047138554ab0",
   "metadata": {
    "tags": []
   },
   "outputs": [
    {
     "data": {
      "text/plain": [
       "32"
      ]
     },
     "execution_count": 193,
     "metadata": {},
     "output_type": "execute_result"
    }
   ],
   "source": [
    "a = np.array([1, 2, 3])\n",
    "b = np.array([4, 5, 6])\n",
    "np.dot(a, b)"
   ]
  },
  {
   "cell_type": "code",
   "execution_count": 194,
   "id": "4993c372-4efc-4e45-9c4c-98aed71a4c7b",
   "metadata": {
    "tags": []
   },
   "outputs": [
    {
     "data": {
      "text/plain": [
       "array([[16, 19],\n",
       "       [36, 43]])"
      ]
     },
     "execution_count": 194,
     "metadata": {},
     "output_type": "execute_result"
    }
   ],
   "source": [
    "arr1 = np.array([[1, 2], [3, 4]])\n",
    "arr2 = np.array([[4, 5], [6, 7]])\n",
    "np.dot(arr1, arr2)"
   ]
  },
  {
   "cell_type": "code",
   "execution_count": null,
   "id": "c7d9e076-2a1b-43e2-8d60-cbac1a27215f",
   "metadata": {},
   "outputs": [],
   "source": [
    "# 끝!! 23.03.25(토)"
   ]
  },
  {
   "cell_type": "code",
   "execution_count": null,
   "id": "1b4d86f8-8376-47cc-9ded-c9b0d2c69963",
   "metadata": {},
   "outputs": [],
   "source": []
  },
  {
   "cell_type": "code",
   "execution_count": null,
   "id": "b3fbfec1-4015-4543-a772-64d6f43137b2",
   "metadata": {},
   "outputs": [],
   "source": []
  },
  {
   "cell_type": "code",
   "execution_count": 4,
   "id": "16965b1c-cdf1-4726-90ab-b4bff93cbae7",
   "metadata": {
    "tags": []
   },
   "outputs": [
    {
     "data": {
      "text/plain": [
       "array([[1., 1., 1., 1.],\n",
       "       [1., 1., 1., 1.],\n",
       "       [1., 1., 1., 1.]])"
      ]
     },
     "execution_count": 4,
     "metadata": {},
     "output_type": "execute_result"
    }
   ],
   "source": [
    "import numpy as np\n",
    "np.ones((3,4))"
   ]
  },
  {
   "cell_type": "code",
   "execution_count": 10,
   "id": "78b13280-0716-4ba0-9fbe-d97bf7aa01a4",
   "metadata": {
    "tags": []
   },
   "outputs": [
    {
     "data": {
      "text/plain": [
       "(4,)"
      ]
     },
     "execution_count": 10,
     "metadata": {},
     "output_type": "execute_result"
    }
   ],
   "source": [
    "arr1 = np.arange(4)\n",
    "arr2 = arr1.reshape(4, 1)\n",
    "arr3 = np.ones(5)\n",
    "arr4 = np.ones((3, 4))\n",
    "arr1.shape"
   ]
  },
  {
   "cell_type": "code",
   "execution_count": 16,
   "id": "3c863dc4-518b-4806-bee8-37e30204de83",
   "metadata": {
    "tags": []
   },
   "outputs": [
    {
     "data": {
      "text/plain": [
       "array([[1., 1., 1., 1., 1.],\n",
       "       [2., 2., 2., 2., 2.],\n",
       "       [3., 3., 3., 3., 3.],\n",
       "       [4., 4., 4., 4., 4.]])"
      ]
     },
     "execution_count": 16,
     "metadata": {},
     "output_type": "execute_result"
    }
   ],
   "source": [
    "arr2 + arr3"
   ]
  },
  {
   "cell_type": "code",
   "execution_count": 19,
   "id": "fb684609-fef4-4954-aead-42748bfddbff",
   "metadata": {
    "tags": []
   },
   "outputs": [
    {
     "data": {
      "text/plain": [
       "array([[0],\n",
       "       [1],\n",
       "       [2],\n",
       "       [3]])"
      ]
     },
     "execution_count": 19,
     "metadata": {},
     "output_type": "execute_result"
    }
   ],
   "source": [
    "arr2"
   ]
  }
 ],
 "metadata": {
  "kernelspec": {
   "display_name": "Python 3 (ipykernel)",
   "language": "python",
   "name": "python3"
  },
  "language_info": {
   "codemirror_mode": {
    "name": "ipython",
    "version": 3
   },
   "file_extension": ".py",
   "mimetype": "text/x-python",
   "name": "python",
   "nbconvert_exporter": "python",
   "pygments_lexer": "ipython3",
   "version": "3.11.2"
  }
 },
 "nbformat": 4,
 "nbformat_minor": 5
}
